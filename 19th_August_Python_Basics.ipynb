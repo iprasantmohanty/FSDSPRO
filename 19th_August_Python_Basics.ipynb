{
 "cells": [
  {
   "cell_type": "markdown",
   "id": "3f1c9fcf-46a5-4cbd-99ac-d49317edacbc",
   "metadata": {},
   "source": [
    "Python Basic Variable"
   ]
  },
  {
   "cell_type": "markdown",
   "id": "322482fa-6867-48d5-bb0f-14714baa8857",
   "metadata": {},
   "source": [
    "1. Declare two variables, `x` and `y`, and assign them integer values. Swap the\n",
    "values of these variables without using any temporary variable."
   ]
  },
  {
   "cell_type": "code",
   "execution_count": 5,
   "id": "253a36fa-2c4a-437f-94fe-1e24385cdb5b",
   "metadata": {},
   "outputs": [
    {
     "name": "stdout",
     "output_type": "stream",
     "text": [
      "x = 3, y = 7\n"
     ]
    }
   ],
   "source": [
    "#swapping x and y\n",
    "x=3\n",
    "y=7\n",
    "print(f\"x = {x}, y = {y}\")"
   ]
  },
  {
   "cell_type": "code",
   "execution_count": 6,
   "id": "eba6e680-ce53-4c15-8db8-8b8a5fd84881",
   "metadata": {},
   "outputs": [
    {
     "name": "stdout",
     "output_type": "stream",
     "text": [
      "x = 7, y = 3\n"
     ]
    }
   ],
   "source": [
    "x=x+y #3+7=10\n",
    "y=x-y #10-7=3\n",
    "x=x-y #10-3=7\n",
    "print(f\"x = {x}, y = {y}\") #printing swapping values"
   ]
  },
  {
   "cell_type": "markdown",
   "id": "7f139438-a458-4829-8118-a1d2e0f2cf31",
   "metadata": {},
   "source": [
    "2. Create a program that calculates the area of a rectangle. Take the length and\n",
    "width as inputs from the user and store them in variables. Calculate and\n",
    "display the area."
   ]
  },
  {
   "cell_type": "code",
   "execution_count": 7,
   "id": "d1460b5d-f01a-41d1-9bb3-4b44dadecb63",
   "metadata": {},
   "outputs": [
    {
     "name": "stdin",
     "output_type": "stream",
     "text": [
      "enter length :  5\n",
      "enter width :  6\n"
     ]
    },
    {
     "name": "stdout",
     "output_type": "stream",
     "text": [
      "area of rectangle  = 30\n"
     ]
    }
   ],
   "source": [
    "length=int(input(\"enter length : \"))\n",
    "width=int(input(\"enter width : \"))\n",
    "area=length*width\n",
    "print(f\"area of rectangle  = {area}\")"
   ]
  },
  {
   "cell_type": "markdown",
   "id": "60018a81-e65f-4654-a3c2-ab5ead3264ec",
   "metadata": {},
   "source": [
    "3. Write a Python program that converts temperatures from Celsius to\n",
    "Fahrenheit. Take the temperature in Celsius as input, store it in a variable,\n",
    "convert it to Fahrenheit, and display the result."
   ]
  },
  {
   "cell_type": "code",
   "execution_count": 8,
   "id": "d4fc45ce-f8e8-46f8-9e55-ff514763b3fb",
   "metadata": {},
   "outputs": [
    {
     "name": "stdin",
     "output_type": "stream",
     "text": [
      "enter temp. in celsius :  39.4\n"
     ]
    },
    {
     "name": "stdout",
     "output_type": "stream",
     "text": [
      "result, 39.4 C = 102.92 F\n"
     ]
    }
   ],
   "source": [
    "celsius=float(input(\"enter temp. in celsius : \"))\n",
    "Fahrenheit=celsius*(9/5)+32\n",
    "print(f\"result, {celsius} C = {Fahrenheit} F\")"
   ]
  },
  {
   "cell_type": "markdown",
   "id": "18d1e183-be95-4af4-b1c5-871b230453c4",
   "metadata": {},
   "source": [
    "String Based Questions"
   ]
  },
  {
   "cell_type": "markdown",
   "id": "99e5d865-a944-4276-9ab0-9d863bec7bdf",
   "metadata": {},
   "source": [
    "1. Write a Python program that takes a string as input and prints the length of\n",
    "the string."
   ]
  },
  {
   "cell_type": "code",
   "execution_count": 9,
   "id": "d4371134-40ee-436f-8bc3-4a4943a98e11",
   "metadata": {},
   "outputs": [
    {
     "name": "stdin",
     "output_type": "stream",
     "text": [
      "enter a string :  NITM\n"
     ]
    },
    {
     "name": "stdout",
     "output_type": "stream",
     "text": [
      "length of NITM is 4\n"
     ]
    }
   ],
   "source": [
    "s=input(\"enter a string : \")\n",
    "print(f\"length of {s} is {len(s)}\")"
   ]
  },
  {
   "cell_type": "markdown",
   "id": "82737488-53f5-4d08-8adb-9c96672ab972",
   "metadata": {},
   "source": [
    "2. Create a program that takes a sentence from the user and counts the number\n",
    "of vowels (a, e, i, o, u) in the string."
   ]
  },
  {
   "cell_type": "code",
   "execution_count": 12,
   "id": "ca759e95-afec-4817-8c23-5aa97c2c0767",
   "metadata": {},
   "outputs": [
    {
     "name": "stdin",
     "output_type": "stream",
     "text": [
      "enter a sentence :  Good Morning to All\n"
     ]
    },
    {
     "name": "stdout",
     "output_type": "stream",
     "text": [
      "number of vowels = 6\n"
     ]
    }
   ],
   "source": [
    "sent=input(\"enter a sentence : \")\n",
    "vowels='aeiouAEIOU'\n",
    "count=0\n",
    "for s in sent:\n",
    "    if s in vowels:\n",
    "        count+=1\n",
    "print(f\"number of vowels = {count}\")"
   ]
  },
  {
   "cell_type": "markdown",
   "id": "c4b6eeb3-7b3d-49cb-a0f9-1ebb2eaf6fad",
   "metadata": {},
   "source": [
    "3. Given a string, reverse the order of characters using string slicing and print\n",
    "the reversed string."
   ]
  },
  {
   "cell_type": "code",
   "execution_count": 13,
   "id": "459ba045-7bdf-4746-8178-fd6141577d1d",
   "metadata": {},
   "outputs": [
    {
     "name": "stdin",
     "output_type": "stream",
     "text": [
      "enter a string :  Morning\n"
     ]
    },
    {
     "name": "stdout",
     "output_type": "stream",
     "text": [
      "reverse of Morning is gninroM\n"
     ]
    }
   ],
   "source": [
    "s=input(\"enter a string : \")\n",
    "print(f\"reverse of {s} is {s[::-1]}\")"
   ]
  },
  {
   "cell_type": "markdown",
   "id": "c82591ec-3b7f-4c30-80d0-fd163d43eec1",
   "metadata": {},
   "source": [
    "4. Write a program that takes a string as input and checks if it is a palindrome\n",
    "(reads the same forwards and backwards)."
   ]
  },
  {
   "cell_type": "code",
   "execution_count": 14,
   "id": "5eb8205d-a076-4b4b-b27a-2563c165a126",
   "metadata": {},
   "outputs": [
    {
     "name": "stdin",
     "output_type": "stream",
     "text": [
      "enter a string :  madam\n"
     ]
    },
    {
     "name": "stdout",
     "output_type": "stream",
     "text": [
      "madam is a palindrome\n"
     ]
    }
   ],
   "source": [
    "s=input(\"enter a string : \")\n",
    "rev_s=s[::-1]\n",
    "if s==rev_s:\n",
    "    print(f\"{s} is a palindrome\")\n",
    "else:\n",
    "    print(f\"{s} is not a palindrome\")"
   ]
  },
  {
   "cell_type": "markdown",
   "id": "18b09f17-dc0c-4eb4-9c60-620a64387058",
   "metadata": {},
   "source": [
    "5. Create a program that takes a string as input and removes all the spaces from\n",
    "it. Print the modified string without spaces."
   ]
  },
  {
   "cell_type": "code",
   "execution_count": 17,
   "id": "e08895af-c701-4c9d-b271-da3507a1e85e",
   "metadata": {},
   "outputs": [
    {
     "name": "stdin",
     "output_type": "stream",
     "text": [
      "enter a string :  Good Moring to all\n"
     ]
    },
    {
     "name": "stdout",
     "output_type": "stream",
     "text": [
      "GoodMoringtoall\n"
     ]
    }
   ],
   "source": [
    "s=input(\"enter a string : \")\n",
    "s_split_list=s.split(\" \")\n",
    "s_new=\"\"\n",
    "for i in s_split_list:\n",
    "    s_new=s_new+i\n",
    "print(s_new)"
   ]
  },
  {
   "cell_type": "code",
   "execution_count": null,
   "id": "bb928e7a-9fe8-435f-bd6c-ae94d91cd9d0",
   "metadata": {},
   "outputs": [],
   "source": []
  }
 ],
 "metadata": {
  "kernelspec": {
   "display_name": "Python 3 (ipykernel)",
   "language": "python",
   "name": "python3"
  },
  "language_info": {
   "codemirror_mode": {
    "name": "ipython",
    "version": 3
   },
   "file_extension": ".py",
   "mimetype": "text/x-python",
   "name": "python",
   "nbconvert_exporter": "python",
   "pygments_lexer": "ipython3",
   "version": "3.10.8"
  }
 },
 "nbformat": 4,
 "nbformat_minor": 5
}
