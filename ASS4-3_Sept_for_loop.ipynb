{
 "cells": [
  {
   "cell_type": "markdown",
   "id": "a1dbe6f9-0367-4238-bfd6-53cd0c339fdb",
   "metadata": {
    "tags": []
   },
   "source": [
    "## Basic Level:"
   ]
  },
  {
   "cell_type": "markdown",
   "id": "c2a5aac5-2726-4ffd-89b1-7d18a82b73d3",
   "metadata": {},
   "source": [
    "1. Write a Python program to print the numbers from 1 to 10 using a `for` loop."
   ]
  },
  {
   "cell_type": "code",
   "execution_count": 3,
   "id": "acceafca-8059-47e8-8add-e10251a62178",
   "metadata": {},
   "outputs": [
    {
     "name": "stdout",
     "output_type": "stream",
     "text": [
      "1\n",
      "2\n",
      "3\n",
      "4\n",
      "5\n",
      "6\n",
      "7\n",
      "8\n",
      "9\n",
      "10\n"
     ]
    }
   ],
   "source": [
    "for i in range(1,11):\n",
    "    print(i)"
   ]
  },
  {
   "cell_type": "markdown",
   "id": "fd9dd3b1-173d-4b6a-92f3-f3d7d8c3f0b6",
   "metadata": {},
   "source": [
    "2. Create a program that calculates the sum of all numbers in a list using a `for` loop."
   ]
  },
  {
   "cell_type": "code",
   "execution_count": 6,
   "id": "f942aa98-9902-4a90-8c26-1453e102d56e",
   "metadata": {},
   "outputs": [
    {
     "name": "stdout",
     "output_type": "stream",
     "text": [
      "sum = 15\n"
     ]
    }
   ],
   "source": [
    "l1=[1,2,3,4,5]\n",
    "sum=0\n",
    "for i in l1:\n",
    "    sum=sum+i\n",
    "print(f\"sum = {sum}\")"
   ]
  },
  {
   "cell_type": "markdown",
   "id": "a4f5bfcc-8b32-4147-b060-9193282775bf",
   "metadata": {},
   "source": [
    "3. Write a program to print the characters of a string in reverse order using a `for` loop."
   ]
  },
  {
   "cell_type": "code",
   "execution_count": 10,
   "id": "c8ab635e-834c-4fd5-ad48-1dff8c7c59f1",
   "metadata": {},
   "outputs": [
    {
     "name": "stdout",
     "output_type": "stream",
     "text": [
      "reverse of Python is nohtyP\n"
     ]
    }
   ],
   "source": [
    "s=\"Python\"\n",
    "rev_s=\"\"\n",
    "for i in range(len(s)-1,-1,-1):\n",
    "    rev_s=rev_s+s[i]\n",
    "print(f\"reverse of {s} is {rev_s}\")"
   ]
  },
  {
   "cell_type": "markdown",
   "id": "fee976e6-f739-4ddb-8927-a481dcf254a8",
   "metadata": {},
   "source": [
    "4. Develop a program that finds the factorial of a given number using a `for` loop."
   ]
  },
  {
   "cell_type": "code",
   "execution_count": 12,
   "id": "21582594-d227-4f0a-b0ee-a7bf6cd8c8cf",
   "metadata": {},
   "outputs": [
    {
     "name": "stdin",
     "output_type": "stream",
     "text": [
      "enter a number :  5\n"
     ]
    },
    {
     "name": "stdout",
     "output_type": "stream",
     "text": [
      "factorial of 5 is 120\n"
     ]
    }
   ],
   "source": [
    "fact=1\n",
    "n=int(input(\"enter a number : \"))\n",
    "for i in range(1,n+1):\n",
    "    fact=fact*i\n",
    "print(f\"factorial of {n} is {fact}\")\n",
    "    "
   ]
  },
  {
   "cell_type": "markdown",
   "id": "ddde3cdb-3906-4487-95a7-299cf882941d",
   "metadata": {},
   "source": [
    "5. Create a program to print the multiplication table of a given number using a `for` loop."
   ]
  },
  {
   "cell_type": "code",
   "execution_count": 14,
   "id": "371e37cd-aa3a-433e-828f-e07e9828aa02",
   "metadata": {},
   "outputs": [
    {
     "name": "stdin",
     "output_type": "stream",
     "text": [
      "enter a number :  5\n"
     ]
    },
    {
     "name": "stdout",
     "output_type": "stream",
     "text": [
      "multiplication table of 5 is \n",
      "5 * 1 = 5\n",
      "5 * 2 = 10\n",
      "5 * 3 = 15\n",
      "5 * 4 = 20\n",
      "5 * 5 = 25\n",
      "5 * 6 = 30\n",
      "5 * 7 = 35\n",
      "5 * 8 = 40\n",
      "5 * 9 = 45\n",
      "5 * 10 = 50\n"
     ]
    }
   ],
   "source": [
    "n=int(input(\"enter a number : \"))\n",
    "print(f\"multiplication table of {n} is \")\n",
    "for i in range(1,11):\n",
    "    print(f\"{n} * {i} = {n*i}\")"
   ]
  },
  {
   "cell_type": "markdown",
   "id": "9187fca1-6366-49b3-bca2-1608af088e6d",
   "metadata": {},
   "source": [
    "6. Write a program that counts the number of even and odd numbers in a list using a `for` loop."
   ]
  },
  {
   "cell_type": "code",
   "execution_count": 16,
   "id": "1cf49746-7ad0-446a-ab8a-539cefbac31a",
   "metadata": {},
   "outputs": [
    {
     "name": "stdout",
     "output_type": "stream",
     "text": [
      "total even numbers = 5\n",
      "total odd numbers = 4\n"
     ]
    }
   ],
   "source": [
    "l1=[33,45,61,44,88,24,69,82,48]\n",
    "even_count,odd_count=0,0\n",
    "for i in l1:\n",
    "    if i%2==0:\n",
    "        even_count+=1\n",
    "    else:\n",
    "        odd_count+=1\n",
    "print(f\"total even numbers = {even_count}\")\n",
    "print(f\"total odd numbers = {odd_count}\")"
   ]
  },
  {
   "cell_type": "markdown",
   "id": "71f52ac3-83b8-4ff2-9369-b028665e0f3e",
   "metadata": {},
   "source": [
    "7. Develop a program that prints the squares of numbers from 1 to 5 using a `for` loop."
   ]
  },
  {
   "cell_type": "code",
   "execution_count": 17,
   "id": "f6139c39-20cb-40e4-b24f-573192c8a63f",
   "metadata": {},
   "outputs": [
    {
     "name": "stdout",
     "output_type": "stream",
     "text": [
      "square(1)=1\n",
      "square(2)=4\n",
      "square(3)=9\n",
      "square(4)=16\n",
      "square(5)=25\n"
     ]
    }
   ],
   "source": [
    "for i in range(1,6):\n",
    "    print(f\"square({i})={i*i}\")"
   ]
  },
  {
   "cell_type": "markdown",
   "id": "19b12e86-c177-4e9b-8c56-66792b877da6",
   "metadata": {},
   "source": [
    "8. Create a program to find the length of a string without using the `len()` function."
   ]
  },
  {
   "cell_type": "code",
   "execution_count": 18,
   "id": "a746b681-f009-4b0b-9b1b-490b12e40b3b",
   "metadata": {},
   "outputs": [
    {
     "name": "stdout",
     "output_type": "stream",
     "text": [
      "length of Python is 6\n"
     ]
    }
   ],
   "source": [
    "s=\"Python\"\n",
    "length=0\n",
    "for i in s:\n",
    "    length+=1\n",
    "print(f\"length of {s} is {length}\")"
   ]
  },
  {
   "cell_type": "markdown",
   "id": "95f97e5b-64c4-4c55-899d-957bbcb2e883",
   "metadata": {},
   "source": [
    "9. Write a program that calculates the average of a list of numbers using a `for` loop."
   ]
  },
  {
   "cell_type": "code",
   "execution_count": 19,
   "id": "7b906dd5-a389-4126-b43f-34f33cab7397",
   "metadata": {},
   "outputs": [
    {
     "name": "stdout",
     "output_type": "stream",
     "text": [
      "average of the list = 54.888888888888886\n"
     ]
    }
   ],
   "source": [
    "l1=[33,45,61,44,88,24,69,82,48]\n",
    "sum=0\n",
    "total=0\n",
    "for i in l1:\n",
    "    sum+=i\n",
    "    total+=1\n",
    "avg=sum/total\n",
    "print(f\"average of the list = {avg}\")"
   ]
  },
  {
   "cell_type": "markdown",
   "id": "19ddbe70-0c09-4e48-8910-52e229dc1887",
   "metadata": {},
   "source": [
    "10. Develop a program that prints the first `n` Fibonacci numbers using a `for` loop."
   ]
  },
  {
   "cell_type": "code",
   "execution_count": 9,
   "id": "2ca3379a-f354-4204-abaf-4c0360ec8ab7",
   "metadata": {},
   "outputs": [
    {
     "name": "stdin",
     "output_type": "stream",
     "text": [
      "enter a number :  1\n"
     ]
    },
    {
     "name": "stdout",
     "output_type": "stream",
     "text": [
      "first 1 Fibonacci numbers are : \n",
      "[0]\n"
     ]
    }
   ],
   "source": [
    "n=int(input(\"enter a number : \"))\n",
    "if n<=0:\n",
    "    print(\"no fibonacci number\")\n",
    "else:\n",
    "    fib=[0,1]\n",
    "    for i in range(2,n):\n",
    "        fib.append(fib[i-1]+fib[i-2])\n",
    "print(f\"first {n} Fibonacci numbers are : \")\n",
    "print(fib[:n])    "
   ]
  },
  {
   "cell_type": "markdown",
   "id": "699238ad-1711-4619-ac7a-e189eaa9deb2",
   "metadata": {},
   "source": [
    "## Intermediate Level:"
   ]
  },
  {
   "cell_type": "markdown",
   "id": "001f8bb1-b3af-44c8-a8bc-a4d640145ce2",
   "metadata": {},
   "source": [
    "11. Write a program to check if a given list contains any duplicates using a `for` loop."
   ]
  },
  {
   "cell_type": "code",
   "execution_count": 11,
   "id": "5a0eddc2-076c-4604-b905-67b845dbf8ee",
   "metadata": {},
   "outputs": [
    {
     "name": "stdin",
     "output_type": "stream",
     "text": [
      "enter size of a list :  3\n",
      "enter element-1 :  1\n",
      "enter element-2 :  2\n",
      "enter element-3 :  3\n"
     ]
    },
    {
     "name": "stdout",
     "output_type": "stream",
     "text": [
      "the list not contains duplicates\n"
     ]
    }
   ],
   "source": [
    "size=int(input(\"enter size of a list : \"))\n",
    "l1=[]\n",
    "for i in range(size):\n",
    "    element=int(input(f\"enter element-{i+1} : \"))\n",
    "    l1.append(element)\n",
    "duplicate=False\n",
    "for i in range(size):\n",
    "    for  j in range(i+1,size):\n",
    "        if l1[j]==l1[i]:\n",
    "            duplicate=True\n",
    "            break\n",
    "if duplicate:\n",
    "    print(\"the list contains duplicates\")\n",
    "else:\n",
    "    print(\"the list not contains duplicates\")"
   ]
  },
  {
   "cell_type": "markdown",
   "id": "4b5b9884-c67f-4015-9c09-9c8202d1546e",
   "metadata": {},
   "source": [
    "12. Create a program that prints the prime numbers in a given range using a `for` loop."
   ]
  },
  {
   "cell_type": "code",
   "execution_count": 17,
   "id": "b156bf7a-7569-448a-9534-b93d9c16c9dd",
   "metadata": {},
   "outputs": [
    {
     "name": "stdin",
     "output_type": "stream",
     "text": [
      "enter start range :  0\n",
      "enter end range :  25\n"
     ]
    },
    {
     "name": "stdout",
     "output_type": "stream",
     "text": [
      "prime numbers between 0 and 25 are :\n",
      "2\n",
      "3\n",
      "5\n",
      "7\n",
      "11\n",
      "13\n",
      "17\n",
      "19\n",
      "23\n"
     ]
    }
   ],
   "source": [
    "lb=int(input(\"enter start range : \"))\n",
    "ub=int(input(\"enter end range : \"))\n",
    "print(f\"prime numbers between {lb} and {ub} are :\")\n",
    "for i in range(lb,ub+1):\n",
    "    if i>1:\n",
    "        prime=True\n",
    "        for j in range(2, i//2+1):\n",
    "            if i%j==0:\n",
    "                prime=False\n",
    "                break\n",
    "        if prime:\n",
    "            print(i)"
   ]
  },
  {
   "cell_type": "markdown",
   "id": "75835ce0-613e-4018-9dbb-4412afe6ea4a",
   "metadata": {},
   "source": [
    "13. Develop a program that counts the number of vowels in a string using a `for` loop."
   ]
  },
  {
   "cell_type": "code",
   "execution_count": 19,
   "id": "6842cd76-5bde-4a40-b2f2-453c1a9f6eaf",
   "metadata": {},
   "outputs": [
    {
     "name": "stdin",
     "output_type": "stream",
     "text": [
      "enter a string :  Python Programming\n"
     ]
    },
    {
     "name": "stdout",
     "output_type": "stream",
     "text": [
      "number of vowels = 4\n"
     ]
    }
   ],
   "source": [
    "s=input(\"enter a string : \")\n",
    "vowel=\"aeiouAEIOU\"\n",
    "count=0\n",
    "for i in s:\n",
    "    if i in vowel:\n",
    "        count+=1\n",
    "print(f\"number of vowels = {count}\")"
   ]
  },
  {
   "cell_type": "markdown",
   "id": "0119cd53-71d8-4b37-8358-7b8828f7a052",
   "metadata": {},
   "source": [
    "14. Write a program to find the maximum element in a 2D list using a nested `for` loop."
   ]
  },
  {
   "cell_type": "code",
   "execution_count": 25,
   "id": "a228037b-b0ff-4a4f-9d21-04b5fc172728",
   "metadata": {},
   "outputs": [
    {
     "name": "stdin",
     "output_type": "stream",
     "text": [
      "Enter the number of rows:  2\n",
      "Enter the number of columns:  2\n"
     ]
    },
    {
     "name": "stdout",
     "output_type": "stream",
     "text": [
      "enter elemets in the 2D list :\n"
     ]
    },
    {
     "name": "stdin",
     "output_type": "stream",
     "text": [
      "mat[0][0] =  11\n",
      "mat[0][1] =  44\n",
      "mat[1][0] =  22\n",
      "mat[1][1] =  36\n"
     ]
    },
    {
     "name": "stdout",
     "output_type": "stream",
     "text": [
      "maximum element = 44\n"
     ]
    }
   ],
   "source": [
    "rows = int(input(\"Enter the number of rows: \"))\n",
    "cols = int(input(\"Enter the number of columns: \"))\n",
    "\n",
    "matrix=[]\n",
    "\n",
    "print(\"enter elemets in the 2D list :\")\n",
    "for i in range(rows):\n",
    "    row=[]\n",
    "    for j in range(cols):\n",
    "        element=int(input(f\"mat[{i}][{j}] = \"))\n",
    "        row.append(element)\n",
    "    matrix.append(row)\n",
    "\n",
    "maximum=matrix[0][0]\n",
    "for row in matrix:\n",
    "    for ele in row:\n",
    "        if ele>maximum:\n",
    "            maximum=ele\n",
    "print(f\"maximum element = {maximum}\")"
   ]
  },
  {
   "cell_type": "markdown",
   "id": "470845b7-628a-4ed3-a55b-9df1086b8c7f",
   "metadata": {},
   "source": [
    "15. Create a program that removes all occurrences of a specific element from a list using a `for` loop."
   ]
  },
  {
   "cell_type": "code",
   "execution_count": 26,
   "id": "67317019-9d6a-4e8e-8305-69401e22a5e5",
   "metadata": {},
   "outputs": [
    {
     "name": "stdin",
     "output_type": "stream",
     "text": [
      "enter size of a list :  5\n",
      "enter element-1 :  12\n",
      "enter element-2 :  33\n",
      "enter element-3 :  22\n",
      "enter element-4 :  44\n",
      "enter element-5 :  33\n",
      "enter an element :  33\n"
     ]
    },
    {
     "name": "stdout",
     "output_type": "stream",
     "text": [
      "list elements after removing all occurrences of 33\n",
      "[12, 22, 44]\n"
     ]
    }
   ],
   "source": [
    "size=int(input(\"enter size of a list : \"))\n",
    "l1=[]\n",
    "for i in range(size):\n",
    "    element=int(input(f\"enter element-{i+1} : \"))\n",
    "    l1.append(element)\n",
    "element=int(input(\"enter an element : \"))\n",
    "for i in l1:\n",
    "    if i==element:\n",
    "        l1.remove(i)\n",
    "print(f\"list elements after removing all occurrences of {element}\")\n",
    "print(l1)"
   ]
  },
  {
   "cell_type": "markdown",
   "id": "63ac401a-7b31-46fe-87d5-9020488d5918",
   "metadata": {},
   "source": [
    "16. Develop a program that generates a multiplication table for numbers from 1 to 5 using a nested `for` loop."
   ]
  },
  {
   "cell_type": "code",
   "execution_count": 27,
   "id": "a20aa65a-a3e7-49b5-a56b-732739c3d90d",
   "metadata": {},
   "outputs": [
    {
     "name": "stdout",
     "output_type": "stream",
     "text": [
      "multiplication table of 1 is \n",
      "1 * 1 = 1\n",
      "1 * 2 = 2\n",
      "1 * 3 = 3\n",
      "1 * 4 = 4\n",
      "1 * 5 = 5\n",
      "1 * 6 = 6\n",
      "1 * 7 = 7\n",
      "1 * 8 = 8\n",
      "1 * 9 = 9\n",
      "1 * 10 = 10\n",
      "multiplication table of 2 is \n",
      "2 * 1 = 2\n",
      "2 * 2 = 4\n",
      "2 * 3 = 6\n",
      "2 * 4 = 8\n",
      "2 * 5 = 10\n",
      "2 * 6 = 12\n",
      "2 * 7 = 14\n",
      "2 * 8 = 16\n",
      "2 * 9 = 18\n",
      "2 * 10 = 20\n",
      "multiplication table of 3 is \n",
      "3 * 1 = 3\n",
      "3 * 2 = 6\n",
      "3 * 3 = 9\n",
      "3 * 4 = 12\n",
      "3 * 5 = 15\n",
      "3 * 6 = 18\n",
      "3 * 7 = 21\n",
      "3 * 8 = 24\n",
      "3 * 9 = 27\n",
      "3 * 10 = 30\n",
      "multiplication table of 4 is \n",
      "4 * 1 = 4\n",
      "4 * 2 = 8\n",
      "4 * 3 = 12\n",
      "4 * 4 = 16\n",
      "4 * 5 = 20\n",
      "4 * 6 = 24\n",
      "4 * 7 = 28\n",
      "4 * 8 = 32\n",
      "4 * 9 = 36\n",
      "4 * 10 = 40\n",
      "multiplication table of 5 is \n",
      "5 * 1 = 5\n",
      "5 * 2 = 10\n",
      "5 * 3 = 15\n",
      "5 * 4 = 20\n",
      "5 * 5 = 25\n",
      "5 * 6 = 30\n",
      "5 * 7 = 35\n",
      "5 * 8 = 40\n",
      "5 * 9 = 45\n",
      "5 * 10 = 50\n"
     ]
    }
   ],
   "source": [
    "for n in range(1,6):\n",
    "    print(f\"multiplication table of {n} is \")\n",
    "    for i in range(1,11):\n",
    "        print(f\"{n} * {i} = {n*i}\")"
   ]
  },
  {
   "cell_type": "markdown",
   "id": "a700f03c-97aa-43b1-b877-99b64a1da701",
   "metadata": {},
   "source": [
    "17. Write a program that converts a list of Fahrenheit temperatures to Celsius using a `for` loop."
   ]
  },
  {
   "cell_type": "code",
   "execution_count": 28,
   "id": "54cb3393-e91d-4dbd-9b09-b920e48e9578",
   "metadata": {},
   "outputs": [
    {
     "name": "stdin",
     "output_type": "stream",
     "text": [
      "enter size of a list :  4\n",
      "enter element-1 :  23\n",
      "enter element-2 :  34\n",
      "enter element-3 :  55\n",
      "enter element-4 :  68\n"
     ]
    },
    {
     "name": "stdout",
     "output_type": "stream",
     "text": [
      "23 F = -5.0 C\n",
      "34 F = 1.1111111111111112 C\n",
      "55 F = 12.777777777777777 C\n",
      "68 F = 20.0 C\n"
     ]
    }
   ],
   "source": [
    "size=int(input(\"enter size of a list : \"))\n",
    "l1=[]\n",
    "for i in range(size):\n",
    "    element=int(input(f\"enter element-{i+1} : \"))\n",
    "    l1.append(element)\n",
    "for i in l1:\n",
    "    c=(i-32)/(9/5)\n",
    "    print(f\"{i} F = {c} C\")"
   ]
  },
  {
   "cell_type": "markdown",
   "id": "5d3cc707-c66f-44c1-b208-61e1e05698e3",
   "metadata": {},
   "source": [
    "18. Create a program to print the common elements from two lists using a `for` loop."
   ]
  },
  {
   "cell_type": "code",
   "execution_count": 2,
   "id": "eb5b2ad3-d5c3-4226-ab11-61ff7a2b35b3",
   "metadata": {},
   "outputs": [
    {
     "name": "stdin",
     "output_type": "stream",
     "text": [
      "enter size of a list-1 :  4\n",
      "enter element-1 :  11\n",
      "enter element-2 :  22\n",
      "enter element-3 :  33\n",
      "enter element-4 :  44\n",
      "enter size of a list-2 :  5\n",
      "enter element-1 :  22\n",
      "enter element-2 :  55\n",
      "enter element-3 :  66\n",
      "enter element-4 :  44\n",
      "enter element-5 :  88\n"
     ]
    },
    {
     "name": "stdout",
     "output_type": "stream",
     "text": [
      "common elements are :  [22, 44]\n"
     ]
    }
   ],
   "source": [
    "size1=int(input(\"enter size of a list-1 : \"))\n",
    "l1=[]\n",
    "for i in range(size1):\n",
    "    element=int(input(f\"enter element-{i+1} : \"))\n",
    "    l1.append(element)\n",
    "size2=int(input(\"enter size of a list-2 : \"))\n",
    "l2=[]\n",
    "for i in range(size2):\n",
    "    element=int(input(f\"enter element-{i+1} : \"))\n",
    "    l2.append(element)\n",
    "l3=[]\n",
    "for i in l1:\n",
    "    for j in l2:\n",
    "        if i==j:\n",
    "            l3.append(i)\n",
    "print(\"common elements are : \",l3)"
   ]
  },
  {
   "cell_type": "markdown",
   "id": "f6f79ec2-045b-4c1c-87bf-fe8a5b7b029c",
   "metadata": {},
   "source": [
    "19. Develop a program that prints the pattern of right-angled triangles using a `for` loop. Use ‘*’ to draw the pattern"
   ]
  },
  {
   "cell_type": "code",
   "execution_count": 4,
   "id": "35870f42-4e1c-4d17-b05b-e577b214e026",
   "metadata": {},
   "outputs": [
    {
     "name": "stdin",
     "output_type": "stream",
     "text": [
      "enter a number :  5\n"
     ]
    },
    {
     "name": "stdout",
     "output_type": "stream",
     "text": [
      "*\n",
      "**\n",
      "***\n",
      "****\n",
      "*****\n"
     ]
    }
   ],
   "source": [
    "n=int(input(\"enter a number : \"))\n",
    "for i in range(n):\n",
    "    for j in range(i+1):\n",
    "        print(\"*\",end=\"\")\n",
    "    print(\"\")"
   ]
  },
  {
   "cell_type": "markdown",
   "id": "c18e8d51-0163-41f4-adad-7d64266cb3fa",
   "metadata": {},
   "source": [
    "20. Write a program to find the greatest common divisor (GCD) of two numbers using a `for` loop."
   ]
  },
  {
   "cell_type": "code",
   "execution_count": 7,
   "id": "e3f40f96-8e07-41f9-af9c-6a06602ced37",
   "metadata": {},
   "outputs": [
    {
     "name": "stdin",
     "output_type": "stream",
     "text": [
      "enter first number :  15\n",
      "enter second number :  70\n"
     ]
    },
    {
     "name": "stdout",
     "output_type": "stream",
     "text": [
      "GCD(15,70)=5\n"
     ]
    }
   ],
   "source": [
    "n1=int(input(\"enter first number : \"))\n",
    "n2=int(input(\"enter second number : \"))\n",
    "if n1<n2:\n",
    "    smallest=n1\n",
    "else:\n",
    "    smallest=n2\n",
    "gcd=1\n",
    "for i in range(1,smallest+1):\n",
    "    if n1%i==0 and n2%i==0:\n",
    "        gcd=i\n",
    "print(f\"GCD({n1},{n2})={gcd}\")"
   ]
  },
  {
   "cell_type": "markdown",
   "id": "d2a974c0-a033-4f3e-8bdf-9f2faf8cff3c",
   "metadata": {},
   "source": [
    "## Advanced Level:"
   ]
  },
  {
   "cell_type": "markdown",
   "id": "bb43d3b8-841f-40f6-9fb4-19b516699fa5",
   "metadata": {},
   "source": [
    "21. Create a program that calculates the sum of the digits of numbers in a list using a list comprehension."
   ]
  },
  {
   "cell_type": "code",
   "execution_count": 8,
   "id": "459398ad-e200-496d-aaad-b52b881d27b3",
   "metadata": {},
   "outputs": [
    {
     "name": "stdin",
     "output_type": "stream",
     "text": [
      "enter size of a list :  5\n",
      "enter element-1 :  123\n",
      "enter element-2 :  325\n",
      "enter element-3 :  745\n",
      "enter element-4 :  665\n",
      "enter element-5 :  243\n"
     ]
    },
    {
     "name": "stdout",
     "output_type": "stream",
     "text": [
      "sum of digits of numbers :  [6, 10, 16, 17, 9]\n"
     ]
    }
   ],
   "source": [
    "size1=int(input(\"enter size of a list : \"))\n",
    "l1=[]\n",
    "for i in range(size1):\n",
    "    element=int(input(f\"enter element-{i+1} : \"))\n",
    "    l1.append(element)\n",
    "sum_of_digits=[sum(int(digit) for digit in str(num)) for num in l1]\n",
    "print(\"sum of digits of numbers : \",sum_of_digits)      "
   ]
  },
  {
   "cell_type": "markdown",
   "id": "9b034d15-531f-41a3-a5f8-3add22233d0b",
   "metadata": {},
   "source": [
    "22. Write a program to find the prime factors of a given number using a `for` loop and list comprehension."
   ]
  },
  {
   "cell_type": "code",
   "execution_count": 20,
   "id": "2062edfa-187a-4f33-906f-0cf6b073faa4",
   "metadata": {},
   "outputs": [
    {
     "name": "stdin",
     "output_type": "stream",
     "text": [
      "enter a number :  40\n"
     ]
    },
    {
     "name": "stdout",
     "output_type": "stream",
     "text": [
      "prime factors of 40 are : [2, 5]\n"
     ]
    }
   ],
   "source": [
    "n=int(input(\"enter a number : \"))\n",
    "factors = [i for i in range(2, n+1) if n % i == 0]\n",
    "prime_factors = [f for f in factors if all(f % i != 0 for i in range(2, int(f**0.5) + 1)) or f == 2]\n",
    "print(f\"prime factors of {n} are : {prime_factors}\")"
   ]
  },
  {
   "cell_type": "markdown",
   "id": "0fefec66-aa15-4e5e-8f12-5d362775cca4",
   "metadata": {},
   "source": [
    "23. Develop a program that extracts unique elements from a list and stores them in a new list using a list comprehension."
   ]
  },
  {
   "cell_type": "code",
   "execution_count": 24,
   "id": "292fb058-4171-4284-bf5d-6f7a267924ce",
   "metadata": {},
   "outputs": [
    {
     "name": "stdin",
     "output_type": "stream",
     "text": [
      "enter size of a list :  6\n",
      "enter element-1 :  14\n",
      "enter element-2 :  25\n",
      "enter element-3 :  36\n",
      "enter element-4 :  25\n",
      "enter element-5 :  74\n",
      "enter element-6 :  14\n"
     ]
    },
    {
     "name": "stdout",
     "output_type": "stream",
     "text": [
      "unique elements are : \n",
      "14\n",
      "25\n",
      "36\n",
      "74\n"
     ]
    }
   ],
   "source": [
    "size1=int(input(\"enter size of a list : \"))\n",
    "l1=[]\n",
    "for i in range(size1):\n",
    "    element=int(input(f\"enter element-{i+1} : \"))\n",
    "    l1.append(element)\n",
    "unique=[x for i , x in enumerate(l1) if x not in l1[:i]]\n",
    "print(\"unique elements are : \")\n",
    "for i in unique:\n",
    "    print(i)"
   ]
  },
  {
   "cell_type": "markdown",
   "id": "84c60792-0a76-4861-a643-ca7c34add85a",
   "metadata": {},
   "source": [
    "24. Create a program that generates a list of all palindromic numbers up to a specified limit using a list comprehension."
   ]
  },
  {
   "cell_type": "code",
   "execution_count": 1,
   "id": "fba2f04f-43e1-4ba4-a538-f6a5585f592e",
   "metadata": {},
   "outputs": [
    {
     "name": "stdin",
     "output_type": "stream",
     "text": [
      "enter a limit :  30\n"
     ]
    },
    {
     "name": "stdout",
     "output_type": "stream",
     "text": [
      "list of all palindromic numbers upto 30 is\n",
      "[0, 1, 2, 3, 4, 5, 6, 7, 8, 9, 11, 22]\n"
     ]
    }
   ],
   "source": [
    "n=int(input(\"enter a limit : \"))\n",
    "palin_list=[i for i in range(n+1) if str(i)==str(i)[::-1]]\n",
    "print(f\"list of all palindromic numbers upto {n} is\")\n",
    "print(palin_list)"
   ]
  },
  {
   "cell_type": "markdown",
   "id": "92671e1d-4f6a-4d26-b1b1-08336f8511fc",
   "metadata": {},
   "source": [
    "25. Write a program to flatten a nested list using list comprehension."
   ]
  },
  {
   "cell_type": "code",
   "execution_count": 2,
   "id": "146a26b1-5772-432e-a2aa-b086007e07cd",
   "metadata": {},
   "outputs": [
    {
     "name": "stdin",
     "output_type": "stream",
     "text": [
      "Enter the number of rows:  2\n",
      "Enter the number of columns:  3\n"
     ]
    },
    {
     "name": "stdout",
     "output_type": "stream",
     "text": [
      "enter elemets in the 2D list :\n"
     ]
    },
    {
     "name": "stdin",
     "output_type": "stream",
     "text": [
      "mat[0][0] =  1\n",
      "mat[0][1] =  2\n",
      "mat[0][2] =  3\n",
      "mat[1][0] =  4\n",
      "mat[1][1] =  5\n",
      "mat[1][2] =  6\n"
     ]
    },
    {
     "name": "stdout",
     "output_type": "stream",
     "text": [
      "flatten list is \n",
      "[1, 2, 3, 4, 5, 6]\n"
     ]
    }
   ],
   "source": [
    "rows = int(input(\"Enter the number of rows: \"))\n",
    "cols = int(input(\"Enter the number of columns: \"))\n",
    "\n",
    "matrix=[]\n",
    "\n",
    "print(\"enter elemets in the 2D list :\")\n",
    "for i in range(rows):\n",
    "    row=[]\n",
    "    for j in range(cols):\n",
    "        element=int(input(f\"mat[{i}][{j}] = \"))\n",
    "        row.append(element)\n",
    "    matrix.append(row)\n",
    "flat_list=[item for row in matrix for item in row]\n",
    "print(\"flatten list is \")\n",
    "print(flat_list)"
   ]
  },
  {
   "cell_type": "markdown",
   "id": "c16c12c4-e288-4876-9d2c-3bfe905d5161",
   "metadata": {},
   "source": [
    "26. Develop a program that computes the sum of even and odd numbers in a list separately using list comprehension."
   ]
  },
  {
   "cell_type": "code",
   "execution_count": 3,
   "id": "05696e50-d9ec-40fd-ba5f-2fcd7e3bffe8",
   "metadata": {},
   "outputs": [
    {
     "name": "stdin",
     "output_type": "stream",
     "text": [
      "enter size of a list :  5\n",
      "enter element-1 :  1\n",
      "enter element-2 :  2\n",
      "enter element-3 :  3\n",
      "enter element-4 :  4\n",
      "enter element-5 :  5\n"
     ]
    },
    {
     "name": "stdout",
     "output_type": "stream",
     "text": [
      "sum of even numbers : 6\n",
      "sum of odd numbers : 9\n"
     ]
    }
   ],
   "source": [
    "size1=int(input(\"enter size of a list : \"))\n",
    "l1=[]\n",
    "for i in range(size1):\n",
    "    element=int(input(f\"enter element-{i+1} : \"))\n",
    "    l1.append(element)\n",
    "even_sum=sum([i for i in l1 if i%2==0])\n",
    "odd_sum=sum([i for i in l1 if i%2!=0])\n",
    "\n",
    "print(f\"sum of even numbers : {even_sum}\")\n",
    "print(f\"sum of odd numbers : {odd_sum}\")"
   ]
  },
  {
   "cell_type": "markdown",
   "id": "c899b6c1-8610-4627-88db-6f0308479fd1",
   "metadata": {},
   "source": [
    "27. Create a program that generates a list of squares of odd numbers between 1 and 10 using list comprehension."
   ]
  },
  {
   "cell_type": "code",
   "execution_count": 5,
   "id": "2a810e00-cd38-476f-a920-c0d4dfe903aa",
   "metadata": {},
   "outputs": [
    {
     "name": "stdout",
     "output_type": "stream",
     "text": [
      "list of squares of odd number between 1 and 10 : [1, 9, 25, 49, 81]\n"
     ]
    }
   ],
   "source": [
    "l1=[i*i for i in range(1,11) if i%2!=0]\n",
    "print(f\"list of squares of odd number between 1 and 10 : {l1}\")"
   ]
  },
  {
   "cell_type": "markdown",
   "id": "7b6963d4-a34a-46a2-b459-84f0d364c7d4",
   "metadata": {},
   "source": [
    "28. Write a program that combines two lists into a dictionary using list comprehension."
   ]
  },
  {
   "cell_type": "code",
   "execution_count": 7,
   "id": "a047539d-cc1b-43e4-9447-cb6a396a0458",
   "metadata": {},
   "outputs": [
    {
     "name": "stdout",
     "output_type": "stream",
     "text": [
      "cobined dictionary is : \n",
      "{'name': 'sudeep', 'age': 24, 'roll': 345}\n"
     ]
    }
   ],
   "source": [
    "l1=['name','age','roll']\n",
    "l2=['sudeep',24,345,998867]\n",
    "dict1={l1[i]:l2[i] for i in range(min(len(l1),len(l2)))}\n",
    "print(\"cobined dictionary is : \")\n",
    "print(dict1)"
   ]
  },
  {
   "cell_type": "markdown",
   "id": "e4f5cf33-faa4-4d84-a0d6-fd8837ff48c0",
   "metadata": {},
   "source": [
    "29. Develop a program that extracts the vowels from a string and stores them in a list using list comprehension."
   ]
  },
  {
   "cell_type": "code",
   "execution_count": 10,
   "id": "3eb6bb85-6b59-49b8-8494-31a4d81c0351",
   "metadata": {},
   "outputs": [
    {
     "name": "stdin",
     "output_type": "stream",
     "text": [
      "enter a string :  Python Programming\n"
     ]
    },
    {
     "name": "stdout",
     "output_type": "stream",
     "text": [
      "['o', 'o', 'a', 'i']\n"
     ]
    }
   ],
   "source": [
    "s=input(\"enter a string : \")\n",
    "l1=[v for v in s if v in 'aeiouAEIOU']\n",
    "print(l1)"
   ]
  },
  {
   "cell_type": "markdown",
   "id": "a65491a4-93d2-4954-a242-e88f41a930c5",
   "metadata": {},
   "source": [
    "30. Create a program that removes all non-numeric characters from a list of strings using list comprehension."
   ]
  },
  {
   "cell_type": "code",
   "execution_count": 13,
   "id": "c29f1037-8485-4418-925c-c153343e0a44",
   "metadata": {},
   "outputs": [
    {
     "name": "stdin",
     "output_type": "stream",
     "text": [
      "enter size of a list :  3\n",
      "enter element-1 :  dfe34\n",
      "enter element-2 :  1ffr5\n",
      "enter element-3 :  7hy6\n"
     ]
    },
    {
     "name": "stdout",
     "output_type": "stream",
     "text": [
      "['34', '15', '76']\n"
     ]
    }
   ],
   "source": [
    "size1=int(input(\"enter size of a list : \"))\n",
    "l1=[]\n",
    "for i in range(size1):\n",
    "    element=input(f\"enter element-{i+1} : \")\n",
    "    l1.append(element)\n",
    "s=''\n",
    "numeric_str_list=[s.join(char for char in item if char.isnumeric()) for item in l1]\n",
    "print(numeric_str_list)"
   ]
  },
  {
   "cell_type": "markdown",
   "id": "d23c767d-6b24-402e-ae3f-1cabb39d5d6a",
   "metadata": {},
   "source": [
    "## Challenge Level:"
   ]
  },
  {
   "cell_type": "markdown",
   "id": "f4a3069f-a80a-404c-958b-833f9f426d27",
   "metadata": {},
   "source": [
    "31. Write a program to generate a list of prime numbers using the Sieve of Eratosthenes algorithm and list comprehension."
   ]
  },
  {
   "cell_type": "code",
   "execution_count": 5,
   "id": "08d4497e-b90d-4731-909f-a19eaffe5e78",
   "metadata": {},
   "outputs": [
    {
     "name": "stdin",
     "output_type": "stream",
     "text": [
      "enter a number :  20\n"
     ]
    },
    {
     "name": "stdout",
     "output_type": "stream",
     "text": [
      "list of prime numbers is [2, 3, 5, 7, 11, 13, 17, 19]\n"
     ]
    }
   ],
   "source": [
    "n=int(input(\"enter a number : \"))\n",
    "num_is_prime=[True]*(n+1)\n",
    "num_is_prime[0]=num_is_prime[1]=False\n",
    "\n",
    "for i in range(2, n//2 + 1):\n",
    "    if num_is_prime[i]:\n",
    "        for j in range(i * i, n + 1, i):\n",
    "            num_is_prime[j] = False\n",
    "\n",
    "prime_num_list=[i for i in range(2,n+1) if num_is_prime[i]]\n",
    "print(f\"list of prime numbers is {prime_num_list}\")"
   ]
  },
  {
   "cell_type": "markdown",
   "id": "800ae160-bb5c-4e07-b633-74dc1e7611cc",
   "metadata": {},
   "source": [
    "32. Create a program that generates a list of all Pythagorean triplets up to a specified limit using list comprehension."
   ]
  },
  {
   "cell_type": "code",
   "execution_count": 7,
   "id": "644ebfa2-86ee-4566-83be-6515842720db",
   "metadata": {},
   "outputs": [
    {
     "name": "stdin",
     "output_type": "stream",
     "text": [
      "enter a number :  20\n"
     ]
    },
    {
     "name": "stdout",
     "output_type": "stream",
     "text": [
      "list of all Pythagorean triplets up to 20 is [(3, 4, 5), (5, 12, 13), (6, 8, 10), (8, 15, 17), (9, 12, 15)]\n"
     ]
    }
   ],
   "source": [
    "n=int(input(\"enter a number : \"))\n",
    "\n",
    "triplets = [(a, b, c) for a in range(1, n) for b in range(a, n) for c in range(b, n) if a**2 + b**2 == c**2]\n",
    "\n",
    "print(f\"list of all Pythagorean triplets up to {n} is {triplets}\")"
   ]
  },
  {
   "cell_type": "markdown",
   "id": "bae7587d-4ff3-4300-9d47-0760012d41d9",
   "metadata": {},
   "source": [
    "33. Develop a program that generates a list of all possible combinations of two lists using list comprehension."
   ]
  },
  {
   "cell_type": "code",
   "execution_count": 8,
   "id": "59f66647-8c77-4c70-9c33-8534b658179b",
   "metadata": {},
   "outputs": [
    {
     "name": "stdin",
     "output_type": "stream",
     "text": [
      "enter size of a list-1 :  3\n",
      "enter element-1 :  1\n",
      "enter element-2 :  2\n",
      "enter element-3 :  3\n",
      "enter size of a list-2 :  4\n",
      "enter element-1 :  1\n",
      "enter element-2 :  2\n",
      "enter element-3 :  3\n",
      "enter element-4 :  4\n"
     ]
    },
    {
     "name": "stdout",
     "output_type": "stream",
     "text": [
      "all possible combination of [1, 2, 3] and [1, 2, 3, 4] are : \n",
      " [(1, 1), (1, 2), (1, 3), (1, 4), (2, 1), (2, 2), (2, 3), (2, 4), (3, 1), (3, 2), (3, 3), (3, 4)]\n"
     ]
    }
   ],
   "source": [
    "size1=int(input(\"enter size of a list-1 : \"))\n",
    "l1=[]\n",
    "for i in range(size1):\n",
    "    element=int(input(f\"enter element-{i+1} : \"))\n",
    "    l1.append(element)\n",
    "size2=int(input(\"enter size of a list-2 : \"))\n",
    "l2=[]\n",
    "for i in range(size2):\n",
    "    element=int(input(f\"enter element-{i+1} : \"))\n",
    "    l2.append(element)\n",
    "combined_list=[(i,j) for i in l1 for j in l2]\n",
    "\n",
    "print(f\"all possible combination of {l1} and {l2} are : \\n {combined_list}\")"
   ]
  },
  {
   "cell_type": "markdown",
   "id": "ecb3247c-1a72-4f01-8307-455ba38a15d5",
   "metadata": {},
   "source": [
    "34. Write a program that calculates the mean, median, and mode of a list of numbers using list comprehension."
   ]
  },
  {
   "cell_type": "code",
   "execution_count": 18,
   "id": "a9dd832a-04bb-4feb-8b9d-09d60308754a",
   "metadata": {},
   "outputs": [
    {
     "name": "stdin",
     "output_type": "stream",
     "text": [
      "enter size of a list-1 :  5\n",
      "enter element-1 :  67\n",
      "enter element-2 :  23\n",
      "enter element-3 :  99\n",
      "enter element-4 :  43\n",
      "enter element-5 :  32\n"
     ]
    },
    {
     "name": "stdout",
     "output_type": "stream",
     "text": [
      "mean = 52.8, median =43.0, mode = [32, 99, 67, 43, 23]\n"
     ]
    }
   ],
   "source": [
    "size1=int(input(\"enter size of a list-1 : \"))\n",
    "l1=[]\n",
    "for i in range(size1):\n",
    "    element=int(input(f\"enter element-{i+1} : \"))\n",
    "    l1.append(element)\n",
    "\n",
    "mean = sum(l1)/size1\n",
    "\n",
    "sorted_numbers = sorted(l1)\n",
    "mid = size1 // 2\n",
    "median = (sorted_numbers[mid] + sorted_numbers[-mid - 1]) / 2\n",
    "\n",
    "frequency = {i: l1.count(i) for i in set(l1)}\n",
    "mode = [k for k, v in frequency.items() if v == max(frequency.values())]\n",
    "\n",
    "print(f\"mean = {mean}, median ={median}, mode = {mode}\")"
   ]
  },
  {
   "cell_type": "markdown",
   "id": "3a0a372a-70c5-4c75-996d-0d838166edc2",
   "metadata": {},
   "source": [
    "35. Create a program that generates Pascal's triangle up to a specified number of rows using list comprehension."
   ]
  },
  {
   "cell_type": "code",
   "execution_count": 22,
   "id": "b89e9afd-28a0-4c92-a0ba-2a21dbd3056e",
   "metadata": {},
   "outputs": [
    {
     "name": "stdin",
     "output_type": "stream",
     "text": [
      "enter number of rows :  6\n"
     ]
    },
    {
     "name": "stdout",
     "output_type": "stream",
     "text": [
      "Pascal's triangle with 6 rows:\n",
      "        1         \n",
      "       1 1        \n",
      "      1 2 1       \n",
      "     1 3 3 1      \n",
      "    1 4 6 4 1     \n",
      "  1 5 10 10 5 1   \n"
     ]
    }
   ],
   "source": [
    "n=int(input(\"enter number of rows : \"))\n",
    "\n",
    "pascals_triangle = [[1]]\n",
    "\n",
    "\n",
    "[pascals_triangle.append([1] + [pascals_triangle[i - 1][j - 1] + pascals_triangle[i - 1][j] for j in range(1, i)] + [1]) for i in range(1, n)]\n",
    "\n",
    "print(f\"Pascal's triangle with {n} rows:\")\n",
    "for row in pascals_triangle:\n",
    "    print(\" \".join(map(str, row)).center(n * 3))"
   ]
  },
  {
   "cell_type": "markdown",
   "id": "1cd3f941-22fa-4513-a93c-ea921e9088ab",
   "metadata": {},
   "source": [
    "36. Develop a program that calculates the sum of the digits of a factorial of numbers from 1 to 5 using list comprehension."
   ]
  },
  {
   "cell_type": "code",
   "execution_count": 7,
   "id": "5816b66b-ee94-45bf-b672-8637fee8865d",
   "metadata": {},
   "outputs": [
    {
     "name": "stdout",
     "output_type": "stream",
     "text": [
      "Factorial of 1 = 1\n",
      "Sum of digits of 1 = 1\n",
      "Factorial of 2 = 1\n",
      "Sum of digits of 1 = 1\n",
      "Factorial of 2 = 2\n",
      "Sum of digits of 2 = 2\n",
      "Factorial of 3 = 2\n",
      "Sum of digits of 2 = 2\n",
      "Factorial of 3 = 4\n",
      "Sum of digits of 4 = 4\n",
      "Factorial of 3 = 6\n",
      "Sum of digits of 6 = 6\n",
      "Factorial of 4 = 6\n",
      "Sum of digits of 6 = 6\n",
      "Factorial of 4 = 12\n",
      "Sum of digits of 12 = 3\n",
      "Factorial of 4 = 18\n",
      "Sum of digits of 18 = 9\n",
      "Factorial of 4 = 24\n",
      "Sum of digits of 24 = 6\n",
      "Factorial of 5 = 24\n",
      "Sum of digits of 24 = 6\n",
      "Factorial of 5 = 48\n",
      "Sum of digits of 48 = 12\n",
      "Factorial of 5 = 72\n",
      "Sum of digits of 72 = 9\n",
      "Factorial of 5 = 96\n",
      "Sum of digits of 96 = 15\n",
      "Factorial of 5 = 120\n",
      "Sum of digits of 120 = 3\n"
     ]
    }
   ],
   "source": [
    "sum_of_digits_of_facts = [\n",
    "    (i, fact, sum(int(digit) for digit in str(fact)))\n",
    "    for i in range(1, 6)\n",
    "    for fact in ([1] if i == 1 else [fact * j for j in range(1, i + 1)])\n",
    "]\n",
    "\n",
    "for i, fact, digit_sum in sum_of_digits_of_facts:\n",
    "    print(f\"Factorial of {i} = {fact}\")\n",
    "    print(f\"Sum of digits of {fact} = {digit_sum}\")"
   ]
  },
  {
   "cell_type": "markdown",
   "id": "282b45b4-8657-4282-b2e7-184754af123f",
   "metadata": {},
   "source": [
    "37. Write a program that finds the longest word in a sentence using list comprehension."
   ]
  },
  {
   "cell_type": "code",
   "execution_count": 14,
   "id": "f6353953-bf24-4e38-bb44-d3cfa5cc35f6",
   "metadata": {},
   "outputs": [
    {
     "name": "stdin",
     "output_type": "stream",
     "text": [
      "enter a string :  I am going to market\n"
     ]
    },
    {
     "name": "stdout",
     "output_type": "stream",
     "text": [
      " the longest word in 'I am going to market' is market\n"
     ]
    }
   ],
   "source": [
    "sent=input(\"enter a string : \")\n",
    "longest_word = max((word for word in sent.split()), key=len)\n",
    "print(f\" the longest word in '{sent}' is {longest_word}\")"
   ]
  },
  {
   "cell_type": "markdown",
   "id": "1041557b-0306-48fb-ad06-e557a31a557e",
   "metadata": {},
   "source": [
    "38. Create a program that filters a list of strings to include only those with more than three vowels using list comprehension."
   ]
  },
  {
   "cell_type": "code",
   "execution_count": 23,
   "id": "42d69aa8-f1c3-4116-92c7-5de738aaa948",
   "metadata": {},
   "outputs": [
    {
     "name": "stdin",
     "output_type": "stream",
     "text": [
      "enter the number of strings :  3\n",
      "enter string-1 :  good morning\n",
      "enter string-2 :  night\n",
      "enter string-3 :  nitm\n"
     ]
    },
    {
     "name": "stdout",
     "output_type": "stream",
     "text": [
      "['good morning']\n"
     ]
    }
   ],
   "source": [
    "size1=int(input(\"enter the number of strings : \"))\n",
    "list_of_strings=[]\n",
    "for i in range(size1):\n",
    "    string=input(f\"enter string-{i+1} : \")\n",
    "    list_of_strings.append(string)\n",
    "strings_with_vowels_more_than_3=[s for s in list_of_strings if sum(1 for char in s if char.lower() in 'aeiou') > 3]\n",
    "print(strings_with_vowels_more_than_3)"
   ]
  },
  {
   "cell_type": "markdown",
   "id": "6714ecce-befe-4959-b53c-d2cb53608c7c",
   "metadata": {},
   "source": [
    "39. Develop a program that calculates the sum of the digits of numbers from 1 to 1000 using list comprehension."
   ]
  },
  {
   "cell_type": "code",
   "execution_count": 24,
   "id": "3b8f4f4b-b25b-428c-8c4f-152197b6b613",
   "metadata": {},
   "outputs": [
    {
     "name": "stdout",
     "output_type": "stream",
     "text": [
      "13501\n"
     ]
    }
   ],
   "source": [
    "sum_of_digits=sum([sum(int(digit) for digit in str(num)) for num in range(1, 1001)])\n",
    "print(sum_of_digits)"
   ]
  },
  {
   "cell_type": "markdown",
   "id": "83413b31-f039-49ba-a76a-63826488562c",
   "metadata": {},
   "source": [
    "40. Write a program that generates a list of prime palindromic numbers using list comprehension."
   ]
  },
  {
   "cell_type": "code",
   "execution_count": 27,
   "id": "3cc2a61e-f731-4857-bebb-7263cb38ebea",
   "metadata": {},
   "outputs": [
    {
     "name": "stdin",
     "output_type": "stream",
     "text": [
      "enter range of numbers :  500\n"
     ]
    },
    {
     "name": "stdout",
     "output_type": "stream",
     "text": [
      "[2, 3, 5, 7, 11, 101, 131, 151, 181, 191, 313, 353, 373, 383]\n"
     ]
    }
   ],
   "source": [
    "rng=int(input(\"enter range of numbers : \"))\n",
    "prime_palindromic_numbers = [num for num in range(1, rng+1)\n",
    "                             if num > 1 and all(num % i != 0 for i in range(2, num//2 + 1))\n",
    "                             and str(num) == str(num)[::-1]]\n",
    "print(prime_palindromic_numbers)"
   ]
  }
 ],
 "metadata": {
  "kernelspec": {
   "display_name": "Python 3 (ipykernel)",
   "language": "python",
   "name": "python3"
  },
  "language_info": {
   "codemirror_mode": {
    "name": "ipython",
    "version": 3
   },
   "file_extension": ".py",
   "mimetype": "text/x-python",
   "name": "python",
   "nbconvert_exporter": "python",
   "pygments_lexer": "ipython3",
   "version": "3.10.8"
  }
 },
 "nbformat": 4,
 "nbformat_minor": 5
}
