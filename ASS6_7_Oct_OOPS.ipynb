{
  "nbformat": 4,
  "nbformat_minor": 0,
  "metadata": {
    "colab": {
      "provenance": [],
      "authorship_tag": "ABX9TyMFfIefbSQJ8dLwMencUPOL",
      "include_colab_link": true
    },
    "kernelspec": {
      "name": "python3",
      "display_name": "Python 3"
    },
    "language_info": {
      "name": "python"
    }
  },
  "cells": [
    {
      "cell_type": "markdown",
      "metadata": {
        "id": "view-in-github",
        "colab_type": "text"
      },
      "source": [
        "<a href=\"https://colab.research.google.com/github/iprasantmohanty/FSDSPRO/blob/main/ASS6_7_Oct_OOPS.ipynb\" target=\"_parent\"><img src=\"https://colab.research.google.com/assets/colab-badge.svg\" alt=\"Open In Colab\"/></a>"
      ]
    },
    {
      "cell_type": "markdown",
      "source": [
        "Problem 1: Bank Account Create a class representing a bank account with attributes like account number, account holder name, and balance. Implement methods to deposit and withdraw money from the account."
      ],
      "metadata": {
        "id": "WFXGAt5Dek2l"
      }
    },
    {
      "cell_type": "code",
      "source": [
        "class BankAccount:\n",
        "  def __init__(self,acc_no,acc_name,bal):\n",
        "    self.acc_no=acc_no\n",
        "    self.acc_name=acc_name\n",
        "    self.bal=bal\n",
        "  def deposit(self,amt):\n",
        "    self.bal+=amt\n",
        "    print(f\"Rs. {amt} diposited successfully\")\n",
        "  def withdraw(self,amt):\n",
        "    if amt>self.bal:\n",
        "      print(\"insufficient balance, can't withdraw\")\n",
        "    else:\n",
        "      self.bal-=amt\n",
        "      print(f\"Rs. {amt} withdrawn successfully\")\n",
        "  def check_bal(self):\n",
        "    print(f\"balance = {self.bal}\")"
      ],
      "metadata": {
        "id": "Xgf4E9wFel1f"
      },
      "execution_count": null,
      "outputs": []
    },
    {
      "cell_type": "code",
      "source": [
        "b1=BankAccount(12345,\"Prasant\",5000)\n",
        "while True:\n",
        "  print(\"Bank Operation\")\n",
        "  print(\" 1. Deposit \\n 2. Withdrawal \\n 3. Check Balance \\n 4. Exit\")\n",
        "  opt=int(input(\"enter your option : \"))\n",
        "  match opt:\n",
        "    case 1:\n",
        "      amt=int(input(\"enter amount to deposit : \"))\n",
        "      b1.deposit(amt)\n",
        "    case 2:\n",
        "      amt=int(input(\"enter amount to withdraw : \"))\n",
        "      b1.withdraw(amt)\n",
        "    case 3:\n",
        "      b1.check_bal()\n",
        "    case 4:\n",
        "      break\n",
        "    case default:\n",
        "      print(\"Invalid option\")\n"
      ],
      "metadata": {
        "colab": {
          "base_uri": "https://localhost:8080/"
        },
        "id": "NeANbLgchSo0",
        "outputId": "2698c0e4-ccb0-41f4-afd7-b13a193881a0"
      },
      "execution_count": null,
      "outputs": [
        {
          "name": "stdout",
          "output_type": "stream",
          "text": [
            "Bank Operation\n",
            " 1. Deposit \n",
            " 2. Withdrawal \n",
            " 3. Check Balance \n",
            " 4. Exit\n",
            "enter your option : 3\n",
            "balance = 5000\n",
            "Bank Operation\n",
            " 1. Deposit \n",
            " 2. Withdrawal \n",
            " 3. Check Balance \n",
            " 4. Exit\n",
            "enter your option : 2\n",
            "enter amount to withdraw : 6000\n",
            "insufficient balance, can't withdraw\n",
            "Bank Operation\n",
            " 1. Deposit \n",
            " 2. Withdrawal \n",
            " 3. Check Balance \n",
            " 4. Exit\n",
            "enter your option : 1\n",
            "enter amount to deposit : 5000\n",
            "Rs. 5000 diposited successfully\n",
            "Bank Operation\n",
            " 1. Deposit \n",
            " 2. Withdrawal \n",
            " 3. Check Balance \n",
            " 4. Exit\n",
            "enter your option : 3\n",
            "balance = 10000\n",
            "Bank Operation\n",
            " 1. Deposit \n",
            " 2. Withdrawal \n",
            " 3. Check Balance \n",
            " 4. Exit\n",
            "enter your option : 2\n",
            "enter amount to withdraw : 7000\n",
            "Rs. 7000 withdrawn successfully\n",
            "Bank Operation\n",
            " 1. Deposit \n",
            " 2. Withdrawal \n",
            " 3. Check Balance \n",
            " 4. Exit\n",
            "enter your option : 3\n",
            "balance = 3000\n",
            "Bank Operation\n",
            " 1. Deposit \n",
            " 2. Withdrawal \n",
            " 3. Check Balance \n",
            " 4. Exit\n",
            "enter your option : 4\n"
          ]
        }
      ]
    },
    {
      "cell_type": "markdown",
      "source": [
        "Problem 2: Employee Management Create a class representing an employee with attributes like employee ID, name, and salary. Implement methods to calculate the yearly bonus and display employee details.\n"
      ],
      "metadata": {
        "id": "x43o0Zx8vYkc"
      }
    },
    {
      "cell_type": "code",
      "source": [
        "class Employee:\n",
        "  def __init__(self,empid,name,sal):\n",
        "    self.empid=empid\n",
        "    self.name=name\n",
        "    self.sal=sal\n",
        "  def disp(self):\n",
        "    print(\"Employee name \"+self.name)\n",
        "    print(\"Employee Id \",self.empid)\n",
        "    print(\"Salary \",self.sal)\n",
        "  def yearly_bonus(self):\n",
        "    if self.empid<5000:\n",
        "      bonus_rate=9.5\n",
        "    else:\n",
        "      bonus_rate=8.5\n",
        "    return self.sal*bonus_rate/100"
      ],
      "metadata": {
        "id": "K59LXVgnvZWb"
      },
      "execution_count": null,
      "outputs": []
    },
    {
      "cell_type": "code",
      "source": [
        "e1=Employee(4567,'suresh',2500000)\n",
        "print(\"Employee detail\")\n",
        "e1.disp()\n",
        "print(f\"Bonus = {e1.yearly_bonus()}\")"
      ],
      "metadata": {
        "colab": {
          "base_uri": "https://localhost:8080/"
        },
        "id": "fzWz2DScytkZ",
        "outputId": "4c51ff7c-4778-47f0-970f-81115b4e90fc"
      },
      "execution_count": null,
      "outputs": [
        {
          "output_type": "stream",
          "name": "stdout",
          "text": [
            "Employee detail\n",
            "Employee name suresh\n",
            "Employee Id  4567\n",
            "Salary  2500000\n",
            "Bonus = 237500.0\n"
          ]
        }
      ]
    },
    {
      "cell_type": "code",
      "source": [
        "e2=Employee(7558,'pushpak',1500000)\n",
        "print(\"Employee detail\")\n",
        "e2.disp()\n",
        "print(f\"Bonus = {e2.yearly_bonus()}\")"
      ],
      "metadata": {
        "colab": {
          "base_uri": "https://localhost:8080/"
        },
        "id": "pAzVgdgCzpzD",
        "outputId": "a1e71ecb-6748-490a-b036-267d29fd20e6"
      },
      "execution_count": null,
      "outputs": [
        {
          "output_type": "stream",
          "name": "stdout",
          "text": [
            "Employee detail\n",
            "Employee name pushpak\n",
            "Employee Id  7558\n",
            "Salary  1500000\n",
            "Bonus = 127500.0\n"
          ]
        }
      ]
    },
    {
      "cell_type": "markdown",
      "source": [
        "Problem 3: Vehicle Rental Create a class representing a vehicle rental system. Implement methods to rent a vehicle, return a vehicle, and display available vehicles.\n"
      ],
      "metadata": {
        "id": "o-X_m4Of0b1p"
      }
    },
    {
      "cell_type": "code",
      "source": [
        "class VehicleRental:\n",
        "  def __init__(self):\n",
        "    self.vehicles={}\n",
        "  def add_veh(self,vid,vtype):\n",
        "    if vid not in self.vehicles:\n",
        "      self.vehicles[vid]=vtype\n",
        "      print(f\"Added {vtype} (ID: {vid}) to the rental system.\")\n",
        "    else:\n",
        "      print(f\"Vehicle with ID {vid} already exists in the system.\")\n",
        "  def rent_veh(self,vid):\n",
        "    if vid in self.vehicles:\n",
        "      vtype=self.vehicles.pop(vid)\n",
        "      print(f\"Rented {vtype} (ID: {vid}).\")\n",
        "    else:\n",
        "      print(f\"Vehicle with ID {vid} is not available for rent.\")\n",
        "  def return_veh(self,vid,vtype):\n",
        "    if vid not in self.vehicles:\n",
        "      self.vehicles[vid] = vtype\n",
        "      print(f\"Returned {vtype} (ID: {vid}).\")\n",
        "    else:\n",
        "      print(f\"Vehicle with ID {vid} is already available in the system.\")\n",
        "  def display_veh(self):\n",
        "\n",
        "    if self.vehicles:\n",
        "        print(\"Available Vehicles:\")\n",
        "        for vehicle_id, vehicle_name in self.vehicles.items():\n",
        "            print(f\"ID: {vehicle_id} - {vehicle_name}\")\n",
        "    else:\n",
        "        print(\"No vehicles available for rent at the moment.\")"
      ],
      "metadata": {
        "id": "aM8ouzXF0dYj"
      },
      "execution_count": null,
      "outputs": []
    },
    {
      "cell_type": "code",
      "source": [
        "v1=VehicleRental()"
      ],
      "metadata": {
        "id": "2PBZu8TM5mgP"
      },
      "execution_count": null,
      "outputs": []
    },
    {
      "cell_type": "code",
      "source": [
        "while True:\n",
        "  print(\"Vehicle Rental System\")\n",
        "  print(\" 1. Add Vehicle \\n 2. Rent Vehicle \\n 3. Return Vehicle \\n 4. Display Vehicles \\n 5. Exit\")\n",
        "  opt=int(input(\"enter your option : \"))\n",
        "  match opt:\n",
        "    case 1:\n",
        "      print(\"Add a vehicle\")\n",
        "      vid=int(input(\"enter vehicle id : \"))\n",
        "      vtype=input(\"enter vehicle type : \")\n",
        "      v1.add_veh(vid,vtype)\n",
        "    case 2:\n",
        "      print(\"Rent a vehicle\")\n",
        "      vid=int(input(\"enter vehicle id : \"))\n",
        "      v1.rent_veh(vid)\n",
        "    case 3:\n",
        "      print(\"Return a vehicle\")\n",
        "      vid=int(input(\"enter vehicle id : \"))\n",
        "      vtype=input(\"enter vehicle type : \")\n",
        "      v1.return_veh(vid,vtype)\n",
        "    case 4:\n",
        "      print(\"Vehicle Details\")\n",
        "      v1.display_veh()\n",
        "    case 5:\n",
        "      break\n",
        "    case default:\n",
        "      print(\"Invalid option\")\n"
      ],
      "metadata": {
        "colab": {
          "base_uri": "https://localhost:8080/"
        },
        "id": "gf_CpWci5ufq",
        "outputId": "de06bda7-59ea-4d45-c696-d13517908baa"
      },
      "execution_count": null,
      "outputs": [
        {
          "name": "stdout",
          "output_type": "stream",
          "text": [
            "Vehicle Rental System\n",
            " 1. Add Vehicle \n",
            " 2. Rent Vehicle \n",
            " 3. Return Vehicle \n",
            " 4. Display Vehicles \n",
            " 5. Exit\n",
            "enter your option : 4\n",
            "Vehicle Details\n",
            "No vehicles available for rent at the moment.\n",
            "Vehicle Rental System\n",
            " 1. Add Vehicle \n",
            " 2. Rent Vehicle \n",
            " 3. Return Vehicle \n",
            " 4. Display Vehicles \n",
            " 5. Exit\n",
            "enter your option : 2\n",
            "Rent a vehicle\n",
            "enter vehicle id : 76\n",
            "Vehicle with ID 76 is not available for rent.\n",
            "Vehicle Rental System\n",
            " 1. Add Vehicle \n",
            " 2. Rent Vehicle \n",
            " 3. Return Vehicle \n",
            " 4. Display Vehicles \n",
            " 5. Exit\n",
            "enter your option : 1\n",
            "Add a vehicle\n",
            "enter vehicle id : 123\n",
            "enter vehicle type : car\n",
            "Added car (ID: 123) to the rental system.\n",
            "Vehicle Rental System\n",
            " 1. Add Vehicle \n",
            " 2. Rent Vehicle \n",
            " 3. Return Vehicle \n",
            " 4. Display Vehicles \n",
            " 5. Exit\n",
            "enter your option : 1\n",
            "Add a vehicle\n",
            "enter vehicle id : 667\n",
            "enter vehicle type : bike\n",
            "Added bike (ID: 667) to the rental system.\n",
            "Vehicle Rental System\n",
            " 1. Add Vehicle \n",
            " 2. Rent Vehicle \n",
            " 3. Return Vehicle \n",
            " 4. Display Vehicles \n",
            " 5. Exit\n",
            "enter your option : 1\n",
            "Add a vehicle\n",
            "enter vehicle id : 443\n",
            "enter vehicle type : bike\n",
            "Added bike (ID: 443) to the rental system.\n",
            "Vehicle Rental System\n",
            " 1. Add Vehicle \n",
            " 2. Rent Vehicle \n",
            " 3. Return Vehicle \n",
            " 4. Display Vehicles \n",
            " 5. Exit\n",
            "enter your option : 4\n",
            "Vehicle Details\n",
            "Available Vehicles:\n",
            "ID: 123 - car\n",
            "ID: 667 - bike\n",
            "ID: 443 - bike\n",
            "Vehicle Rental System\n",
            " 1. Add Vehicle \n",
            " 2. Rent Vehicle \n",
            " 3. Return Vehicle \n",
            " 4. Display Vehicles \n",
            " 5. Exit\n",
            "enter your option : 2\n",
            "Rent a vehicle\n",
            "enter vehicle id : 443\n",
            "Rented bike (ID: 443).\n",
            "Vehicle Rental System\n",
            " 1. Add Vehicle \n",
            " 2. Rent Vehicle \n",
            " 3. Return Vehicle \n",
            " 4. Display Vehicles \n",
            " 5. Exit\n",
            "enter your option : 4\n",
            "Vehicle Details\n",
            "Available Vehicles:\n",
            "ID: 123 - car\n",
            "ID: 667 - bike\n",
            "Vehicle Rental System\n",
            " 1. Add Vehicle \n",
            " 2. Rent Vehicle \n",
            " 3. Return Vehicle \n",
            " 4. Display Vehicles \n",
            " 5. Exit\n",
            "enter your option : 3\n",
            "Return a vehicle\n",
            "enter vehicle id : 443\n",
            "enter vehicle type : bike\n",
            "Returned bike (ID: 443).\n",
            "Vehicle Rental System\n",
            " 1. Add Vehicle \n",
            " 2. Rent Vehicle \n",
            " 3. Return Vehicle \n",
            " 4. Display Vehicles \n",
            " 5. Exit\n",
            "enter your option : 4\n",
            "Vehicle Details\n",
            "Available Vehicles:\n",
            "ID: 123 - car\n",
            "ID: 667 - bike\n",
            "ID: 443 - bike\n",
            "Vehicle Rental System\n",
            " 1. Add Vehicle \n",
            " 2. Rent Vehicle \n",
            " 3. Return Vehicle \n",
            " 4. Display Vehicles \n",
            " 5. Exit\n",
            "enter your option : 5\n"
          ]
        }
      ]
    },
    {
      "cell_type": "markdown",
      "source": [
        "Problem 4: Library Catalog Create classes representing a library and a book. Implement methods to add books to the library, borrow books, and display available books."
      ],
      "metadata": {
        "id": "rdFQnOlu9i3o"
      }
    },
    {
      "cell_type": "code",
      "source": [
        "class Book:\n",
        "    def __init__(self, title, author, book_id):\n",
        "        self.title = title\n",
        "        self.author = author\n",
        "        self.book_id = book_id\n",
        "        self.is_available = True  # Initialize as available\n",
        "\n",
        "    def __str__(self):\n",
        "        availability = \"Available\" if self.is_available else \"Borrowed\"\n",
        "        return f\"Title: {self.title}, Author: {self.author}, ID: {self.book_id}, Status: {availability}\""
      ],
      "metadata": {
        "id": "K35L_2Z89j5m"
      },
      "execution_count": null,
      "outputs": []
    },
    {
      "cell_type": "code",
      "source": [
        "class Library:\n",
        "    def __init__(self):\n",
        "        self.books = {}  # A dictionary to store books with their IDs\n",
        "\n",
        "    def add_book(self, title, author, book_id):\n",
        "        if book_id not in self.books:\n",
        "            book = Book(title, author, book_id)\n",
        "            self.books[book_id] = book\n",
        "            print(f\"Added book: {book}\")\n",
        "        else:\n",
        "            print(f\"Book with ID {book_id} already exists in the library.\")\n",
        "\n",
        "    def borrow_book(self, book_id):\n",
        "        if book_id in self.books:\n",
        "            book = self.books[book_id]\n",
        "            if book.is_available:\n",
        "                book.is_available = False\n",
        "                print(f\"Borrowed book: {book}\")\n",
        "            else:\n",
        "                print(f\"Book with ID {book_id} is already borrowed.\")\n",
        "        else:\n",
        "            print(f\"Book with ID {book_id} is not available in the library.\")\n",
        "\n",
        "    def display_available_books(self):\n",
        "        available_books = [book for book in self.books.values() if book.is_available]\n",
        "        if available_books:\n",
        "            print(\"Available Books:\")\n",
        "            for book in available_books:\n",
        "                print(book)\n",
        "        else:\n",
        "            print(\"No books are available in the library at the moment.\")\n"
      ],
      "metadata": {
        "id": "1uo2sbt6AKCL"
      },
      "execution_count": null,
      "outputs": []
    },
    {
      "cell_type": "code",
      "source": [
        "l1=Library()"
      ],
      "metadata": {
        "id": "xvrGwjdPA9cW"
      },
      "execution_count": null,
      "outputs": []
    },
    {
      "cell_type": "code",
      "source": [
        "while True:\n",
        "  print(\"Library System\")\n",
        "  print(\" 1. Add Book \\n 2. Borrow Book \\n 3. Display Available Books \\n 4. Exit\")\n",
        "  opt=int(input(\"enter your option : \"))\n",
        "  match opt:\n",
        "    case 1:\n",
        "      print(\"Add a book\")\n",
        "      btitle=input(\"enter book title : \")\n",
        "      bauthor=input(\"enter author of the book : \")\n",
        "      bid=int(input(\"enter Book id : \"))\n",
        "      l1.add_book(btitle,bauthor,bid)\n",
        "    case 2:\n",
        "      print(\"Borrow a Book\")\n",
        "      bid=int(input(\"enter Book id : \"))\n",
        "      l1.borrow_book(bid)\n",
        "    case 3:\n",
        "      print(\"Available Book Details\")\n",
        "      l1.display_available_books()\n",
        "    case 4:\n",
        "      break\n",
        "    case default:\n",
        "      print(\"Invalid option\")\n"
      ],
      "metadata": {
        "colab": {
          "base_uri": "https://localhost:8080/"
        },
        "id": "EWV4z7sSBELI",
        "outputId": "932db3a1-efba-4417-fa3e-67b3162fe871"
      },
      "execution_count": null,
      "outputs": [
        {
          "name": "stdout",
          "output_type": "stream",
          "text": [
            "Library System\n",
            " 1. Add Book \n",
            " 2. Borrow Book \n",
            " 3. Display Available Books \n",
            " 5. Exit\n",
            "enter your option : 3\n",
            "Available Book Details\n",
            "No books are available in the library at the moment.\n",
            "Library System\n",
            " 1. Add Book \n",
            " 2. Borrow Book \n",
            " 3. Display Available Books \n",
            " 5. Exit\n",
            "enter your option : 2\n",
            "Borrow a Book\n",
            "enter Book id : 445\n",
            "Book with ID 445 is not available in the library.\n",
            "Library System\n",
            " 1. Add Book \n",
            " 2. Borrow Book \n",
            " 3. Display Available Books \n",
            " 5. Exit\n",
            "enter your option : 1\n",
            "Add a book\n",
            "enter book title : Algorithm\n",
            "enter author of the book : Coreman\n",
            "enter Book id : 143\n",
            "Added book: Title: Algorithm, Author: Coreman, ID: 143, Status: Available\n",
            "Library System\n",
            " 1. Add Book \n",
            " 2. Borrow Book \n",
            " 3. Display Available Books \n",
            " 5. Exit\n",
            "enter your option : 1\n",
            "Add a book\n",
            "enter book title : C++\n",
            "enter author of the book : Balguruswamy\n",
            "enter Book id : 562\n",
            "Added book: Title: C++, Author: Balguruswamy, ID: 562, Status: Available\n",
            "Library System\n",
            " 1. Add Book \n",
            " 2. Borrow Book \n",
            " 3. Display Available Books \n",
            " 5. Exit\n",
            "enter your option : 1\n",
            "Add a book\n",
            "enter book title : Compiler\n",
            "enter author of the book : Sipser\n",
            "enter Book id : 771\n",
            "Added book: Title: Compiler, Author: Sipser, ID: 771, Status: Available\n",
            "Library System\n",
            " 1. Add Book \n",
            " 2. Borrow Book \n",
            " 3. Display Available Books \n",
            " 5. Exit\n",
            "enter your option : 3\n",
            "Available Book Details\n",
            "Available Books:\n",
            "Title: Algorithm, Author: Coreman, ID: 143, Status: Available\n",
            "Title: C++, Author: Balguruswamy, ID: 562, Status: Available\n",
            "Title: Compiler, Author: Sipser, ID: 771, Status: Available\n",
            "Library System\n",
            " 1. Add Book \n",
            " 2. Borrow Book \n",
            " 3. Display Available Books \n",
            " 5. Exit\n",
            "enter your option : 2\n",
            "Borrow a Book\n",
            "enter Book id : 143\n",
            "Borrowed book: Title: Algorithm, Author: Coreman, ID: 143, Status: Borrowed\n",
            "Library System\n",
            " 1. Add Book \n",
            " 2. Borrow Book \n",
            " 3. Display Available Books \n",
            " 5. Exit\n",
            "enter your option : 3\n",
            "Available Book Details\n",
            "Available Books:\n",
            "Title: C++, Author: Balguruswamy, ID: 562, Status: Available\n",
            "Title: Compiler, Author: Sipser, ID: 771, Status: Available\n",
            "Library System\n",
            " 1. Add Book \n",
            " 2. Borrow Book \n",
            " 3. Display Available Books \n",
            " 5. Exit\n",
            "enter your option : 4\n"
          ]
        }
      ]
    },
    {
      "cell_type": "markdown",
      "source": [
        "Problem 5: Product Inventory Create classes representing a product and an inventory system. Implement methods to add products to the inventory, update product quantity, and display available products."
      ],
      "metadata": {
        "id": "Rv9RUF5cEok6"
      }
    },
    {
      "cell_type": "code",
      "source": [
        "class Product:\n",
        "    def __init__(self, product_id,product_name,prod_quantity):\n",
        "        self.product_id = product_id\n",
        "        self.product_name=product_name\n",
        "        self.prod_quantity=prod_quantity\n",
        "\n",
        "    def __str__(self):\n",
        "        return f\"ID: {self.product_id}, Name: {self.product_name}, Quantity: {self.prod_quantity}\""
      ],
      "metadata": {
        "id": "nYDDY-arEqhU"
      },
      "execution_count": null,
      "outputs": []
    },
    {
      "cell_type": "code",
      "source": [
        "class InventorySystem:\n",
        "    def __init__(self):\n",
        "        self.products = {}\n",
        "\n",
        "    def add_products(self, pid, pname, qt):\n",
        "        if pid not in self.products:\n",
        "            prod = Product(pid,pname,qt)\n",
        "            self.products[pid] = prod\n",
        "            print(f\"Added Product: {prod}\")\n",
        "        else:\n",
        "            print(f\"Product with ID {pid} already exists in the Inventory System.\")\n",
        "\n",
        "    def update_product_qt(self, pid,new_qt):\n",
        "        if pid in self.products:\n",
        "            prod = self.products[pid]\n",
        "            prod.prod_quantity=new_qt\n",
        "            print(f\"updated product details : {prod}\")\n",
        "        else:\n",
        "            print(f\"Product with ID {pid} is not available in the Inventory.\")\n",
        "\n",
        "    def display_available_products(self):\n",
        "        available_products = [product for product in self.products.values() if product.prod_quantity > 0]\n",
        "        if available_products:\n",
        "            print(\"Available Products:\")\n",
        "            for product in available_products:\n",
        "                print(product)\n",
        "        else:\n",
        "            print(\"No products are available in the inventory at the moment.\")"
      ],
      "metadata": {
        "id": "iT2WDbFjJIm6"
      },
      "execution_count": null,
      "outputs": []
    },
    {
      "cell_type": "code",
      "source": [
        "i1=InventorySystem()"
      ],
      "metadata": {
        "id": "1er1eDsnMEN6"
      },
      "execution_count": null,
      "outputs": []
    },
    {
      "cell_type": "code",
      "source": [
        "while True:\n",
        "  print(\"Inventory System\")\n",
        "  print(\" 1. Add product \\n 2. Update Product Quantity \\n 3. Display Available Products \\n 4. Exit\")\n",
        "  opt=int(input(\"enter your option : \"))\n",
        "  try:\n",
        "    match opt:\n",
        "      case 1:\n",
        "        print(\"Add a product\")\n",
        "        pid=int(input(\"enter product id : \"))\n",
        "        pname=input(\"enter product name : \")\n",
        "        pqt=int(input(\"enter product quantity : \"))\n",
        "        if pqt<0:\n",
        "          raise ValueError(\"product quantity can't be negative\")\n",
        "        i1.add_products(pid,pname,pqt)\n",
        "      case 2:\n",
        "        if i1.products:\n",
        "          pid=int(input(\"enter product id : \"))\n",
        "          new_qt=int(input(\"enter new product quantity : \"))\n",
        "          if new_qt<0:\n",
        "            raise ValueError(\"product quantity can't be negative\")\n",
        "\n",
        "          i1.update_product_qt(pid,new_qt)\n",
        "        else:\n",
        "          print(\"No products available\")\n",
        "      case 3:\n",
        "        print(\"Available Product Details\")\n",
        "        i1.display_available_products()\n",
        "      case 4:\n",
        "        break\n",
        "      case default:\n",
        "        print(\"Invalid option\")\n",
        "  except ValueError as v:\n",
        "    print(v)\n",
        "\n"
      ],
      "metadata": {
        "colab": {
          "base_uri": "https://localhost:8080/"
        },
        "id": "rEcL6kCXMgep",
        "outputId": "8d4c53f9-37ac-4e8e-b417-15f827c40d96"
      },
      "execution_count": null,
      "outputs": [
        {
          "name": "stdout",
          "output_type": "stream",
          "text": [
            "Inventory System\n",
            " 1. Add product \n",
            " 2. Update Product Quantity \n",
            " 3. Display Available Products \n",
            " 4. Exit\n",
            "enter your option : 2\n",
            "No products available\n",
            "Inventory System\n",
            " 1. Add product \n",
            " 2. Update Product Quantity \n",
            " 3. Display Available Products \n",
            " 4. Exit\n",
            "enter your option : 3\n",
            "Available Product Details\n",
            "No products are available in the inventory at the moment.\n",
            "Inventory System\n",
            " 1. Add product \n",
            " 2. Update Product Quantity \n",
            " 3. Display Available Products \n",
            " 4. Exit\n",
            "enter your option : 1\n",
            "Add a product\n",
            "enter product id : 124\n",
            "enter product name : pen\n",
            "enter product quantity : -23\n",
            "product quantity can't be negative\n",
            "Inventory System\n",
            " 1. Add product \n",
            " 2. Update Product Quantity \n",
            " 3. Display Available Products \n",
            " 4. Exit\n",
            "enter your option : 1\n",
            "Add a product\n",
            "enter product id : 124\n",
            "enter product name : pen\n",
            "enter product quantity : 45\n",
            "Added Product: ID: 124, Name: pen, Quantity: 45\n",
            "Inventory System\n",
            " 1. Add product \n",
            " 2. Update Product Quantity \n",
            " 3. Display Available Products \n",
            " 4. Exit\n",
            "enter your option : 1\n",
            "Add a product\n",
            "enter product id : pencil\n",
            "invalid literal for int() with base 10: 'pencil'\n",
            "Inventory System\n",
            " 1. Add product \n",
            " 2. Update Product Quantity \n",
            " 3. Display Available Products \n",
            " 4. Exit\n",
            "enter your option : 1\n",
            "Add a product\n",
            "enter product id : 223\n",
            "enter product name : pencil\n",
            "enter product quantity : 67\n",
            "Added Product: ID: 223, Name: pencil, Quantity: 67\n",
            "Inventory System\n",
            " 1. Add product \n",
            " 2. Update Product Quantity \n",
            " 3. Display Available Products \n",
            " 4. Exit\n",
            "enter your option : 1\n",
            "Add a product\n",
            "enter product id : 993\n",
            "enter product name : notebook\n",
            "enter product quantity : 43\n",
            "Added Product: ID: 993, Name: notebook, Quantity: 43\n",
            "Inventory System\n",
            " 1. Add product \n",
            " 2. Update Product Quantity \n",
            " 3. Display Available Products \n",
            " 4. Exit\n",
            "enter your option : 3\n",
            "Available Product Details\n",
            "Available Products:\n",
            "ID: 124, Name: pen, Quantity: 45\n",
            "ID: 223, Name: pencil, Quantity: 67\n",
            "ID: 993, Name: notebook, Quantity: 43\n",
            "Inventory System\n",
            " 1. Add product \n",
            " 2. Update Product Quantity \n",
            " 3. Display Available Products \n",
            " 4. Exit\n",
            "enter your option : 2\n",
            "enter product id : 223\n",
            "enter new product quantity : 45\n",
            "updated product details : ID: 223, Name: pencil, Quantity: 45\n",
            "Inventory System\n",
            " 1. Add product \n",
            " 2. Update Product Quantity \n",
            " 3. Display Available Products \n",
            " 4. Exit\n",
            "enter your option : 3\n",
            "Available Product Details\n",
            "Available Products:\n",
            "ID: 124, Name: pen, Quantity: 45\n",
            "ID: 223, Name: pencil, Quantity: 45\n",
            "ID: 993, Name: notebook, Quantity: 43\n",
            "Inventory System\n",
            " 1. Add product \n",
            " 2. Update Product Quantity \n",
            " 3. Display Available Products \n",
            " 4. Exit\n",
            "enter your option : 4\n"
          ]
        }
      ]
    },
    {
      "cell_type": "markdown",
      "source": [
        "Problem 6: Shape Calculation Create a class representing a shape with attributes like length, width, and height. Implement methods to calculate the area and perimeter of the shape."
      ],
      "metadata": {
        "id": "v2i72pCkypFs"
      }
    },
    {
      "cell_type": "code",
      "source": [
        "class Shape:\n",
        "  def __init__(self,l,w,h=0):\n",
        "    self.length=l\n",
        "    self.width=w\n",
        "    self.height=h\n",
        "\n",
        "class Rectangle(Shape):\n",
        "    def calculate_area(self):\n",
        "        return self.length * self.width\n",
        "\n",
        "    def calculate_perimeter(self):\n",
        "        return 2 * (self.length + self.width)\n",
        "\n",
        "class Triangle(Shape):\n",
        "    def calculate_area(self):\n",
        "        return 0.5 * self.base * self.height\n",
        "\n",
        "    def calculate_perimeter(self):\n",
        "        # Assuming it's an equilateral triangle for simplicity\n",
        "        return 3 * self.length"
      ],
      "metadata": {
        "id": "vizzp-onyqZO"
      },
      "execution_count": null,
      "outputs": []
    },
    {
      "cell_type": "code",
      "source": [
        "class Shape:\n",
        "    def __init__(self, length=0, width=0, height=0):\n",
        "        self.length = length\n",
        "        self.width = width\n",
        "        self.height = height\n",
        "\n",
        "    def calculate_area(self):\n",
        "        pass\n",
        "\n",
        "    def calculate_perimeter(self):\n",
        "        pass\n",
        "\n",
        "\n",
        "class Rectangle(Shape):\n",
        "    def calculate_area(self):\n",
        "        return self.length * self.width\n",
        "\n",
        "    def calculate_perimeter(self):\n",
        "        return 2 * (self.length + self.width)\n",
        "\n",
        "\n",
        "class Triangle(Shape):\n",
        "    def __init__(self, base=0, height=0):\n",
        "      super().__init__(length=base, height=height)\n",
        "      self.base = base\n",
        "      self.height = height\n",
        "    def calculate_area(self):\n",
        "        return 0.5 * self.base * self.height\n",
        "\n",
        "    def calculate_perimeter(self):\n",
        "        return self.length + self.width + self.height\n",
        "\n",
        "\n",
        "class Cube(Shape):\n",
        "    def calculate_area(self):\n",
        "        return 6 * (self.length**2)\n",
        "\n",
        "    def calculate_perimeter(self):\n",
        "        return 12 * self.length\n",
        "\n",
        "\n",
        "rectangle = Rectangle(length=4, width=6)\n",
        "triangle = Triangle(base=3, height=5)\n",
        "cube = Cube(length=3)\n",
        "\n",
        "print(f\"Rectangle Area: {rectangle.calculate_area()}\")\n",
        "print(f\"Rectangle Perimeter: {rectangle.calculate_perimeter()}\")\n",
        "\n",
        "print(f\"Triangle Area: {triangle.calculate_area()}\")\n",
        "print(f\"Triangle Perimeter: {triangle.calculate_perimeter()}\")\n",
        "\n",
        "print(f\"Cube Area: {cube.calculate_area()}\")\n",
        "print(f\"Cube Perimeter: {cube.calculate_perimeter()}\")\n"
      ],
      "metadata": {
        "colab": {
          "base_uri": "https://localhost:8080/"
        },
        "id": "Xmk4uQ4x0eb3",
        "outputId": "5a474e60-2de8-4b16-cb8c-23ac63349c27"
      },
      "execution_count": null,
      "outputs": [
        {
          "output_type": "stream",
          "name": "stdout",
          "text": [
            "Rectangle Area: 24\n",
            "Rectangle Perimeter: 20\n",
            "Triangle Area: 7.5\n",
            "Triangle Perimeter: 8\n",
            "Cube Area: 54\n",
            "Cube Perimeter: 36\n"
          ]
        }
      ]
    },
    {
      "cell_type": "markdown",
      "source": [
        "Problem 7: Student Management Create a class representing a student with attributes like student ID, name, and grades. Implement methods to calculate the average grade and display student details.\n"
      ],
      "metadata": {
        "id": "m7WA1KCE1Qn0"
      }
    },
    {
      "cell_type": "code",
      "source": [
        "class Student:\n",
        "    def __init__(self, student_id, name):\n",
        "        self.student_id = student_id\n",
        "        self.name = name\n",
        "        self.grades = []\n",
        "\n",
        "    def add_grade(self, grade):\n",
        "        self.grades.append(grade)\n",
        "\n",
        "    def calculate_average_grade(self):\n",
        "        if not self.grades:\n",
        "            return 0.0\n",
        "        else:\n",
        "            return sum(self.grades) / len(self.grades)\n",
        "\n",
        "    def display_student_details(self):\n",
        "        average_grade = self.calculate_average_grade()\n",
        "        print(f\"Student ID: {self.student_id}\")\n",
        "        print(f\"Name: {self.name}\")\n",
        "        print(f\"Average Grade: {average_grade:.2f}\")\n",
        "\n",
        "\n",
        "student1 = Student(student_id=161, name=\"Amit\")\n",
        "student1.add_grade(85)\n",
        "student1.add_grade(92)\n",
        "student1.add_grade(78)\n",
        "\n",
        "student2 = Student(student_id=134, name=\"Bunil\")\n",
        "student2.add_grade(90)\n",
        "student2.add_grade(88)\n",
        "student2.add_grade(94)\n",
        "\n",
        "student1.display_student_details()\n",
        "print(\"------------------------\")\n",
        "student2.display_student_details()\n"
      ],
      "metadata": {
        "colab": {
          "base_uri": "https://localhost:8080/"
        },
        "id": "7cV1WjTj1Roo",
        "outputId": "79117ee6-dd2a-4eaf-f679-66d5b61addf7"
      },
      "execution_count": null,
      "outputs": [
        {
          "output_type": "stream",
          "name": "stdout",
          "text": [
            "Student ID: 161\n",
            "Name: Amit\n",
            "Average Grade: 85.00\n",
            "------------------------\n",
            "Student ID: 134\n",
            "Name: Bunil\n",
            "Average Grade: 90.67\n"
          ]
        }
      ]
    },
    {
      "cell_type": "markdown",
      "source": [
        "Problem 8: Email Management Create a class representing an email with attributes like sender, recipient, and subject. Implement methods to send an email and display email details."
      ],
      "metadata": {
        "id": "je8-38072fTW"
      }
    },
    {
      "cell_type": "code",
      "source": [
        "# @title Default title text\n",
        "class Email:\n",
        "    def __init__(self, sender, recipient, subject):\n",
        "        self.sender = sender\n",
        "        self.recipient = recipient\n",
        "        self.subject = subject\n",
        "        self.is_sent = False\n",
        "\n",
        "    def send_email(self):\n",
        "        if not self.is_sent:\n",
        "            print(f\"Email sent from {self.sender} to {self.recipient} with subject: {self.subject}\")\n",
        "            self.is_sent = True\n",
        "        else:\n",
        "            print(\"This email has already been sent.\")\n",
        "\n",
        "    def display_email_details(self):\n",
        "        print(f\"Sender: {self.sender}\")\n",
        "        print(f\"Recipient: {self.recipient}\")\n",
        "        print(f\"Subject: {self.subject}\")\n",
        "        print(f\"Status: {'Sent' if self.is_sent else 'Unsent'}\")\n",
        "\n",
        "\n",
        "\n",
        "email1 = Email(sender=\"prasabr@gmail.com\", recipient=\"hari@in.com\", subject=\"About Meeting\")\n",
        "email2 = Email(sender=\"sumit@live.com\", recipient=\"head@outlook.com\", subject=\"Project Work\")\n",
        "\n",
        "email1.display_email_details()\n",
        "print(\"---------------------\")\n",
        "email2.display_email_details()\n",
        "\n",
        "print(\"---------------------\")\n",
        "\n",
        "email1.send_email()\n",
        "email2.send_email()\n",
        "\n",
        "print(\"---------------------\")\n",
        "\n",
        "email1.display_email_details()\n",
        "print(\"---------------------\")\n",
        "email2.display_email_details()\n"
      ],
      "metadata": {
        "colab": {
          "base_uri": "https://localhost:8080/"
        },
        "id": "k62YDz7c2gQ4",
        "outputId": "5ee2c5c9-cd58-45a6-92af-91708b97dd8a"
      },
      "execution_count": null,
      "outputs": [
        {
          "output_type": "stream",
          "name": "stdout",
          "text": [
            "Sender: prasabr@gmail.com\n",
            "Recipient: hari@in.com\n",
            "Subject: About Meeting\n",
            "Status: Unsent\n",
            "---------------------\n",
            "Sender: sumit@live.com\n",
            "Recipient: head@outlook.com\n",
            "Subject: Project Work\n",
            "Status: Unsent\n",
            "---------------------\n",
            "Email sent from prasabr@gmail.com to hari@in.com with subject: About Meeting\n",
            "Email sent from sumit@live.com to head@outlook.com with subject: Project Work\n",
            "---------------------\n",
            "Sender: prasabr@gmail.com\n",
            "Recipient: hari@in.com\n",
            "Subject: About Meeting\n",
            "Status: Sent\n",
            "---------------------\n",
            "Sender: sumit@live.com\n",
            "Recipient: head@outlook.com\n",
            "Subject: Project Work\n",
            "Status: Sent\n"
          ]
        }
      ]
    },
    {
      "cell_type": "markdown",
      "source": [
        "Problem 9: Social Media Profile Create a class representing a social media profile with attributes like username and posts. Implement methods to add posts, display posts, and search for posts by keyword.\n"
      ],
      "metadata": {
        "id": "y4aKqJ2C7pXv"
      }
    },
    {
      "cell_type": "code",
      "source": [
        "class SocialMedia:\n",
        "  def __init__(self,uname):\n",
        "    self.uname=uname\n",
        "    self.posts=[]\n",
        "  def add_post(self,msg):\n",
        "    self.posts.append(msg)\n",
        "  def disp_post(self):\n",
        "    print(f\"Posts by {self.uname}:\")\n",
        "    for index, post in enumerate(self.posts, start=1):\n",
        "      print(f\"Post {index}: {post}\")\n",
        "  def search_post(self,keyword):\n",
        "    matching_posts = [post for post in self.posts if keyword.lower() in post.lower()]\n",
        "    if matching_posts:\n",
        "        print(f\"Posts by {self.uname} containing '{keyword}':\")\n",
        "        for index, post in enumerate(matching_posts, start=1):\n",
        "            print(f\"Matching Post {index}: {post}\")\n",
        "    else:\n",
        "        print(f\"No matching posts found for '{keyword}'.\")"
      ],
      "metadata": {
        "id": "BPBVLTCo7qRY"
      },
      "execution_count": null,
      "outputs": []
    },
    {
      "cell_type": "code",
      "source": [
        "s1=SocialMedia(\"Prasant Mohanty\")"
      ],
      "metadata": {
        "id": "T-jauZli9b6m"
      },
      "execution_count": null,
      "outputs": []
    },
    {
      "cell_type": "code",
      "source": [
        "s1.add_post(\"Wishing happy birthday dear\")\n",
        "s1.add_post(\"Happy new year\")\n",
        "s1.add_post(\"Wishing India for the best match\")"
      ],
      "metadata": {
        "id": "e-UgxsrN-PtD"
      },
      "execution_count": null,
      "outputs": []
    },
    {
      "cell_type": "code",
      "source": [
        "s1.disp_post()"
      ],
      "metadata": {
        "colab": {
          "base_uri": "https://localhost:8080/"
        },
        "id": "yNwAPxE9-9pP",
        "outputId": "3a46658b-861d-4720-915c-b073b68644bd"
      },
      "execution_count": null,
      "outputs": [
        {
          "output_type": "stream",
          "name": "stdout",
          "text": [
            "Posts by Prasant Mohanty:\n",
            "Post 1: Wishing happy birthday dear\n",
            "Post 2: Happy new year\n",
            "Post 3: Wishing India for the best match\n"
          ]
        }
      ]
    },
    {
      "cell_type": "code",
      "source": [
        "s1.search_post(\"happy\")"
      ],
      "metadata": {
        "colab": {
          "base_uri": "https://localhost:8080/"
        },
        "id": "UUH_LEOA_gVc",
        "outputId": "bef0cbec-c302-443d-c175-d4c30ae55ac9"
      },
      "execution_count": null,
      "outputs": [
        {
          "output_type": "stream",
          "name": "stdout",
          "text": [
            "Posts by Prasant Mohanty containing 'happy':\n",
            "Matching Post 1: Wishing happy birthday dear\n",
            "Matching Post 2: Happy new year\n"
          ]
        }
      ]
    },
    {
      "cell_type": "code",
      "source": [
        "s1.search_post(\"wish\")"
      ],
      "metadata": {
        "colab": {
          "base_uri": "https://localhost:8080/"
        },
        "id": "Flult--f_q13",
        "outputId": "307f0002-7fdc-4f8f-a1c1-2de4b5441dee"
      },
      "execution_count": null,
      "outputs": [
        {
          "output_type": "stream",
          "name": "stdout",
          "text": [
            "Posts by Prasant Mohanty containing 'wish':\n",
            "Matching Post 1: Wishing happy birthday dear\n",
            "Matching Post 2: Wishing India for the best match\n"
          ]
        }
      ]
    },
    {
      "cell_type": "markdown",
      "source": [
        "\n",
        "Problem 10: ToDo List Create a class representing a ToDo list with attributes like tasks and due dates. Implement methods to add tasks, mark tasks as completed, and display pending tasks.\n",
        "\n"
      ],
      "metadata": {
        "id": "jh1A6_Z8egba"
      }
    },
    {
      "cell_type": "code",
      "source": [
        "class ToDo:\n",
        "  def __init__(self):\n",
        "    self.tasks={}\n",
        "  def add_tasks(self,task,due_date):\n",
        "    if task not in self.tasks:\n",
        "      self.tasks[task] = due_date\n",
        "      print(f\"Added task: {task} (Due Date: {due_date})\")\n",
        "    else:\n",
        "      print(f\"Task '{task}' already exists in the ToDo list.\")\n",
        "  def mark_tasks(self,task):\n",
        "    if task in self.tasks:\n",
        "      del self.tasks[task]\n",
        "      print(f\"The task: {task} completed.\")\n",
        "    else:\n",
        "      print(f\"Task '{task}' not exists in the ToDo list.\")\n",
        "  def pending_tasks(self):\n",
        "     if self.tasks:\n",
        "        print(\"Pending Tasks:\")\n",
        "        for task, due_date in self.tasks.items():\n",
        "          print(f\"Task: {task} (Due Date: {due_date})\")\n",
        "     else:\n",
        "        print(\"No pending tasks in the ToDo list.\")"
      ],
      "metadata": {
        "id": "BElgz4daefnQ"
      },
      "execution_count": null,
      "outputs": []
    },
    {
      "cell_type": "code",
      "source": [
        "t1=ToDo()"
      ],
      "metadata": {
        "id": "JWg_sGpxEpvf"
      },
      "execution_count": null,
      "outputs": []
    },
    {
      "cell_type": "code",
      "source": [
        "t1.add_tasks(\"complete paper\",\"15/10\")"
      ],
      "metadata": {
        "colab": {
          "base_uri": "https://localhost:8080/"
        },
        "id": "srolg8KdEuIp",
        "outputId": "a159b853-b218-4ceb-cd80-01e1a42f2269"
      },
      "execution_count": null,
      "outputs": [
        {
          "output_type": "stream",
          "name": "stdout",
          "text": [
            "Added task: complete paper (Due Date: 15/10)\n"
          ]
        }
      ]
    },
    {
      "cell_type": "code",
      "source": [
        "t1.add_tasks(\"online grocery\",\"20/10\")"
      ],
      "metadata": {
        "colab": {
          "base_uri": "https://localhost:8080/"
        },
        "id": "1PoIaXLIE67r",
        "outputId": "c2e59a38-22ba-48ee-a25d-1991d7f54803"
      },
      "execution_count": null,
      "outputs": [
        {
          "output_type": "stream",
          "name": "stdout",
          "text": [
            "Added task: online grocery (Due Date: 20/10)\n"
          ]
        }
      ]
    },
    {
      "cell_type": "code",
      "source": [
        "t1.pending_tasks()"
      ],
      "metadata": {
        "colab": {
          "base_uri": "https://localhost:8080/"
        },
        "id": "WZKEUAD4FC8o",
        "outputId": "96b90616-0582-4c2a-8d56-7e4b488cb342"
      },
      "execution_count": null,
      "outputs": [
        {
          "output_type": "stream",
          "name": "stdout",
          "text": [
            "Pending Tasks:\n",
            "Task: complete paper (Due Date: 15/10)\n",
            "Task: online grocery (Due Date: 20/10)\n"
          ]
        }
      ]
    }
  ]
}