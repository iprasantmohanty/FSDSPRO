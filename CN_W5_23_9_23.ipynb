{
  "nbformat": 4,
  "nbformat_minor": 0,
  "metadata": {
    "colab": {
      "provenance": [],
      "authorship_tag": "ABX9TyNgEAEfaU+4ZwCHtw8TJbAJ",
      "include_colab_link": true
    },
    "kernelspec": {
      "name": "python3",
      "display_name": "Python 3"
    },
    "language_info": {
      "name": "python"
    }
  },
  "cells": [
    {
      "cell_type": "markdown",
      "metadata": {
        "id": "view-in-github",
        "colab_type": "text"
      },
      "source": [
        "<a href=\"https://colab.research.google.com/github/iprasantmohanty/FSDSPRO/blob/main/CN_W5_23_9_23.ipynb\" target=\"_parent\"><img src=\"https://colab.research.google.com/assets/colab-badge.svg\" alt=\"Open In Colab\"/></a>"
      ]
    },
    {
      "cell_type": "markdown",
      "source": [
        "## while loop"
      ],
      "metadata": {
        "id": "g2Y6dUH6Ndqw"
      }
    },
    {
      "cell_type": "markdown",
      "source": [
        "1. print 10 to 1"
      ],
      "metadata": {
        "id": "y92KdX3mQjTz"
      }
    },
    {
      "cell_type": "code",
      "execution_count": null,
      "metadata": {
        "colab": {
          "base_uri": "https://localhost:8080/"
        },
        "id": "eQc7I7zsG4b6",
        "outputId": "f83a9104-f4cd-4a1a-b4f2-4bab22a31f3d"
      },
      "outputs": [
        {
          "output_type": "stream",
          "name": "stdout",
          "text": [
            "10\n",
            "9\n",
            "8\n",
            "7\n",
            "6\n",
            "5\n",
            "4\n",
            "3\n",
            "2\n",
            "1\n"
          ]
        }
      ],
      "source": [
        "a=10\n",
        "while a>=1:\n",
        "  print(a)\n",
        "  a-=1"
      ]
    },
    {
      "cell_type": "markdown",
      "source": [
        "2. sum of numbers in a *range*"
      ],
      "metadata": {
        "id": "P05b3eJBNmVv"
      }
    },
    {
      "cell_type": "code",
      "source": [
        "s=0\n",
        "lb=int(input(\"enter lower bound : \"))\n",
        "ub=int(input(\"enter upper bound : \"))\n",
        "while lb<=ub:\n",
        "  s=s+lb\n",
        "  lb+=1\n",
        "print(f\"sum  ={s}\")"
      ],
      "metadata": {
        "colab": {
          "base_uri": "https://localhost:8080/"
        },
        "id": "-S-SOXWpNhU2",
        "outputId": "a3220e98-02cb-4c19-a44f-eb3399b93d7f"
      },
      "execution_count": null,
      "outputs": [
        {
          "output_type": "stream",
          "name": "stdout",
          "text": [
            "enter lower bound : 1\n",
            "enter upper bound : 5\n",
            "sum  =15\n"
          ]
        }
      ]
    },
    {
      "cell_type": "markdown",
      "source": [
        "3. multiplication in a range"
      ],
      "metadata": {
        "id": "v9Gf0VHjPJOO"
      }
    },
    {
      "cell_type": "code",
      "source": [
        "s=1\n",
        "lb=int(input(\"enter lower bound : \"))\n",
        "ub=int(input(\"enter upper bound : \"))\n",
        "while lb<=ub:\n",
        "  s=s*lb\n",
        "  lb+=1\n",
        "print(f\"multiplication = {s}\")"
      ],
      "metadata": {
        "colab": {
          "base_uri": "https://localhost:8080/"
        },
        "id": "8BI_5L5DOwG6",
        "outputId": "d1b52e6a-84c0-4707-ffb7-676cddbd5170"
      },
      "execution_count": null,
      "outputs": [
        {
          "output_type": "stream",
          "name": "stdout",
          "text": [
            "enter lower bound : 1\n",
            "enter upper bound : 5\n",
            "multiplication = 120\n"
          ]
        }
      ]
    },
    {
      "cell_type": "markdown",
      "source": [
        "4. multiplication table"
      ],
      "metadata": {
        "id": "np7Vmj6WPnC1"
      }
    },
    {
      "cell_type": "code",
      "source": [
        "n=int(input(\"enter a number : \"))\n",
        "print(f\"multiplication table of {n} is \")\n",
        "i=1\n",
        "while i<=10:\n",
        "    print(f\"{n} * {i} = {n*i}\")\n",
        "    i+=1"
      ],
      "metadata": {
        "colab": {
          "base_uri": "https://localhost:8080/"
        },
        "id": "fZSzWYkGPpey",
        "outputId": "6d481ba9-4f8a-480a-bd1b-adba92cc610f"
      },
      "execution_count": null,
      "outputs": [
        {
          "output_type": "stream",
          "name": "stdout",
          "text": [
            "enter a number : 19\n",
            "multiplication table of 19 is \n",
            "19 * 1 = 19\n",
            "19 * 2 = 38\n",
            "19 * 3 = 57\n",
            "19 * 4 = 76\n",
            "19 * 5 = 95\n",
            "19 * 6 = 114\n",
            "19 * 7 = 133\n",
            "19 * 8 = 152\n",
            "19 * 9 = 171\n",
            "19 * 10 = 190\n"
          ]
        }
      ]
    },
    {
      "cell_type": "markdown",
      "source": [
        "5. print 15 to 1 by sleeping 1 sec after each print"
      ],
      "metadata": {
        "id": "K-ZsiPWXSinn"
      }
    },
    {
      "cell_type": "code",
      "source": [
        "import time\n",
        "s=15 #time is always in seconds\n",
        "while s>0:\n",
        "  print(s)\n",
        "  time.sleep(1) #pause/ delay for 1 second\n",
        "  s=s-1\n",
        "print(\"break time over\")"
      ],
      "metadata": {
        "colab": {
          "base_uri": "https://localhost:8080/"
        },
        "id": "trY_jYgeR5S8",
        "outputId": "b87ce0ad-328c-48d2-c380-784c41a0fb27"
      },
      "execution_count": null,
      "outputs": [
        {
          "output_type": "stream",
          "name": "stdout",
          "text": [
            "15\n",
            "14\n",
            "13\n",
            "12\n",
            "11\n",
            "10\n",
            "9\n",
            "8\n",
            "7\n",
            "6\n",
            "5\n",
            "4\n",
            "3\n",
            "2\n",
            "1\n",
            "break time over\n"
          ]
        }
      ]
    },
    {
      "cell_type": "markdown",
      "source": [
        "6.vending machine"
      ],
      "metadata": {
        "id": "08NbE7IXUlz3"
      }
    },
    {
      "cell_type": "code",
      "source": [
        "money=20\n",
        "while money>=4:\n",
        "  print(f\"money = {money}\")\n",
        "  print(\"1.Biscuit\\n2.chips\\n3.redbull\\n4.coke\")\n",
        "  choice=int(input(\"enter your choice : \"))\n",
        "  print(\"1.Biscuit\\n2.chips\\n3.redbull\\n4.coke\")\n",
        "  if choice==1:\n",
        "    print(\"take your biscuit\")\n",
        "    money-=4\n",
        "  elif choice==2:\n",
        "    print(\"take your chips\")\n",
        "    money-=5\n",
        "  elif choice==3:\n",
        "    print(\"take your redbull\")\n",
        "    money-=10\n",
        "  elif choice==4:\n",
        "    print(\"take your coke\")\n",
        "    money-=8\n",
        "  else:\n",
        "    print(\"you entered wrong choice\")\n",
        "print(\"you don't have enough money\")"
      ],
      "metadata": {
        "colab": {
          "base_uri": "https://localhost:8080/"
        },
        "id": "EALGIGRMTj6z",
        "outputId": "f24e0f1b-1ff0-4327-faae-43913b57b8c2"
      },
      "execution_count": null,
      "outputs": [
        {
          "output_type": "stream",
          "name": "stdout",
          "text": [
            "money = 20\n",
            "1.Biscuit\n",
            "2.chips\n",
            "3.redbull\n",
            "4.coke\n",
            "enter your choice : 4\n",
            "1.Biscuit\n",
            "2.chips\n",
            "3.redbull\n",
            "4.coke\n",
            "take your coke\n",
            "money = 12\n",
            "1.Biscuit\n",
            "2.chips\n",
            "3.redbull\n",
            "4.coke\n",
            "enter your choice : 1\n",
            "1.Biscuit\n",
            "2.chips\n",
            "3.redbull\n",
            "4.coke\n",
            "take your biscuit\n",
            "money = 8\n",
            "1.Biscuit\n",
            "2.chips\n",
            "3.redbull\n",
            "4.coke\n",
            "enter your choice : 2\n",
            "1.Biscuit\n",
            "2.chips\n",
            "3.redbull\n",
            "4.coke\n",
            "take your chips\n",
            "you don't have enough money\n"
          ]
        }
      ]
    },
    {
      "cell_type": "markdown",
      "source": [
        "7. break timer"
      ],
      "metadata": {
        "id": "rikv9QE0faMU"
      }
    },
    {
      "cell_type": "code",
      "source": [
        "import time\n",
        "stop=False\n",
        "while not stop:\n",
        "  print(\"enter 'S' to stop the timer \")\n",
        "  time.sleep(1)\n",
        "  press_stop=input(\"enter 'S' for stop\")\n",
        "\n",
        "  if press_stop.lower()=='s':\n",
        "    stop=True\n",
        "print(\"break over\")"
      ],
      "metadata": {
        "colab": {
          "base_uri": "https://localhost:8080/"
        },
        "id": "yjl4SH87XZtZ",
        "outputId": "509e2eda-910a-46ec-c674-6b45b9ccc01d"
      },
      "execution_count": null,
      "outputs": [
        {
          "output_type": "stream",
          "name": "stdout",
          "text": [
            "enter 'S' to stop the timer \n",
            "enter 'S' for stops\n",
            "break over\n"
          ]
        }
      ]
    },
    {
      "cell_type": "markdown",
      "source": [
        "8. user id password checking"
      ],
      "metadata": {
        "id": "o4JPCU79fSPr"
      }
    },
    {
      "cell_type": "code",
      "source": [
        "user_id=\"prasant\"\n",
        "password=\"prasant@123\"\n",
        "counter=1\n",
        "user_id_check=False\n",
        "user=input(\"enter your user id :\")\n",
        "while counter <=3:\n",
        "\n",
        "  if user==user_id:\n",
        "    user_id_check=True\n",
        "  else:\n",
        "    print(\"incorrect user id, try again\")\n",
        "    break\n",
        "  if user_id_check==True:\n",
        "    pswd=input(\"enter your password : \")\n",
        "    if pswd==password:\n",
        "      print(\"logged in sucessfully\")\n",
        "      break\n",
        "    counter+=1\n",
        "if counter>3:\n",
        "  print(\"maximum time reached, account locked\")\n"
      ],
      "metadata": {
        "colab": {
          "base_uri": "https://localhost:8080/"
        },
        "id": "wymxl4IYbSDJ",
        "outputId": "a3fb5aa1-87fa-4875-d8aa-fe1745ec2217"
      },
      "execution_count": null,
      "outputs": [
        {
          "output_type": "stream",
          "name": "stdout",
          "text": [
            "enter your user id :jgjgj\n",
            "incorrect user id, try again\n"
          ]
        }
      ]
    },
    {
      "cell_type": "markdown",
      "source": [
        "9. create a to-do list"
      ],
      "metadata": {
        "id": "NSkUg0Osgdwa"
      }
    },
    {
      "cell_type": "code",
      "source": [
        "todo_list=[]\n",
        "end_of_todo='n'\n",
        "while end_of_todo!='y':\n",
        "  item=input(\"enter what to do : \")\n",
        "  todo_list.append(item)\n",
        "  end_of_todo=input(\"whant to end (y/n) :\")\n",
        "\n",
        "print(f\"To-Do list is {todo_list}\")"
      ],
      "metadata": {
        "colab": {
          "base_uri": "https://localhost:8080/"
        },
        "id": "60oJnXaFggZ4",
        "outputId": "4cccaabf-0255-4c1b-b7f4-9dd922cf9484"
      },
      "execution_count": null,
      "outputs": [
        {
          "output_type": "stream",
          "name": "stdout",
          "text": [
            "enter what to do : class\n",
            "whant to end (y/n) :n\n",
            "enter what to do : eat\n",
            "whant to end (y/n) :n\n",
            "enter what to do : cricket\n",
            "whant to end (y/n) :y\n",
            "To-Do list is ['class', 'eat', 'cricket']\n"
          ]
        }
      ]
    },
    {
      "cell_type": "markdown",
      "source": [
        "## recursive function"
      ],
      "metadata": {
        "id": "vI37xeF9nb5_"
      }
    },
    {
      "cell_type": "markdown",
      "source": [
        "10. factorial of a number"
      ],
      "metadata": {
        "id": "BAC7nDGgnfSD"
      }
    },
    {
      "cell_type": "code",
      "source": [
        "def fact(n):\n",
        "  if n==0:\n",
        "    return 1\n",
        "  else:\n",
        "    return n*fact(n-1)\n",
        "n=int(input(\"enter a number : \"))\n",
        "print(f\"factorial of {n} is {fact(n)}\")"
      ],
      "metadata": {
        "colab": {
          "base_uri": "https://localhost:8080/"
        },
        "id": "NJWLI9OPnjHU",
        "outputId": "054685ef-68a8-4ad0-9d5f-2c3dabf09108"
      },
      "execution_count": null,
      "outputs": [
        {
          "output_type": "stream",
          "name": "stdout",
          "text": [
            "enter a number : 5\n",
            "factorial of 5 is 120\n"
          ]
        }
      ]
    },
    {
      "cell_type": "markdown",
      "source": [
        "11. fibbonaci series number of nth number"
      ],
      "metadata": {
        "id": "3G8AKn3xrW1W"
      }
    },
    {
      "cell_type": "code",
      "source": [
        "def fibb(n):\n",
        "  if n<=1:\n",
        "    return n\n",
        "  else:\n",
        "    return fibb(n-1)+fibb(n-2)\n",
        "n=int(input(\"enter a number : \"))\n",
        "print(f\"{n}th fibonacci is {fibb(n)}\")"
      ],
      "metadata": {
        "colab": {
          "base_uri": "https://localhost:8080/"
        },
        "id": "ueIiXtGjrZ3G",
        "outputId": "f3035451-661e-4489-effc-9087c49bda3b"
      },
      "execution_count": null,
      "outputs": [
        {
          "output_type": "stream",
          "name": "stdout",
          "text": [
            "enter a number : 6\n",
            "6th fibonacci is 8\n"
          ]
        }
      ]
    },
    {
      "cell_type": "markdown",
      "source": [
        "12. recursive function for sum of digits"
      ],
      "metadata": {
        "id": "CnLs01EdzXVQ"
      }
    },
    {
      "cell_type": "code",
      "source": [
        "n=int(input(\"enter a number : \"))\n",
        "def sum_of_digits(n):\n",
        "  if n<=9:\n",
        "    return n\n",
        "  else:\n",
        "    return n%10+sum_of_digits(n//10)\n",
        "\n",
        "print(f\"sum of digits = {sum_of_digits(n)}\")"
      ],
      "metadata": {
        "colab": {
          "base_uri": "https://localhost:8080/"
        },
        "id": "HG9guseXveGd",
        "outputId": "aff00093-afa3-4169-9bf6-79d1ab1d2dc5"
      },
      "execution_count": null,
      "outputs": [
        {
          "output_type": "stream",
          "name": "stdout",
          "text": [
            "enter a number : 14\n",
            "sum of digits = 5\n"
          ]
        }
      ]
    },
    {
      "cell_type": "markdown",
      "source": [
        "13. recursive function for finding maximum of a list"
      ],
      "metadata": {
        "id": "Eb8ou02yze6a"
      }
    },
    {
      "cell_type": "code",
      "source": [
        "def max_list(l):\n",
        "  if len(l)==1:\n",
        "    return l[0]\n",
        "  else:\n",
        "    return max(l[0],max_list(l[1:]))"
      ],
      "metadata": {
        "id": "jrYwZ3mHzkxv"
      },
      "execution_count": null,
      "outputs": []
    },
    {
      "cell_type": "code",
      "source": [
        "def max_list1(l):\n",
        "  if len(l)==1:\n",
        "    return l[0]\n",
        "  else:\n",
        "    return l[0] if l[0]>max_list1(l[1:]) else max_list1(l[1:])"
      ],
      "metadata": {
        "id": "DWfyTQVe5kHa"
      },
      "execution_count": null,
      "outputs": []
    },
    {
      "cell_type": "code",
      "source": [
        "import random\n",
        "l1=[random.randint(1,50) for _ in range(10)]\n",
        "print(l1)\n",
        "print(f\"maximum = {max_list1(l1)}\")"
      ],
      "metadata": {
        "colab": {
          "base_uri": "https://localhost:8080/"
        },
        "id": "3Yi_pDE11KVC",
        "outputId": "bdd053d2-78f1-4913-925d-7ae44564f40f"
      },
      "execution_count": null,
      "outputs": [
        {
          "output_type": "stream",
          "name": "stdout",
          "text": [
            "[22, 47, 3, 25, 19, 18, 28, 24, 49, 39]\n",
            "maximum = 49\n"
          ]
        }
      ]
    },
    {
      "cell_type": "markdown",
      "source": [
        "14. calculate x^n using recursive function"
      ],
      "metadata": {
        "id": "bw6TqHjM2ufU"
      }
    },
    {
      "cell_type": "code",
      "source": [
        "x=int(input(\"to calculate the power of a number (x^n), enter value of x : \"))\n",
        "n=int(input(\"to calculate the power of a number (x^n), enter value of n : \"))\n",
        "\n",
        "def power(x,n):\n",
        "  if n==0:\n",
        "    return 1\n",
        "  else:\n",
        "    return x*power(x,n-1)\n",
        "\n",
        "print(f\"({x}^{n})={power(x,n)}\")"
      ],
      "metadata": {
        "colab": {
          "base_uri": "https://localhost:8080/"
        },
        "id": "bi63BdsV2r_N",
        "outputId": "0551e1ca-a904-4c53-cda6-f1bf084815dd"
      },
      "execution_count": null,
      "outputs": [
        {
          "output_type": "stream",
          "name": "stdout",
          "text": [
            "to calculate the power of a number (x^n), enter value of x : 5\n",
            "to calculate the power of a number (x^n), enter value of n : 3\n",
            "(5^3)=125\n"
          ]
        }
      ]
    }
  ]
}