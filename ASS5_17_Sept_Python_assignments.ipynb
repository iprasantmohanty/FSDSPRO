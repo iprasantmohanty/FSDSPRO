{
  "cells": [
    {
      "cell_type": "markdown",
      "metadata": {
        "id": "view-in-github",
        "colab_type": "text"
      },
      "source": [
        "<a href=\"https://colab.research.google.com/github/iprasantmohanty/FSDSPRO/blob/main/ASS5_17_Sept_Python_assignments.ipynb\" target=\"_parent\"><img src=\"https://colab.research.google.com/assets/colab-badge.svg\" alt=\"Open In Colab\"/></a>"
      ]
    },
    {
      "cell_type": "markdown",
      "metadata": {
        "id": "QSZ7Pd5s1ciN"
      },
      "source": [
        "## For Loop :-"
      ]
    },
    {
      "cell_type": "markdown",
      "metadata": {
        "id": "hyYCL7aT1ySw"
      },
      "source": [
        "1.\tWrite a Python program to print numbers from 1 to 10 using a for loop."
      ]
    },
    {
      "cell_type": "code",
      "execution_count": null,
      "metadata": {
        "colab": {
          "base_uri": "https://localhost:8080/"
        },
        "id": "ZEYnOkFC1TS0",
        "outputId": "3d26b8cf-a463-4b0e-c744-3f1ea0e19189"
      },
      "outputs": [
        {
          "name": "stdout",
          "output_type": "stream",
          "text": [
            "1\n",
            "2\n",
            "3\n",
            "4\n",
            "5\n",
            "6\n",
            "7\n",
            "8\n",
            "9\n",
            "10\n"
          ]
        }
      ],
      "source": [
        "for i in range(1,11):\n",
        "  print(i)"
      ]
    },
    {
      "cell_type": "markdown",
      "metadata": {
        "id": "5S0Bq4Bl2zJb"
      },
      "source": [
        "2.\tExplain the difference between a for loop and a while loop in Python."
      ]
    },
    {
      "cell_type": "markdown",
      "source": [
        "In Python, both for loops and while loops are used for iteration, but they differ in their structure and use cases.\n",
        "\n",
        "**for loops** are used when you know the number of iterations in advance or when you want to iterate over a collection or sequence.\n",
        "\n",
        "**while loops** are used when you need to repeat a block of code until a specific condition is met, and the number of iterations may not be known in advance."
      ],
      "metadata": {
        "id": "iUm0-KEy1gbm"
      }
    },
    {
      "cell_type": "markdown",
      "metadata": {
        "id": "704IxZou6qJ7"
      },
      "source": [
        "3.\tWrite a Python program to calculate the sum of all numbers from 1 to 100 using a for loop."
      ]
    },
    {
      "cell_type": "code",
      "execution_count": null,
      "metadata": {
        "colab": {
          "base_uri": "https://localhost:8080/"
        },
        "id": "fSUHhbOK6rC0",
        "outputId": "88ecad92-35cf-470e-a313-6bb11f37b58b"
      },
      "outputs": [
        {
          "name": "stdout",
          "output_type": "stream",
          "text": [
            "sum of all numbers from 1 to 100 is 5050\n"
          ]
        }
      ],
      "source": [
        "s=sum([i for i in range(1,101)])\n",
        "print(f\"sum of all numbers from 1 to 100 is {s}\")"
      ]
    },
    {
      "cell_type": "markdown",
      "metadata": {
        "id": "sdlhpopX7LCr"
      },
      "source": [
        "4.\tHow do you iterate through a list using a for loop in Python?"
      ]
    },
    {
      "cell_type": "code",
      "source": [
        "l1=[1,2,3,4,5]\n",
        "for i in l1:\n",
        "  print(i)"
      ],
      "metadata": {
        "colab": {
          "base_uri": "https://localhost:8080/"
        },
        "id": "rzMZOpKX1IBL",
        "outputId": "763d52be-30ae-40eb-8839-6d3598b123d2"
      },
      "execution_count": 19,
      "outputs": [
        {
          "output_type": "stream",
          "name": "stdout",
          "text": [
            "1\n",
            "2\n",
            "3\n",
            "4\n",
            "5\n"
          ]
        }
      ]
    },
    {
      "cell_type": "markdown",
      "metadata": {
        "id": "nN6IA7dZ7Kq3"
      },
      "source": [
        "\n",
        "5.\tWrite a Python program to find the product of all elements in a list using a for loop."
      ]
    },
    {
      "cell_type": "code",
      "execution_count": null,
      "metadata": {
        "colab": {
          "base_uri": "https://localhost:8080/"
        },
        "id": "pnmibsEQ7O_-",
        "outputId": "e7087081-edaf-46bd-9cd7-1c03bfac9a9e"
      },
      "outputs": [
        {
          "name": "stdout",
          "output_type": "stream",
          "text": [
            "product of all numbers from 1 to 10 is 3628800\n"
          ]
        }
      ],
      "source": [
        "prod=1\n",
        "for i in range(1,11):\n",
        "  prod*=i\n",
        "print(f\"product of all numbers from 1 to 10 is {prod}\")"
      ]
    },
    {
      "cell_type": "markdown",
      "metadata": {
        "id": "3HYLJGgE84M6"
      },
      "source": [
        "6.\tCreate a Python program that prints all even numbers from 1 to 20 using a for loop."
      ]
    },
    {
      "cell_type": "code",
      "execution_count": null,
      "metadata": {
        "colab": {
          "base_uri": "https://localhost:8080/"
        },
        "id": "UpVmftj0853z",
        "outputId": "5bf908a5-70f9-445e-a9ed-91b6b33fbea5"
      },
      "outputs": [
        {
          "name": "stdout",
          "output_type": "stream",
          "text": [
            "2\n",
            "4\n",
            "6\n",
            "8\n",
            "10\n",
            "12\n",
            "14\n",
            "16\n",
            "18\n",
            "20\n"
          ]
        }
      ],
      "source": [
        "for i in range(1,21):\n",
        "  if i%2==0:\n",
        "    print(i)"
      ]
    },
    {
      "cell_type": "markdown",
      "metadata": {
        "id": "rXJ-z9ew6ndm"
      },
      "source": [
        "7.\tWrite a Python program that calculates the factorial of a number using a for loop.\n"
      ]
    },
    {
      "cell_type": "code",
      "execution_count": null,
      "metadata": {
        "colab": {
          "base_uri": "https://localhost:8080/"
        },
        "id": "C5ly1V_27Gbu",
        "outputId": "ed924f23-d025-453e-d72c-c2affb2cf1f7"
      },
      "outputs": [
        {
          "name": "stdout",
          "output_type": "stream",
          "text": [
            "enter a number : 6\n",
            "factorial of 6 is 720\n"
          ]
        }
      ],
      "source": [
        "n=int(input(\"enter a number : \"))\n",
        "fact=1\n",
        "for i in range(1,n+1):\n",
        "  fact*=i\n",
        "print(f\"factorial of {n} is {fact}\")\n"
      ]
    },
    {
      "cell_type": "markdown",
      "metadata": {
        "id": "3igEFevr9nTP"
      },
      "source": [
        "8.\tHow can you iterate through the characters of a string using a for loop in Python?"
      ]
    },
    {
      "cell_type": "code",
      "source": [
        "string=\"Python\"\n",
        "for char in string:\n",
        "  print(char)\n"
      ],
      "metadata": {
        "colab": {
          "base_uri": "https://localhost:8080/"
        },
        "id": "nLsoKXRw02wo",
        "outputId": "08de7772-41f0-40b2-cd15-4fb32ad27ae5"
      },
      "execution_count": 18,
      "outputs": [
        {
          "output_type": "stream",
          "name": "stdout",
          "text": [
            "P\n",
            "y\n",
            "t\n",
            "h\n",
            "o\n",
            "n\n"
          ]
        }
      ]
    },
    {
      "cell_type": "markdown",
      "metadata": {
        "id": "UA8110BF9sBO"
      },
      "source": [
        "9. Write a Python program to find the largest number in a list using a for loop."
      ]
    },
    {
      "cell_type": "code",
      "execution_count": null,
      "metadata": {
        "colab": {
          "base_uri": "https://localhost:8080/"
        },
        "id": "H_rhIrxP9zBi",
        "outputId": "7b09ac4e-8917-40ae-ded4-725da35f16c7"
      },
      "outputs": [
        {
          "name": "stdout",
          "output_type": "stream",
          "text": [
            "the list is [60, 43, 68, 90, 78, 17, 22, 6, 37, 69]\n",
            "largest number is 90\n"
          ]
        }
      ],
      "source": [
        "import random\n",
        "l5=[random.randint(1,100) for _ in range(10)]\n",
        "print(f\"the list is {l5}\")\n",
        "l5=sorted(l5)\n",
        "print(f\"largest number is {l5[-1]}\")"
      ]
    },
    {
      "cell_type": "markdown",
      "metadata": {
        "id": "ZVOMI0ts-Y0-"
      },
      "source": [
        "10.\tCreate a Python program that prints the Fibonacci sequence up to a specified limit using a for loop.\n"
      ]
    },
    {
      "cell_type": "code",
      "execution_count": null,
      "metadata": {
        "colab": {
          "base_uri": "https://localhost:8080/"
        },
        "id": "pbyL84QL-Z6i",
        "outputId": "6b90df71-a976-4f17-a79b-9b93b38ec68e"
      },
      "outputs": [
        {
          "name": "stdout",
          "output_type": "stream",
          "text": [
            "enter a limit : 8\n",
            "first 8 Fibonacci numbers are : \n",
            "[0, 1, 1, 2, 3, 5, 8, 13]\n"
          ]
        }
      ],
      "source": [
        "n=int(input(\"enter a limit : \"))\n",
        "if n<=0:\n",
        "    print(\"no fibonacci number\")\n",
        "else:\n",
        "    fib=[0,1]\n",
        "    for i in range(2,n):\n",
        "        fib.append(fib[i-1]+fib[i-2])\n",
        "print(f\"first {n} Fibonacci numbers are : \")\n",
        "print(fib[:n])"
      ]
    },
    {
      "cell_type": "markdown",
      "metadata": {
        "id": "CAHz7o-X-uSQ"
      },
      "source": [
        "11.\tWrite a Python program to count the number of vowels in a given string using a for loop."
      ]
    },
    {
      "cell_type": "code",
      "execution_count": null,
      "metadata": {
        "colab": {
          "base_uri": "https://localhost:8080/"
        },
        "id": "z8D4yLTy-whJ",
        "outputId": "0e88c99d-aa02-4089-b58f-440713548815"
      },
      "outputs": [
        {
          "name": "stdout",
          "output_type": "stream",
          "text": [
            "enter a string : Good Morning\n",
            "number of vowels in Good Morning is 4\n"
          ]
        }
      ],
      "source": [
        "s=input(\"enter a string : \")\n",
        "count=0\n",
        "for ch in s:\n",
        "    if ch in 'aeiouAEIOU':\n",
        "        count+=1\n",
        "print(f\"number of vowels in {s} is {count}\")"
      ]
    },
    {
      "cell_type": "markdown",
      "metadata": {
        "id": "Okup-zA7_HCx"
      },
      "source": [
        "12.\tCreate a Python program that generates a multiplication table for a given number using a for loop."
      ]
    },
    {
      "cell_type": "code",
      "execution_count": null,
      "metadata": {
        "colab": {
          "base_uri": "https://localhost:8080/"
        },
        "id": "KJK61v_w_IDG",
        "outputId": "d1c46707-9048-4eab-abf2-7eed3f216c40"
      },
      "outputs": [
        {
          "name": "stdout",
          "output_type": "stream",
          "text": [
            "enter a number : 6\n",
            "multiplication table of 6 is \n",
            "6 * 1 = 6\n",
            "6 * 2 = 12\n",
            "6 * 3 = 18\n",
            "6 * 4 = 24\n",
            "6 * 5 = 30\n",
            "6 * 6 = 36\n",
            "6 * 7 = 42\n",
            "6 * 8 = 48\n",
            "6 * 9 = 54\n",
            "6 * 10 = 60\n"
          ]
        }
      ],
      "source": [
        "n=int(input(\"enter a number : \"))\n",
        "print(f\"multiplication table of {n} is \")\n",
        "for i in range(1,11):\n",
        "    print(f\"{n} * {i} = {n*i}\")"
      ]
    },
    {
      "cell_type": "markdown",
      "metadata": {
        "id": "Xy75oT4U_tEM"
      },
      "source": [
        "13.\tWrite a Python program to reverse a list using a for loop."
      ]
    },
    {
      "cell_type": "code",
      "execution_count": null,
      "metadata": {
        "colab": {
          "base_uri": "https://localhost:8080/"
        },
        "id": "BpV-geR6_uEM",
        "outputId": "9e6fff1f-ed5d-4c23-8cd5-364afbdedb79"
      },
      "outputs": [
        {
          "name": "stdout",
          "output_type": "stream",
          "text": [
            "the list is [13, 93, 19, 56, 62]\n",
            "reverses list is [62, 56, 19, 93, 13]\n"
          ]
        }
      ],
      "source": [
        "import random\n",
        "l1=[random.randint(1,100) for _ in range(5)]\n",
        "print(f\"the list is {l1}\")\n",
        "rev_l1=[]\n",
        "for i in range(len(l1)-1,-1,-1):\n",
        "  rev_l1.append(l1[i])\n",
        "print(f\"reverses list is {rev_l1}\")"
      ]
    },
    {
      "cell_type": "markdown",
      "metadata": {
        "id": "Jk8QJlKn9krn"
      },
      "source": [
        "\n",
        "\n",
        "\n",
        "14.\tWrite a Python program to find the common elements between two lists using a for loop.\n"
      ]
    },
    {
      "cell_type": "code",
      "execution_count": null,
      "metadata": {
        "colab": {
          "base_uri": "https://localhost:8080/"
        },
        "id": "nzizK0pB21xU",
        "outputId": "412d71e3-b3f1-40e4-b406-176408d483f3"
      },
      "outputs": [
        {
          "name": "stdout",
          "output_type": "stream",
          "text": [
            "the first list is [34, 89, 28, 80, 3, 86, 100, 43, 41, 60]\n",
            "the second list is [65, 86, 70, 49, 100, 48, 69, 93, 67, 27]\n",
            "common elements : [86, 100]\n"
          ]
        }
      ],
      "source": [
        "import random\n",
        "l1=[random.randint(1,100) for _ in range(10)]\n",
        "print(f\"the first list is {l1}\")\n",
        "l2=[random.randint(1,100) for _ in range(10)]\n",
        "print(f\"the second list is {l2}\")\n",
        "common_elements = [element for element in l1 if element in l2]\n",
        "print(f\"common elements : {common_elements}\")"
      ]
    },
    {
      "cell_type": "markdown",
      "metadata": {
        "id": "TjP4fBjZB11L"
      },
      "source": [
        "15.\tExplain how to use a for loop to iterate through the keys and values of a dictionary in Python."
      ]
    },
    {
      "cell_type": "markdown",
      "source": [
        "In Python, you can use a for loop to iterate through both the keys and values of a dictionary using the .items() method.\n",
        "\n",
        "This method returns a view object that provides a sequence of tuples, where each tuple contains a key-value pair.\n",
        "\n",
        "Here's the basic syntax to iterate through the keys and values of a dictionary:\n",
        "\n",
        "**for key, value in my_dict.items():**"
      ],
      "metadata": {
        "id": "il9Hohwy0rAJ"
      }
    },
    {
      "cell_type": "markdown",
      "metadata": {
        "id": "A6_5SkV7B6bn"
      },
      "source": [
        "16.\tWrite a Python program to find the GCD (Greatest Common Divisor) of two numbers using a for loop."
      ]
    },
    {
      "cell_type": "code",
      "execution_count": null,
      "metadata": {
        "colab": {
          "base_uri": "https://localhost:8080/"
        },
        "id": "wxXNfHjsB3Gk",
        "outputId": "956fc26b-05da-4bd9-946f-b28baa26328b"
      },
      "outputs": [
        {
          "name": "stdout",
          "output_type": "stream",
          "text": [
            "Enter the first number: 45\n",
            "Enter the second number: 18\n",
            "The GCD of the two numbers is 9.\n"
          ]
        }
      ],
      "source": [
        "num1 = int(input(\"Enter the first number: \"))\n",
        "num2 = int(input(\"Enter the second number: \"))\n",
        "\n",
        "if num1 < num2:\n",
        "    num1, num2 = num2, num1\n",
        "\n",
        "for _ in range(num2,-1,-1):\n",
        "  if num2==0:\n",
        "    break\n",
        "  else:\n",
        "    num1, num2 = num2, num1 % num2\n",
        "\n",
        "print(f\"The GCD of the two numbers is {num1}.\")"
      ]
    },
    {
      "cell_type": "markdown",
      "metadata": {
        "id": "hw_fQt4VEYzO"
      },
      "source": [
        "17.\tCreate a Python program that checks if a string is a palindrome using a for loop."
      ]
    },
    {
      "cell_type": "code",
      "execution_count": null,
      "metadata": {
        "colab": {
          "base_uri": "https://localhost:8080/"
        },
        "id": "WmAOAiWKEjXS",
        "outputId": "1eff8f8a-8c2e-4ae3-df70-78eff989dd82"
      },
      "outputs": [
        {
          "name": "stdout",
          "output_type": "stream",
          "text": [
            "enter a sting : madam\n",
            "madam is a palindrome\n"
          ]
        }
      ],
      "source": [
        "s=input(\"enter a sting : \")\n",
        "\n",
        "rev_s=\"\"\n",
        "for i in range(len(s)-1,-1,-1):\n",
        "  rev_s+=s[i]\n",
        "\n",
        "if s==rev_s:\n",
        "  print(f\"{s} is a palindrome\")\n",
        "else:\n",
        "  print(f\"{s} is not a palindrome\")"
      ]
    },
    {
      "cell_type": "markdown",
      "metadata": {
        "id": "ezafi9CtFWZn"
      },
      "source": [
        "18.\tWrite a Python program to remove duplicates from a list using a for loop.\n"
      ]
    },
    {
      "cell_type": "code",
      "execution_count": null,
      "metadata": {
        "colab": {
          "base_uri": "https://localhost:8080/"
        },
        "id": "rg9wScCTEi_e",
        "outputId": "6d54025b-7d80-4dab-f536-f5da210a473b"
      },
      "outputs": [
        {
          "name": "stdout",
          "output_type": "stream",
          "text": [
            "the list is [15, 1, 7, 12, 1, 15, 6, 14, 20, 10]\n",
            "unique list is [15, 1, 7, 12, 6, 14, 20, 10]\n"
          ]
        }
      ],
      "source": [
        "import random\n",
        "l1=[random.randint(1,20) for _ in range(10)]\n",
        "print(f\"the list is {l1}\")\n",
        "unique_list=[]\n",
        "for item in l1:\n",
        "  if item not in unique_list:\n",
        "    unique_list.append(item)\n",
        "print(f\"unique list is {unique_list}\")"
      ]
    },
    {
      "cell_type": "markdown",
      "metadata": {
        "id": "gNCEW09iGX59"
      },
      "source": [
        "19.\tCreate a Python program that counts the number of words in a sentence using a for loop."
      ]
    },
    {
      "cell_type": "code",
      "execution_count": null,
      "metadata": {
        "colab": {
          "base_uri": "https://localhost:8080/"
        },
        "id": "kCfXKFHTGY-L",
        "outputId": "819b6fcb-6699-456f-912b-27201fef31d3"
      },
      "outputs": [
        {
          "name": "stdout",
          "output_type": "stream",
          "text": [
            "enter a sentance : I am going to market\n",
            "number of words =  5\n"
          ]
        }
      ],
      "source": [
        "sent=input(\"enter a sentance : \")\n",
        "words=sent.split()\n",
        "count=0\n",
        "for i in words:\n",
        "  count+=1\n",
        "print(\"number of words = \",count)"
      ]
    },
    {
      "cell_type": "markdown",
      "metadata": {
        "id": "WlGO6D_Ew1aR"
      },
      "source": [
        "20.\tWrite a Python program to find the sum of all odd numbers from 1 to 50 using a for loop."
      ]
    },
    {
      "cell_type": "code",
      "execution_count": null,
      "metadata": {
        "colab": {
          "base_uri": "https://localhost:8080/"
        },
        "id": "UdQ9RA61w2NB",
        "outputId": "a8949a0c-41df-4729-8c6a-9b0626c2d240"
      },
      "outputs": [
        {
          "name": "stdout",
          "output_type": "stream",
          "text": [
            "sum of all odd numbers from 1 to 50 is 625\n"
          ]
        }
      ],
      "source": [
        "s=sum([i for i in range(1,51) if i%2!=0])\n",
        "print(f\"sum of all odd numbers from 1 to 50 is {s}\")\n"
      ]
    },
    {
      "cell_type": "markdown",
      "metadata": {
        "id": "FmFeg6tU7vlI"
      },
      "source": [
        "21.\tWrite a Python program that checks if a given year is a leap year using a for loop.\n"
      ]
    },
    {
      "cell_type": "code",
      "execution_count": null,
      "metadata": {
        "colab": {
          "base_uri": "https://localhost:8080/"
        },
        "id": "6K1DrRAJ7wVw",
        "outputId": "4ef35e14-9760-45f3-b4ae-c54e84ded799"
      },
      "outputs": [
        {
          "name": "stdout",
          "output_type": "stream",
          "text": [
            "Enter a year: 2020\n",
            "2020 is a leap year.\n"
          ]
        }
      ],
      "source": [
        "year = int(input(\"Enter a year: \"))\n",
        "\n",
        "leap = False\n",
        "\n",
        "for _ in range(4):\n",
        "    if (year % 4 == 0 and year % 100 != 0) or (year % 400 == 0):\n",
        "        leap = True\n",
        "        break\n",
        "\n",
        "\n",
        "if leap:\n",
        "    print(f\"{year} is a leap year.\")\n",
        "else:\n",
        "    print(f\"{year} is not a leap year.\")"
      ]
    },
    {
      "cell_type": "markdown",
      "metadata": {
        "id": "51FsQcBYv32u"
      },
      "source": [
        "22.\tCreate a Python program that calculates the square root of a number using a for loop."
      ]
    },
    {
      "cell_type": "code",
      "execution_count": null,
      "metadata": {
        "colab": {
          "base_uri": "https://localhost:8080/"
        },
        "id": "4J4Gc_HPv4sW",
        "outputId": "bcd5b0bf-70e1-4dbf-874c-5f847befbab4"
      },
      "outputs": [
        {
          "name": "stdout",
          "output_type": "stream",
          "text": [
            "Enter a number: 30\n",
            "The square root of 30.0 is approximately 5.4772\n"
          ]
        }
      ],
      "source": [
        "number = float(input(\"Enter a number: \"))\n",
        "\n",
        "if number < 0:\n",
        "    print(\"Cannot calculate the square root of a negative number\")\n",
        "else:\n",
        "    precision = 0.0001\n",
        "    max_iterations = 100\n",
        "    guess = number / 2.0\n",
        "\n",
        "    for _ in range(max_iterations):\n",
        "        guess = (guess + number / guess) / 2.0  # Improve the guess using Newton's method\n",
        "        if abs(guess * guess - number) < precision:\n",
        "            break  # If precision is met, exit the loop\n",
        "\n",
        "    print(f\"The square root of {number} is approximately {guess:.4f}\")"
      ]
    },
    {
      "cell_type": "markdown",
      "metadata": {
        "id": "EMhqHnK2BrQp"
      },
      "source": [
        "\n",
        "23.\tWrite a Python program to find the LCM (Least Common Multiple) of two numbers using a for loop.\n"
      ]
    },
    {
      "cell_type": "code",
      "execution_count": null,
      "metadata": {
        "colab": {
          "base_uri": "https://localhost:8080/"
        },
        "id": "VrNqXY8vxXOX",
        "outputId": "72e56764-3c9e-4e40-e36f-bb6236ecb287"
      },
      "outputs": [
        {
          "name": "stdout",
          "output_type": "stream",
          "text": [
            "Enter the first number: 20\n",
            "Enter the second number: 9\n",
            "The LCM of 20 and 9 is 180.\n"
          ]
        }
      ],
      "source": [
        "num1 = int(input(\"Enter the first number: \"))\n",
        "num2 = int(input(\"Enter the second number: \"))\n",
        "n1=num1\n",
        "n2=num2\n",
        "\n",
        "if num1 < num2:\n",
        "    num1, num2 = num2, num1\n",
        "\n",
        "for _ in range(num2,-1,-1):\n",
        "  if num2==0:\n",
        "    break\n",
        "  else:\n",
        "    num1, num2 = num2, num1 % num2\n",
        "\n",
        "print(f\"The LCM of {n1} and {n2} is {(n1*n2)//num1}.\")"
      ]
    },
    {
      "cell_type": "markdown",
      "metadata": {
        "id": "SdFkZb0qybLw"
      },
      "source": [
        "## If else :"
      ]
    },
    {
      "cell_type": "markdown",
      "metadata": {
        "id": "K1fgu2l9zmfm"
      },
      "source": [
        "1.\tWrite a Python program to check if a number is positive, negative, or zero using an if-else statement."
      ]
    },
    {
      "cell_type": "code",
      "execution_count": null,
      "metadata": {
        "colab": {
          "base_uri": "https://localhost:8080/"
        },
        "id": "UoE3WcdDznPW",
        "outputId": "2bb847b2-378c-4cb3-b849-13917ef1f880"
      },
      "outputs": [
        {
          "name": "stdout",
          "output_type": "stream",
          "text": [
            "enter a number : -25\n",
            "-25 is negative\n"
          ]
        }
      ],
      "source": [
        "n=int(input(\"enter a number : \"))\n",
        "if n>=0:\n",
        "  if n==0:\n",
        "    print(f\"{n} is zero\")\n",
        "  else:\n",
        "    print(f\"{n} is positive\")\n",
        "else:\n",
        "  print(f\"{n} is negative\")"
      ]
    },
    {
      "cell_type": "markdown",
      "metadata": {
        "id": "kWidWhOwz6iQ"
      },
      "source": [
        "2.\tCreate a Python program that checks if a given number is even or odd using an if-else statement."
      ]
    },
    {
      "cell_type": "code",
      "execution_count": null,
      "metadata": {
        "colab": {
          "base_uri": "https://localhost:8080/"
        },
        "id": "tvkjP3C9z7Rm",
        "outputId": "e46c7188-b0e7-4cfb-9329-9d0e57c981a3"
      },
      "outputs": [
        {
          "name": "stdout",
          "output_type": "stream",
          "text": [
            "enter a number : 2023\n",
            "2023 is odd\n"
          ]
        }
      ],
      "source": [
        "n=int(input(\"enter a number : \"))\n",
        "if n%2==0:\n",
        "  print(f\"{n} is even\")\n",
        "else:\n",
        "  print(f\"{n} is odd\")"
      ]
    },
    {
      "cell_type": "markdown",
      "metadata": {
        "id": "zc47vdOf0GNO"
      },
      "source": [
        "3.\tHow can you use nested if-else statements in Python, and provide an example?"
      ]
    },
    {
      "cell_type": "code",
      "execution_count": null,
      "metadata": {
        "colab": {
          "base_uri": "https://localhost:8080/"
        },
        "id": "AGoCswXl0ibe",
        "outputId": "dafe4cd5-6ff7-4852-b752-9f9dec949d14"
      },
      "outputs": [
        {
          "name": "stdout",
          "output_type": "stream",
          "text": [
            "enter a number : 54\n",
            "54 is positive\n"
          ]
        }
      ],
      "source": [
        "n=int(input(\"enter a number : \"))\n",
        "if n>=0:\n",
        "  if n==0:\n",
        "    print(f\"{n} is zero\")\n",
        "  else:\n",
        "    print(f\"{n} is positive\")\n",
        "else:\n",
        "  print(f\"{n} is negative\")"
      ]
    },
    {
      "cell_type": "markdown",
      "metadata": {
        "id": "ymEz3rQPzjtN"
      },
      "source": [
        "\n",
        "4.\tWrite a Python program to determine the largest of three numbers using if-else.\n"
      ]
    },
    {
      "cell_type": "code",
      "execution_count": null,
      "metadata": {
        "colab": {
          "base_uri": "https://localhost:8080/"
        },
        "id": "ROdIpCEd0HIO",
        "outputId": "1158f657-a0d9-4bd1-f31f-3b6e354fae0d"
      },
      "outputs": [
        {
          "name": "stdout",
          "output_type": "stream",
          "text": [
            "enter the first number : 53\n",
            "enter the second number : 61\n",
            "enter the third number : 42\n",
            "61 is maximum\n"
          ]
        }
      ],
      "source": [
        "n1=int(input(\"enter the first number : \"))\n",
        "n2=int(input(\"enter the second number : \"))\n",
        "n3=int(input(\"enter the third number : \"))\n",
        "if n1>n2:\n",
        "  if n1>n3:\n",
        "    print(f\"{n1} is maximum\")\n",
        "elif n2>n3:\n",
        "  if n2>n1:\n",
        "    print(f\"{n2} is maximum\")\n",
        "else:\n",
        "  print(f\"{n3} is maximum\")"
      ]
    },
    {
      "cell_type": "markdown",
      "metadata": {
        "id": "iU6CgeiFCrz2"
      },
      "source": [
        "5.\tWrite a Python program that calculates the absolute value of a number using if-else."
      ]
    },
    {
      "cell_type": "code",
      "execution_count": null,
      "metadata": {
        "colab": {
          "base_uri": "https://localhost:8080/"
        },
        "id": "4XSNALhJCtGH",
        "outputId": "e484c813-3c40-4d70-85cd-528df3f5dd0c"
      },
      "outputs": [
        {
          "name": "stdout",
          "output_type": "stream",
          "text": [
            "enter a number : -69\n",
            "absolute value of -69 is 69\n"
          ]
        }
      ],
      "source": [
        "n=int(input(\"enter a number : \"))\n",
        "if n>=0:\n",
        "  print(f\"absolute value of {n} is {n}\")\n",
        "else:\n",
        "  print(f\"absolute value of {n} is {-n}\")\n"
      ]
    },
    {
      "cell_type": "markdown",
      "metadata": {
        "id": "8vhQ9NAdC4Kn"
      },
      "source": [
        "6.\tCreate a Python program that checks if a given character is a vowel or consonant using if-else."
      ]
    },
    {
      "cell_type": "code",
      "execution_count": null,
      "metadata": {
        "colab": {
          "base_uri": "https://localhost:8080/"
        },
        "id": "6bL9NaIJC5KP",
        "outputId": "fbc55c09-8e3a-4a54-8f94-94281b1acab6"
      },
      "outputs": [
        {
          "name": "stdout",
          "output_type": "stream",
          "text": [
            "enter a character : M\n",
            "M is a consonant\n"
          ]
        }
      ],
      "source": [
        "ch=input(\"enter a character : \")\n",
        "if ch.lower() in 'aeiou':\n",
        "  print(f\"{ch} is a vowel\")\n",
        "else:\n",
        "  print(f\"{ch} is a consonant\")"
      ]
    },
    {
      "cell_type": "markdown",
      "metadata": {
        "id": "TY8cpT23DH6f"
      },
      "source": [
        "7.\tWrite a Python program to determine if a user is eligible to vote based on their age using if-else."
      ]
    },
    {
      "cell_type": "code",
      "execution_count": null,
      "metadata": {
        "colab": {
          "base_uri": "https://localhost:8080/"
        },
        "id": "1oYgedgXDIhG",
        "outputId": "d04a3d20-5c7a-4b91-9ee9-2686a18d6b0a"
      },
      "outputs": [
        {
          "name": "stdout",
          "output_type": "stream",
          "text": [
            "enter age : 45\n",
            "person is eligible to vote\n"
          ]
        }
      ],
      "source": [
        "age=int(input(\"enter age : \"))\n",
        "if age>=18:\n",
        "  print(\"person is eligible to vote\")\n",
        "else:\n",
        "  print(\"person is not eligible to vote\")"
      ]
    },
    {
      "cell_type": "markdown",
      "metadata": {
        "id": "LQQcnbTpDQtP"
      },
      "source": [
        "8.\tCreate a Python program that calculates the discount amount based on the purchase amount using if-else."
      ]
    },
    {
      "cell_type": "code",
      "execution_count": null,
      "metadata": {
        "colab": {
          "base_uri": "https://localhost:8080/"
        },
        "id": "E9zexukiDRa7",
        "outputId": "168beca0-8c9d-4147-922a-cdabdc49a890"
      },
      "outputs": [
        {
          "name": "stdout",
          "output_type": "stream",
          "text": [
            "enter purchase amount : 2350\n",
            "after applying 10% discount, amount to pay is 2115.0\n"
          ]
        }
      ],
      "source": [
        "p_amount=float(input(\"enter purchase amount : \"))\n",
        "if p_amount>5000:\n",
        "  print(f\"after applying 30% discount, amount to pay is {p_amount*0.7}\")\n",
        "elif p_amount>3000:\n",
        "  print(f\"after applying 20% discount, amount to pay is {p_amount*0.8}\")\n",
        "elif p_amount>1500:\n",
        "  print(f\"after applying 10% discount, amount to pay is {p_amount*0.9}\")\n",
        "else:\n",
        "  print(f\"amount to pay is {p_amount}\")"
      ]
    },
    {
      "cell_type": "markdown",
      "metadata": {
        "id": "a7hukHRmDfxX"
      },
      "source": [
        "9.\tWrite a Python program to check if a number is within a specified range using if-else."
      ]
    },
    {
      "cell_type": "code",
      "execution_count": null,
      "metadata": {
        "colab": {
          "base_uri": "https://localhost:8080/"
        },
        "id": "_BGMrQ4VDgbO",
        "outputId": "76e11adc-e9e0-422b-ce3b-816949817df6"
      },
      "outputs": [
        {
          "name": "stdout",
          "output_type": "stream",
          "text": [
            "enter a number : 45\n",
            "enter lower bound of range : 7\n",
            "enter upper bound of range : 99\n",
            "45 is within 7 and 99\n"
          ]
        }
      ],
      "source": [
        "n=int(input(\"enter a number : \"))\n",
        "lb=int(input(\"enter lower bound of range : \"))\n",
        "ub=int(input(\"enter upper bound of range : \"))\n",
        "if lb<ub:\n",
        "  if n in range(lb,ub+1):\n",
        "    print(f\"{n} is within {lb} and {ub}\")\n",
        "  else:\n",
        "    print(f\"{n} is not within {lb} and {ub}\")\n",
        "else:\n",
        "  print(f\"lower bound must be lesser than upper bound2\")"
      ]
    },
    {
      "cell_type": "markdown",
      "metadata": {
        "id": "NBd5cZZBCqFu"
      },
      "source": [
        "\n",
        "\n",
        "\n",
        "\n",
        "\n",
        "10.\tCreate a Python program that determines the grade of a student based on their score using if-else.\n"
      ]
    },
    {
      "cell_type": "code",
      "execution_count": null,
      "metadata": {
        "colab": {
          "base_uri": "https://localhost:8080/"
        },
        "id": "jLfSmMovzbYe",
        "outputId": "29694859-3f68-4599-c7ba-8f1da1325e10"
      },
      "outputs": [
        {
          "name": "stdout",
          "output_type": "stream",
          "text": [
            "enter mark of student (0 to 100) : 75\n",
            "grade = C\n"
          ]
        }
      ],
      "source": [
        "score=int(input(\"enter mark of student (0 to 100) : \"))\n",
        "\n",
        "if 100>=score >= 90:\n",
        "    grade = \"A\"\n",
        "elif 90>score >= 80:\n",
        "    grade = \"B\"\n",
        "elif 80>score >= 70:\n",
        "    grade = \"C\"\n",
        "elif 70>score >= 60:\n",
        "    grade = \"D\"\n",
        "elif 0<=score<60:\n",
        "    grade = \"F\"\n",
        "else:\n",
        "  grade=\"Invalid score\"\n",
        "\n",
        "print(f'grade = {grade}')"
      ]
    },
    {
      "cell_type": "markdown",
      "metadata": {
        "id": "ovhQ3ylLE7A-"
      },
      "source": [
        "11.\tWrite a Python program to check if a string is empty or not using if-else."
      ]
    },
    {
      "cell_type": "code",
      "execution_count": null,
      "metadata": {
        "colab": {
          "base_uri": "https://localhost:8080/"
        },
        "id": "a5kr3XzuE8Iu",
        "outputId": "0510a1de-b940-430c-f224-41657e3013dd"
      },
      "outputs": [
        {
          "name": "stdout",
          "output_type": "stream",
          "text": [
            "enter a string : hi\n",
            "string 'hi' is not empty\n"
          ]
        }
      ],
      "source": [
        "s=input(\"enter a string : \")\n",
        "if len(s)==0:\n",
        "  print(\"string is empty\")\n",
        "else:\n",
        "  print(f\"string '{s}' is not empty\")"
      ]
    },
    {
      "cell_type": "markdown",
      "metadata": {
        "id": "gph5CuruFjJH"
      },
      "source": [
        "12.\tCreate a Python program that identifies the type of a triangle (e.g., equilateral, isosceles, or scalene) based on input values using if-else."
      ]
    },
    {
      "cell_type": "code",
      "execution_count": null,
      "metadata": {
        "colab": {
          "base_uri": "https://localhost:8080/"
        },
        "id": "K9tIk5ZMFj93",
        "outputId": "b79b2ca3-f000-475d-9ffe-348c61b482be"
      },
      "outputs": [
        {
          "name": "stdout",
          "output_type": "stream",
          "text": [
            "Enter the length of side 1: 25\n",
            "Enter the length of side 2: 36\n",
            "Enter the length of side 3: 25\n",
            "The triangle is isosceles.\n"
          ]
        }
      ],
      "source": [
        "side1 = float(input(\"Enter the length of side 1: \"))\n",
        "side2 = float(input(\"Enter the length of side 2: \"))\n",
        "side3 = float(input(\"Enter the length of side 3: \"))\n",
        "\n",
        "\n",
        "if side1 == side2 == side3:\n",
        "    triangle_type = \"equilateral\"\n",
        "elif side1 == side2 or side1 == side3 or side2 == side3:\n",
        "    triangle_type = \"isosceles\"\n",
        "else:\n",
        "    triangle_type = \"scalene\"\n",
        "\n",
        "print(f\"The triangle is {triangle_type}.\")"
      ]
    },
    {
      "cell_type": "markdown",
      "metadata": {
        "id": "5g99f43oF45G"
      },
      "source": [
        "13.\tWrite a Python program to determine the day of the week based on a user-provided number using if-else."
      ]
    },
    {
      "cell_type": "code",
      "execution_count": null,
      "metadata": {
        "colab": {
          "base_uri": "https://localhost:8080/"
        },
        "id": "dFayGbq_F5e-",
        "outputId": "5db5a7ac-8b8e-49e9-e418-f3894ad6fd84"
      },
      "outputs": [
        {
          "name": "stdout",
          "output_type": "stream",
          "text": [
            "enter day no of the week : 5\n",
            "day of the week is Friday\n"
          ]
        }
      ],
      "source": [
        "day_no=int(input(\"enter day no of the week : \"))\n",
        "if day_no==1:\n",
        "  print(\"day of the week is Monday\")\n",
        "elif day_no==2:\n",
        "  print(\"day of the week is Tuesday\")\n",
        "elif day_no==3:\n",
        "  print(\"day of the week is Wednesday\")\n",
        "elif day_no==4:\n",
        "  print(\"day of the week is Thursday\")\n",
        "elif day_no==5:\n",
        "  print(\"day of the week is Friday\")\n",
        "elif day_no==6:\n",
        "  print(\"day of the week is Saturday\")\n",
        "elif day_no==7:\n",
        "  print(\"day of the week is Sunday\")\n",
        "else:\n",
        "  print(\"invalid day of week\")"
      ]
    },
    {
      "cell_type": "markdown",
      "metadata": {
        "id": "Czcy84SQGFMm"
      },
      "source": [
        "14.\tCreate a Python program that checks if a given year is a leap year using both if-else and a function."
      ]
    },
    {
      "cell_type": "code",
      "execution_count": null,
      "metadata": {
        "colab": {
          "base_uri": "https://localhost:8080/"
        },
        "id": "Pb5K7V58GG1H",
        "outputId": "aae84ba2-def4-4cbc-a594-449662d3f0b2"
      },
      "outputs": [
        {
          "name": "stdout",
          "output_type": "stream",
          "text": [
            "enter year : 2023\n",
            "2023 is not a leap year\n"
          ]
        }
      ],
      "source": [
        "def check_leap(year):\n",
        "  if year%400==0 or year%4==0 and year%100!=0:\n",
        "    return True\n",
        "  else:\n",
        "    return False\n",
        "y=int(input(\"enter year : \"))\n",
        "if check_leap(y):\n",
        "  print(f\"{y} is a leap year\")\n",
        "else:\n",
        "  print(f\"{y} is not a leap year\")\n"
      ]
    },
    {
      "cell_type": "markdown",
      "metadata": {
        "id": "2xmCNHYdE0i3"
      },
      "source": [
        "\n",
        "\n",
        "\n",
        "\n",
        "15.\tHow do you use the \"assert\" statement in Python to add debugging checks within if-else blocks?\n"
      ]
    },
    {
      "cell_type": "markdown",
      "source": [
        "The assert statement in Python is used to add debugging checks within if-else blocks or any part of your code where you want to ensure that a certain condition is true. If the condition is false, it raises an AssertionError and provides a message, helping you identify and fix issues during development.\n",
        "\n",
        "Here's the basic syntax of the assert statement:\n",
        "\n",
        "**assert condition, message**"
      ],
      "metadata": {
        "id": "hFJcgfjxwEd-"
      }
    },
    {
      "cell_type": "code",
      "source": [
        "def divide(x, y):\n",
        "    assert y != 0, \"Division by zero is not allowed!\"\n",
        "    return x / y\n",
        "\n",
        "print(divide(12,0))"
      ],
      "metadata": {
        "colab": {
          "base_uri": "https://localhost:8080/",
          "height": 332
        },
        "id": "X7T4q8XnwYPd",
        "outputId": "44492419-a024-49c2-b89c-fcdd370b1c10"
      },
      "execution_count": 17,
      "outputs": [
        {
          "output_type": "error",
          "ename": "AssertionError",
          "evalue": "ignored",
          "traceback": [
            "\u001b[0;31m---------------------------------------------------------------------------\u001b[0m",
            "\u001b[0;31mAssertionError\u001b[0m                            Traceback (most recent call last)",
            "\u001b[0;32m<ipython-input-17-2682f7428b89>\u001b[0m in \u001b[0;36m<cell line: 5>\u001b[0;34m()\u001b[0m\n\u001b[1;32m      3\u001b[0m     \u001b[0;32mreturn\u001b[0m \u001b[0mx\u001b[0m \u001b[0;34m/\u001b[0m \u001b[0my\u001b[0m\u001b[0;34m\u001b[0m\u001b[0;34m\u001b[0m\u001b[0m\n\u001b[1;32m      4\u001b[0m \u001b[0;34m\u001b[0m\u001b[0m\n\u001b[0;32m----> 5\u001b[0;31m \u001b[0mprint\u001b[0m\u001b[0;34m(\u001b[0m\u001b[0mdivide\u001b[0m\u001b[0;34m(\u001b[0m\u001b[0;36m12\u001b[0m\u001b[0;34m,\u001b[0m\u001b[0;36m0\u001b[0m\u001b[0;34m)\u001b[0m\u001b[0;34m)\u001b[0m\u001b[0;34m\u001b[0m\u001b[0;34m\u001b[0m\u001b[0m\n\u001b[0m",
            "\u001b[0;32m<ipython-input-17-2682f7428b89>\u001b[0m in \u001b[0;36mdivide\u001b[0;34m(x, y)\u001b[0m\n\u001b[1;32m      1\u001b[0m \u001b[0;32mdef\u001b[0m \u001b[0mdivide\u001b[0m\u001b[0;34m(\u001b[0m\u001b[0mx\u001b[0m\u001b[0;34m,\u001b[0m \u001b[0my\u001b[0m\u001b[0;34m)\u001b[0m\u001b[0;34m:\u001b[0m\u001b[0;34m\u001b[0m\u001b[0;34m\u001b[0m\u001b[0m\n\u001b[0;32m----> 2\u001b[0;31m     \u001b[0;32massert\u001b[0m \u001b[0my\u001b[0m \u001b[0;34m!=\u001b[0m \u001b[0;36m0\u001b[0m\u001b[0;34m,\u001b[0m \u001b[0;34m\"Division by zero is not allowed!\"\u001b[0m\u001b[0;34m\u001b[0m\u001b[0;34m\u001b[0m\u001b[0m\n\u001b[0m\u001b[1;32m      3\u001b[0m     \u001b[0;32mreturn\u001b[0m \u001b[0mx\u001b[0m \u001b[0;34m/\u001b[0m \u001b[0my\u001b[0m\u001b[0;34m\u001b[0m\u001b[0;34m\u001b[0m\u001b[0m\n\u001b[1;32m      4\u001b[0m \u001b[0;34m\u001b[0m\u001b[0m\n\u001b[1;32m      5\u001b[0m \u001b[0mprint\u001b[0m\u001b[0;34m(\u001b[0m\u001b[0mdivide\u001b[0m\u001b[0;34m(\u001b[0m\u001b[0;36m12\u001b[0m\u001b[0;34m,\u001b[0m\u001b[0;36m0\u001b[0m\u001b[0;34m)\u001b[0m\u001b[0;34m)\u001b[0m\u001b[0;34m\u001b[0m\u001b[0;34m\u001b[0m\u001b[0m\n",
            "\u001b[0;31mAssertionError\u001b[0m: Division by zero is not allowed!"
          ]
        }
      ]
    },
    {
      "cell_type": "markdown",
      "metadata": {
        "id": "evQfsiE3HdR2"
      },
      "source": [
        "16.\tCreate a Python program that determines the eligibility of a person for a senior citizen discount based on age using if-else."
      ]
    },
    {
      "cell_type": "code",
      "execution_count": null,
      "metadata": {
        "colab": {
          "base_uri": "https://localhost:8080/"
        },
        "id": "TvWI33qBHeVf",
        "outputId": "d9a79b5a-ebef-40c9-a6cc-5d07cef288e7"
      },
      "outputs": [
        {
          "name": "stdout",
          "output_type": "stream",
          "text": [
            "enter age : 73\n",
            "person is eligible to for a senior citizen discount\n"
          ]
        }
      ],
      "source": [
        "age=int(input(\"enter age : \"))\n",
        "if age>=60:\n",
        "  print(\"person is eligible to for a senior citizen discount\")\n",
        "else:\n",
        "  print(\"person is not eligible to for a senior citizen discount\")"
      ]
    },
    {
      "cell_type": "markdown",
      "metadata": {
        "id": "i4eQ7zr5Hxu_"
      },
      "source": [
        "17.\tWrite a Python program to categorize a given character as uppercase, lowercase, or neither using if-else."
      ]
    },
    {
      "cell_type": "code",
      "execution_count": null,
      "metadata": {
        "colab": {
          "base_uri": "https://localhost:8080/"
        },
        "id": "gvVnvftTHyue",
        "outputId": "f7079576-bf6d-4833-86b3-8d07b6c24747"
      },
      "outputs": [
        {
          "name": "stdout",
          "output_type": "stream",
          "text": [
            "enter a character : X\n",
            "'X' is uppercase\n"
          ]
        }
      ],
      "source": [
        "ch=input(\"enter a character : \")\n",
        "if ch.isupper():\n",
        "  print(f\"'{ch}' is uppercase\")\n",
        "elif ch.islower():\n",
        "  print(f\"'{ch}' is lower\")\n",
        "else:\n",
        "  print(f\"'{ch}' is neither uppercase, nor lowercase\")"
      ]
    },
    {
      "cell_type": "markdown",
      "metadata": {
        "id": "3ZdP3uFPICSJ"
      },
      "source": [
        "18.\tWrite a Python program to determine the roots of a quadratic equation using if-else."
      ]
    },
    {
      "cell_type": "code",
      "execution_count": null,
      "metadata": {
        "colab": {
          "base_uri": "https://localhost:8080/"
        },
        "id": "bY6h-OZ-IDFR",
        "outputId": "8b6070c6-b839-4c16-f1b8-9c4cfe78dd51"
      },
      "outputs": [
        {
          "name": "stdout",
          "output_type": "stream",
          "text": [
            "enter coefficient 'a' of quadratic equation ax^2 + bx + c = 0 : 1\n",
            "enter coefficient 'b' of quadratic equation ax^2 + bx + c = 0 : 7\n",
            "enter coefficient 'c' of quadratic equation ax^2 + bx + c = 0 : -10\n",
            "the equation is (1)x^2+(7)x+(-10)=0\n",
            "first solution = 1.2169905660283016\n",
            "second solution = -8.2169905660283\n"
          ]
        }
      ],
      "source": [
        "a=int(input(\"enter coefficient 'a' of quadratic equation ax^2 + bx + c = 0 : \"))\n",
        "b=int(input(\"enter coefficient 'b' of quadratic equation ax^2 + bx + c = 0 : \"))\n",
        "c=int(input(\"enter coefficient 'c' of quadratic equation ax^2 + bx + c = 0 : \"))\n",
        "s1=(-b+(b**2-4*a*c)**0.5)/2*a\n",
        "s2=(-b-(b**2-4*a*c)**0.5)/2*a\n",
        "print(f\"the equation is ({a})x^2+({b})x+({c})=0\")\n",
        "print(f\"first solution = {s1}\")\n",
        "print(f\"second solution = {s2}\")"
      ]
    },
    {
      "cell_type": "markdown",
      "metadata": {
        "id": "oXHdGG33JkDH"
      },
      "source": [
        "19.\tCreate a Python program that checks if a given year is a century year or not using if-else."
      ]
    },
    {
      "cell_type": "code",
      "execution_count": null,
      "metadata": {
        "colab": {
          "base_uri": "https://localhost:8080/"
        },
        "id": "UzlDR8ZOJn7u",
        "outputId": "3acdb85a-7b04-4b77-fc3b-d0acbaf2d7a2"
      },
      "outputs": [
        {
          "name": "stdout",
          "output_type": "stream",
          "text": [
            "enter year : 2023\n",
            "2023 is not a century year\n"
          ]
        }
      ],
      "source": [
        "year=int(input(\"enter year : \"))\n",
        "if year%100==0:\n",
        "    print(f\"{year} is a century year\")\n",
        "else:\n",
        "    print(f\"{year} is not a century year\")"
      ]
    },
    {
      "cell_type": "markdown",
      "metadata": {
        "id": "zovRJX-fKiyI"
      },
      "source": [
        "20.\tWrite a Python program to determine if a given number is a perfect square using if-else."
      ]
    },
    {
      "cell_type": "code",
      "execution_count": null,
      "metadata": {
        "colab": {
          "base_uri": "https://localhost:8080/"
        },
        "id": "bbE_1Cr8Lalv",
        "outputId": "e9b5c583-4743-4121-a7ad-d203bf2bc413"
      },
      "outputs": [
        {
          "name": "stdout",
          "output_type": "stream",
          "text": [
            "Enter a number: 20\n",
            "20 is not a perfect square.\n"
          ]
        }
      ],
      "source": [
        "number = int(input(\"Enter a number: \"))\n",
        "\n",
        "if number < 0:\n",
        "    print(\"It's not a perfect square because it's a negative number.\")\n",
        "else:\n",
        "    sqrt = int(number ** 0.5)\n",
        "    if sqrt * sqrt == number:\n",
        "        print(f\"{number} is a perfect square.\")\n",
        "    else:\n",
        "        print(f\"{number} is not a perfect square.\")"
      ]
    },
    {
      "cell_type": "markdown",
      "metadata": {
        "id": "5cbHhv2TLzSx"
      },
      "source": [
        "21.\tExplain the purpose of the \"continue\" and \"break\" statements within if-else loops."
      ]
    },
    {
      "cell_type": "markdown",
      "source": [
        "The **continue** statement in Python is used to skip the current iteration of a loop and move to the next one. It's helpful when you want to bypass certain elements in a loop based on a condition but continue processing the rest.\n",
        "\n",
        "The **break** statement, on the other hand, is used to exit a loop prematurely, regardless of whether the loop's condition is fully satisfied. It's useful when you want to stop the loop as soon as a specific condition is met."
      ],
      "metadata": {
        "id": "drM_PfQnvq_k"
      }
    },
    {
      "cell_type": "markdown",
      "metadata": {
        "id": "bPnba0s9QoEv"
      },
      "source": [
        "22.\tCreate a Python program that calculates the BMI (Body Mass Index) of a person based on their weight and height using if-else."
      ]
    },
    {
      "cell_type": "code",
      "execution_count": null,
      "metadata": {
        "colab": {
          "base_uri": "https://localhost:8080/"
        },
        "id": "YcbkeMaqL0m5",
        "outputId": "c7e61fd4-91eb-4cdd-bac6-847337804bfe"
      },
      "outputs": [
        {
          "name": "stdout",
          "output_type": "stream",
          "text": [
            "Enter your weight in kilograms: 79\n",
            "Enter your height in meters: 1.76\n",
            "person having BMI=25.50361570247934 is Overweight\n"
          ]
        }
      ],
      "source": [
        "weight = float(input(\"Enter your weight in kilograms: \"))\n",
        "height = float(input(\"Enter your height in meters: \"))\n",
        "\n",
        "bmi = weight / (height ** 2)\n",
        "if bmi<18.5:\n",
        "  print(f\"person having BMI={bmi} is Underweight\")\n",
        "elif 18.5<=bmi<=24.9:\n",
        "  print(f\"person having BMI={bmi} is Normal\")\n",
        "elif 25<=bmi<29.9:\n",
        "  print(f\"person having BMI={bmi} is Overweight\")\n",
        "elif bmi>=30:\n",
        "  print(f\"person having BMI={bmi} is Obese\")"
      ]
    },
    {
      "cell_type": "markdown",
      "metadata": {
        "id": "NsHs4kauXOVq"
      },
      "source": [
        "23.\tHow can you use the \"filter()\" function with if-else statements to filter elements from a list?"
      ]
    },
    {
      "cell_type": "markdown",
      "source": [
        "We can use the filter() function along with if-else statements to selectively filter elements from a list based on a specified condition. The filter() function takes a function and an iterable, and it returns an iterator of elements for which the function returns True.\n",
        "\n",
        "When combined with if-else statements, you can define a custom filtering condition using a lambda function (or a regular function) and pass it as the first argument to filter(). The condition should return True for elements you want to keep and False for elements you want to discard.\n",
        "\n",
        "Here's an example demonstrating how to use filter() with an if-else statement to filter even numbers from a list:"
      ],
      "metadata": {
        "id": "QrHa-tsDvKAj"
      }
    },
    {
      "cell_type": "code",
      "source": [
        "numbers = [1, 2, 3, 4, 5, 6, 7, 8, 9, 10]\n",
        "\n",
        "# Define a custom condition to filter even numbers\n",
        "filtered_numbers = filter(lambda x: x % 2 == 0, numbers)\n",
        "\n",
        "# Convert the result to a list (since filter() returns an iterator in Python 3)\n",
        "filtered_numbers = list(filtered_numbers)\n",
        "\n",
        "print(filtered_numbers)"
      ],
      "metadata": {
        "colab": {
          "base_uri": "https://localhost:8080/"
        },
        "id": "SQdCJgiDvRMj",
        "outputId": "0eaa2412-9bd8-4fcb-c19f-1296caaa2743"
      },
      "execution_count": null,
      "outputs": [
        {
          "output_type": "stream",
          "name": "stdout",
          "text": [
            "[2, 4, 6, 8, 10]\n"
          ]
        }
      ]
    },
    {
      "cell_type": "markdown",
      "metadata": {
        "id": "zaJRVIVEHR9X"
      },
      "source": [
        "24.\tWrite a Python program to determine if a given number is prime or not using if-else.\n"
      ]
    },
    {
      "cell_type": "code",
      "execution_count": null,
      "metadata": {
        "colab": {
          "base_uri": "https://localhost:8080/"
        },
        "id": "iHeoV28qXQUw",
        "outputId": "435c3cd9-1fde-440c-dd16-7d7612a0e39c"
      },
      "outputs": [
        {
          "name": "stdout",
          "output_type": "stream",
          "text": [
            "enter a number (greater than 1) : 217\n",
            "217 is not prime\n"
          ]
        }
      ],
      "source": [
        "num=int(input(\"enter a number (greater than 1) : \"))\n",
        "if num>1:\n",
        "  is_prime = True\n",
        "  for i in range(2, num//2 + 1):\n",
        "      if num % i == 0:\n",
        "          is_prime = False\n",
        "          break\n",
        "  if is_prime:\n",
        "    print(f\"{num} is prime\")\n",
        "  else:\n",
        "    print(f\"{num} is not prime\")\n",
        "else:\n",
        "  print(\"can't check for prime\")"
      ]
    },
    {
      "cell_type": "markdown",
      "metadata": {
        "id": "PA1jpNgPXrKs"
      },
      "source": [
        "## Map :-"
      ]
    },
    {
      "cell_type": "markdown",
      "metadata": {
        "id": "AeuiNO13YJXI"
      },
      "source": [
        "1.\tExplain the purpose of the `map()` function in Python and provide an example of how it can be used to apply a function to each element of an iterable."
      ]
    },
    {
      "cell_type": "markdown",
      "source": [
        "The map() function in Python is used to apply a specified function to each element of an iterable (e.g., a list) and return an iterator of the results. It allows for a concise way to perform a transformation on all elements of a sequence without the need for explicit loops.\n",
        "\n",
        "Here's the basic syntax of the map() function:\n",
        "\n",
        "**map(function, iterable)**\n",
        "\n",
        "function: The function to be applied to each element of the iterable.\n",
        "\n",
        "iterable: The sequence of values on which the function will be applied."
      ],
      "metadata": {
        "id": "hOgsf93fuYhI"
      }
    },
    {
      "cell_type": "code",
      "source": [
        "# Define a function to square a number\n",
        "def square(x):\n",
        "    return x ** 2\n",
        "\n",
        "numbers = [1, 2, 3, 4, 5]\n",
        "\n",
        "# Apply the 'square' function to each element of 'numbers'\n",
        "squared = map(square, numbers)\n",
        "\n",
        "# Convert the result to a list (since map() returns an iterator in Python 3)\n",
        "squared = list(squared)\n",
        "\n",
        "print(squared)"
      ],
      "metadata": {
        "colab": {
          "base_uri": "https://localhost:8080/"
        },
        "id": "CG3dFYELuwNx",
        "outputId": "0b3b4602-c9dc-4fc2-d7a1-a2594d9ca874"
      },
      "execution_count": null,
      "outputs": [
        {
          "output_type": "stream",
          "name": "stdout",
          "text": [
            "[1, 4, 9, 16, 25]\n"
          ]
        }
      ]
    },
    {
      "cell_type": "markdown",
      "metadata": {
        "id": "oBRfR5fEYM10"
      },
      "source": [
        "2.\tWrite a Python program that uses the `map()` function to square each element of a list of numbers."
      ]
    },
    {
      "cell_type": "code",
      "execution_count": null,
      "metadata": {
        "colab": {
          "base_uri": "https://localhost:8080/"
        },
        "id": "-dJkY8P_YQUw",
        "outputId": "7fc23cd5-dc87-4d7a-8d18-c1ea5ba380e1"
      },
      "outputs": [
        {
          "name": "stdout",
          "output_type": "stream",
          "text": [
            "the list is [17, 9, 19, 17, 13]\n",
            "after square each element of list\n"
          ]
        },
        {
          "data": {
            "text/plain": [
              "[289, 81, 361, 289, 169]"
            ]
          },
          "execution_count": 7,
          "metadata": {},
          "output_type": "execute_result"
        }
      ],
      "source": [
        "import random\n",
        "l1=[random.randint(1,20) for _ in range(5)]\n",
        "print(f\"the list is {l1}\")\n",
        "print(\"after square each element of list\")\n",
        "list(map(lambda x:x**2,l1))"
      ]
    },
    {
      "cell_type": "markdown",
      "metadata": {
        "id": "WvKoaOfUX_ED"
      },
      "source": [
        "3.\tHow does the `map()` function differ from a list comprehension in Python, and when would you choose one over the other?\n"
      ]
    },
    {
      "cell_type": "markdown",
      "source": [
        "The map() function and list comprehensions in Python both transform iterables, but they differ in a few key aspects:\n",
        "\n",
        "map() applies a specified function to elements in one or more iterables, returning an iterator.\n",
        "\n",
        "List comprehensions construct a new list by applying an expression to each item in an iterable.\n",
        "\n",
        "Choose map() when you have a pre-defined function or need to transform multiple iterables simultaneously. Use list comprehensions for simplicity, direct list creation, and readability. The choice often depends on personal preference and the specific use case."
      ],
      "metadata": {
        "id": "uOBLOfZiuAYs"
      }
    },
    {
      "cell_type": "markdown",
      "metadata": {
        "id": "r7kKEIB1ZInr"
      },
      "source": [
        "4.\tCreate a Python program that uses the `map()` function to convert a list of names to uppercase.\n"
      ]
    },
    {
      "cell_type": "code",
      "execution_count": null,
      "metadata": {
        "colab": {
          "base_uri": "https://localhost:8080/"
        },
        "id": "nBYVEQGkZLA-",
        "outputId": "351b647c-7fe6-410d-8fac-79d9d1a05a5e"
      },
      "outputs": [
        {
          "name": "stdout",
          "output_type": "stream",
          "text": [
            "the list of names is ['pwskills', 'prasant', 'sonu']\n",
            "after converting the list of names to uppercase\n"
          ]
        },
        {
          "data": {
            "text/plain": [
              "['PWSKILLS', 'PRASANT', 'SONU']"
            ]
          },
          "execution_count": 8,
          "metadata": {},
          "output_type": "execute_result"
        }
      ],
      "source": [
        "names=[\"pwskills\",\"prasant\",\"sonu\"]\n",
        "print(f\"the list of names is {names}\")\n",
        "print(\"after converting the list of names to uppercase\")\n",
        "list(map(lambda x:x.upper(),names))"
      ]
    },
    {
      "cell_type": "markdown",
      "metadata": {
        "id": "xXREzFOPaeOw"
      },
      "source": [
        "5.\tWrite a Python program that uses the `map()` function to calculate the length of each word in a list of strings."
      ]
    },
    {
      "cell_type": "code",
      "execution_count": null,
      "metadata": {
        "colab": {
          "base_uri": "https://localhost:8080/"
        },
        "id": "hlbgBt78ajTL",
        "outputId": "9280aa12-624e-44f7-a4ff-88823214933b"
      },
      "outputs": [
        {
          "name": "stdout",
          "output_type": "stream",
          "text": [
            "the list of names is ['pwskills', 'prasant', 'sonu']\n",
            "length of 'pwskills' is 8\n",
            "length of 'prasant' is 7\n",
            "length of 'sonu' is 4\n"
          ]
        }
      ],
      "source": [
        "names=[\"pwskills\",\"prasant\",\"sonu\"]\n",
        "print(f\"the list of names is {names}\")\n",
        "name_len=list(map(lambda x:len(x),names))\n",
        "for n,l in zip(names,name_len):\n",
        "  print(f\"length of '{n}' is {l}\")"
      ]
    },
    {
      "cell_type": "markdown",
      "metadata": {
        "id": "7ngCVPsLaYp2"
      },
      "source": [
        "6.\tHow can you use the `map()` function to apply a custom function to elements of multiple lists simultaneously in Python?\n"
      ]
    },
    {
      "cell_type": "markdown",
      "source": [
        "In Python, you can use the map() function to apply a custom function to elements of multiple lists simultaneously. The map() function takes two arguments: a function and one or more iterable objects (such as lists). It applies the function to corresponding elements of the iterables and returns an iterator that yields the results.\n",
        "\n",
        "Here's the basic syntax of the map() function:\n",
        "\n",
        "**map(function, iterable1, iterable2, ...)**"
      ],
      "metadata": {
        "id": "C9-kjh7as7X4"
      }
    },
    {
      "cell_type": "code",
      "source": [
        "# Define a custom function to add two numbers\n",
        "def add(x, y):\n",
        "    return x + y\n",
        "\n",
        "# Two lists\n",
        "list1 = [1, 2, 3, 4]\n",
        "list2 = [5, 6, 7, 8]\n",
        "\n",
        "# Use map() to apply the 'add' function to corresponding elements of 'list1' and 'list2'\n",
        "sum_result = map(add, list1, list2)\n",
        "\n",
        "# Convert the result to a list (since map() returns an iterator in Python 3)\n",
        "sum_result = list(sum_result)\n",
        "\n",
        "print(sum_result)\n"
      ],
      "metadata": {
        "colab": {
          "base_uri": "https://localhost:8080/"
        },
        "id": "bN1I2KBCtHHy",
        "outputId": "f0a73054-ae3e-4035-c910-352fd8721b9f"
      },
      "execution_count": null,
      "outputs": [
        {
          "output_type": "stream",
          "name": "stdout",
          "text": [
            "[6, 8, 10, 12]\n"
          ]
        }
      ]
    },
    {
      "cell_type": "markdown",
      "metadata": {
        "id": "AF30z6s8bQ0r"
      },
      "source": [
        "7.\tCreate a Python program that uses `map()` to convert a list of temperatures from Celsius to Fahrenheit.\n"
      ]
    },
    {
      "cell_type": "code",
      "execution_count": null,
      "metadata": {
        "colab": {
          "base_uri": "https://localhost:8080/"
        },
        "id": "5zHdPmH_bWSF",
        "outputId": "a4a7684a-6378-4f9b-8355-942c3d9cc77d"
      },
      "outputs": [
        {
          "name": "stdout",
          "output_type": "stream",
          "text": [
            "the list of temperature in Celsious is [41.83, 35.46, 36.67, 36.45, 32.25]\n",
            "41.83 C = 107.294 F\n",
            "35.46 C = 95.828 F\n",
            "36.67 C = 98.006 F\n",
            "36.45 C = 97.61000000000001 F\n",
            "32.25 C = 90.05000000000001 F\n"
          ]
        }
      ],
      "source": [
        "import random\n",
        "c1=[round(random.uniform(32, 42), 2) for _ in range(5)]\n",
        "print(f\"the list of temperature in Celsious is {c1}\")\n",
        "f1=list(map(lambda c:c*(9/5)+32,c1))\n",
        "for c,f in zip(c1,f1):\n",
        "  print(f\"{c} C = {f} F\")"
      ]
    },
    {
      "cell_type": "markdown",
      "metadata": {
        "id": "M4_RfR-CbUyX"
      },
      "source": [
        "8.\tWrite a Python program that uses the `map()` function to round each element of a list of floating-point numbers to the nearest integer.\n"
      ]
    },
    {
      "cell_type": "code",
      "execution_count": null,
      "metadata": {
        "colab": {
          "base_uri": "https://localhost:8080/"
        },
        "id": "YfOHIPszesz9",
        "outputId": "3ad31e1e-aca9-4085-c453-9d9fccf30ec7"
      },
      "outputs": [
        {
          "name": "stdout",
          "output_type": "stream",
          "text": [
            "the list of floating points is [5.62, 47.41, 24.18, 1.22, 36.7]\n",
            "nearest integer of 5.62 is 6\n",
            "nearest integer of 47.41 is 47\n",
            "nearest integer of 24.18 is 24\n",
            "nearest integer of 1.22 is 1\n",
            "nearest integer of 36.7 is 37\n"
          ]
        }
      ],
      "source": [
        "import random\n",
        "c1=[round(random.uniform(1, 50), 2) for _ in range(5)]\n",
        "print(f\"the list of floating points is {c1}\")\n",
        "f1=list(map(lambda c:int(round(c,0)),c1))\n",
        "for c,f in zip(c1,f1):\n",
        "  print(f\"nearest integer of {c} is {f}\")"
      ]
    },
    {
      "cell_type": "markdown",
      "metadata": {
        "id": "W9OkffbRfW1P"
      },
      "source": [
        "## Reduce :-"
      ]
    },
    {
      "cell_type": "markdown",
      "metadata": {
        "id": "T3xbsMItfmaf"
      },
      "source": [
        "1.\tWhat is the `reduce()` function in Python, and what module should you import to use it? Provide an example of its basic usage."
      ]
    },
    {
      "cell_type": "markdown",
      "source": [
        "The reduce() function in Python is a part of the functools module. It is used to apply a specified function cumulatively to the items of an iterable, from left to right, so as to reduce the iterable to a single value.\n",
        "\n",
        "To use the reduce() function, you need to import it from the functools module:\n",
        "\n",
        "**from functools import reduce**"
      ],
      "metadata": {
        "id": "f8i9hQsmruzb"
      }
    },
    {
      "cell_type": "code",
      "source": [
        "import random\n",
        "from functools import reduce\n",
        "l1=[random.randint(1,10) for _ in range(5)]\n",
        "print(f\"the list is {l1}\")\n",
        "\n",
        "def multiply(x, y):\n",
        "    return x * y\n",
        "\n",
        "prod=reduce(multiply,l1)\n",
        "print(f\"the product of all elements in {l1} is {prod}\")"
      ],
      "metadata": {
        "colab": {
          "base_uri": "https://localhost:8080/"
        },
        "id": "xFXLszLqr-kW",
        "outputId": "47f3193b-5014-454d-eeba-e7c42a55f664"
      },
      "execution_count": null,
      "outputs": [
        {
          "output_type": "stream",
          "name": "stdout",
          "text": [
            "the list is [5, 8, 2, 9, 1]\n",
            "the product of all elements in [5, 8, 2, 9, 1] is 720\n"
          ]
        }
      ]
    },
    {
      "cell_type": "markdown",
      "source": [
        "In this example, we import reduce from functools, define a multiply function that takes two arguments and returns their product, and then use reduce() to apply this multiply function cumulatively to the elements of the numbers list (l1). The result is the product of all the numbers in the list."
      ],
      "metadata": {
        "id": "Tq0_TDjmsXwj"
      }
    },
    {
      "cell_type": "markdown",
      "metadata": {
        "id": "rxxpGcnmftVz"
      },
      "source": [
        "2.\tWrite a Python program that uses the `reduce()` function to find the product of all elements in a list."
      ]
    },
    {
      "cell_type": "code",
      "execution_count": null,
      "metadata": {
        "colab": {
          "base_uri": "https://localhost:8080/"
        },
        "id": "RO8i29grfx7C",
        "outputId": "3d6d613b-de28-44e3-afe3-d8f68f6ac24a"
      },
      "outputs": [
        {
          "name": "stdout",
          "output_type": "stream",
          "text": [
            "the list is [4, 10, 9, 4, 2]\n",
            "the product of all elements in [4, 10, 9, 4, 2] is 2880\n"
          ]
        }
      ],
      "source": [
        "import random\n",
        "from functools import reduce\n",
        "l1=[random.randint(1,10) for _ in range(5)]\n",
        "print(f\"the list is {l1}\")\n",
        "prod=reduce(lambda a,b:a*b,l1)\n",
        "print(f\"the product of all elements in {l1} is {prod}\")"
      ]
    },
    {
      "cell_type": "markdown",
      "metadata": {
        "id": "5JRe4IX3hXzZ"
      },
      "source": [
        "3.\tCreate a Python program that uses `reduce()` to find the maximum element in a list of numbers.\n"
      ]
    },
    {
      "cell_type": "code",
      "execution_count": null,
      "metadata": {
        "colab": {
          "base_uri": "https://localhost:8080/"
        },
        "id": "BY11Ykmgha9C",
        "outputId": "60565f2f-07de-44b2-dbaf-04a78a337bc1"
      },
      "outputs": [
        {
          "name": "stdout",
          "output_type": "stream",
          "text": [
            "the list is [7, 3, 2, 4, 9]\n",
            "maximum of all elements in [7, 3, 2, 4, 9] is 9\n"
          ]
        }
      ],
      "source": [
        "import random\n",
        "from functools import reduce\n",
        "l1=[random.randint(1,10) for _ in range(5)]\n",
        "print(f\"the list is {l1}\")\n",
        "prod=reduce(lambda a,b:max(a,b),l1)\n",
        "print(f\"maximum of all elements in {l1} is {prod}\")"
      ]
    },
    {
      "cell_type": "markdown",
      "metadata": {
        "id": "egWG095TiBiL"
      },
      "source": [
        "4.\tHow can you use the `reduce()` function to concatenate a list of strings into a single string?"
      ]
    },
    {
      "cell_type": "code",
      "execution_count": null,
      "metadata": {
        "colab": {
          "base_uri": "https://localhost:8080/"
        },
        "id": "v5OnpLsMh-HQ",
        "outputId": "7f32b167-3b20-432c-b1e3-d56abd56cd67"
      },
      "outputs": [
        {
          "name": "stdout",
          "output_type": "stream",
          "text": [
            "list of strings : ['pwskills', 'prasant', 'sonu']\n",
            "after concatenate, the single string is 'pwskills prasant sonu'\n"
          ]
        }
      ],
      "source": [
        "names=[\"pwskills\",\"prasant\",\"sonu\"]\n",
        "print(f\"list of strings : {names}\")\n",
        "from functools import reduce\n",
        "s=reduce(lambda a,b:a+' '+b,names)\n",
        "print(f\"after concatenate, the single string is '{s}'\")"
      ]
    },
    {
      "cell_type": "markdown",
      "metadata": {
        "id": "js5OwgM6jUsg"
      },
      "source": [
        "5.\tWrite a Python program that calculates the factorial of a number using the `reduce()` function."
      ]
    },
    {
      "cell_type": "code",
      "execution_count": null,
      "metadata": {
        "colab": {
          "base_uri": "https://localhost:8080/"
        },
        "id": "92wPcq14jV99",
        "outputId": "d0f26475-6f4f-4602-f1b7-91801268525a"
      },
      "outputs": [
        {
          "name": "stdout",
          "output_type": "stream",
          "text": [
            "enter a number : 5\n",
            "factorial of 5 is 120\n"
          ]
        }
      ],
      "source": [
        "n=int(input(\"enter a number : \"))\n",
        "l1=[i for i in range(1,n+1)]\n",
        "from functools import reduce\n",
        "fact=reduce(lambda a,b:a*b,l1)\n",
        "print(f\"factorial of {n} is {fact}\")"
      ]
    },
    {
      "cell_type": "markdown",
      "metadata": {
        "id": "SpFlSHhmkRFH"
      },
      "source": [
        "6.\tCreate a Python program that uses `reduce()` to find the GCD (Greatest Common Divisor) of a list of numbers."
      ]
    },
    {
      "cell_type": "code",
      "execution_count": null,
      "metadata": {
        "colab": {
          "base_uri": "https://localhost:8080/"
        },
        "id": "d6qC6isikTTN",
        "outputId": "f8e67733-ff59-464a-8cf5-b4fa7eb335b6"
      },
      "outputs": [
        {
          "output_type": "stream",
          "name": "stdout",
          "text": [
            "the list is [3, 10, 9, 3, 4]\n",
            "GCD of all elements in [3, 10, 9, 3, 4] is 1\n"
          ]
        }
      ],
      "source": [
        "def find_gcd(num1,num2):\n",
        "  if num1 < num2:\n",
        "    num1, num2 = num2, num1\n",
        "\n",
        "  for _ in range(num2,-1,-1):\n",
        "    if num2==0:\n",
        "      break\n",
        "    else:\n",
        "      num1, num2 = num2, num1 % num2\n",
        "  return num1\n",
        "\n",
        "import random\n",
        "from functools import reduce\n",
        "l1=[random.randint(1,10) for _ in range(5)]\n",
        "print(f\"the list is {l1}\")\n",
        "g=reduce(lambda a,b:find_gcd(a,b),l1)\n",
        "print(f\"GCD of all elements in {l1} is {g}\")"
      ]
    },
    {
      "cell_type": "markdown",
      "metadata": {
        "id": "wLFXIn3bfZYW"
      },
      "source": [
        "7.\tWrite a Python program that uses the `reduce()` function to find the sum of the digits of a given number.\n"
      ]
    },
    {
      "cell_type": "code",
      "source": [
        "def digits_of_num(n):\n",
        "  digits=[]\n",
        "  while n>0:\n",
        "    r=n%10\n",
        "    digits.append(r)\n",
        "    n=n//10\n",
        "  return digits\n",
        "import random\n",
        "from functools import reduce\n",
        "n=int(input(\"enter a number : \"))\n",
        "l1=digits_of_num(n)\n",
        "\n",
        "s=reduce(lambda a,b:a+b,l1)\n",
        "print(f\"sum of digits of {n} is {s}\")"
      ],
      "metadata": {
        "colab": {
          "base_uri": "https://localhost:8080/"
        },
        "id": "JvDZ0CCEmXBs",
        "outputId": "1b196742-7c00-4a79-9a18-b35f15b69cd0"
      },
      "execution_count": null,
      "outputs": [
        {
          "output_type": "stream",
          "name": "stdout",
          "text": [
            "enter a number : 2023\n",
            "sum of digits of 2023 is 7\n"
          ]
        }
      ]
    },
    {
      "cell_type": "markdown",
      "source": [
        "## Filter :-"
      ],
      "metadata": {
        "id": "8HXdhRqKn0Hl"
      }
    },
    {
      "cell_type": "markdown",
      "source": [
        "1.\tExplain the purpose of the `filter()` function in Python and provide an example of how it can be used to filter elements from an iterable."
      ],
      "metadata": {
        "id": "_ZoDJNKDoD3Y"
      }
    },
    {
      "cell_type": "markdown",
      "source": [
        "The filter() function in Python is a built-in function used to filter elements from an iterable (like a list, tuple, etc.) based on a specified condition. It creates a new iterable containing only the elements for which the provided function returns True.\n",
        "\n",
        "Here is the syntax for filter():\n",
        "\n",
        "filter(function, iterable)"
      ],
      "metadata": {
        "id": "GbPmzgBO5Rat"
      }
    },
    {
      "cell_type": "markdown",
      "source": [
        "2.\tWrite a Python program that uses the `filter()` function to select even numbers from a list of integers."
      ],
      "metadata": {
        "id": "CbvhvKfDoJkU"
      }
    },
    {
      "cell_type": "code",
      "source": [
        "import random\n",
        "from functools import reduce\n",
        "l1=[random.randint(1,30) for _ in range(10)]\n",
        "print(f\"the list is {l1}\")\n",
        "even_nums=list(filter(lambda a:a%2==0,l1))\n",
        "print(f\"list of even numbers : {even_nums}\")"
      ],
      "metadata": {
        "colab": {
          "base_uri": "https://localhost:8080/"
        },
        "id": "PzG2WvgYoLHG",
        "outputId": "b48c3b8b-d757-4389-fe0f-5bc36904a07b"
      },
      "execution_count": null,
      "outputs": [
        {
          "output_type": "stream",
          "name": "stdout",
          "text": [
            "the list is [2, 23, 30, 6, 23, 23, 20, 21, 20, 10]\n",
            "list of even numbers : [2, 30, 6, 20, 20, 10]\n"
          ]
        }
      ]
    },
    {
      "cell_type": "markdown",
      "source": [
        "3.\tCreate a Python program that uses the `filter()` function to select names that start with a specific letter from a list of strings."
      ],
      "metadata": {
        "id": "4NNUp0ibpBWt"
      }
    },
    {
      "cell_type": "code",
      "source": [
        "names=['Python','Java','cobal','C','C++']\n",
        "print(f\"list of names : {names}\")\n",
        "ch=input(\"enter a char to check start with : \")\n",
        "selected_names=list(filter(lambda n:n.lower().startswith(ch),names))\n",
        "print(f\"selected names start with '{ch}' are {selected_names}\")"
      ],
      "metadata": {
        "id": "4cFuQe-hpClG",
        "colab": {
          "base_uri": "https://localhost:8080/"
        },
        "outputId": "cf18e8de-a545-44d2-c01e-c508b65aaa81"
      },
      "execution_count": null,
      "outputs": [
        {
          "output_type": "stream",
          "name": "stdout",
          "text": [
            "list of names : ['Python', 'Java', 'cobal', 'C', 'C++']\n",
            "enter a char to check start with : c\n",
            "selected names start with 'c' are ['cobal', 'C', 'C++']\n"
          ]
        }
      ]
    },
    {
      "cell_type": "markdown",
      "source": [
        "4.\tWrite a Python program that uses the `filter()` function to select prime numbers from a list of integers."
      ],
      "metadata": {
        "id": "6fnXV972E19w"
      }
    },
    {
      "cell_type": "code",
      "source": [
        "def is_prime(n):\n",
        "  prime=True\n",
        "  for i in range(2,n//2+1):\n",
        "    if n%i==0:\n",
        "      prime=False\n",
        "      break\n",
        "  return prime\n",
        "\n",
        "import random\n",
        "l1=[random.randint(1,50) for _ in range(10)]\n",
        "print(f\"the list is {l1}\")\n",
        "prime_nums=list(filter(is_prime,l1))\n",
        "print(f\"list of prime numbers : {prime_nums}\")"
      ],
      "metadata": {
        "colab": {
          "base_uri": "https://localhost:8080/"
        },
        "id": "-vpTMRPjE2rA",
        "outputId": "79208302-ce1b-4671-c8b3-20fc0f051d28"
      },
      "execution_count": null,
      "outputs": [
        {
          "output_type": "stream",
          "name": "stdout",
          "text": [
            "the list is [40, 39, 23, 37, 19, 27, 27, 14, 23, 32]\n",
            "list of prime numbers : [23, 37, 19, 23]\n"
          ]
        }
      ]
    },
    {
      "cell_type": "markdown",
      "source": [
        "\n",
        "5.\tHow can you use the `filter()` function to remove None values from a list in Python?\n"
      ],
      "metadata": {
        "id": "li_67RkKn3LI"
      }
    },
    {
      "cell_type": "code",
      "source": [
        "import random\n",
        "l1=[random.randint(1,30) if random.random() < 0.7 else None for _ in range(10)]\n",
        "print(f\"the list is {l1}\")\n",
        "non_none_list=list(filter(lambda x:x is not None,l1))\n",
        "print(f\"after removing None values from the list : {non_none_list}\")"
      ],
      "metadata": {
        "colab": {
          "base_uri": "https://localhost:8080/"
        },
        "id": "xlLxJRZhHvp8",
        "outputId": "f8c9a618-975b-4cf6-8af9-3d8ad31abfa9"
      },
      "execution_count": null,
      "outputs": [
        {
          "output_type": "stream",
          "name": "stdout",
          "text": [
            "the list is [None, None, 16, None, 13, None, 3, 18, None, 28]\n",
            "after removing None values from the list : [16, 13, 3, 18, 28]\n"
          ]
        }
      ]
    },
    {
      "cell_type": "markdown",
      "source": [
        "6.\tCreate a Python program that uses `filter()` to select words longer than a certain length from a list of strings.\n",
        "\n"
      ],
      "metadata": {
        "id": "fIJiLRAvNb_J"
      }
    },
    {
      "cell_type": "code",
      "source": [
        "s=input(\"enter a string : \")\n",
        "s_list=s.split()\n",
        "n=int(input(\"enter a certain length to find words longer than it : \"))\n",
        "longer_words=list(filter(lambda x:len(x)>n,s_list))\n",
        "print(f\"words longer than length {n} are : {longer_words}\")"
      ],
      "metadata": {
        "colab": {
          "base_uri": "https://localhost:8080/"
        },
        "id": "r2IFfqUqNfwC",
        "outputId": "a0f07235-5806-4ac4-c62e-b2d58e89e944"
      },
      "execution_count": null,
      "outputs": [
        {
          "output_type": "stream",
          "name": "stdout",
          "text": [
            "enter a string : I am going to market\n",
            "enter a certain length to find words longer than it : 2\n",
            "words longer than length 2 are : ['going', 'market']\n"
          ]
        }
      ]
    },
    {
      "cell_type": "markdown",
      "source": [
        "7.\tWrite a Python program that uses the `filter()` function to select elements greater than a specified threshold from a list of values."
      ],
      "metadata": {
        "id": "4aIh_iKVNerz"
      }
    },
    {
      "cell_type": "code",
      "source": [
        "import random\n",
        "l1=[random.randint(1,50) for _ in range(10)]\n",
        "print(f\"the list is {l1}\")\n",
        "n=int(input(\"enter a threshold value : \"))\n",
        "larger_elements=list(filter(lambda x:x>n,l1))\n",
        "print(f\"elements larger than {n} are : {larger_elements}\")"
      ],
      "metadata": {
        "colab": {
          "base_uri": "https://localhost:8080/"
        },
        "id": "Tynmt3SRP-iq",
        "outputId": "4c88e18c-1fbf-4745-e300-c85efe6fe988"
      },
      "execution_count": null,
      "outputs": [
        {
          "output_type": "stream",
          "name": "stdout",
          "text": [
            "the list is [30, 50, 28, 19, 4, 25, 11, 46, 21, 44]\n",
            "enter a threshold value : 25\n",
            "elements larger than 25 are : [30, 50, 28, 46, 44]\n"
          ]
        }
      ]
    },
    {
      "cell_type": "markdown",
      "source": [
        "## Recursion:-"
      ],
      "metadata": {
        "id": "xHwYOXdsQk5r"
      }
    },
    {
      "cell_type": "markdown",
      "source": [
        "1.\tExplain the concept of recursion in Python. How does it differ from iteration?"
      ],
      "metadata": {
        "id": "8e73Pam9RB-a"
      }
    },
    {
      "cell_type": "markdown",
      "source": [
        "Recursion in Python is a technique where a function calls itself to solve a problem, breaking it down into smaller subproblems. It requires a base case to stop recursion. Recursion differs from iteration, which uses loops for repetition, and it uses stack memory for function calls. Recursion is more concise for certain tasks but can lead to stack overflow errors for deeply nested calls. Iteration is often more memory-efficient and suitable for repetitive tasks."
      ],
      "metadata": {
        "id": "-LBdIRFvrIff"
      }
    },
    {
      "cell_type": "markdown",
      "source": [
        "2.\tWrite a Python program to calculate the factorial of a number using recursion."
      ],
      "metadata": {
        "id": "S9iF8ic8REfi"
      }
    },
    {
      "cell_type": "code",
      "source": [
        "def fact(n):\n",
        "  if n<=1:\n",
        "    return 1\n",
        "  else:\n",
        "    return n*fact(n-1)\n",
        "\n",
        "n=int(input(\"enter a number : \"))\n",
        "print(f\"factorial of {n} is {fact(n)}\")"
      ],
      "metadata": {
        "colab": {
          "base_uri": "https://localhost:8080/"
        },
        "id": "qkdghhjiRFKK",
        "outputId": "1585ebdd-12cf-4908-b77e-388d1ce2e880"
      },
      "execution_count": null,
      "outputs": [
        {
          "output_type": "stream",
          "name": "stdout",
          "text": [
            "enter a number : 6\n",
            "factorial of 6 is 720\n"
          ]
        }
      ]
    },
    {
      "cell_type": "markdown",
      "source": [
        "3.\tCreate a recursive Python function to find the nth Fibonacci number."
      ],
      "metadata": {
        "id": "YYq3_yD0S8w7"
      }
    },
    {
      "cell_type": "code",
      "source": [
        "def fibo(n):\n",
        "  if n<=1:\n",
        "    return n\n",
        "  else:\n",
        "    return fibo(n-1)+fibo(n-2)\n",
        "\n",
        "n=int(input(\"enter a number : \"))\n",
        "print(f\"the {n}th Fibonacci number is {fibo(n)}\")"
      ],
      "metadata": {
        "colab": {
          "base_uri": "https://localhost:8080/"
        },
        "id": "PTCnYtg0S9sy",
        "outputId": "2105ebba-3065-4d44-e392-9d66e1c62f14"
      },
      "execution_count": null,
      "outputs": [
        {
          "output_type": "stream",
          "name": "stdout",
          "text": [
            "enter a number : 6\n",
            "the 6th Fibonacci number is 8\n"
          ]
        }
      ]
    },
    {
      "cell_type": "markdown",
      "source": [
        "4.\tWrite a recursive Python function to calculate the sum of all elements in a list."
      ],
      "metadata": {
        "id": "D01ejOyYTzHr"
      }
    },
    {
      "cell_type": "code",
      "source": [
        "import random\n",
        "l1=[random.randint(1,10) for _ in range(5)]\n",
        "print(f\"the list is {l1}\")\n",
        "\n",
        "def list_sum(li):\n",
        "  if len(li)==1:\n",
        "    return li[0]\n",
        "  else:\n",
        "    return li[-1]+list_sum(li[:len(li)-1])\n",
        "\n",
        "print(f\"sum of elements of {l1} is {list_sum(l1)}\")"
      ],
      "metadata": {
        "colab": {
          "base_uri": "https://localhost:8080/"
        },
        "id": "VhatSS90TzxC",
        "outputId": "16097a82-5f54-4c8d-f591-c00dee5526ca"
      },
      "execution_count": null,
      "outputs": [
        {
          "output_type": "stream",
          "name": "stdout",
          "text": [
            "the list is [2, 5, 4, 1, 7]\n",
            "sum of elements of [2, 5, 4, 1, 7] is 19\n"
          ]
        }
      ]
    },
    {
      "cell_type": "markdown",
      "source": [
        "\n",
        "\n",
        "5.\tHow can you prevent a recursive function from running indefinitely, causing a stack overflow error?\n"
      ],
      "metadata": {
        "id": "P9jU4YaEQnMK"
      }
    },
    {
      "cell_type": "markdown",
      "source": [
        "To prevent a Python recursive function from running indefinitely and causing a stack overflow error:\n",
        "\n",
        "a) Define a base case that, when met, stops the recursion.\n",
        "\n",
        "b) Check the base case at the beginning of the function and return a result if it's met.\n",
        "\n",
        "c) Make recursive calls only if the base case is not met, ensuring the inputs move closer to the base case with each call."
      ],
      "metadata": {
        "id": "hrH5xWFwqmi9"
      }
    },
    {
      "cell_type": "markdown",
      "source": [
        "6.\tCreate a recursive Python function to find the greatest common divisor (GCD) of two numbers using the Euclidean algorithm."
      ],
      "metadata": {
        "id": "UR3s9R79cwuz"
      }
    },
    {
      "cell_type": "code",
      "source": [
        "def gcd_recursive(a, b):\n",
        "    if b == 0:\n",
        "        return a\n",
        "    else:\n",
        "        return gcd_recursive(b, a % b)\n",
        "\n",
        "num1 = int(input(\"Enter the first number: \"))\n",
        "num2 = int(input(\"Enter the second number: \"))\n",
        "\n",
        "\n",
        "result = gcd_recursive(num1, num2)\n",
        "print(f\"The GCD of {num1} and {num2} is {result}\")"
      ],
      "metadata": {
        "colab": {
          "base_uri": "https://localhost:8080/"
        },
        "id": "1-MqHkBsczcL",
        "outputId": "40775d6a-9d4d-467c-d022-46c7a3089fb8"
      },
      "execution_count": null,
      "outputs": [
        {
          "output_type": "stream",
          "name": "stdout",
          "text": [
            "Enter the first number: 25\n",
            "Enter the second number: 20\n",
            "The GCD of 25 and 20 is 5\n"
          ]
        }
      ]
    },
    {
      "cell_type": "markdown",
      "source": [
        "7.\tWrite a recursive Python function to reverse a string."
      ],
      "metadata": {
        "id": "OcY6yS1SdrSy"
      }
    },
    {
      "cell_type": "code",
      "source": [
        "s=input(\"enter a string : \")\n",
        "\n",
        "def str_rev(s):\n",
        "  if len(s)==1:\n",
        "    return s[0]\n",
        "  else:\n",
        "    return s[-1]+str_rev(s[:len(s)-1])\n",
        "\n",
        "print(f\"reverse of {s} is {str_rev(s)}\")"
      ],
      "metadata": {
        "colab": {
          "base_uri": "https://localhost:8080/"
        },
        "id": "GCpxr6d9dsui",
        "outputId": "bbbfe2cd-5bac-4df6-c84a-3364a2353090"
      },
      "execution_count": null,
      "outputs": [
        {
          "output_type": "stream",
          "name": "stdout",
          "text": [
            "enter a string : python\n",
            "reverse of python is nohtyp\n"
          ]
        }
      ]
    },
    {
      "cell_type": "markdown",
      "source": [
        "8.\tCreate a recursive Python function to calculate the power of a number (x^n)"
      ],
      "metadata": {
        "id": "I7lv5O8BhqMk"
      }
    },
    {
      "cell_type": "code",
      "source": [
        "x=int(input(\"to calculate the power of a number (x^n), enter value of x : \"))\n",
        "n=int(input(\"to calculate the power of a number (x^n), enter value of n : \"))\n",
        "\n",
        "def power(x,n):\n",
        "  if n==0:\n",
        "    return 1\n",
        "  else:\n",
        "    return x*power(x,n-1)\n",
        "\n",
        "print(f\"({x}^{n})={power(x,n)}\")"
      ],
      "metadata": {
        "colab": {
          "base_uri": "https://localhost:8080/"
        },
        "id": "U3nA7g1LhrDL",
        "outputId": "0c6e292d-8f30-4a26-92b9-eea774bb1749"
      },
      "execution_count": null,
      "outputs": [
        {
          "output_type": "stream",
          "name": "stdout",
          "text": [
            "to calculate the power of a number (x^n), enter value of x : 2\n",
            "to calculate the power of a number (x^n), enter value of n : 4\n",
            "(2^4)=16\n"
          ]
        }
      ]
    },
    {
      "cell_type": "markdown",
      "source": [
        "9.\tWrite a recursive Python function to find all permutations of a given string."
      ],
      "metadata": {
        "id": "FHtw5HrGiq17"
      }
    },
    {
      "cell_type": "code",
      "source": [
        "def get_permutations(input_str):\n",
        "    if len(input_str) == 0:\n",
        "        return [\"\"]\n",
        "\n",
        "    permutations = []\n",
        "    for i in range(len(input_str)):\n",
        "        first_char = input_str[i]\n",
        "        remaining_chars = input_str[:i] + input_str[i+1:]\n",
        "\n",
        "        sub_permutations = get_permutations(remaining_chars)\n",
        "\n",
        "        for sub_permutation in sub_permutations:\n",
        "            permutations.append(first_char + sub_permutation)\n",
        "\n",
        "    return permutations\n",
        "\n",
        "# Input: Enter the string for which you want to find permutations\n",
        "input_string = input(\"Enter a string: \")\n",
        "\n",
        "# Calculate and display the permutations\n",
        "permutations = get_permutations(input_string)\n",
        "print(f\"Permutations of '{input_string}':\")\n",
        "for permutation in permutations:\n",
        "    print(permutation)\n"
      ],
      "metadata": {
        "colab": {
          "base_uri": "https://localhost:8080/"
        },
        "id": "eEPA_qEdiriL",
        "outputId": "09211f1b-8c23-48f7-eb2c-c8b4e5089a27"
      },
      "execution_count": null,
      "outputs": [
        {
          "output_type": "stream",
          "name": "stdout",
          "text": [
            "Enter a string: nitm\n",
            "Permutations of 'nitm':\n",
            "nitm\n",
            "nimt\n",
            "ntim\n",
            "ntmi\n",
            "nmit\n",
            "nmti\n",
            "intm\n",
            "inmt\n",
            "itnm\n",
            "itmn\n",
            "imnt\n",
            "imtn\n",
            "tnim\n",
            "tnmi\n",
            "tinm\n",
            "timn\n",
            "tmni\n",
            "tmin\n",
            "mnit\n",
            "mnti\n",
            "mint\n",
            "mitn\n",
            "mtni\n",
            "mtin\n"
          ]
        }
      ]
    },
    {
      "cell_type": "markdown",
      "source": [
        "10.\tWrite a recursive Python function to check if a string is a palindrome."
      ],
      "metadata": {
        "id": "TYy3KWm7mbBj"
      }
    },
    {
      "cell_type": "code",
      "source": [
        "s=input(\"enter a string : \")\n",
        "\n",
        "def str_rev(s):\n",
        "  if len(s)==1:\n",
        "    return s[0]\n",
        "  else:\n",
        "    return s[-1]+str_rev(s[:len(s)-1])\n",
        "\n",
        "if s==str_rev(s):\n",
        "  print(f\"the string '{s}' is palindrome\")\n",
        "else:\n",
        "  print(f\"the string '{s}' is not palindrome\")"
      ],
      "metadata": {
        "colab": {
          "base_uri": "https://localhost:8080/"
        },
        "id": "e7wTrrYcmeBE",
        "outputId": "4b42fdd5-03c3-4cc1-c662-a271d275ba68"
      },
      "execution_count": null,
      "outputs": [
        {
          "output_type": "stream",
          "name": "stdout",
          "text": [
            "enter a string : madam\n",
            "the string 'madam' is palindrome\n"
          ]
        }
      ]
    },
    {
      "cell_type": "markdown",
      "source": [
        "\n",
        "11.\tCreate a recursive Python function to generate all possible combinations of a list of elements.\n"
      ],
      "metadata": {
        "id": "OnX3cQsyctVT"
      }
    },
    {
      "cell_type": "code",
      "source": [
        "def generate_combinations(elements):\n",
        "    if len(elements) == 0:\n",
        "        return [[]]\n",
        "\n",
        "    first_element = elements[0]\n",
        "    remaining_elements = elements[1:]\n",
        "\n",
        "    combinations_without_first = generate_combinations(remaining_elements)\n",
        "    combinations_with_first = []\n",
        "\n",
        "    for combination in combinations_without_first:\n",
        "        combinations_with_first.append([first_element] + combination)\n",
        "\n",
        "    return combinations_without_first + combinations_with_first\n",
        "\n",
        "import random\n",
        "l1=[random.randint(1,50) for _ in range(5)]\n",
        "print(f\"the list is {l1}\")\n",
        "\n",
        "combinations = generate_combinations(l1)\n",
        "print(f\"Combinations of {l1}:\")\n",
        "for combination in combinations:\n",
        "    print(combination)"
      ],
      "metadata": {
        "colab": {
          "base_uri": "https://localhost:8080/"
        },
        "id": "JwIaaSjCnDE8",
        "outputId": "85dcc112-daf9-441b-ed08-a949cab1f6e5"
      },
      "execution_count": null,
      "outputs": [
        {
          "output_type": "stream",
          "name": "stdout",
          "text": [
            "the list is [35, 27, 19, 49, 3]\n",
            "Combinations of [35, 27, 19, 49, 3]:\n",
            "[]\n",
            "[3]\n",
            "[49]\n",
            "[49, 3]\n",
            "[19]\n",
            "[19, 3]\n",
            "[19, 49]\n",
            "[19, 49, 3]\n",
            "[27]\n",
            "[27, 3]\n",
            "[27, 49]\n",
            "[27, 49, 3]\n",
            "[27, 19]\n",
            "[27, 19, 3]\n",
            "[27, 19, 49]\n",
            "[27, 19, 49, 3]\n",
            "[35]\n",
            "[35, 3]\n",
            "[35, 49]\n",
            "[35, 49, 3]\n",
            "[35, 19]\n",
            "[35, 19, 3]\n",
            "[35, 19, 49]\n",
            "[35, 19, 49, 3]\n",
            "[35, 27]\n",
            "[35, 27, 3]\n",
            "[35, 27, 49]\n",
            "[35, 27, 49, 3]\n",
            "[35, 27, 19]\n",
            "[35, 27, 19, 3]\n",
            "[35, 27, 19, 49]\n",
            "[35, 27, 19, 49, 3]\n"
          ]
        }
      ]
    },
    {
      "cell_type": "markdown",
      "source": [
        "## Basics of Functions:"
      ],
      "metadata": {
        "id": "bqpCywk86It0"
      }
    },
    {
      "cell_type": "markdown",
      "source": [
        "1.\tWhat is a function in Python, and why is it used?"
      ],
      "metadata": {
        "id": "yf-yBcrZ6VgG"
      }
    },
    {
      "cell_type": "markdown",
      "source": [
        "A function in Python is a reusable block of code that performs a specific task. Functions are used to organize code into modular units, promote code reuse, and improve code readability. They can accept inputs (parameters), produce outputs (return values), and are essential for structuring and simplifying complex programs."
      ],
      "metadata": {
        "id": "RO5IbkDnqOUU"
      }
    },
    {
      "cell_type": "markdown",
      "source": [
        "2.\tHow do you define a function in Python? Provide an example."
      ],
      "metadata": {
        "id": "0JT7IP1d6YV1"
      }
    },
    {
      "cell_type": "markdown",
      "source": [
        "In Python, you define a function using the def keyword followed by the function name, a pair of parentheses containing any parameters the function may take, and a colon : to indicate the beginning of the function block. Here is the general syntax:"
      ],
      "metadata": {
        "id": "mmuRLkc-pD9a"
      }
    },
    {
      "cell_type": "code",
      "source": [
        "def function_name(parameter1, parameter2, pametern):\n",
        "    # Function code goes here\n",
        "    # ...\n",
        "    return result  # Optional return statement"
      ],
      "metadata": {
        "id": "_VUZXMm9pFCX"
      },
      "execution_count": null,
      "outputs": []
    },
    {
      "cell_type": "code",
      "source": [
        "def add_numbers(x, y):\n",
        "    result = x + y\n",
        "    return result"
      ],
      "metadata": {
        "id": "Ys0MQZW3pTRs"
      },
      "execution_count": null,
      "outputs": []
    },
    {
      "cell_type": "markdown",
      "source": [
        "In this example:\n",
        "\n",
        "**def** is the keyword used to start the function definition.\n",
        "\n",
        "**add_numbers** is the name of the function.\n",
        "\n",
        "**(x, y)** are the parameters, which are the inputs the function expects.\n",
        "\n",
        "**:** marks the end of the function header and the beginning of the function body.\n",
        "result = x + y is the code that performs the addition operation.\n",
        "\n",
        "**return result** is an optional statement that specifies the value the function will produce as its output."
      ],
      "metadata": {
        "id": "DlOpn5ZKpawM"
      }
    },
    {
      "cell_type": "markdown",
      "source": [
        "3.\tExplain the difference between a function definition and a function call."
      ],
      "metadata": {
        "id": "CLARNsQG6hpz"
      }
    },
    {
      "cell_type": "markdown",
      "source": [
        "**Function Definition:**\n",
        "\n",
        "A function definition is the process of creating a new function. It involves specifying the function's name, its parameters, and the code that it will execute when called.\n",
        "\n",
        "When you define a function, you are essentially creating a reusable block of code with a specific name and behavior.\n",
        "\n",
        "Example of a function definition:"
      ],
      "metadata": {
        "id": "9Tln20WyodYk"
      }
    },
    {
      "cell_type": "code",
      "source": [
        "def add_numbers(x, y):\n",
        "    result = x + y\n",
        "    return result"
      ],
      "metadata": {
        "id": "hExyV4KSojv2"
      },
      "execution_count": null,
      "outputs": []
    },
    {
      "cell_type": "markdown",
      "source": [
        "**Function Call:**\n",
        "\n",
        "A function call, also known as invoking or executing a function, is the process of using a function that has already been defined. When you call a function, you provide the actual values or arguments that the function will use to perform its operation.\n",
        "\n",
        "The function call triggers the execution of the code defined within the function."
      ],
      "metadata": {
        "id": "BJBhqHZNorom"
      }
    },
    {
      "cell_type": "code",
      "source": [
        "sum_result = add_numbers(3, 5)"
      ],
      "metadata": {
        "id": "cdXWHe38oxq-"
      },
      "execution_count": null,
      "outputs": []
    },
    {
      "cell_type": "markdown",
      "source": [
        "4.\tWrite a Python program that defines a function to calculate the sum of two numbers and then calls the function."
      ],
      "metadata": {
        "id": "co_t2UId6klT"
      }
    },
    {
      "cell_type": "code",
      "source": [
        "def add_num(n1,n2):\n",
        "  return n1+n2\n",
        "\n",
        "\n",
        "n1 = int(input(\"Enter the first number: \"))\n",
        "n2 = int(input(\"Enter the second number: \"))\n",
        "print(f\"sum of {n1} and {n2} is {add_num(n1,n2)}\")"
      ],
      "metadata": {
        "colab": {
          "base_uri": "https://localhost:8080/"
        },
        "id": "QJNHsIT-6ld8",
        "outputId": "2738ee58-c6de-412a-e034-59903c984d72"
      },
      "execution_count": null,
      "outputs": [
        {
          "output_type": "stream",
          "name": "stdout",
          "text": [
            "Enter the first number: 5\n",
            "Enter the second number: 8\n",
            "sum of 5 and 8 is 13\n"
          ]
        }
      ]
    },
    {
      "cell_type": "markdown",
      "source": [
        "\n",
        "5.\tWhat is a function signature, and what information does it typically include?\n",
        "\n"
      ],
      "metadata": {
        "id": "glJuvO8f6Khk"
      }
    },
    {
      "cell_type": "markdown",
      "source": [
        "A Python function signature refers to the declaration of a function, which includes its name and the information about its parameters and return value. It typically includes the following information:\n",
        "\n",
        "**Function Name:** The name that uniquely identifies the function within the codebase. It should follow Python's naming conventions.\n",
        "\n",
        "**Parameters:** Information about the function's parameters, including their names and data types. Parameters are enclosed in parentheses and separated by commas.\n",
        "\n",
        "**Return Type:** The data type or type hint that specifies the type of value that the function will return. This part of the signature is often denoted using a colon (:) followed by the return type.\n",
        "\n",
        "In the following function signature:\n",
        "\n",
        "Function Name: calculate_sum is the name of the function.\n",
        "Parameters: x and y are the parameters, both of type int.\n",
        "Return Type: int specifies that the function will return an integer."
      ],
      "metadata": {
        "id": "2mHL7rofm-0E"
      }
    },
    {
      "cell_type": "code",
      "source": [
        "def calculate_sum(x: int, y: int) -> int:\n",
        "    \"\"\"\n",
        "    This function calculates the sum of two numbers.\n",
        "\n",
        "    Args:\n",
        "        x (int): The first number.\n",
        "        y (int): The second number.\n",
        "\n",
        "    Returns:\n",
        "        int: The sum of x and y.\n",
        "    \"\"\"\n",
        "    result = x + y\n",
        "    return result\n"
      ],
      "metadata": {
        "id": "p5PVd1ADnZef"
      },
      "execution_count": null,
      "outputs": []
    },
    {
      "cell_type": "markdown",
      "source": [
        "6.\tCreate a Python function that takes two arguments and returns their product."
      ],
      "metadata": {
        "id": "-n7McDv8FNUq"
      }
    },
    {
      "cell_type": "code",
      "source": [
        "def mul_num(n1,n2):\n",
        "  return n1*n2\n",
        "\n",
        "\n",
        "n1 = int(input(\"Enter the first number: \"))\n",
        "n2 = int(input(\"Enter the second number: \"))\n",
        "print(f\"product of {n1} and {n2} is {mul_num(n1,n2)}\")"
      ],
      "metadata": {
        "colab": {
          "base_uri": "https://localhost:8080/"
        },
        "id": "44azPOm6FMqU",
        "outputId": "fa401dcf-c028-4838-81df-b011a4d5e4e2"
      },
      "execution_count": null,
      "outputs": [
        {
          "output_type": "stream",
          "name": "stdout",
          "text": [
            "Enter the first number: 5\n",
            "Enter the second number: 8\n",
            "product of 5 and 8 is 40\n"
          ]
        }
      ]
    },
    {
      "cell_type": "markdown",
      "source": [
        "## Function Parameters and Arguments:"
      ],
      "metadata": {
        "id": "9gQ5JYyJF6li"
      }
    },
    {
      "cell_type": "markdown",
      "source": [
        "1.\tExplain the concepts of formal parameters and actual arguments in Python functions."
      ],
      "metadata": {
        "id": "Xy0QcOhOGAim"
      }
    },
    {
      "cell_type": "markdown",
      "source": [
        "Formal Parameters (Parameters):\n",
        "\n",
        "Formal parameters refer to the placeholders or variables that are defined in a function's parameter list.\n",
        "\n",
        "They act as local variables within the function and serve as a way to receive and work with input data provided when the function is called.\n",
        "\n",
        "Formal parameters are specified in the function definition and are used to define the function's interface, indicating what kind of input the function expects.\n",
        "\n",
        "In the following example, x and y are the formal parameters of the calculate_sum function."
      ],
      "metadata": {
        "id": "x7DkG0KSAUWw"
      }
    },
    {
      "cell_type": "code",
      "source": [
        "def calculate_sum(x, y):\n",
        "    result = x + y\n",
        "    return result"
      ],
      "metadata": {
        "id": "3x5jUfRWAedX"
      },
      "execution_count": null,
      "outputs": []
    },
    {
      "cell_type": "markdown",
      "source": [
        "Actual Arguments (Arguments):\n",
        "\n",
        "Actual arguments, often simply referred to as \"arguments,\" are the actual values or expressions provided to a function when it is called.\n",
        "\n",
        "These values or expressions correspond to the formal parameters defined in the function's parameter list.\n",
        "\n",
        "Arguments are passed to a function when calling it, and they provide the specific data that the function will operate on.\n",
        "\n",
        "In the following example, 3 and 5 are the actual arguments passed to the calculate_sum function, corresponding to the formal parameters x and y."
      ],
      "metadata": {
        "id": "TkKVWTBrArze"
      }
    },
    {
      "cell_type": "code",
      "source": [
        "total = calculate_sum(3, 5)"
      ],
      "metadata": {
        "id": "mzTEDSgaBAWb"
      },
      "execution_count": null,
      "outputs": []
    },
    {
      "cell_type": "markdown",
      "source": [
        "2.\tWrite a Python program that defines a function with default argument values."
      ],
      "metadata": {
        "id": "ZVXoeamLGD4V"
      }
    },
    {
      "cell_type": "code",
      "source": [
        "def add_num(n1=10,n2=10):\n",
        "  return n1+n2\n",
        "\n",
        "print(add_num(5,7))\n",
        "print(add_num(5))\n",
        "print(add_num())"
      ],
      "metadata": {
        "colab": {
          "base_uri": "https://localhost:8080/"
        },
        "id": "dMP0YbkwGEyP",
        "outputId": "80303320-e5aa-4dfd-efb2-2d2d884789b7"
      },
      "execution_count": null,
      "outputs": [
        {
          "output_type": "stream",
          "name": "stdout",
          "text": [
            "12\n",
            "15\n",
            "20\n"
          ]
        }
      ]
    },
    {
      "cell_type": "markdown",
      "source": [
        "\n",
        "3.\tHow do you use keyword arguments in Python function calls? Provide an example."
      ],
      "metadata": {
        "id": "SPjbFlcoWT4L"
      }
    },
    {
      "cell_type": "markdown",
      "source": [
        "**kwargs allows a function to accept an arbitrary number of keyword arguments.\n",
        "When a function is defined with **kwargs, it can take any number of keyword arguments, which are then collected into a dictionary.\n",
        "This feature is useful when you want to pass named parameters to a function without specifying them in advance."
      ],
      "metadata": {
        "id": "ib3CLgw1_fTb"
      }
    },
    {
      "cell_type": "code",
      "source": [
        "def print_info(**kwargs):\n",
        "    for key, value in kwargs.items():\n",
        "        print(f\"{key}: {value}\")\n",
        "\n",
        "print_info(name=\"Prasant\", age=30, city=\"Berhampur\")  # This can accept any keyword arguments"
      ],
      "metadata": {
        "colab": {
          "base_uri": "https://localhost:8080/"
        },
        "id": "pSuPe63l_eGb",
        "outputId": "4d132fc7-f785-48ea-d1c4-0929562e1122"
      },
      "execution_count": null,
      "outputs": [
        {
          "output_type": "stream",
          "name": "stdout",
          "text": [
            "name: Prasant\n",
            "age: 30\n",
            "city: Berhampur\n"
          ]
        }
      ]
    },
    {
      "cell_type": "markdown",
      "source": [
        "4.\tCreate a Python function that accepts a variable number of arguments and calculates their sum."
      ],
      "metadata": {
        "id": "QAJZVM9AWQFU"
      }
    },
    {
      "cell_type": "code",
      "source": [
        "def add_num(*n):\n",
        "  return sum(n)\n",
        "\n",
        "print(add_num(5,7))\n",
        "print(add_num(5,7,8))\n",
        "print(add_num(5,7,10))"
      ],
      "metadata": {
        "colab": {
          "base_uri": "https://localhost:8080/"
        },
        "id": "zno6ZvG0WU5O",
        "outputId": "526f7620-900f-43f0-bbf2-602d39df43e8"
      },
      "execution_count": null,
      "outputs": [
        {
          "output_type": "stream",
          "name": "stdout",
          "text": [
            "12\n",
            "20\n",
            "22\n"
          ]
        }
      ]
    },
    {
      "cell_type": "markdown",
      "source": [
        "\n",
        "\n",
        "\n",
        "5.\tWhat is the purpose of the `*args` and `**kwargs` syntax in function parameter lists?\n"
      ],
      "metadata": {
        "id": "4ga9fFLSF8Jr"
      }
    },
    {
      "cell_type": "markdown",
      "source": [
        "The purpose of the *args and **kwargs syntax in function parameter lists in Python is to provide flexibility and versatility when defining functions that can accept a variable number of arguments or keyword arguments.\n",
        "\n",
        "*args (Arbitrary Positional Arguments):\n",
        "\n",
        "*args allows a function to accept an arbitrary number of positional arguments.\n",
        "When a function is defined with *args, it can take any number of positional arguments, which are then collected into a tuple.\n",
        "This feature is useful when you want a function to be able to handle an unknown number of input values."
      ],
      "metadata": {
        "id": "5dvpHt4p-SgT"
      }
    },
    {
      "cell_type": "code",
      "source": [
        "def add_numbers(*args):\n",
        "    result = 0\n",
        "    for num in args:\n",
        "        result += num\n",
        "    return result\n",
        "\n",
        "sum_result = add_numbers(1, 2, 3, 4, 5)  # This can accept any number of arguments\n",
        "print(sum_result)  # This will print 15\n",
        "\n",
        "sum_result = add_numbers(1, 2, 3, )  # This can accept any number of arguments\n",
        "print(sum_result)  # This will print 6"
      ],
      "metadata": {
        "colab": {
          "base_uri": "https://localhost:8080/"
        },
        "id": "tsbjW3oh-ufj",
        "outputId": "c5c1659a-c78d-455f-da0d-aba1f962bcfe"
      },
      "execution_count": null,
      "outputs": [
        {
          "output_type": "stream",
          "name": "stdout",
          "text": [
            "15\n",
            "6\n"
          ]
        }
      ]
    },
    {
      "cell_type": "markdown",
      "source": [
        "**kwargs (Arbitrary Keyword Arguments):\n",
        "\n",
        "**kwargs allows a function to accept an arbitrary number of keyword arguments.\n",
        "When a function is defined with **kwargs, it can take any number of keyword arguments, which are then collected into a dictionary.\n",
        "This feature is useful when you want to pass named parameters to a function without specifying them in advance."
      ],
      "metadata": {
        "id": "Y-hTSTMQ-_zg"
      }
    },
    {
      "cell_type": "code",
      "source": [
        "def print_info(**kwargs):\n",
        "    for key, value in kwargs.items():\n",
        "        print(f\"{key}: {value}\")\n",
        "\n",
        "print_info(name=\"Prasant\", age=30, city=\"Berhampur\")  # This can accept any keyword arguments\n"
      ],
      "metadata": {
        "colab": {
          "base_uri": "https://localhost:8080/"
        },
        "id": "1xQTRNVn_EoB",
        "outputId": "46c85630-7c95-408d-bcd0-e78cf4299ff4"
      },
      "execution_count": null,
      "outputs": [
        {
          "output_type": "stream",
          "name": "stdout",
          "text": [
            "name: Prasant\n",
            "age: 30\n",
            "city: Berhampur\n"
          ]
        }
      ]
    },
    {
      "cell_type": "markdown",
      "source": [
        "## Return Values and Scoping:"
      ],
      "metadata": {
        "id": "j7wTHH7vXg0k"
      }
    },
    {
      "cell_type": "markdown",
      "source": [
        "1.\tDescribe the role of the `return` statement in Python functions and provide examples."
      ],
      "metadata": {
        "id": "w8Yb_qypXzw0"
      }
    },
    {
      "cell_type": "markdown",
      "source": [
        "The role of the return statement in Python functions is to specify the value that the function should send back as its result when it's called. It allows a function to produce an output or result that can be used by the caller of the function.\n",
        "\n",
        "Here are some key points about the return statement:\n",
        "\n",
        "Returning Values: A return statement can be used to return a single value or multiple values (as a tuple) from a function.\n",
        "\n",
        "Terminating Execution: When a return statement is encountered within a function, it immediately terminates the function's execution, and control is passed back to the caller.\n",
        "\n",
        "Optional: The return statement is optional in Python functions. If it's omitted, the function will implicitly return None."
      ],
      "metadata": {
        "id": "9ReF9j4a9zar"
      }
    },
    {
      "cell_type": "code",
      "source": [
        "# Function with a single return value\n",
        "def add(a, b):\n",
        "    result = a + b\n",
        "    return result\n",
        "\n",
        "sum_result = add(3, 5)  # Calling the function and storing the result in 'sum_result'\n",
        "print(sum_result)  # This will print 8"
      ],
      "metadata": {
        "colab": {
          "base_uri": "https://localhost:8080/"
        },
        "id": "1iPX7b3d-ACg",
        "outputId": "a657668b-968e-4e75-f50f-2d3e397cbe2c"
      },
      "execution_count": null,
      "outputs": [
        {
          "output_type": "stream",
          "name": "stdout",
          "text": [
            "8\n"
          ]
        }
      ]
    },
    {
      "cell_type": "markdown",
      "source": [
        "2.\tExplain the concept of variable scope in Python, including local and global variables."
      ],
      "metadata": {
        "id": "JtkkPCBBX18c"
      }
    },
    {
      "cell_type": "markdown",
      "source": [
        "The concept of variable scope in Python involves the accessibility and visibility of variables within different parts of a program. Python has two primary types of variable scope:\n",
        "\n",
        "a) **Local Scope:** Variables defined within a function are considered local variables. These variables are only accessible and visible within the function in which they are defined. They are created when the function is called and destroyed when the function exits."
      ],
      "metadata": {
        "id": "A9rxqoG09Ahs"
      }
    },
    {
      "cell_type": "code",
      "source": [
        "def my_function():\n",
        "    local_variable = 42  # This is a local variable\n",
        "\n",
        "my_function()\n",
        "print(local_variable)  # This will result in an error since 'local_variable' is not accessible outside the function.\n"
      ],
      "metadata": {
        "colab": {
          "base_uri": "https://localhost:8080/",
          "height": 211
        },
        "id": "H4YoqvSr9JnM",
        "outputId": "62d26692-e55d-4cb3-88a8-967f8e4f9b42"
      },
      "execution_count": null,
      "outputs": [
        {
          "output_type": "error",
          "ename": "NameError",
          "evalue": "ignored",
          "traceback": [
            "\u001b[0;31m---------------------------------------------------------------------------\u001b[0m",
            "\u001b[0;31mNameError\u001b[0m                                 Traceback (most recent call last)",
            "\u001b[0;32m<ipython-input-8-4a7f2d32133e>\u001b[0m in \u001b[0;36m<cell line: 5>\u001b[0;34m()\u001b[0m\n\u001b[1;32m      3\u001b[0m \u001b[0;34m\u001b[0m\u001b[0m\n\u001b[1;32m      4\u001b[0m \u001b[0mmy_function\u001b[0m\u001b[0;34m(\u001b[0m\u001b[0;34m)\u001b[0m\u001b[0;34m\u001b[0m\u001b[0;34m\u001b[0m\u001b[0m\n\u001b[0;32m----> 5\u001b[0;31m \u001b[0mprint\u001b[0m\u001b[0;34m(\u001b[0m\u001b[0mlocal_variable\u001b[0m\u001b[0;34m)\u001b[0m  \u001b[0;31m# This will result in an error since 'local_variable' is not accessible outside the function.\u001b[0m\u001b[0;34m\u001b[0m\u001b[0;34m\u001b[0m\u001b[0m\n\u001b[0m",
            "\u001b[0;31mNameError\u001b[0m: name 'local_variable' is not defined"
          ]
        }
      ]
    },
    {
      "cell_type": "markdown",
      "source": [
        "b) **Global Scope:** Variables defined outside of any function, at the top level of a script or module, are considered global variables. Global variables are accessible and visible from anywhere in the code, including inside functions, without any special declarations."
      ],
      "metadata": {
        "id": "hnB71qKK9Uva"
      }
    },
    {
      "cell_type": "code",
      "source": [
        "global_variable = 42  # This is a global variable\n",
        "\n",
        "def my_function():\n",
        "    print(global_variable)  # Accessing the global variable from within the function\n",
        "\n",
        "my_function()  # This will print 42\n"
      ],
      "metadata": {
        "colab": {
          "base_uri": "https://localhost:8080/"
        },
        "id": "c3O_Tfj49iAT",
        "outputId": "feaf006a-d5f6-4c9b-9fe4-e943da5d54b6"
      },
      "execution_count": null,
      "outputs": [
        {
          "output_type": "stream",
          "name": "stdout",
          "text": [
            "42\n"
          ]
        }
      ]
    },
    {
      "cell_type": "markdown",
      "source": [
        "\n",
        "\n",
        "3.\tWrite a Python program that demonstrates the use of global variables within functions.\n",
        "\n"
      ],
      "metadata": {
        "id": "26pVOHajXwlf"
      }
    },
    {
      "cell_type": "markdown",
      "source": [
        "Variables defined outside of all functions are considered global variables and can be accessed from anywhere in the code, including inside functions.\n",
        "\n",
        "Global variables are referenced by their names within the function."
      ],
      "metadata": {
        "id": "VqNwgolN8uSE"
      }
    },
    {
      "cell_type": "markdown",
      "source": [
        "4.\tCreate a Python function that calculates the factorial of a number and returns it"
      ],
      "metadata": {
        "id": "31EK0p_NX66u"
      }
    },
    {
      "cell_type": "code",
      "source": [
        "def fact(n):\n",
        "  if n<=1:\n",
        "    return 1\n",
        "  else:\n",
        "    return n*fact(n-1)\n",
        "\n",
        "n=int(input(\"enter a number : \"))\n",
        "print(f\"factorial of {n} is {fact(n)}\")"
      ],
      "metadata": {
        "colab": {
          "base_uri": "https://localhost:8080/"
        },
        "id": "hoOOGZ4gXicK",
        "outputId": "d19cb3fc-dc9e-42d6-f74c-885d63545935"
      },
      "execution_count": null,
      "outputs": [
        {
          "output_type": "stream",
          "name": "stdout",
          "text": [
            "enter a number : 7\n",
            "factorial of 7 is 5040\n"
          ]
        }
      ]
    },
    {
      "cell_type": "markdown",
      "source": [
        "5.\tHow can you access variables defined outside a function from within the function?"
      ],
      "metadata": {
        "id": "cxCpNM6NX_SJ"
      }
    },
    {
      "cell_type": "markdown",
      "source": [
        "Variables defined outside of all functions are considered global variables and can be accessed from anywhere in the code, including inside functions.\n",
        "\n",
        "Global variables are referenced by their names within the function.\n",
        "\n",
        "Example:"
      ],
      "metadata": {
        "id": "8VkKBbkB8RbQ"
      }
    },
    {
      "cell_type": "code",
      "source": [
        "x = 10  # A global variable\n",
        "\n",
        "def print_global_variable():\n",
        "    print(x)  # The global variable 'x' is accessed from within the function\n",
        "\n",
        "print_global_variable()  # This will print 10\n"
      ],
      "metadata": {
        "colab": {
          "base_uri": "https://localhost:8080/"
        },
        "id": "RhhULAnD8iHZ",
        "outputId": "3f84b630-4d67-4237-f359-e49320601bfa"
      },
      "execution_count": null,
      "outputs": [
        {
          "output_type": "stream",
          "name": "stdout",
          "text": [
            "10\n"
          ]
        }
      ]
    },
    {
      "cell_type": "markdown",
      "source": [
        "## Lambda Functions and Higher-Order Functions:"
      ],
      "metadata": {
        "id": "FjR0TIVy2Gmr"
      }
    },
    {
      "cell_type": "markdown",
      "source": [
        "1.\tWhat are lambda functions in Python, and when are they typically used?"
      ],
      "metadata": {
        "id": "4UdKE-if2aEE"
      }
    },
    {
      "cell_type": "markdown",
      "source": [
        "Lambda functions, also known as anonymous functions or lambda expressions, are small, anonymous functions in Python that are defined using the keyword lambda. They are used for short, simple tasks where you don't want to define a separate named function."
      ],
      "metadata": {
        "id": "8FjVt2SG74Pz"
      }
    },
    {
      "cell_type": "markdown",
      "source": [
        "2.\tWrite a Python program that uses lambda functions to sort a list of tuples based on the second element."
      ],
      "metadata": {
        "id": "96hFtez62n7g"
      }
    },
    {
      "cell_type": "code",
      "source": [
        "# Input: List of tuples\n",
        "data = [(1, 4), (2, 1), (3, 3), (4, 2)]\n",
        "\n",
        "# Sort the list based on the second element of each tuple\n",
        "sorted_data = sorted(data, key=lambda x: x[1])\n",
        "\n",
        "# Display the sorted list\n",
        "print(\"Sorted data based on the second element of each tuple:\")\n",
        "for item in sorted_data:\n",
        "    print(item)"
      ],
      "metadata": {
        "colab": {
          "base_uri": "https://localhost:8080/"
        },
        "id": "I13fkb7O52gV",
        "outputId": "bc9327a9-70a1-40d1-c37b-16c13125af7d"
      },
      "execution_count": null,
      "outputs": [
        {
          "output_type": "stream",
          "name": "stdout",
          "text": [
            "Sorted data based on the second element of each tuple:\n",
            "(2, 1)\n",
            "(4, 2)\n",
            "(3, 3)\n",
            "(1, 4)\n"
          ]
        }
      ]
    },
    {
      "cell_type": "markdown",
      "source": [
        "3.\tExplain the concept of higher-order functions in Python, and provide an example."
      ],
      "metadata": {
        "id": "ZOQ7drrn6Bld"
      }
    },
    {
      "cell_type": "markdown",
      "source": [
        "Higher-order functions are commonly employed in Python for various purposes, including:\n",
        "\n",
        "Implementing callbacks: Functions can be passed as arguments to other functions to specify what should happen upon certain events or conditions.\n",
        "\n",
        "Customizing behavior: Higher-order functions enable the modification or extension of function behavior by passing different functions as arguments.\n",
        "\n",
        "Functional programming: Python supports functional programming techniques, and higher-order functions are a key component of this paradigm, enabling operations like mapping, filtering, and reducing on lists.\n",
        "\n",
        "Creating decorators: Decorators in Python are implemented using higher-order functions, allowing for the dynamic addition of functionality to existing functions."
      ],
      "metadata": {
        "id": "DRcQUrvA7O5l"
      }
    },
    {
      "cell_type": "code",
      "source": [
        "# A higher-order function is defined\n",
        "def apply_operation(operation, x, y):\n",
        "    return operation(x, y)\n",
        "\n",
        "# Some basic operations are defined as functions\n",
        "def add(x, y):\n",
        "    return x + y\n",
        "\n",
        "def subtract(x, y):\n",
        "    return x - y\n",
        "\n",
        "def multiply(x, y):\n",
        "    return x * y\n",
        "\n",
        "# The higher-order function is used with different operations\n",
        "result1 = apply_operation(add, 5, 3)        # 5 and 3 are added, and the result is 8\n",
        "result2 = apply_operation(subtract, 10, 4)  # 4 is subtracted from 10, and the result is 6\n",
        "result3 = apply_operation(multiply, 7, 2)   # 7 and 2 are multiplied, and the result is 14\n",
        "\n",
        "print(result1)\n",
        "print(result2)\n",
        "print(result3)\n"
      ],
      "metadata": {
        "colab": {
          "base_uri": "https://localhost:8080/"
        },
        "id": "3lvDTHKa7TnP",
        "outputId": "4069f372-ca06-40cb-9119-582faf91bc4c"
      },
      "execution_count": null,
      "outputs": [
        {
          "output_type": "stream",
          "name": "stdout",
          "text": [
            "8\n",
            "6\n",
            "14\n"
          ]
        }
      ]
    },
    {
      "cell_type": "markdown",
      "source": [
        "\n",
        "\n",
        "\n",
        "4.\tCreate a Python function that takes a list of numbers and a function as arguments, applying the function to each element in the list.\n"
      ],
      "metadata": {
        "id": "450NGHw42TU_"
      }
    },
    {
      "cell_type": "code",
      "source": [
        "def apply_function_to_list(numbers, func):\n",
        "    result = []\n",
        "    for number in numbers:\n",
        "        result.append(func(number))\n",
        "    return result\n",
        "\n",
        "def square(x):\n",
        "    return x ** 2\n",
        "\n",
        "import random\n",
        "l5=[random.randint(1,10) for _ in range(5)]\n",
        "print(f\"the list is {l5}\")\n",
        "\n",
        "\n",
        "result = apply_function_to_list(l5, square)\n",
        "\n",
        "print(result)"
      ],
      "metadata": {
        "colab": {
          "base_uri": "https://localhost:8080/"
        },
        "id": "v_3AYzXw6iTe",
        "outputId": "cec7946a-35b4-41d9-c096-e7c9651be4fc"
      },
      "execution_count": null,
      "outputs": [
        {
          "output_type": "stream",
          "name": "stdout",
          "text": [
            "the list is [4, 8, 8, 10, 7]\n",
            "[16, 64, 64, 100, 49]\n"
          ]
        }
      ]
    },
    {
      "cell_type": "markdown",
      "source": [
        "## Built-in Functions:"
      ],
      "metadata": {
        "id": "0zRJoF1Xy_M5"
      }
    },
    {
      "cell_type": "markdown",
      "source": [
        "1.\tDescribe the role of built-in functions like `len()`, `max()`, and `min()` in Python."
      ],
      "metadata": {
        "id": "HkT33kXzzHF7"
      }
    },
    {
      "cell_type": "markdown",
      "source": [
        "**len()** is used when you want to know the size or length of a data structure. It's commonly used in loops and conditionals to control program flow.\n",
        "\n",
        "**max()** and **min()** are useful when you need to find the largest or smallest value in a collection of data. They are often used in scenarios like finding the maximum or minimum value in a list of numbers.\n",
        "\n",
        "These built-in functions save from having to write custom code for these common operations, making the code more concise and readable.\n",
        "\n",
        "These functions work with a wide range of data types, but they do have certain constraints (e.g., max() and min() require elements to be comparable). Always consult the documentation for specific details and considerations."
      ],
      "metadata": {
        "id": "K4CFreLQ557y"
      }
    },
    {
      "cell_type": "markdown",
      "source": [
        "2.\tWrite a Python program that uses the `map()` function to apply a function to each element of a list."
      ],
      "metadata": {
        "id": "-JH22oVWzQvW"
      }
    },
    {
      "cell_type": "code",
      "source": [
        "import random\n",
        "l1=[random.randint(1,20) for _ in range(5)]\n",
        "print(f\"the list is {l1}\")\n",
        "print(\"after square each element of list\")\n",
        "list(map(lambda x:x**2,l1))"
      ],
      "metadata": {
        "colab": {
          "base_uri": "https://localhost:8080/"
        },
        "id": "9BT0QItoznSL",
        "outputId": "f0590ad8-8502-403d-9cd2-f11996f12ab1"
      },
      "execution_count": null,
      "outputs": [
        {
          "output_type": "stream",
          "name": "stdout",
          "text": [
            "the list is [3, 12, 18, 13, 6]\n",
            "after square each element of list\n"
          ]
        },
        {
          "output_type": "execute_result",
          "data": {
            "text/plain": [
              "[9, 144, 324, 169, 36]"
            ]
          },
          "metadata": {},
          "execution_count": 1
        }
      ]
    },
    {
      "cell_type": "markdown",
      "source": [
        "3.\tHow does the `filter()` function work in Python, and when would you use it?\n"
      ],
      "metadata": {
        "id": "AXC0cwM5zY6L"
      }
    },
    {
      "cell_type": "markdown",
      "source": [
        "The filter() function in Python is a built-in function used to filter elements from an iterable (like a list, tuple, etc.) based on a specified condition. It creates a new iterable containing only the elements for which the provided function returns True.\n",
        "\n",
        "Here is the syntax for filter():\n",
        "\n",
        "filter(function, iterable)"
      ],
      "metadata": {
        "id": "CPkmcLNf4yBa"
      }
    },
    {
      "cell_type": "code",
      "source": [
        "import random\n",
        "from functools import reduce\n",
        "l1=[random.randint(1,30) for _ in range(10)]\n",
        "print(f\"the list is {l1}\")\n",
        "even_nums=list(filter(lambda a:a%2==0,l1))\n",
        "print(f\"list of even numbers : {even_nums}\")"
      ],
      "metadata": {
        "colab": {
          "base_uri": "https://localhost:8080/"
        },
        "id": "Ma9s61Zv5fM9",
        "outputId": "0c887277-d161-4443-9ed0-74f63586527e"
      },
      "execution_count": null,
      "outputs": [
        {
          "output_type": "stream",
          "name": "stdout",
          "text": [
            "the list is [21, 5, 18, 21, 11, 7, 14, 3, 13, 6]\n",
            "list of even numbers : [18, 14, 6]\n"
          ]
        }
      ]
    },
    {
      "cell_type": "markdown",
      "source": [
        "4.\tCreate a Python program that uses the `reduce()` function to find the product of all elements in a list.\n"
      ],
      "metadata": {
        "id": "11w4pmNdzB96"
      }
    },
    {
      "cell_type": "code",
      "source": [
        "import random\n",
        "from functools import reduce\n",
        "l1=[random.randint(1,10) for _ in range(5)]\n",
        "print(f\"the list is {l1}\")\n",
        "prod=reduce(lambda a,b:a*b,l1)\n",
        "print(f\"the product of all elements in {l1} is {prod}\")"
      ],
      "metadata": {
        "colab": {
          "base_uri": "https://localhost:8080/"
        },
        "id": "jouEIfjy0Lqi",
        "outputId": "c1df37c2-7b9c-4b80-b933-0731fd56fdfd"
      },
      "execution_count": null,
      "outputs": [
        {
          "output_type": "stream",
          "name": "stdout",
          "text": [
            "the list is [5, 5, 10, 4, 9]\n",
            "the product of all elements in [5, 5, 10, 4, 9] is 9000\n"
          ]
        }
      ]
    },
    {
      "cell_type": "markdown",
      "source": [
        "## Function Documentation and Best Practices:"
      ],
      "metadata": {
        "id": "8lFJOpjp0TlV"
      }
    },
    {
      "cell_type": "markdown",
      "source": [
        "1.\tExplain the purpose of docstrings in Python functions and how to write them."
      ],
      "metadata": {
        "id": "of4yW10z0fn-"
      }
    },
    {
      "cell_type": "markdown",
      "source": [
        "Docstrings in Python are used to provide documentation for functions, modules, and classes. They serve as a way to describe what a piece of code does, making it easier for others (and yourself) to understand and use your code.  Docstrings are written using triple quotes (''' or \"\"\"). This allows for multi-line documentation, immediately after the function, module, or class definition."
      ],
      "metadata": {
        "id": "KHe9J4uW1SyI"
      }
    },
    {
      "cell_type": "code",
      "source": [
        "def add(a, b):\n",
        "    \"\"\"\n",
        "    Adds two numbers together and returns the result.\n",
        "\n",
        "    \"\"\"\n",
        "    return a + b\n",
        "add(3,6)"
      ],
      "metadata": {
        "id": "H-G0KbPG1jkr"
      },
      "execution_count": null,
      "outputs": []
    },
    {
      "cell_type": "code",
      "source": [
        "print(help(add))"
      ],
      "metadata": {
        "colab": {
          "base_uri": "https://localhost:8080/"
        },
        "id": "lkd9g6oo1te7",
        "outputId": "5a53ffc7-b298-4b95-ea4d-ba7c782c9187"
      },
      "execution_count": null,
      "outputs": [
        {
          "output_type": "stream",
          "name": "stdout",
          "text": [
            "Help on function add in module __main__:\n",
            "\n",
            "add(a, b)\n",
            "    Adds two numbers together and returns the result.\n",
            "\n",
            "None\n"
          ]
        }
      ]
    },
    {
      "cell_type": "markdown",
      "source": [
        "\n",
        "2.\tDescribe some best practices for naming functions and variables in Python, including naming conventions and guidelines.\n"
      ],
      "metadata": {
        "id": "a6NUqWNL0Zp2"
      }
    },
    {
      "cell_type": "markdown",
      "source": [
        "Some best practices, conventions, and guidelines for naming functions and variables are follow:\n",
        "\n",
        "a) Names should be clear and indicate what the function or variable does. Avoid single-character names or ambiguous names. However, it's acceptable in cases like loop counters (i, j, k), mathematical formulas (x, y, z), or well-known conventions (x for coordinates).\n",
        "\n",
        "b) Use lowercase letters with underscores (_) to separate words in variable and function names. This is known as snake_case.\n",
        "\n",
        "c) Function names should typically be verbs or verb phrases, indicating an action that the function performs.\n",
        "\n",
        "d) Variable names should be nouns, representing the data they hold.\n",
        "\n",
        "e) Maintain a consistent naming style throughout your codebase.\n",
        "\n",
        "f) Do not use Python's reserved keywords (e.g., def, class, if, for, etc.) as variable or function names.\n",
        "\n",
        "g) If using abbreviations, make sure they are widely understood and do not sacrifice clarity.\n",
        "\n",
        "h) If you have constants in your code, use all uppercase letters with underscores to separate words.\n",
        "\n",
        "i) If a function returns a value, the function name should describe what that value represents."
      ],
      "metadata": {
        "id": "Po5xMayq2m4U"
      }
    }
  ],
  "metadata": {
    "colab": {
      "provenance": [],
      "authorship_tag": "ABX9TyM9qkgEZk5ftVmNMhGxehgh",
      "include_colab_link": true
    },
    "kernelspec": {
      "display_name": "Python 3",
      "name": "python3"
    },
    "language_info": {
      "name": "python"
    }
  },
  "nbformat": 4,
  "nbformat_minor": 0
}