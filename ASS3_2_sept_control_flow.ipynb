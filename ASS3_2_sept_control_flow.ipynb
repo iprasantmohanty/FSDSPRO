{
  "nbformat": 4,
  "nbformat_minor": 0,
  "metadata": {
    "colab": {
      "provenance": []
    },
    "kernelspec": {
      "name": "python3",
      "display_name": "Python 3"
    },
    "language_info": {
      "name": "python"
    }
  },
  "cells": [
    {
      "cell_type": "markdown",
      "source": [
        "## Basic If-Else Statements:"
      ],
      "metadata": {
        "id": "uOFagCgvPEP4"
      }
    },
    {
      "cell_type": "markdown",
      "source": [
        "1 Write a Python program to check if a given number is positive or negative\n"
      ],
      "metadata": {
        "id": "AhSsduQkPHcu"
      }
    },
    {
      "cell_type": "code",
      "execution_count": null,
      "metadata": {
        "colab": {
          "base_uri": "https://localhost:8080/"
        },
        "id": "Tw8JicjuL1O-",
        "outputId": "e7436382-8ec7-433d-c5c6-91a5626c01f0"
      },
      "outputs": [
        {
          "output_type": "stream",
          "name": "stdout",
          "text": [
            "enter a number : -23\n",
            "-23 is negative\n"
          ]
        }
      ],
      "source": [
        "n=int(input(\"enter a number : \"))\n",
        "if n>=0:\n",
        "  print(f\"{n} is positive\")\n",
        "else:\n",
        "  print(f\"{n} is negative\")"
      ]
    },
    {
      "cell_type": "markdown",
      "source": [
        "2 Create a program that determines if a person is eligible to vote based on their age\n"
      ],
      "metadata": {
        "id": "uvwO-OqJPRMh"
      }
    },
    {
      "cell_type": "code",
      "source": [
        "age=int(input(\"enter age : \"))\n",
        "if age>=18:\n",
        "  print(\"person is eligible to vote\")\n",
        "else:\n",
        "  print(\"person is not eligible to vote\")"
      ],
      "metadata": {
        "colab": {
          "base_uri": "https://localhost:8080/"
        },
        "id": "KzkYlcTEPQhS",
        "outputId": "ac820e8c-7fd9-4c3b-df70-ddeb7dadb235"
      },
      "execution_count": null,
      "outputs": [
        {
          "output_type": "stream",
          "name": "stdout",
          "text": [
            "enter age : 54\n",
            "person is eligible to vote\n"
          ]
        }
      ]
    },
    {
      "cell_type": "markdown",
      "source": [
        "3 Develop a program to find the maximum of two numbers using if-else statements"
      ],
      "metadata": {
        "id": "ufEAoHnVPqGz"
      }
    },
    {
      "cell_type": "code",
      "source": [
        "n1=int(input(\"enter the first number : \"))\n",
        "n2=int(input(\"enter the second number : \"))\n",
        "if n1>=n2:\n",
        "  print(f\"{n1} is maximum\")\n",
        "else:\n",
        "  print(f\"{n2} is maximum\")"
      ],
      "metadata": {
        "colab": {
          "base_uri": "https://localhost:8080/"
        },
        "id": "9o-SWpVHQUuD",
        "outputId": "d2549f2e-2ae8-4793-ec98-8f505ff33ba2"
      },
      "execution_count": null,
      "outputs": [
        {
          "output_type": "stream",
          "name": "stdout",
          "text": [
            "enter the first number : 52\n",
            "enter the second number : 63\n",
            "63 is maximum\n"
          ]
        }
      ]
    },
    {
      "cell_type": "markdown",
      "source": [
        "4 Write a Python script to classify a given year as a leap year or not"
      ],
      "metadata": {
        "id": "f46VJmCpQV0r"
      }
    },
    {
      "cell_type": "code",
      "source": [
        "year=int(input(\"enter year : \"))\n",
        "if year%400==0 or year%4==0 and year%100!=0:\n",
        "  print(f\"{year} is a leap year\")\n",
        "else:\n",
        "  print(f\"{year} is not a leap year\")"
      ],
      "metadata": {
        "colab": {
          "base_uri": "https://localhost:8080/"
        },
        "id": "KIXSC4faR6G0",
        "outputId": "c8d5375f-9563-4b2e-f640-52bba960a36b"
      },
      "execution_count": null,
      "outputs": [
        {
          "output_type": "stream",
          "name": "stdout",
          "text": [
            "enter year : 2023\n",
            "2023 is not a leap year\n"
          ]
        }
      ]
    },
    {
      "cell_type": "markdown",
      "source": [
        "5. Create a program that checks whether a character is a vowel or a consonant\n"
      ],
      "metadata": {
        "id": "uCILdUitTV10"
      }
    },
    {
      "cell_type": "code",
      "source": [
        "ch=input(\"enter a character : \")\n",
        "if ch.lower() in 'aeiou':\n",
        "  print(f\"{ch} is a vowel\")\n",
        "else:\n",
        "  print(f\"{ch} is not a vowel\")"
      ],
      "metadata": {
        "colab": {
          "base_uri": "https://localhost:8080/"
        },
        "id": "6h2M4WLkTZZ8",
        "outputId": "8b90fc66-7c43-45d5-d016-2838a742982e"
      },
      "execution_count": null,
      "outputs": [
        {
          "output_type": "stream",
          "name": "stdout",
          "text": [
            "enter a character : p\n",
            "p is not a vowel\n"
          ]
        }
      ]
    },
    {
      "cell_type": "markdown",
      "source": [
        "6. Implement a program to determine whether a given number is even or odd"
      ],
      "metadata": {
        "id": "wZs-0cN4TYFR"
      }
    },
    {
      "cell_type": "code",
      "source": [
        "n=int(input(\"enter a number : \"))\n",
        "if n%2==0:\n",
        "  print(f\"{n} is even\")\n",
        "else:\n",
        "  print(f\"{n} is odd\")"
      ],
      "metadata": {
        "colab": {
          "base_uri": "https://localhost:8080/"
        },
        "id": "BnEPxApjT9ry",
        "outputId": "b7756ac5-d703-482b-c316-40305073d80e"
      },
      "execution_count": null,
      "outputs": [
        {
          "output_type": "stream",
          "name": "stdout",
          "text": [
            "enter a number : 543\n",
            "543 is odd\n"
          ]
        }
      ]
    },
    {
      "cell_type": "markdown",
      "source": [
        "7. Write a Python function to calculate the absolute value of a number without using the abs() function"
      ],
      "metadata": {
        "id": "_GkqQ-BwUOPT"
      }
    },
    {
      "cell_type": "code",
      "source": [
        "n=int(input(\"enter a number : \"))\n",
        "if n>=0:\n",
        "  print(f\"absolute value of {n} is {n}\")\n",
        "else:\n",
        "  print(f\"absolute value of {n} is {-n}\")"
      ],
      "metadata": {
        "colab": {
          "base_uri": "https://localhost:8080/"
        },
        "id": "C2jJ8AHPUZKy",
        "outputId": "e365a1dd-f7b8-4147-a8aa-51eef6fba94b"
      },
      "execution_count": null,
      "outputs": [
        {
          "output_type": "stream",
          "name": "stdout",
          "text": [
            "enter a number : -63\n",
            "absolute value of -63 is 63\n"
          ]
        }
      ]
    },
    {
      "cell_type": "markdown",
      "source": [
        "8. Develop a program that determines the largest of three given numbers using if-else statements"
      ],
      "metadata": {
        "id": "dOTVQA4-UXRk"
      }
    },
    {
      "cell_type": "code",
      "source": [
        "n1=int(input(\"enter the first number : \"))\n",
        "n2=int(input(\"enter the second number : \"))\n",
        "n3=int(input(\"enter the third number : \"))\n",
        "if n1>n2 and n1>n3:\n",
        "  print(f\"{n1} is maximum\")\n",
        "if n2>n3 and n2>n1:\n",
        "  print(f\"{n2} is maximum\")\n",
        "else:\n",
        "  print(f\"{n3} is maximum\")"
      ],
      "metadata": {
        "colab": {
          "base_uri": "https://localhost:8080/"
        },
        "id": "SzsEuMGaU0AE",
        "outputId": "275385b8-5e42-4e94-bc89-06c2ed471532"
      },
      "execution_count": null,
      "outputs": [
        {
          "output_type": "stream",
          "name": "stdout",
          "text": [
            "enter the first number : 52\n",
            "enter the second number : 43\n",
            "enter the third number : 22\n",
            "52 is maximum\n"
          ]
        }
      ]
    },
    {
      "cell_type": "markdown",
      "source": [
        "9. Create a program that checks if a given string is a palindrome."
      ],
      "metadata": {
        "id": "NKrvOo9SUyob"
      }
    },
    {
      "cell_type": "code",
      "source": [
        "s=input(\"enter a string : \")\n",
        "rev_s=s[::-1]\n",
        "if s==rev_s:\n",
        "    print(f\"{s} is palindrome\")\n",
        "else:\n",
        "    print(f\"{s} is  not palindrome\")"
      ],
      "metadata": {
        "colab": {
          "base_uri": "https://localhost:8080/"
        },
        "id": "yx_z4tWYV7mL",
        "outputId": "3eb3d665-fb1e-4abd-b478-892caf477c89"
      },
      "execution_count": null,
      "outputs": [
        {
          "output_type": "stream",
          "name": "stdout",
          "text": [
            "enter a string : madam\n",
            "madam is palindrome\n"
          ]
        }
      ]
    },
    {
      "cell_type": "markdown",
      "source": [
        "10. Write a Python program to calculate the grade based on a student's score\n"
      ],
      "metadata": {
        "id": "kFQPoz1oWNw8"
      }
    },
    {
      "cell_type": "code",
      "source": [
        "score=int(input(\"enter mark of student : \"))\n",
        "\n",
        "if score >= 90:\n",
        "    grade = \"A\"\n",
        "elif score >= 80:\n",
        "    grade = \"B\"\n",
        "elif score >= 70:\n",
        "    grade = \"C\"\n",
        "elif score >= 60:\n",
        "    grade = \"D\"\n",
        "else:\n",
        "    grade = \"F\"\n",
        "\n",
        "print(f'grade = {grade}')"
      ],
      "metadata": {
        "id": "TivKoryTWZM6",
        "colab": {
          "base_uri": "https://localhost:8080/"
        },
        "outputId": "38ca71fb-9cf2-4fac-eb40-17744d878439"
      },
      "execution_count": null,
      "outputs": [
        {
          "output_type": "stream",
          "name": "stdout",
          "text": [
            "enter mark of student : 92\n",
            "grade = A\n"
          ]
        }
      ]
    },
    {
      "cell_type": "markdown",
      "source": [
        "## Nested If-Else Statements:"
      ],
      "metadata": {
        "id": "6n3vyNluWWpq"
      }
    },
    {
      "cell_type": "markdown",
      "source": [
        "11. Write a program to find the largest among three numbers using nested if-else statements"
      ],
      "metadata": {
        "id": "JErQXqjLW-0f"
      }
    },
    {
      "cell_type": "code",
      "source": [
        "n1=int(input(\"enter the first number : \"))\n",
        "n2=int(input(\"enter the second number : \"))\n",
        "n3=int(input(\"enter the third number : \"))\n",
        "if n1>n2:\n",
        "  if n1>n3:\n",
        "    print(f\"{n1} is maximum\")\n",
        "elif n2>n3:\n",
        "  if n2>n1:\n",
        "    print(f\"{n2} is maximum\")\n",
        "else:\n",
        "  print(f\"{n3} is maximum\")"
      ],
      "metadata": {
        "id": "0j32OnHdWPuk",
        "colab": {
          "base_uri": "https://localhost:8080/"
        },
        "outputId": "e9bf0b2f-f5fe-47d2-aec5-0438c4a8c4f7"
      },
      "execution_count": null,
      "outputs": [
        {
          "output_type": "stream",
          "name": "stdout",
          "text": [
            "enter the first number : 23\n",
            "enter the second number : 87\n",
            "enter the third number : 45\n",
            "87 is maximum\n"
          ]
        }
      ]
    },
    {
      "cell_type": "markdown",
      "source": [
        "\n",
        "12. Implement a program to determine if a triangle is equilateral isosceles, or scalene"
      ],
      "metadata": {
        "id": "eAmq1QhhWA0a"
      }
    },
    {
      "cell_type": "code",
      "source": [
        "side1 = float(input(\"Enter the length of side 1: \"))\n",
        "side2 = float(input(\"Enter the length of side 2: \"))\n",
        "side3 = float(input(\"Enter the length of side 3: \"))\n",
        "\n",
        "\n",
        "if side1 == side2 == side3:\n",
        "    triangle_type = \"equilateral\"\n",
        "elif side1 == side2 or side1 == side3 or side2 == side3:\n",
        "    triangle_type = \"isosceles\"\n",
        "else:\n",
        "    triangle_type = \"scalene\"\n",
        "\n",
        "print(f\"The triangle is {triangle_type}.\")"
      ],
      "metadata": {
        "colab": {
          "base_uri": "https://localhost:8080/"
        },
        "id": "7n1TzFA1VTdl",
        "outputId": "0d3d9e11-d27d-49cd-f29d-d22f928fdaf3"
      },
      "execution_count": null,
      "outputs": [
        {
          "output_type": "stream",
          "name": "stdout",
          "text": [
            "Enter the length of side 1: 45\n",
            "Enter the length of side 2: 56\n",
            "Enter the length of side 3: 78\n",
            "The triangle is scalene.\n"
          ]
        }
      ]
    },
    {
      "cell_type": "markdown",
      "source": [
        "13 Develop a program that checks if a year is a leap year and also if it is a century year."
      ],
      "metadata": {
        "id": "enqWsksAVMZk"
      }
    },
    {
      "cell_type": "code",
      "source": [
        "year=int(input(\"enter year : \"))\n",
        "if year%400==0: # or year%4==0 and year%100!=0:\n",
        "  if year%100==0:\n",
        "    print(f\"{year} is a century year\")\n",
        "    print(f\"{year} is a leap year\")\n",
        "  else:\n",
        "    print(f\"{year} is not a century year\")\n",
        "    print(f\"{year} is a leap year\")\n",
        "elif year%4==0:\n",
        "  if year%100==0:\n",
        "    print(f\"{year} is a century year\")\n",
        "  else:\n",
        "    print(f\"{year} is not a century year\")\n",
        "    print(f\"{year} is a leap year\")\n",
        "else:\n",
        "  if year%100==0:\n",
        "    print(f\"{year} is a century year\")\n",
        "  else:\n",
        "    print(f\"{year} is not a century year\")\n",
        "    print(f\"{year} is not a leap year\")"
      ],
      "metadata": {
        "id": "KHeR7FSaZ14p",
        "colab": {
          "base_uri": "https://localhost:8080/"
        },
        "outputId": "bac77891-aceb-4848-9c0d-6c97c0143208"
      },
      "execution_count": null,
      "outputs": [
        {
          "output_type": "stream",
          "name": "stdout",
          "text": [
            "enter year : 2012\n",
            "2012 is not a century year\n",
            "2012 is a leap year\n"
          ]
        }
      ]
    },
    {
      "cell_type": "markdown",
      "source": [
        "14 Write a Python script to determine if a number is positive, negative, or zero."
      ],
      "metadata": {
        "id": "qabOhyItZ0iN"
      }
    },
    {
      "cell_type": "code",
      "source": [
        "n=int(input(\"enter a number : \"))\n",
        "if n>=0:\n",
        "  if n==0:\n",
        "    print(f\"{n} is zero\")\n",
        "  else:\n",
        "    print(f\"{n} is positive\")\n",
        "else:\n",
        "  print(f\"{n} is negative\")"
      ],
      "metadata": {
        "id": "s8qEKZN1iVSz",
        "colab": {
          "base_uri": "https://localhost:8080/"
        },
        "outputId": "91ccec47-f3bd-4fe9-fcbe-31fa304ea81c"
      },
      "execution_count": null,
      "outputs": [
        {
          "output_type": "stream",
          "name": "stdout",
          "text": [
            "enter a number : -45\n",
            "-45 is negative\n"
          ]
        }
      ]
    },
    {
      "cell_type": "markdown",
      "source": [
        "15 Create a program to check if a person is a teenager (between 13 and 19 years old)"
      ],
      "metadata": {
        "id": "qkIAgE6EhD9F"
      }
    },
    {
      "cell_type": "code",
      "source": [
        "age=int(input(\"enter age : \"))\n",
        "if 13<=age<=19:\n",
        "  print(\"person is teenager\")\n",
        "else:\n",
        "  print(\"person is not teenager\")"
      ],
      "metadata": {
        "colab": {
          "base_uri": "https://localhost:8080/"
        },
        "id": "YI9O7BgMhFID",
        "outputId": "6fa32a9b-915c-4625-9e7a-c7352bd2959a"
      },
      "execution_count": null,
      "outputs": [
        {
          "output_type": "stream",
          "name": "stdout",
          "text": [
            "enter age : 18\n",
            "person is teenager\n"
          ]
        }
      ]
    },
    {
      "cell_type": "markdown",
      "source": [
        "16. Develop a program that determines the type of angle based on its measure (acute, obtuse, or right)"
      ],
      "metadata": {
        "id": "F9u-zXKThlom"
      }
    },
    {
      "cell_type": "code",
      "source": [
        "angle=int(input(\"enter the angle : \"))\n",
        "if angle<90:\n",
        "  print(\"it is acute angle\")\n",
        "elif angle==90:\n",
        "  print(\"it is right angle\")\n",
        "elif 90<angle <180:\n",
        "  print(\"it is obtuse angle\")"
      ],
      "metadata": {
        "colab": {
          "base_uri": "https://localhost:8080/"
        },
        "id": "Q9r-FhwiiiMz",
        "outputId": "024c4c9f-4728-4045-a984-c6161924650c"
      },
      "execution_count": null,
      "outputs": [
        {
          "output_type": "stream",
          "name": "stdout",
          "text": [
            "enter the angle : 123\n",
            "it is obtuse angle\n"
          ]
        }
      ]
    },
    {
      "cell_type": "markdown",
      "source": [
        "17. Write a Python program to calculate the roots of a quadratic equation\n"
      ],
      "metadata": {
        "id": "zAac53jqihTX"
      }
    },
    {
      "cell_type": "code",
      "source": [
        "a=int(input(\"enter coefficient 'a' of quadratic equation ax^2 + bx + c = 0 : \"))\n",
        "b=int(input(\"enter coefficient 'b' of quadratic equation ax^2 + bx + c = 0 : \"))\n",
        "c=int(input(\"enter coefficient 'c' of quadratic equation ax^2 + bx + c = 0 : \"))\n",
        "s1=(-b+(b**2-4*a*c)**0.5)/2*a\n",
        "s2=(-b-(b**2-4*a*c)**0.5)/2*a\n",
        "print(f\"the equation is ({a})x^2+({b})x+({c})=0\")\n",
        "print(f\"first solution = {s1}\")\n",
        "print(f\"second solution = {s2}\")\n"
      ],
      "metadata": {
        "colab": {
          "base_uri": "https://localhost:8080/"
        },
        "id": "orq-8bD8hmpz",
        "outputId": "a0347e61-5034-4f67-e2d9-c0aebe57c3e4"
      },
      "execution_count": null,
      "outputs": [
        {
          "output_type": "stream",
          "name": "stdout",
          "text": [
            "enter coefficient 'a' of quadratic equation ax^2 + bx + c = 0 : 1\n",
            "enter coefficient 'b' of quadratic equation ax^2 + bx + c = 0 : -7\n",
            "enter coefficient 'c' of quadratic equation ax^2 + bx + c = 0 : 10\n",
            "the equation is (1)x^2+(-7)x+(10)=0\n",
            "first solution = 5.0\n",
            "second solution = 2.0\n"
          ]
        }
      ]
    },
    {
      "cell_type": "markdown",
      "source": [
        "18. implement a program to determine the day of the week based on a user-provided number (1 for Monday, 2 for Tuesday, etc)"
      ],
      "metadata": {
        "id": "5NIPBq3Gl6Lv"
      }
    },
    {
      "cell_type": "code",
      "source": [
        "day_no=int(input(\"enter day no of the week : \"))\n",
        "if day_no==1:\n",
        "  print(\"day of the week is Monday\")\n",
        "elif day_no==2:\n",
        "  print(\"day of the week is Tuesday\")\n",
        "elif day_no==3:\n",
        "  print(\"day of the week is Wednesday\")\n",
        "elif day_no==4:\n",
        "  print(\"day of the week is Thursday\")\n",
        "elif day_no==5:\n",
        "  print(\"day of the week is Friday\")\n",
        "elif day_no==6:\n",
        "  print(\"day of the week is Saturday\")\n",
        "elif day_no==7:\n",
        "  print(\"day of the week is Sunday\")\n",
        "else:\n",
        "  print(\"invalid day of week\")"
      ],
      "metadata": {
        "colab": {
          "base_uri": "https://localhost:8080/"
        },
        "id": "CqfyrzrFl5pJ",
        "outputId": "331d2534-a32f-44ec-e218-23739531a847"
      },
      "execution_count": null,
      "outputs": [
        {
          "output_type": "stream",
          "name": "stdout",
          "text": [
            "enter day no of the week : 6\n",
            "day of the week is Saturday\n"
          ]
        }
      ]
    },
    {
      "cell_type": "markdown",
      "source": [
        "19 Create a program that determines if a year is a leap year and also if it is evenly divisible by 400"
      ],
      "metadata": {
        "id": "JtWcJTMug_2o"
      }
    },
    {
      "cell_type": "code",
      "source": [
        "year=int(input(\"enter year : \"))\n",
        "if year%400==0: # or year%4==0 and year%100!=0:\n",
        "  print(f\"{year} is a leap year\")\n",
        "  print(f\"{year} is evenly divisible by 400\")\n",
        "elif year%4==0:\n",
        "  print(f\"{year} is not evenly divisible by 400\")\n",
        "  if year%100!=0:\n",
        "    print(f\"{year} is a leap year\")\n",
        "  else:\n",
        "    print(f\"{year} is not a leap year\")\n",
        "else:\n",
        "  print(f\"{year} is not evenly divisible by 400\")\n",
        "  print(f\"{year} is not a leap year\")"
      ],
      "metadata": {
        "colab": {
          "base_uri": "https://localhost:8080/"
        },
        "id": "kHs-b_wFnICj",
        "outputId": "41143a55-5f71-4e75-ef10-90a93d5346f7"
      },
      "execution_count": null,
      "outputs": [
        {
          "output_type": "stream",
          "name": "stdout",
          "text": [
            "enter year : 2020\n",
            "2020 is not evenly divisible by 400\n",
            "2020 is a leap year\n"
          ]
        }
      ]
    },
    {
      "cell_type": "markdown",
      "source": [
        "20: Develop a program that checks if a given number is prime or not using nested else statements\n"
      ],
      "metadata": {
        "id": "RwSPrKB6nG7L"
      }
    },
    {
      "cell_type": "code",
      "source": [
        "num=int(input(\"enter a number (greater than 1) : \"))\n",
        "if num>1:\n",
        "  is_prime = True\n",
        "  for i in range(2, num//2 + 1):\n",
        "      if num % i == 0:\n",
        "          is_prime = False\n",
        "          break\n",
        "  if is_prime:\n",
        "    print(f\"{num} is prime\")\n",
        "  else:\n",
        "    print(f\"{num} is not prime\")\n",
        "else:\n",
        "  print(\"can't check for prime\")"
      ],
      "metadata": {
        "colab": {
          "base_uri": "https://localhost:8080/"
        },
        "id": "DkplFyg1owJ0",
        "outputId": "1fe9eca5-80da-46b3-e9d5-eacdef2a8bc8"
      },
      "execution_count": null,
      "outputs": [
        {
          "output_type": "stream",
          "name": "stdout",
          "text": [
            "enter a number (greater than 1) : 37\n",
            "37 is prime\n"
          ]
        }
      ]
    },
    {
      "cell_type": "markdown",
      "source": [
        "## Elif Statements:\n"
      ],
      "metadata": {
        "id": "yqF8ihk4qzaM"
      }
    },
    {
      "cell_type": "markdown",
      "source": [
        "21. Write a Python program to assign grades based on different ranges of scores using elif statements."
      ],
      "metadata": {
        "id": "yzkMzP4Fq2R3"
      }
    },
    {
      "cell_type": "code",
      "source": [
        "score=int(input(\"enter mark of student (0 to 100) : \"))\n",
        "\n",
        "if 100>=score >= 90:\n",
        "    grade = \"A\"\n",
        "elif 90>score >= 80:\n",
        "    grade = \"B\"\n",
        "elif 80>score >= 70:\n",
        "    grade = \"C\"\n",
        "elif 70>score >= 60:\n",
        "    grade = \"D\"\n",
        "elif 0<=score<60:\n",
        "    grade = \"F\"\n",
        "else:\n",
        "  grade=\"Invalid score\"\n",
        "\n",
        "print(f'grade = {grade}')"
      ],
      "metadata": {
        "colab": {
          "base_uri": "https://localhost:8080/"
        },
        "id": "_tP-kmu5q807",
        "outputId": "0b10a07e-8622-4306-fd80-d4bf4aeec508"
      },
      "execution_count": null,
      "outputs": [
        {
          "output_type": "stream",
          "name": "stdout",
          "text": [
            "enter mark of student (0 to 100) : 79\n",
            "grade = C\n"
          ]
        }
      ]
    },
    {
      "cell_type": "markdown",
      "source": [
        "22 implement a program to determine the type of a triangle based on its angles"
      ],
      "metadata": {
        "id": "Ag27wEORr_K5"
      }
    },
    {
      "cell_type": "code",
      "source": [
        "angle1 = float(input(\"for a triangle Enter the angle 1: \"))\n",
        "angle2 = float(input(\"Enter the angle 2: \"))\n",
        "angle3 = float(input(\"Enter the angle 3: \"))\n",
        "\n",
        "if angle1+angle2+angle3==180:\n",
        "  if angle1<90 and angle2 <90 and angle3<90:\n",
        "    triangle_type = \"Acute\"\n",
        "  elif angle1>90 or angle2 >90 or angle3>90:\n",
        "    triangle_type = \"Obtuse\"\n",
        "  elif angle1==90 or angle2==90 or angle3==90:\n",
        "    triangle_type = \"Right\"\n",
        "\n",
        "  print(f\"The triangle is {triangle_type}-Triangle\")\n",
        "else:\n",
        "  print(\"it is not a valid triangle\")"
      ],
      "metadata": {
        "id": "wZNujUECs-Kz",
        "colab": {
          "base_uri": "https://localhost:8080/"
        },
        "outputId": "b25c7deb-78b4-4dc0-fe72-ced01bebba9f"
      },
      "execution_count": null,
      "outputs": [
        {
          "output_type": "stream",
          "name": "stdout",
          "text": [
            "for a triangle Enter the angle 1: 90\n",
            "Enter the angle 2: 45\n",
            "Enter the angle 3: 45\n",
            "The triangle is Right-Triangle\n"
          ]
        }
      ]
    },
    {
      "cell_type": "markdown",
      "source": [
        "23. Develop a program to categorize a given person's BMI into underweight, normal, overweight, or obese using elif statements."
      ],
      "metadata": {
        "id": "UOTZ-SXMr7kA"
      }
    },
    {
      "cell_type": "code",
      "source": [
        "bmi=float(input(\"enter BMI of a person : \"))\n",
        "if bmi<18.5:\n",
        "  print(f\"person having BMI={bmi} is Underweight\")\n",
        "elif 18.5<=bmi<=24.9:\n",
        "  print(f\"person having BMI={bmi} is Normal\")\n",
        "elif 25<=bmi<29.9:\n",
        "  print(f\"person having BMI={bmi} is Overweight\")\n",
        "elif bmi>=30:\n",
        "  print(f\"person having BMI={bmi} is Obese\")\n",
        "\n"
      ],
      "metadata": {
        "colab": {
          "base_uri": "https://localhost:8080/"
        },
        "id": "WJxDKt8SvPxH",
        "outputId": "05e99298-e516-4656-e47f-5dbf4122f738"
      },
      "execution_count": null,
      "outputs": [
        {
          "output_type": "stream",
          "name": "stdout",
          "text": [
            "enter BMI of a person : 20.4\n",
            "person having BMI=20.4 is Normal\n"
          ]
        }
      ]
    },
    {
      "cell_type": "markdown",
      "source": [
        "24. Create a program that determines whether a given number is positive, negative, or zero using elif statements"
      ],
      "metadata": {
        "id": "SfgibTCVxOvg"
      }
    },
    {
      "cell_type": "code",
      "source": [
        "n=int(input(\"enter a number : \"))\n",
        "if n==0:\n",
        "  print(f\"{n} is zero\")\n",
        "elif n>0:\n",
        "  print(f\"{n} is positive\")\n",
        "else:\n",
        "  print(f\"{n} is negative\")"
      ],
      "metadata": {
        "colab": {
          "base_uri": "https://localhost:8080/"
        },
        "id": "BwDGtQzvxRuz",
        "outputId": "05f75920-bc07-4034-aa48-2600784385f5"
      },
      "execution_count": null,
      "outputs": [
        {
          "output_type": "stream",
          "name": "stdout",
          "text": [
            "enter a number : 45\n",
            "45 is positive\n"
          ]
        }
      ]
    },
    {
      "cell_type": "markdown",
      "source": [
        "25. Write a Python script to determine the type of a character (uppercase, lowercase, or special) using elif statements."
      ],
      "metadata": {
        "id": "LDUpf6iqy8My"
      }
    },
    {
      "cell_type": "code",
      "source": [
        "ch=input(\"enter a character : \")\n",
        "if ch.isupper():\n",
        "  print(f\"'{ch}' is uppercase\")\n",
        "elif ch.islower():\n",
        "  print(f\"'{ch}' is lower\")\n",
        "else:\n",
        "  print(f\"'{ch}' is special character\")"
      ],
      "metadata": {
        "id": "q-l7YgnWzDNz",
        "colab": {
          "base_uri": "https://localhost:8080/"
        },
        "outputId": "2fb07a46-88d7-4182-97da-730d59d6d074"
      },
      "execution_count": null,
      "outputs": [
        {
          "output_type": "stream",
          "name": "stdout",
          "text": [
            "enter a character : G\n",
            "'G' is uppercase\n"
          ]
        }
      ]
    },
    {
      "cell_type": "markdown",
      "source": [
        "26. Implement a program to calculate the discounted price based on different purchase amounts using elif statements\n"
      ],
      "metadata": {
        "id": "sn6xEysts390"
      }
    },
    {
      "cell_type": "code",
      "source": [
        "p_amount=float(input(\"enter purchase amount : \"))\n",
        "if p_amount>5000:\n",
        "  print(f\"after applying 30% discount, amount to pay is {p_amount*0.7}\")\n",
        "elif p_amount>3000:\n",
        "  print(f\"after applying 20% discount, amount to pay is {p_amount*0.8}\")\n",
        "elif p_amount>1500:\n",
        "  print(f\"after applying 10% discount, amount to pay is {p_amount*0.9}\")\n",
        "else:\n",
        "  print(f\"amount to pay is {p_amount}\")\n"
      ],
      "metadata": {
        "colab": {
          "base_uri": "https://localhost:8080/"
        },
        "id": "e8hx3wA3s43Y",
        "outputId": "4e324144-945b-4c4d-969b-8856917cf4fc"
      },
      "execution_count": null,
      "outputs": [
        {
          "output_type": "stream",
          "name": "stdout",
          "text": [
            "enter purchase amount : 2455\n",
            "after applying 10% discount, amount to pay is 2209.5\n"
          ]
        }
      ]
    },
    {
      "cell_type": "markdown",
      "source": [
        "27. Develop a program to calculate the electricity bill based on different consumption slabs using elif statements"
      ],
      "metadata": {
        "id": "_30oHhxPuMye"
      }
    },
    {
      "cell_type": "code",
      "source": [
        "eng=float(input(\"enter total electric energy consumed (kWh) : \"))\n",
        "fix_chg=50\n",
        "mt_rent=50\n",
        "if eng<=50:\n",
        "  print(f\"electric bill amount = {eng*3+fix_chg+mt_rent}\")\n",
        "elif 50<eng<=200:\n",
        "  print(f\"electric bill amount = {50*3+(eng-50)*4.8+fix_chg+mt_rent}\")\n",
        "elif 200<eng<=400:\n",
        "  print(f\"electric bill amount = {50*3+150*4.8+(eng-200)*5.8+fix_chg+mt_rent}\")\n",
        "elif eng>400:\n",
        "  print(f\"electric bill amount = {50*3+150*4.8+200*5.8+(eng-400)*6.2+fix_chg+mt_rent}\")"
      ],
      "metadata": {
        "colab": {
          "base_uri": "https://localhost:8080/"
        },
        "id": "vloFtkgiuO1B",
        "outputId": "d3c1bcf4-82d3-4920-d7db-b1febf97c699"
      },
      "execution_count": null,
      "outputs": [
        {
          "output_type": "stream",
          "name": "stdout",
          "text": [
            "enter total electric energy consumed (kWh) : 245\n",
            "electric bill amount = 1231.0\n"
          ]
        }
      ]
    },
    {
      "cell_type": "markdown",
      "source": [
        "28. Create a program to determine the type of quadrilateral based on its angles and sides using elif statements."
      ],
      "metadata": {
        "id": "JshGZAqA0SSk"
      }
    },
    {
      "cell_type": "code",
      "source": [
        "angle1 = float(input(\"Enter the first angle in degrees: \"))\n",
        "angle2 = float(input(\"Enter the second angle in degrees: \"))\n",
        "angle3 = float(input(\"Enter the third angle in degrees: \"))\n",
        "angle4 = float(input(\"Enter the fourth angle in degrees: \"))\n",
        "\n",
        "side1 = float(input(\"Enter the length of side 1: \"))\n",
        "side2 = float(input(\"Enter the length of side 2: \"))\n",
        "side3 = float(input(\"Enter the length of side 3: \"))\n",
        "side4 = float(input(\"Enter the length of side 4: \"))\n",
        "\n",
        "if angle1+angle2+angle3+angle4==360:\n",
        "  if angle1 == angle2 == angle3 == angle4 == 90:\n",
        "      if side1 == side2 == side3 == side4:\n",
        "          quadrilateral_type = \"square\"\n",
        "      else:\n",
        "          quadrilateral_type = \"rectangle\"\n",
        "  elif angle1 == angle3 and angle2 == angle4:\n",
        "      if side1 == side2 == side3 == side4:\n",
        "          quadrilateral_type = \"rhombus\"\n",
        "      else:\n",
        "          quadrilateral_type = \"parallelogram\"\n",
        "  else:\n",
        "      quadrilateral_type = \"quadrilateral\"\n",
        "  print(f\"The quadrilateral is a {quadrilateral_type}.\")\n",
        "else:\n",
        "  print(\"invalid input of quadrilateral\")"
      ],
      "metadata": {
        "colab": {
          "base_uri": "https://localhost:8080/"
        },
        "id": "TTu6H7hP0T6D",
        "outputId": "3ffc4d71-ef02-4e0e-f2bf-b9aacbe690a5"
      },
      "execution_count": null,
      "outputs": [
        {
          "output_type": "stream",
          "name": "stdout",
          "text": [
            "Enter the first angle in degrees: 70\n",
            "Enter the second angle in degrees: 110\n",
            "Enter the third angle in degrees: 70\n",
            "Enter the fourth angle in degrees: 110\n",
            "Enter the length of side 1: 30\n",
            "Enter the length of side 2: 45\n",
            "Enter the length of side 3: 30\n",
            "Enter the length of side 4: 45\n",
            "The quadrilateral is a parallelogram.\n"
          ]
        }
      ]
    },
    {
      "cell_type": "markdown",
      "source": [
        "29. Write a Python script to determine the season based on a user-provided month using elif statements."
      ],
      "metadata": {
        "id": "jDnS61PV3EBW"
      }
    },
    {
      "cell_type": "code",
      "source": [
        "month = int(input(\"Enter the month (1-12): \"))\n",
        "\n",
        "if 3 <= month <= 5:\n",
        "    season = \"spring\"\n",
        "elif 6 <= month <= 8:\n",
        "    season = \"summer\"\n",
        "elif 9 <= month <= 11:\n",
        "    season = \"autumn (fall)\"\n",
        "elif month == 12 or 1 <= month <= 2:\n",
        "    season = \"winter\"\n",
        "else:\n",
        "    season = \"invalid\"\n",
        "\n",
        "if season == \"invalid\":\n",
        "    print(\"Invalid input. Please enter a valid month (1-12).\")\n",
        "else:\n",
        "    print(f\"The season for month {month} is {season}.\")"
      ],
      "metadata": {
        "colab": {
          "base_uri": "https://localhost:8080/"
        },
        "id": "NM1tPSSH3F_X",
        "outputId": "93821172-5ef1-48a6-9ef1-2eac83eacd0c"
      },
      "execution_count": null,
      "outputs": [
        {
          "output_type": "stream",
          "name": "stdout",
          "text": [
            "Enter the month (1-12): 9\n",
            "The season for month 9 is autumn (fall).\n"
          ]
        }
      ]
    },
    {
      "cell_type": "markdown",
      "source": [
        "30. Implement a program to determine the type of a year (leap or common) and month (30 or 31 days) using elif statements.\n"
      ],
      "metadata": {
        "id": "GLRFs7XxxD-m"
      }
    },
    {
      "cell_type": "code",
      "source": [
        "year=int(input(\"enter year : \"))\n",
        "month = int(input(\"Enter the month (1-12): \"))\n",
        "if year%400==0 or year%4==0 and year%100!=0:\n",
        "  print(f\"{year} is a leap year\")\n",
        "else:\n",
        "  print(f\"{year} is not a leap year\")\n",
        "if month in [1,3,5,7,8,10,12]:\n",
        "  print(f\"month-{month} has 31 days\")\n",
        "elif month==2:\n",
        "  if year%400==0 or year%4==0 and year%100!=0:\n",
        "    print(f\"month-{month} has 29 days\")\n",
        "  else:\n",
        "    print(f\"month-{month} has 28 days\")\n",
        "else:\n",
        "  print(f\"month-{month} has 30 days\")"
      ],
      "metadata": {
        "id": "xZLCvQnYv3rc",
        "colab": {
          "base_uri": "https://localhost:8080/"
        },
        "outputId": "6f131006-7bf3-459c-924e-848b46eee96a"
      },
      "execution_count": null,
      "outputs": [
        {
          "output_type": "stream",
          "name": "stdout",
          "text": [
            "enter year : 2020\n",
            "Enter the month (1-12): 2\n",
            "2020 is a leap year\n",
            "month-2 has 29 days\n"
          ]
        }
      ]
    },
    {
      "cell_type": "markdown",
      "source": [
        "## Basic Level:"
      ],
      "metadata": {
        "id": "JTOEuy_t6IF-"
      }
    },
    {
      "cell_type": "markdown",
      "source": [
        "1. Write a Python program that checks if a given number is positive, negative, or zero"
      ],
      "metadata": {
        "id": "P69wRXkr6UqZ"
      }
    },
    {
      "cell_type": "code",
      "source": [
        "n=int(input(\"enter a number : \"))\n",
        "if n==0:\n",
        "  print(f\"{n} is zero\")\n",
        "elif n>0:\n",
        "  print(f\"{n} is positive\")\n",
        "else:\n",
        "  print(f\"{n} is negative\")"
      ],
      "metadata": {
        "colab": {
          "base_uri": "https://localhost:8080/"
        },
        "id": "75xgnXl76WdG",
        "outputId": "22673444-68f9-4de1-f46c-10eafe13db5f"
      },
      "execution_count": null,
      "outputs": [
        {
          "output_type": "stream",
          "name": "stdout",
          "text": [
            "enter a number : -78\n",
            "-78 is negative\n"
          ]
        }
      ]
    },
    {
      "cell_type": "markdown",
      "source": [
        "2. Create a program to determine if a person is eligible to vote based on their age"
      ],
      "metadata": {
        "id": "aXipdfuX6ukH"
      }
    },
    {
      "cell_type": "code",
      "source": [
        "age=int(input(\"enter age : \"))\n",
        "if age>=18:\n",
        "  print(\"person is eligible to vote\")\n",
        "else:\n",
        "  print(\"person is not eligible to vote\")"
      ],
      "metadata": {
        "colab": {
          "base_uri": "https://localhost:8080/"
        },
        "id": "DwGn1hGr6vp4",
        "outputId": "3b59c8a0-4502-4b57-c46e-86c273857e51"
      },
      "execution_count": null,
      "outputs": [
        {
          "output_type": "stream",
          "name": "stdout",
          "text": [
            "enter age : 35\n",
            "person is eligible to vote\n"
          ]
        }
      ]
    },
    {
      "cell_type": "markdown",
      "source": [
        "3 Write a program to find the maximum of two given numbers using conditional statements"
      ],
      "metadata": {
        "id": "9RlZDH9T693i"
      }
    },
    {
      "cell_type": "code",
      "source": [
        "n1=int(input(\"enter the first number : \"))\n",
        "n2=int(input(\"enter the second number : \"))\n",
        "if n1>=n2:\n",
        "  print(f\"{n1} is maximum\")\n",
        "else:\n",
        "  print(f\"{n2} is maximum\")"
      ],
      "metadata": {
        "colab": {
          "base_uri": "https://localhost:8080/"
        },
        "id": "u7B5wYPY6-7g",
        "outputId": "ccc043f9-3166-45ea-80bc-79cefeeff845"
      },
      "execution_count": null,
      "outputs": [
        {
          "output_type": "stream",
          "name": "stdout",
          "text": [
            "enter the first number : 56\n",
            "enter the second number : 49\n",
            "56 is maximum\n"
          ]
        }
      ]
    },
    {
      "cell_type": "markdown",
      "source": [
        "4. Develop a program that calculates the grade of a student based on their exam score."
      ],
      "metadata": {
        "id": "i1XYXB9C7XPe"
      }
    },
    {
      "cell_type": "code",
      "source": [
        "score=int(input(\"enter mark of student (0 to 100) : \"))\n",
        "\n",
        "if 100>=score >= 90:\n",
        "    grade = \"A\"\n",
        "elif 90>score >= 80:\n",
        "    grade = \"B\"\n",
        "elif 80>score >= 70:\n",
        "    grade = \"C\"\n",
        "elif 70>score >= 60:\n",
        "    grade = \"D\"\n",
        "elif 0<=score<60:\n",
        "    grade = \"F\"\n",
        "else:\n",
        "  grade=\"Invalid score\"\n",
        "\n",
        "print(f'grade = {grade}')"
      ],
      "metadata": {
        "colab": {
          "base_uri": "https://localhost:8080/"
        },
        "id": "xEAWAMbT7Zrs",
        "outputId": "36833353-e7e4-45cd-a073-80692ec4078c"
      },
      "execution_count": null,
      "outputs": [
        {
          "output_type": "stream",
          "name": "stdout",
          "text": [
            "enter mark of student (0 to 100) : 82\n",
            "grade = B\n"
          ]
        }
      ]
    },
    {
      "cell_type": "markdown",
      "source": [
        "5. Create a program that checks it a year is a leap year or not"
      ],
      "metadata": {
        "id": "NaC_vOx86La6"
      }
    },
    {
      "cell_type": "code",
      "source": [
        "year=int(input(\"enter year : \"))\n",
        "if year%400==0 or year%4==0 and year%100!=0:\n",
        "  print(f\"{year} is a leap year\")\n",
        "else:\n",
        "  print(f\"{year} is not a leap year\")"
      ],
      "metadata": {
        "colab": {
          "base_uri": "https://localhost:8080/"
        },
        "id": "seA8kS2V7yd8",
        "outputId": "644d87aa-90cf-4f59-c329-9fbb3fe5064e"
      },
      "execution_count": null,
      "outputs": [
        {
          "output_type": "stream",
          "name": "stdout",
          "text": [
            "enter year : 2024\n",
            "2024 is a leap year\n"
          ]
        }
      ]
    },
    {
      "cell_type": "markdown",
      "source": [
        "6. Write a program to classify a triangle based on its sides' lengths."
      ],
      "metadata": {
        "id": "xUengJzz7wKA"
      }
    },
    {
      "cell_type": "code",
      "source": [
        "side1 = float(input(\"Enter the length of side 1: \"))\n",
        "side2 = float(input(\"Enter the length of side 2: \"))\n",
        "side3 = float(input(\"Enter the length of side 3: \"))\n",
        "\n",
        "\n",
        "if side1 == side2 == side3:\n",
        "    triangle_type = \"equilateral\"\n",
        "elif side1 == side2 or side1 == side3 or side2 == side3:\n",
        "    triangle_type = \"isosceles\"\n",
        "else:\n",
        "    triangle_type = \"scalene\"\n",
        "\n",
        "print(f\"The triangle is {triangle_type}.\")"
      ],
      "metadata": {
        "id": "5S66pb7j_9S6"
      },
      "execution_count": null,
      "outputs": []
    },
    {
      "cell_type": "markdown",
      "source": [
        "7. Bulld a program that determines the largest of three given numbers."
      ],
      "metadata": {
        "id": "t9U60XUdAOqd"
      }
    },
    {
      "cell_type": "code",
      "source": [
        "n1=int(input(\"enter the first number : \"))\n",
        "n2=int(input(\"enter the second number : \"))\n",
        "n3=int(input(\"enter the third number : \"))\n",
        "if n1>n2:\n",
        "  if n1>n3:\n",
        "    print(f\"{n1} is maximum\")\n",
        "elif n2>n3:\n",
        "  if n2>n1:\n",
        "    print(f\"{n2} is maximum\")\n",
        "else:\n",
        "  print(f\"{n3} is maximum\")"
      ],
      "metadata": {
        "id": "YDz09CsXAPxA"
      },
      "execution_count": null,
      "outputs": []
    },
    {
      "cell_type": "markdown",
      "source": [
        "8. Develop a program that checke whether a character is a vowel or a consonant"
      ],
      "metadata": {
        "id": "j3umAE3xAhgd"
      }
    },
    {
      "cell_type": "code",
      "source": [
        "ch=input(\"enter a character : \")\n",
        "if ch.lower() in 'aeiou':\n",
        "  print(f\"{ch} is a vowel\")\n",
        "else:\n",
        "  print(f\"{ch} is a consonant\")"
      ],
      "metadata": {
        "colab": {
          "base_uri": "https://localhost:8080/"
        },
        "id": "VcLGr2nHAij1",
        "outputId": "9e884611-763d-4f03-b475-2d18dd67f7d4"
      },
      "execution_count": null,
      "outputs": [
        {
          "output_type": "stream",
          "name": "stdout",
          "text": [
            "enter a character : B\n",
            "B is a consonant\n"
          ]
        }
      ]
    },
    {
      "cell_type": "markdown",
      "source": [
        "9. Create a program to calculate the total cost of a shopping cart based on discounts."
      ],
      "metadata": {
        "id": "R8bG96gOA1C_"
      }
    },
    {
      "cell_type": "code",
      "source": [
        "p_amount=float(input(\"enter purchase amount : \"))\n",
        "if p_amount>5000:\n",
        "  print(f\"after applying 30% discount, amount to pay is {p_amount*0.7}\")\n",
        "elif p_amount>3000:\n",
        "  print(f\"after applying 20% discount, amount to pay is {p_amount*0.8}\")\n",
        "elif p_amount>1500:\n",
        "  print(f\"after applying 10% discount, amount to pay is {p_amount*0.9}\")\n",
        "else:\n",
        "  print(f\"amount to pay is {p_amount}\")"
      ],
      "metadata": {
        "colab": {
          "base_uri": "https://localhost:8080/"
        },
        "id": "DFi72ru-A3Ij",
        "outputId": "3183ab1c-b013-4fa1-9ad1-d2e776570339"
      },
      "execution_count": null,
      "outputs": [
        {
          "output_type": "stream",
          "name": "stdout",
          "text": [
            "enter purchase amount : 4567\n",
            "after applying 20% discount, amount to pay is 3653.6000000000004\n"
          ]
        }
      ]
    },
    {
      "cell_type": "markdown",
      "source": [
        "10. Write a program that checks if a given number is even or odd"
      ],
      "metadata": {
        "id": "TPUPwz7qAGiI"
      }
    },
    {
      "cell_type": "code",
      "source": [
        "n=int(input(\"enter a number : \"))\n",
        "if n%2==0:\n",
        "  print(f\"{n} is even\")\n",
        "else:\n",
        "  print(f\"{n} is odd\")"
      ],
      "metadata": {
        "colab": {
          "base_uri": "https://localhost:8080/"
        },
        "id": "qUoWkxHnBLyi",
        "outputId": "85a57a88-1759-41d3-e8f6-9090fd67cb7b"
      },
      "execution_count": null,
      "outputs": [
        {
          "output_type": "stream",
          "name": "stdout",
          "text": [
            "enter a number : 3653\n",
            "3653 is odd\n"
          ]
        }
      ]
    },
    {
      "cell_type": "markdown",
      "source": [
        "## Intermediate Level:"
      ],
      "metadata": {
        "id": "nbcCdDVEBbc7"
      }
    },
    {
      "cell_type": "markdown",
      "source": [
        "11. Write a program that calculates the roots of a quadratic equation\n"
      ],
      "metadata": {
        "id": "PNbsZEtkLn9Z"
      }
    },
    {
      "cell_type": "code",
      "source": [
        "a=int(input(\"enter coefficient 'a' of quadratic equation ax^2 + bx + c = 0 : \"))\n",
        "b=int(input(\"enter coefficient 'b' of quadratic equation ax^2 + bx + c = 0 : \"))\n",
        "c=int(input(\"enter coefficient 'c' of quadratic equation ax^2 + bx + c = 0 : \"))\n",
        "s1=(-b+(b**2-4*a*c)**0.5)/2*a\n",
        "s2=(-b-(b**2-4*a*c)**0.5)/2*a\n",
        "print(f\"the equation is ({a})x^2+({b})x+({c})=0\")\n",
        "print(f\"first solution = {s1}\")\n",
        "print(f\"second solution = {s2}\")\n"
      ],
      "metadata": {
        "colab": {
          "base_uri": "https://localhost:8080/"
        },
        "id": "I-f7uCp7LrJw",
        "outputId": "1e734cec-2830-445c-dd55-263d535b2ffa"
      },
      "execution_count": null,
      "outputs": [
        {
          "output_type": "stream",
          "name": "stdout",
          "text": [
            "enter coefficient 'a' of quadratic equation ax^2 + bx + c = 0 : 1\n",
            "enter coefficient 'b' of quadratic equation ax^2 + bx + c = 0 : 7\n",
            "enter coefficient 'c' of quadratic equation ax^2 + bx + c = 0 : -10\n",
            "the equation is (1)x^2+(7)x+(-10)=0\n",
            "first solution = 1.2169905660283016\n",
            "second solution = -8.2169905660283\n"
          ]
        }
      ]
    },
    {
      "cell_type": "markdown",
      "source": [
        "12. Create a program that determines the day of the week based on the day number (1-7)."
      ],
      "metadata": {
        "id": "Yq8uJLlpMD9r"
      }
    },
    {
      "cell_type": "code",
      "source": [
        "day_no=int(input(\"enter day no of the week : \"))\n",
        "if day_no==1:\n",
        "  print(\"day of the week is Monday\")\n",
        "elif day_no==2:\n",
        "  print(\"day of the week is Tuesday\")\n",
        "elif day_no==3:\n",
        "  print(\"day of the week is Wednesday\")\n",
        "elif day_no==4:\n",
        "  print(\"day of the week is Thursday\")\n",
        "elif day_no==5:\n",
        "  print(\"day of the week is Friday\")\n",
        "elif day_no==6:\n",
        "  print(\"day of the week is Saturday\")\n",
        "elif day_no==7:\n",
        "  print(\"day of the week is Sunday\")\n",
        "else:\n",
        "  print(\"invalid day of week\")"
      ],
      "metadata": {
        "colab": {
          "base_uri": "https://localhost:8080/"
        },
        "id": "oGc7wP6eMGAw",
        "outputId": "dd28b83f-a969-4909-e482-fc1f4747ccf7"
      },
      "execution_count": null,
      "outputs": [
        {
          "output_type": "stream",
          "name": "stdout",
          "text": [
            "enter day no of the week : 5\n",
            "day of the week is Friday\n"
          ]
        }
      ]
    },
    {
      "cell_type": "markdown",
      "source": [
        "13. Develop a program that calculates the factorial of a given number using recursion."
      ],
      "metadata": {
        "id": "7ZxhNVHfbYTg"
      }
    },
    {
      "cell_type": "code",
      "source": [
        "def fact(n):\n",
        "  if n<=1:\n",
        "    return 1\n",
        "  else:\n",
        "    return (n*fact(n-1))\n",
        "fact(5)"
      ],
      "metadata": {
        "colab": {
          "base_uri": "https://localhost:8080/"
        },
        "id": "NSkD8_-_bZo3",
        "outputId": "a91a6fb2-9ced-4513-ee02-79118799f0bb"
      },
      "execution_count": null,
      "outputs": [
        {
          "output_type": "execute_result",
          "data": {
            "text/plain": [
              "120"
            ]
          },
          "metadata": {},
          "execution_count": 24
        }
      ]
    },
    {
      "cell_type": "markdown",
      "source": [
        "14. Write a program to find the largest among three numbers without using the max() function.\n"
      ],
      "metadata": {
        "id": "214v6PrsBd3Q"
      }
    },
    {
      "cell_type": "code",
      "source": [
        "n1=int(input(\"enter the first number : \"))\n",
        "n2=int(input(\"enter the second number : \"))\n",
        "n3=int(input(\"enter the third number : \"))\n",
        "if n1>n2 and n1>n3:\n",
        "  print(f\"{n1} is maximum\")\n",
        "if n2>n3 and n2>n1:\n",
        "  print(f\"{n2} is maximum\")\n",
        "else:\n",
        "  print(f\"{n3} is maximum\")"
      ],
      "metadata": {
        "colab": {
          "base_uri": "https://localhost:8080/"
        },
        "id": "rJ5wrxYCb3Ov",
        "outputId": "4bd9b986-319a-40d8-9ac9-d8cf0634ceba"
      },
      "execution_count": null,
      "outputs": [
        {
          "output_type": "stream",
          "name": "stdout",
          "text": [
            "enter the first number : 56\n",
            "enter the second number : 48\n",
            "enter the third number : 79\n",
            "79 is maximum\n"
          ]
        }
      ]
    },
    {
      "cell_type": "markdown",
      "source": [
        "15. Create a program that simulates a basic ATM transaction menu."
      ],
      "metadata": {
        "id": "0zBa7J9wb2Ey"
      }
    },
    {
      "cell_type": "code",
      "source": [
        "account_balance = 1000.0\n",
        "\n",
        "while True:\n",
        "    print(\"\\nATM Menu:\")\n",
        "    print(\"1. Check Balance\")\n",
        "    print(\"2. Deposit Money\")\n",
        "    print(\"3. Withdraw Money\")\n",
        "    print(\"4. Exit\")\n",
        "\n",
        "    choice = input(\"Enter your choice (1/2/3/4): \")\n",
        "\n",
        "    if choice == \"1\":\n",
        "        print(f\"Your account balance is Rs.{account_balance:.2f}\")\n",
        "    elif choice == \"2\":\n",
        "        deposit_amount = float(input(\"Enter the amount to deposit: \"))\n",
        "        if deposit_amount > 0:\n",
        "            account_balance += deposit_amount\n",
        "            print(f\"Rs.{deposit_amount:.2f} has been deposited successfully.\")\n",
        "        else:\n",
        "            print(\"Invalid amount. Deposit amount must be greater than zero.\")\n",
        "    elif choice == \"3\":\n",
        "        withdraw_amount = float(input(\"Enter the amount to withdraw: \"))\n",
        "        if withdraw_amount > 0 and withdraw_amount <= account_balance:\n",
        "            account_balance -= withdraw_amount\n",
        "            print(f\"Rs.{withdraw_amount:.2f} has been withdrawn successfully.\")\n",
        "        elif withdraw_amount <= 0:\n",
        "            print(\"Invalid amount. Withdrawal amount must be greater than zero.\")\n",
        "        else:\n",
        "            print(\"Insufficient funds. You cannot withdraw more than your account balance.\")\n",
        "    elif choice == \"4\":\n",
        "        print(\"Thank you for using the ATM. Goodbye!\")\n",
        "        break\n",
        "    else:\n",
        "        print(\"Invalid choice. Please select a valid option (1/2/3/4).\")\n"
      ],
      "metadata": {
        "id": "kR4CY3wSBdNF",
        "colab": {
          "base_uri": "https://localhost:8080/"
        },
        "outputId": "b299bfe2-9595-4c49-abca-506c0688a1da"
      },
      "execution_count": null,
      "outputs": [
        {
          "output_type": "stream",
          "name": "stdout",
          "text": [
            "\n",
            "ATM Menu:\n",
            "1. Check Balance\n",
            "2. Deposit Money\n",
            "3. Withdraw Money\n",
            "4. Exit\n",
            "Enter your choice (1/2/3/4): 1\n",
            "Your account balance is Rs.1000.00\n",
            "\n",
            "ATM Menu:\n",
            "1. Check Balance\n",
            "2. Deposit Money\n",
            "3. Withdraw Money\n",
            "4. Exit\n",
            "Enter your choice (1/2/3/4): 2\n",
            "Enter the amount to deposit: 4000\n",
            "Rs.4000.00 has been deposited successfully.\n",
            "\n",
            "ATM Menu:\n",
            "1. Check Balance\n",
            "2. Deposit Money\n",
            "3. Withdraw Money\n",
            "4. Exit\n",
            "Enter your choice (1/2/3/4): 1\n",
            "Your account balance is Rs.5000.00\n",
            "\n",
            "ATM Menu:\n",
            "1. Check Balance\n",
            "2. Deposit Money\n",
            "3. Withdraw Money\n",
            "4. Exit\n",
            "Enter your choice (1/2/3/4): 3\n",
            "Enter the amount to withdraw: 3000\n",
            "Rs.3000.00 has been withdrawn successfully.\n",
            "\n",
            "ATM Menu:\n",
            "1. Check Balance\n",
            "2. Deposit Money\n",
            "3. Withdraw Money\n",
            "4. Exit\n",
            "Enter your choice (1/2/3/4): 1\n",
            "Your account balance is Rs.2000.00\n",
            "\n",
            "ATM Menu:\n",
            "1. Check Balance\n",
            "2. Deposit Money\n",
            "3. Withdraw Money\n",
            "4. Exit\n",
            "Enter your choice (1/2/3/4): 3\n",
            "Enter the amount to withdraw: 2000\n",
            "Rs.2000.00 has been withdrawn successfully.\n",
            "\n",
            "ATM Menu:\n",
            "1. Check Balance\n",
            "2. Deposit Money\n",
            "3. Withdraw Money\n",
            "4. Exit\n",
            "Enter your choice (1/2/3/4): 1\n",
            "Your account balance is Rs.0.00\n",
            "\n",
            "ATM Menu:\n",
            "1. Check Balance\n",
            "2. Deposit Money\n",
            "3. Withdraw Money\n",
            "4. Exit\n",
            "Enter your choice (1/2/3/4): 4\n",
            "Thank you for using the ATM. Goodbye!\n"
          ]
        }
      ]
    },
    {
      "cell_type": "markdown",
      "source": [
        "16. Build a program that checks if a given string is a palindrome or not."
      ],
      "metadata": {
        "id": "oYoRNK04-SFF"
      }
    },
    {
      "cell_type": "code",
      "source": [
        "s=input(\"enter a string : \")\n",
        "rev_s=s[::-1]\n",
        "if s==rev_s:\n",
        "    print(f\"{s} is palindrome\")\n",
        "else:\n",
        "    print(f\"{s} is  not palindrome\")"
      ],
      "metadata": {
        "colab": {
          "base_uri": "https://localhost:8080/"
        },
        "id": "LJh9gPcB-TJ9",
        "outputId": "157ca1a6-4fc7-43ee-c84b-145fa0a2282b"
      },
      "execution_count": null,
      "outputs": [
        {
          "output_type": "stream",
          "name": "stdout",
          "text": [
            "enter a string : abcba\n",
            "abcba is palindrome\n"
          ]
        }
      ]
    },
    {
      "cell_type": "markdown",
      "source": [
        "17. Write a program that calculates the average of a list of numbers, excluding the smallest and largest values"
      ],
      "metadata": {
        "id": "Eo4BRAcW-pNw"
      }
    },
    {
      "cell_type": "code",
      "source": [
        "import random\n",
        "l1=[random.randint(1,100) for _ in range(10)]\n",
        "print(f\"the list is {l1}\")\n",
        "smallest=min(l1)\n",
        "largest=max(l1)\n",
        "l1.remove(smallest)\n",
        "l1.remove(largest)\n",
        "print(f\"after removing smallest, largest, the list is {l1}\")\n",
        "avg=sum(l1)/len(l1)\n",
        "print(f\"average of list = {avg}\")"
      ],
      "metadata": {
        "colab": {
          "base_uri": "https://localhost:8080/"
        },
        "id": "utNaMGtM-qVq",
        "outputId": "fc4ffde3-d5ed-4015-8158-e7f1a3e162d6"
      },
      "execution_count": null,
      "outputs": [
        {
          "output_type": "stream",
          "name": "stdout",
          "text": [
            "the list is [51, 86, 34, 18, 61, 96, 100, 54, 34, 36]\n",
            "after removing smallest, largest, the list is [51, 86, 34, 61, 96, 54, 34, 36]\n",
            "average of list = 56.5\n"
          ]
        }
      ]
    },
    {
      "cell_type": "markdown",
      "source": [
        "18. Develop a program that converts a given temperature from Celsius to Fahrenheit"
      ],
      "metadata": {
        "id": "Q_OOpWrK_r6v"
      }
    },
    {
      "cell_type": "code",
      "source": [
        "celsius=float(input(\"enter temp. in celsius : \"))\n",
        "Fahrenheit=celsius*(9/5)+32\n",
        "print(f\"result, {celsius} C = {Fahrenheit} F\")"
      ],
      "metadata": {
        "colab": {
          "base_uri": "https://localhost:8080/"
        },
        "id": "Z5XHmn_v_toU",
        "outputId": "32cc4c6b-399b-48a8-9280-238e02a3dd54"
      },
      "execution_count": null,
      "outputs": [
        {
          "output_type": "stream",
          "name": "stdout",
          "text": [
            "enter temp. in celsius : 39\n",
            "result, 39.0 C = 102.2 F\n"
          ]
        }
      ]
    },
    {
      "cell_type": "markdown",
      "source": [
        "19. Create a program that simulates a basic calculator for addition, subtraction, multiplication, and division."
      ],
      "metadata": {
        "id": "lFgCnrsMAeEW"
      }
    },
    {
      "cell_type": "code",
      "source": [
        "n1=int(input(\"enter number 1 : \"))\n",
        "n2=int(input(\"enter number 2 : \"))\n",
        "op=input(\"enter operator (+,-,*,/) : \")\n",
        "if op=='+':\n",
        "    print(f\"{n1} + {n2}  = {n1+n2}\")\n",
        "elif op=='-':\n",
        "    print(f\"{n1} - {n2}  = {n1-n2}\")\n",
        "elif op=='*':\n",
        "    print(f\"{n1} * {n2}  = {n1*n2}\")\n",
        "elif op=='/':\n",
        "    print(f\"{n1} / {n2}  = {n1/n2}\")\n",
        "else:\n",
        "    print(\"invalid operator\")\n",
        "\n"
      ],
      "metadata": {
        "colab": {
          "base_uri": "https://localhost:8080/"
        },
        "id": "RUONlCMmAfSV",
        "outputId": "6fe5f404-a283-4479-ebca-c49353491dce"
      },
      "execution_count": null,
      "outputs": [
        {
          "output_type": "stream",
          "name": "stdout",
          "text": [
            "enter number 1 : 6\n",
            "enter number 2 : 5\n",
            "enter operator (+,-,*,/) : *\n",
            "6 * 5  = 30\n"
          ]
        }
      ]
    },
    {
      "cell_type": "markdown",
      "source": [
        "20. Write a program that determines the roots of a cubic equation using the Cardano formula.\n"
      ],
      "metadata": {
        "id": "e-GbqDcZ95iR"
      }
    },
    {
      "cell_type": "code",
      "source": [
        "import math\n",
        "\n",
        "a = float(input(\"Enter the coefficient of x^3: \"))\n",
        "b = float(input(\"Enter the coefficient of x^2: \"))\n",
        "c = float(input(\"Enter the coefficient of x: \"))\n",
        "d = float(input(\"Enter the constant term: \"))\n",
        "\n",
        "\n",
        "p = (3 * a * c - b ** 2) / (3 * a ** 2)\n",
        "q = (2 * b ** 3 - 9 * a * b * c + 27 * a ** 2 * d) / (27 * a ** 3)\n",
        "\n",
        "discriminant = (q ** 2) / 4 + (p ** 3) / 27\n",
        "\n",
        "if discriminant > 0:\n",
        "    u = (-q / 2 + math.sqrt(discriminant)) ** (1/3)\n",
        "    v = (-q / 2 - math.sqrt(discriminant)) ** (1/3)\n",
        "    root1 = u + v - b / (3 * a)\n",
        "    print(f\"Root 1: {root1:.4f}\")\n",
        "elif discriminant == 0:\n",
        "    if p == 0:\n",
        "        root1 = (-d / a) ** (1/3)\n",
        "        print(f\"Root 1: {root1:.4f}\")\n",
        "    else:\n",
        "        u = (-q / 2) ** (1/3)\n",
        "        root1 = 2 * u - b / (3 * a)\n",
        "        root2 = -u - b / (3 * a)\n",
        "        print(f\"Root 1: {root1:.4f}\")\n",
        "        print(f\"Root 2: {root2:.4f}\")\n",
        "else:\n",
        "    theta = math.acos(-q / (2 * math.sqrt(-(p ** 3) / 27)))\n",
        "    u = 2 * math.sqrt(-p / 3) * math.cos(theta / 3)\n",
        "    v = 2 * math.sqrt(-p / 3) * math.cos((theta + 2 * math.pi) / 3)\n",
        "    w = 2 * math.sqrt(-p / 3) * math.cos((theta + 4 * math.pi) / 3)\n",
        "    root1 = u - b / (3 * a)\n",
        "    root2 = v - b / (3 * a)\n",
        "    root3 = w - b / (3 * a)\n",
        "    print(f\"Root 1: {root1:.4f}\")\n",
        "    print(f\"Root 2: {root2:.4f}\")\n",
        "    print(f\"Root 3: {root3:.4f}\")\n"
      ],
      "metadata": {
        "colab": {
          "base_uri": "https://localhost:8080/"
        },
        "id": "pE__nhe8BM0a",
        "outputId": "eeb6e147-9fa7-42ec-a9b8-b05cc028a8a7"
      },
      "execution_count": null,
      "outputs": [
        {
          "output_type": "stream",
          "name": "stdout",
          "text": [
            "Enter the coefficient of x^3: 1\n",
            "Enter the coefficient of x^2: 3\n",
            "Enter the coefficient of x: 2\n",
            "Enter the constant term: 8\n",
            "Root 1: 0.0832+1.8761j\n"
          ]
        }
      ]
    },
    {
      "cell_type": "markdown",
      "source": [
        "## Advanced Level:"
      ],
      "metadata": {
        "id": "6GKzAehhCD9Z"
      }
    },
    {
      "cell_type": "markdown",
      "source": [
        "21. Create a program that calculates the income tax based on the user's income and tax brackets."
      ],
      "metadata": {
        "id": "7rSElBJdCSKQ"
      }
    },
    {
      "cell_type": "code",
      "source": [
        "\n",
        "tax_brackets = [(250000, 500000, 0.05), (500000, 750000, 0.1), (750000, 1000000, 0.15),\n",
        "                (1000000, 1250000, 0.2), (1250000, 1500000, 0.25), (1500000, float('inf'), 0.3)]\n",
        "\n",
        "income = float(input(\"Enter your annual income in INR: \"))\n",
        "\n",
        "# Calculate income tax\n",
        "tax = 0\n",
        "for bracket in tax_brackets:\n",
        "    lower_limit, upper_limit, rate = bracket\n",
        "    if income > upper_limit:\n",
        "        tax += (upper_limit - lower_limit + 1) * rate\n",
        "    elif income >= lower_limit:\n",
        "        tax += (income - lower_limit + 1) * rate\n",
        "        break\n",
        "\n",
        "\n",
        "print(f\"Your income tax for the year is: INR {tax:.2f}\")\n"
      ],
      "metadata": {
        "colab": {
          "base_uri": "https://localhost:8080/"
        },
        "id": "_6qVmf0gCTP4",
        "outputId": "3f08f4a8-266a-46ae-8ba1-e6779d94a5d3"
      },
      "execution_count": null,
      "outputs": [
        {
          "output_type": "stream",
          "name": "stdout",
          "text": [
            "Enter your annual income in INR: 620000\n",
            "Your income tax for the year is: INR 24500.15\n"
          ]
        }
      ]
    },
    {
      "cell_type": "markdown",
      "source": [
        "22. Write a program that simulates a rock-paper-scissors game against the computer."
      ],
      "metadata": {
        "id": "h5-2CvY4Ddh-"
      }
    },
    {
      "cell_type": "code",
      "source": [
        "import random\n",
        "\n",
        "while True:\n",
        "    user_choice = input(\"Enter your choice (rock, paper, or scissors): \").lower()\n",
        "    computer_choice = random.choice([\"rock\", \"paper\", \"scissors\"])\n",
        "\n",
        "    print(f\"You chose {user_choice}.\")\n",
        "    print(f\"Computer chose {computer_choice}.\")\n",
        "\n",
        "    if user_choice == computer_choice:\n",
        "        print(\"It's a tie!\")\n",
        "    elif (\n",
        "        (user_choice == \"rock\" and computer_choice == \"scissors\") or\n",
        "        (user_choice == \"paper\" and computer_choice == \"rock\") or\n",
        "        (user_choice == \"scissors\" and computer_choice == \"paper\")\n",
        "    ):\n",
        "        print(\"You win!\")\n",
        "    else:\n",
        "        print(\"Computer wins!\")\n",
        "\n",
        "    play_again = input(\"Do you want to play again? (yes/no): \").lower()\n",
        "    if play_again != \"yes\":\n",
        "        break\n",
        "\n",
        "print(\"Thanks for playing!\")\n"
      ],
      "metadata": {
        "colab": {
          "base_uri": "https://localhost:8080/"
        },
        "id": "1XhQaORdDibC",
        "outputId": "0194e7c5-b225-42ae-fc30-0311e3caed36"
      },
      "execution_count": null,
      "outputs": [
        {
          "output_type": "stream",
          "name": "stdout",
          "text": [
            "Enter your choice (rock, paper, or scissors): paper\n",
            "You chose paper.\n",
            "Computer chose rock.\n",
            "You win!\n",
            "Do you want to play again? (yes/no): no\n",
            "Thanks for playing!\n"
          ]
        }
      ]
    },
    {
      "cell_type": "markdown",
      "source": [
        "23. Develop a program that generates a random password based on user preferences (length, complexity)."
      ],
      "metadata": {
        "id": "1Dn1mmLHEOB7"
      }
    },
    {
      "cell_type": "code",
      "source": [
        "import random\n",
        "import string\n",
        "\n",
        "# Input user preferences\n",
        "length = int(input(\"Enter the desired length of the password: \"))\n",
        "use_lowercase = input(\"Include lowercase letters? (yes/no): \").lower() == \"yes\"\n",
        "use_uppercase = input(\"Include uppercase letters? (yes/no): \").lower() == \"yes\"\n",
        "use_digits = input(\"Include digits? (yes/no): \").lower() == \"yes\"\n",
        "use_special_chars = input(\"Include special characters? (yes/no): \").lower() == \"yes\"\n",
        "\n",
        "# Create a character pool based on user preferences\n",
        "characters = \"\"\n",
        "if use_lowercase:\n",
        "    characters += string.ascii_lowercase\n",
        "if use_uppercase:\n",
        "    characters += string.ascii_uppercase\n",
        "if use_digits:\n",
        "    characters += string.digits\n",
        "if use_special_chars:\n",
        "    characters += string.punctuation\n",
        "\n",
        "# Check if the user has selected at least one character type\n",
        "if not characters:\n",
        "    print(\"Please select at least one character type (lowercase, uppercase, digits, or special characters).\")\n",
        "else:\n",
        "    # Generate and display the password\n",
        "    password = ''.join(random.choice(characters) for _ in range(length))\n",
        "    print(\"Your generated password is:\", password)\n"
      ],
      "metadata": {
        "colab": {
          "base_uri": "https://localhost:8080/"
        },
        "id": "IvYW87eGEQnk",
        "outputId": "5db76fd4-c3fa-4c3c-a699-771d5d761f31"
      },
      "execution_count": null,
      "outputs": [
        {
          "output_type": "stream",
          "name": "stdout",
          "text": [
            "Enter the desired length of the password: 8\n",
            "Include lowercase letters? (yes/no): yes\n",
            "Include uppercase letters? (yes/no): yes\n",
            "Include digits? (yes/no): yes\n",
            "Include special characters? (yes/no): yes\n",
            "Your generated password is: v9&]/9{v\n"
          ]
        }
      ]
    },
    {
      "cell_type": "markdown",
      "source": [
        "24. Create a program that implements a simple text-based adventure game with branching scenarios."
      ],
      "metadata": {
        "id": "LPua0YjWvZnW"
      }
    },
    {
      "cell_type": "code",
      "source": [
        "import time\n",
        "\n",
        "print(\"Welcome to the Adventure Game!\")\n",
        "time.sleep(1)\n",
        "print(\"You find yourself standing at the entrance of a mysterious cave.\")\n",
        "time.sleep(1)\n",
        "print(\"Your mission is to find the hidden treasure within.\")\n",
        "time.sleep(1)\n",
        "print(\"Be careful, as the cave is full of dangers and traps!\")\n",
        "time.sleep(1)\n",
        "\n",
        "while True:\n",
        "    print(\"\\nWhich path will you choose?\")\n",
        "    print(\"1. Enter the dark tunnel.\")\n",
        "    print(\"2. Climb the rocky path upward.\")\n",
        "\n",
        "    choice = input(\"Enter your choice (1 or 2): \")\n",
        "\n",
        "    if choice == \"1\":\n",
        "        print(\"\\nYou enter the dark tunnel...\")\n",
        "        time.sleep(2)\n",
        "        print(\"As you go deeper, you see a faint light in the distance.\")\n",
        "        time.sleep(2)\n",
        "        print(\"You cautiously approach and find a chest filled with gold and jewels!\")\n",
        "        time.sleep(2)\n",
        "        print(\"Congratulations! You've found the treasure!\")\n",
        "        break\n",
        "    elif choice == \"2\":\n",
        "        print(\"\\nYou start climbing the rocky path...\")\n",
        "        time.sleep(2)\n",
        "        print(\"It's a steep climb, and you slip a few times but manage to reach the top.\")\n",
        "        time.sleep(2)\n",
        "        print(\"You see a beautiful garden with a fountain and a shiny sword lying beside it.\")\n",
        "        time.sleep(2)\n",
        "        print(\"You take the sword and feel a surge of power!\")\n",
        "        time.sleep(2)\n",
        "        print(\"You decide to return back.\")\n",
        "        break\n",
        "    else:\n",
        "        print(\"Invalid choice. Please enter 1 or 2.\")\n",
        "\n",
        "print(\"Thanks for playing!\")\n"
      ],
      "metadata": {
        "colab": {
          "base_uri": "https://localhost:8080/"
        },
        "id": "K-9vyhbevauZ",
        "outputId": "c1ba58dd-bc39-46ff-b9ec-7f63ce393448"
      },
      "execution_count": 1,
      "outputs": [
        {
          "output_type": "stream",
          "name": "stdout",
          "text": [
            "Welcome to the Adventure Game!\n",
            "You find yourself standing at the entrance of a mysterious cave.\n",
            "Your mission is to find the hidden treasure within.\n",
            "Be careful, as the cave is full of dangers and traps!\n",
            "\n",
            "Which path will you choose?\n",
            "1. Enter the dark tunnel.\n",
            "2. Climb the rocky path upward.\n",
            "Enter your choice (1 or 2): 2\n",
            "\n",
            "You start climbing the rocky path...\n",
            "It's a steep climb, and you slip a few times but manage to reach the top.\n",
            "You see a beautiful garden with a fountain and a shiny sword lying beside it.\n",
            "You take the sword and feel a surge of power!\n",
            "You decide to return back.\n",
            "Thanks for playing!\n"
          ]
        }
      ]
    },
    {
      "cell_type": "markdown",
      "source": [
        "25. Build a program that solves a linear equation for x, considering different cases."
      ],
      "metadata": {
        "id": "tQfxx2nXwNoK"
      }
    },
    {
      "cell_type": "code",
      "source": [
        "print(\"Input coefficients a and b for the equation ax + b = 0\")\n",
        "a = float(input(\"Enter the coefficient 'a' (must be non-zero): \"))\n",
        "b = float(input(\"Enter the coefficient 'b': \"))\n",
        "\n",
        "if a == 0:\n",
        "    if b == 0:\n",
        "        print(\"Infinite solutions. Any value of x will satisfy the equation.\")\n",
        "    else:\n",
        "        print(\"No solution. The equation is inconsistent.\")\n",
        "else:\n",
        "    x = -b / a\n",
        "    print(f\"The solution for x is: x = {x:.4f}\")\n"
      ],
      "metadata": {
        "colab": {
          "base_uri": "https://localhost:8080/"
        },
        "id": "UYQlT-0gwOuC",
        "outputId": "29e49ac0-2aea-4da7-ca99-86ade19c8745"
      },
      "execution_count": 2,
      "outputs": [
        {
          "output_type": "stream",
          "name": "stdout",
          "text": [
            "Input coefficients a and b for the equation ax + b = 0\n",
            "Enter the coefficient 'a' (must be non-zero): 2\n",
            "Enter the coefficient 'b': 6\n",
            "The solution for x is: x = -3.0000\n"
          ]
        }
      ]
    },
    {
      "cell_type": "markdown",
      "source": [
        "26. Write a program that simulates a basic quiz game with multiple-choice questions and scoring\n"
      ],
      "metadata": {
        "id": "-EApxtEACJEC"
      }
    },
    {
      "cell_type": "code",
      "source": [
        "# Quiz questions and answers\n",
        "questions = [\n",
        "    {\n",
        "        \"question\": \"What is the capital of France?\",\n",
        "        \"options\": [\"Paris\", \"Berlin\", \"Madrid\", \"Rome\"],\n",
        "        \"correct_answer\": \"Paris\"\n",
        "    },\n",
        "    {\n",
        "        \"question\": \"Which planet is known as the Red Planet?\",\n",
        "        \"options\": [\"Earth\", \"Mars\", \"Venus\", \"Jupiter\"],\n",
        "        \"correct_answer\": \"Mars\"\n",
        "    },\n",
        "    {\n",
        "        \"question\": \"What is the largest mammal in the world?\",\n",
        "        \"options\": [\"Elephant\", \"Whale Shark\", \"Giraffe\", \"Blue Whale\"],\n",
        "        \"correct_answer\": \"Blue Whale\"\n",
        "    }\n",
        "]\n",
        "\n",
        "# Initialize the score\n",
        "score = 0\n",
        "\n",
        "# Main quiz loop\n",
        "for question in questions:\n",
        "    print(question[\"question\"])\n",
        "    for i, option in enumerate(question[\"options\"], start=1):\n",
        "        print(f\"{i}. {option}\")\n",
        "\n",
        "    user_answer = input(\"Enter the number of your answer (1/2/3/4): \")\n",
        "\n",
        "    if user_answer.isdigit() and 1 <= int(user_answer) <= 4:\n",
        "        index = int(user_answer) - 1\n",
        "        if question[\"options\"][index] == question[\"correct_answer\"]:\n",
        "            print(\"You are Correct!\")\n",
        "            score += 1\n",
        "            print(f\"After increasing score by 1, your score is {score}\\n\")\n",
        "        else:\n",
        "            print(f\"Wrong! The correct answer is {question['correct_answer']}.\")\n",
        "            score-=0.25\n",
        "            print(f\"After decreasing score by 0.25, your score is {score}\\n\")\n",
        "    else:\n",
        "        print(\"Invalid input. Please choose a valid option (1/2/3/4).\\n\")\n",
        "\n",
        "# Display the final score\n",
        "print(f\"Quiz completed! Your Final score is: {score}/{len(questions)}\")\n"
      ],
      "metadata": {
        "colab": {
          "base_uri": "https://localhost:8080/"
        },
        "id": "uTNf2J2Hw1Sm",
        "outputId": "ab62ca52-3816-4e27-cf2c-5deaa3869dba"
      },
      "execution_count": 5,
      "outputs": [
        {
          "output_type": "stream",
          "name": "stdout",
          "text": [
            "What is the capital of France?\n",
            "1. Paris\n",
            "2. Berlin\n",
            "3. Madrid\n",
            "4. Rome\n",
            "Enter the number of your answer (1/2/3/4): 1\n",
            "You are Correct!\n",
            "After increasing score by 1, your score is 1\n",
            "\n",
            "Which planet is known as the Red Planet?\n",
            "1. Earth\n",
            "2. Mars\n",
            "3. Venus\n",
            "4. Jupiter\n",
            "Enter the number of your answer (1/2/3/4): 2\n",
            "You are Correct!\n",
            "After increasing score by 1, your score is 2\n",
            "\n",
            "What is the largest mammal in the world?\n",
            "1. Elephant\n",
            "2. Whale Shark\n",
            "3. Giraffe\n",
            "4. Blue Whale\n",
            "Enter the number of your answer (1/2/3/4): 1\n",
            "Wrong! The correct answer is Blue Whale.\n",
            "After decreasing score by 0.25, your score is 1.75\n",
            "\n",
            "Quiz completed! Your Final score is: 1.75/3\n"
          ]
        }
      ]
    },
    {
      "cell_type": "markdown",
      "source": [
        "27. Develop a program that determines whether a given year is a prime number or not."
      ],
      "metadata": {
        "id": "Nutvx_oVzfmR"
      }
    },
    {
      "cell_type": "code",
      "source": [
        "num=int(input(\"enter a year (greater than 1) : \"))\n",
        "if num>1:\n",
        "  is_prime = True\n",
        "  for i in range(2, num//2 + 1):\n",
        "      if num % i == 0:\n",
        "          is_prime = False\n",
        "          break\n",
        "  if is_prime:\n",
        "    print(f\"{num} is prime\")\n",
        "  else:\n",
        "    print(f\"{num} is not prime\")\n",
        "else:\n",
        "  print(\"can't check for prime\")"
      ],
      "metadata": {
        "colab": {
          "base_uri": "https://localhost:8080/"
        },
        "id": "-2ME7emMz3En",
        "outputId": "00fa1124-eec6-40cf-b69f-9e59be2ee92d"
      },
      "execution_count": 6,
      "outputs": [
        {
          "output_type": "stream",
          "name": "stdout",
          "text": [
            "enter a year (greater than 1) : 2023\n",
            "2023 is not prime\n"
          ]
        }
      ]
    },
    {
      "cell_type": "markdown",
      "source": [
        "28. Create a program that sorts three numbers in ascending order using conditional statements.\n"
      ],
      "metadata": {
        "id": "wZoHvMflzlBC"
      }
    },
    {
      "cell_type": "code",
      "source": [
        "num1 = float(input(\"Enter the first number: \"))\n",
        "num2 = float(input(\"Enter the second number: \"))\n",
        "num3 = float(input(\"Enter the third number: \"))\n",
        "\n",
        "\n",
        "if num1 <= num2 <= num3:\n",
        "    sorted_num1, sorted_num2, sorted_num3 = num1, num2, num3\n",
        "elif num1 <= num3 <= num2:\n",
        "    sorted_num1, sorted_num2, sorted_num3 = num1, num3, num2\n",
        "elif num2 <= num1 <= num3:\n",
        "    sorted_num1, sorted_num2, sorted_num3 = num2, num1, num3\n",
        "elif num2 <= num3 <= num1:\n",
        "    sorted_num1, sorted_num2, sorted_num3 = num2, num3, num1\n",
        "elif num3 <= num1 <= num2:\n",
        "    sorted_num1, sorted_num2, sorted_num3 = num3, num1, num2\n",
        "else:\n",
        "    sorted_num1, sorted_num2, sorted_num3 = num3, num2, num1\n",
        "\n",
        "print(\"Numbers in ascending order:\", sorted_num1, sorted_num2, sorted_num3)\n"
      ],
      "metadata": {
        "colab": {
          "base_uri": "https://localhost:8080/"
        },
        "id": "OkynsIm70j8T",
        "outputId": "de0a0d9a-468c-41d9-97f6-8da0bc6db28a"
      },
      "execution_count": 7,
      "outputs": [
        {
          "output_type": "stream",
          "name": "stdout",
          "text": [
            "Enter the first number: 45\n",
            "Enter the second number: 87\n",
            "Enter the third number: 56\n",
            "Numbers in ascending order: 45.0 56.0 87.0\n"
          ]
        }
      ]
    },
    {
      "cell_type": "markdown",
      "source": [
        "29. Build a program that determines the roots of a quartic equation using numerical methods."
      ],
      "metadata": {
        "id": "TvE3v_b4z1kC"
      }
    },
    {
      "cell_type": "code",
      "source": [
        "import sympy as sp\n",
        "\n",
        "# Define the variable and the quartic equation\n",
        "x = sp.symbols('x')\n",
        "quartic_equation = x**4 - 6*x**3 + 11*x**2 - 6*x\n",
        "\n",
        "# Find the derivative of the equation\n",
        "derivative = sp.diff(quartic_equation, x)\n",
        "\n",
        "# Initialize an initial guess for the root\n",
        "initial_guess = float(input(\"Enter an initial guess for the root: \"))\n",
        "\n",
        "# Set the tolerance for convergence\n",
        "tolerance = 1e-6\n",
        "\n",
        "# Perform the Newton-Raphson iteration\n",
        "while True:\n",
        "    f_value = quartic_equation.subs(x, initial_guess)\n",
        "    f_prime_value = derivative.subs(x, initial_guess)\n",
        "\n",
        "    new_guess = initial_guess - f_value / f_prime_value\n",
        "\n",
        "    if abs(new_guess - initial_guess) < tolerance:\n",
        "        root = new_guess\n",
        "        break\n",
        "\n",
        "    initial_guess = new_guess\n",
        "\n",
        "# Display the approximate root\n",
        "print(f\"Approximate root: {root:.6f}\")\n"
      ],
      "metadata": {
        "colab": {
          "base_uri": "https://localhost:8080/"
        },
        "id": "3JPmQooU1qjg",
        "outputId": "9227dbaa-e021-4aa5-9bd8-675edf70b052"
      },
      "execution_count": 8,
      "outputs": [
        {
          "output_type": "stream",
          "name": "stdout",
          "text": [
            "Enter an initial guess for the root: 5\n",
            "Approximate root: 3.000000\n"
          ]
        }
      ]
    },
    {
      "cell_type": "markdown",
      "source": [
        "30. Write a program that calculates the BMI (Body Mass Index) and provides health recommendations based on the user's input"
      ],
      "metadata": {
        "id": "mNLC2daxzUyk"
      }
    },
    {
      "cell_type": "code",
      "source": [
        "bmi=float(input(\"enter BMI of a person : \"))\n",
        "if bmi<18.5:\n",
        "  print(f\"person having BMI={bmi} is Underweight\")\n",
        "  print(\"Alert!! you need to gain weight\")\n",
        "elif 18.5<=bmi<=24.9:\n",
        "  print(f\"person having BMI={bmi} is Normal\")\n",
        "  print(\"Excellent!! you need to maintain weight\")\n",
        "elif 25<=bmi<29.9:\n",
        "  print(f\"person having BMI={bmi} is Overweight\")\n",
        "  print(\"alert!! you need to loose weight\")\n",
        "elif bmi>=30:\n",
        "  print(f\"person having BMI={bmi} is Obese\")\n",
        "  print(\"Caution!!!you need to loose weight immidiately\")\n",
        "\n"
      ],
      "metadata": {
        "colab": {
          "base_uri": "https://localhost:8080/"
        },
        "id": "U4pt5V0q1_O3",
        "outputId": "7236c139-2051-437b-a0f6-596e53ed1502"
      },
      "execution_count": 9,
      "outputs": [
        {
          "output_type": "stream",
          "name": "stdout",
          "text": [
            "enter BMI of a person : 35\n",
            "person having BMI=35.0 is Obese\n",
            "Caution!!!you need to loose weight immidiately\n"
          ]
        }
      ]
    },
    {
      "cell_type": "markdown",
      "source": [
        "## Challenge Level:"
      ],
      "metadata": {
        "id": "eLH1FwHB2r9d"
      }
    },
    {
      "cell_type": "markdown",
      "source": [
        "31. Create a program that validates a password based on complexity rules (length, characters, etc.)."
      ],
      "metadata": {
        "id": "lyPAZVPi225_"
      }
    },
    {
      "cell_type": "code",
      "source": [
        "print(\"\"\"the password is to be entered by the user.\\n\n",
        "It then checks for the following criteria:\\n\n",
        "1. The password should be at least 8 characters long.\\n\n",
        "2. The password should contain at least one lowercase letter.\\n\n",
        "3. The password should contain at least one uppercase letter.\\n\n",
        "4. The password should contain at least one digit.\\n\n",
        "5. The password should contain at least one special character.\"\"\")\n",
        "while True:\n",
        "    # Input a password\n",
        "    password = input(\"Enter a password: \")\n",
        "\n",
        "    # Initialize flags for condition checks\n",
        "    is_valid_length = len(password) >= 8\n",
        "    has_lowercase = any(c.islower() for c in password)\n",
        "    has_uppercase = any(c.isupper() for c in password)\n",
        "    has_digit = any(c.isdigit() for c in password)\n",
        "    has_special = any(c in \"!@#$%^&*()-_+=<>,.?/:;{}[]\" for c in password)\n",
        "\n",
        "    # Check and provide specific messages for each condition that fails\n",
        "    if not is_valid_length:\n",
        "        print(\"Password should be at least 8 characters long.\")\n",
        "    if not has_lowercase:\n",
        "        print(\"Password should contain at least one lowercase letter.\")\n",
        "    if not has_uppercase:\n",
        "        print(\"Password should contain at least one uppercase letter.\")\n",
        "    if not has_digit:\n",
        "        print(\"Password should contain at least one digit.\")\n",
        "    if not has_special:\n",
        "        print(\"Password should contain at least one special character.\")\n",
        "    else:\n",
        "        print(\"Password is valid.\")\n",
        "        break\n"
      ],
      "metadata": {
        "colab": {
          "base_uri": "https://localhost:8080/"
        },
        "id": "hmZCOZvO24HE",
        "outputId": "c47fd1d8-c5be-4ba5-d31f-2eccf581e626"
      },
      "execution_count": 12,
      "outputs": [
        {
          "output_type": "stream",
          "name": "stdout",
          "text": [
            "the password is to be entered by the user.\n",
            " \n",
            "It then checks for the following criteria:\n",
            "\n",
            "1. The password should be at least 8 characters long.\n",
            "\n",
            "2. The password should contain at least one lowercase letter.\n",
            "\n",
            "3. The password should contain at least one uppercase letter.\n",
            "\n",
            "4. The password should contain at least one digit.\n",
            "\n",
            "5. The password should contain at least one special character.\n",
            "Enter a password: prasant1234\n",
            "Password should contain at least one uppercase letter.\n",
            "Password should contain at least one special character.\n",
            "Enter a password: PRASANT1234\n",
            "Password should contain at least one lowercase letter.\n",
            "Password should contain at least one special character.\n",
            "Enter a password: Prasant12\n",
            "Password should contain at least one special character.\n",
            "Enter a password: Prasant@1234\n",
            "Password is valid.\n"
          ]
        }
      ]
    },
    {
      "cell_type": "markdown",
      "source": [
        "32. Develop a program that performs matrix addition and subtraction based on user input"
      ],
      "metadata": {
        "id": "3Le2FVfS_iOT"
      }
    },
    {
      "cell_type": "code",
      "source": [
        "# Input dimensions for matrix A\n",
        "rows_A = int(input(\"Enter the number of rows for matrix A: \"))\n",
        "cols_A = int(input(\"Enter the number of columns for matrix A: \"))\n",
        "\n",
        "# Input dimensions for matrix B\n",
        "rows_B = int(input(\"Enter the number of rows for matrix B: \"))\n",
        "cols_B = int(input(\"Enter the number of columns for matrix B: \"))\n",
        "\n",
        "# Initialize matrices A and B\n",
        "matrix_A = []\n",
        "matrix_B = []\n",
        "\n",
        "# Input matrix A\n",
        "print(\"Enter matrix A:\")\n",
        "for i in range(rows_A):\n",
        "    row = []\n",
        "    for j in range(cols_A):\n",
        "        while True:\n",
        "            try:\n",
        "                element = float(input(f\"Enter element A[{i+1}][{j+1}]: \"))\n",
        "                row.append(element)\n",
        "                break  # Input is valid, exit the loop\n",
        "            except ValueError:\n",
        "                print(\"Invalid input. Please enter a valid number.\")\n",
        "\n",
        "    matrix_A.append(row)\n",
        "\n",
        "# Input matrix B\n",
        "print(\"\\nEnter matrix B:\")\n",
        "for i in range(rows_B):\n",
        "    row = []\n",
        "    for j in range(cols_B):\n",
        "        while True:\n",
        "            try:\n",
        "                element = float(input(f\"Enter element B[{i+1}][{j+1}]: \"))\n",
        "                row.append(element)\n",
        "                break  # Input is valid, exit the loop\n",
        "            except ValueError:\n",
        "                print(\"Invalid input. Please enter a valid number.\")\n",
        "\n",
        "    matrix_B.append(row)\n",
        "\n",
        "# Check for compatibility before performing matrix addition\n",
        "if rows_A == rows_B and cols_A == cols_B:\n",
        "    matrix_sum = [[matrix_A[i][j] + matrix_B[i][j] for j in range(cols_A)] for i in range(rows_A)]\n",
        "    print(\"\\nMatrix A + Matrix B:\")\n",
        "    for row in matrix_sum:\n",
        "        print(row)\n",
        "else:\n",
        "    print(\"\\nMatrix addition is not possible due to incompatible dimensions.\")\n",
        "\n",
        "# Check for compatibility before performing matrix subtraction\n",
        "if rows_A == rows_B and cols_A == cols_B:\n",
        "    matrix_diff = [[matrix_A[i][j] - matrix_B[i][j] for j in range(cols_A)] for i in range(rows_A)]\n",
        "    print(\"\\nMatrix A - Matrix B:\")\n",
        "    for row in matrix_diff:\n",
        "        print(row)\n",
        "else:\n",
        "    print(\"\\nMatrix subtraction is not possible due to incompatible dimensions.\")\n"
      ],
      "metadata": {
        "colab": {
          "base_uri": "https://localhost:8080/"
        },
        "id": "_V3Iednn_jPg",
        "outputId": "06a538d0-7e37-4f79-ec5c-b1fd16cb46cf"
      },
      "execution_count": 13,
      "outputs": [
        {
          "output_type": "stream",
          "name": "stdout",
          "text": [
            "Enter the number of rows for matrix A: 2\n",
            "Enter the number of columns for matrix A: 3\n",
            "Enter the number of rows for matrix B: 2\n",
            "Enter the number of columns for matrix B: 3\n",
            "Enter matrix A:\n",
            "Enter element A[1][1]: 12\n",
            "Enter element A[1][2]: 32\n",
            "Enter element A[1][3]: 7\n",
            "Enter element A[2][1]: 6\n",
            "Enter element A[2][2]: 3\n",
            "Enter element A[2][3]: 9\n",
            "\n",
            "Enter matrix B:\n",
            "Enter element B[1][1]: 11\n",
            "Enter element B[1][2]: 5\n",
            "Enter element B[1][3]: 6\n",
            "Enter element B[2][1]: 3\n",
            "Enter element B[2][2]: 8\n",
            "Enter element B[2][3]: 2\n",
            "\n",
            "Matrix A + Matrix B:\n",
            "[23.0, 37.0, 13.0]\n",
            "[9.0, 11.0, 11.0]\n",
            "\n",
            "Matrix A - Matrix B:\n",
            "[1.0, 27.0, 1.0]\n",
            "[3.0, -5.0, 7.0]\n"
          ]
        }
      ]
    },
    {
      "cell_type": "markdown",
      "source": [
        "33. Write a program that calculates the greatest common divisor (GCD) of two numbers using the Euclidean algorithm."
      ],
      "metadata": {
        "id": "fmCSOezUAxo7"
      }
    },
    {
      "cell_type": "code",
      "source": [
        "num1 = int(input(\"Enter the first number: \"))\n",
        "num2 = int(input(\"Enter the second number: \"))\n",
        "\n",
        "if num1 < num2:\n",
        "    num1, num2 = num2, num1\n",
        "\n",
        "# Calculate the GCD using the Euclidean algorithm\n",
        "while num2:\n",
        "    num1, num2 = num2, num1 % num2\n",
        "\n",
        "print(f\"The GCD of the two numbers is {num1}.\")\n"
      ],
      "metadata": {
        "colab": {
          "base_uri": "https://localhost:8080/"
        },
        "id": "eE2sUKsbAypG",
        "outputId": "10089d6e-c91d-4ddc-cdb9-1b60cb060da8"
      },
      "execution_count": 14,
      "outputs": [
        {
          "output_type": "stream",
          "name": "stdout",
          "text": [
            "Enter the first number: 8\n",
            "Enter the second number: 15\n",
            "The GCD of the two numbers is 1.\n"
          ]
        }
      ]
    },
    {
      "cell_type": "markdown",
      "source": [
        "34. Build a program that performs matrix multiplication using nested loops and conditional statements."
      ],
      "metadata": {
        "id": "TG-bG0T6BzwP"
      }
    },
    {
      "cell_type": "code",
      "source": [
        "# Input dimensions for matrix A\n",
        "rows_A = int(input(\"Enter the number of rows for matrix A: \"))\n",
        "cols_A = int(input(\"Enter the number of columns for matrix A: \"))\n",
        "\n",
        "# Input dimensions for matrix B\n",
        "rows_B = int(input(\"Enter the number of rows for matrix B: \"))\n",
        "cols_B = int(input(\"Enter the number of columns for matrix B: \"))\n",
        "\n",
        "# Initialize matrices A and B\n",
        "matrix_A = []\n",
        "matrix_B = []\n",
        "\n",
        "# Input matrix A\n",
        "print(\"Enter matrix A:\")\n",
        "for i in range(rows_A):\n",
        "    row = []\n",
        "    for j in range(cols_A):\n",
        "        while True:\n",
        "            try:\n",
        "                element = float(input(f\"Enter element A[{i+1}][{j+1}]: \"))\n",
        "                row.append(element)\n",
        "                break  # Input is valid, exit the loop\n",
        "            except ValueError:\n",
        "                print(\"Invalid input. Please enter a valid number.\")\n",
        "\n",
        "    matrix_A.append(row)\n",
        "\n",
        "# Input matrix B\n",
        "print(\"\\nEnter matrix B:\")\n",
        "for i in range(rows_B):\n",
        "    row = []\n",
        "    for j in range(cols_B):\n",
        "        while True:\n",
        "            try:\n",
        "                element = float(input(f\"Enter element B[{i+1}][{j+1}]: \"))\n",
        "                row.append(element)\n",
        "                break  # Input is valid, exit the loop\n",
        "            except ValueError:\n",
        "                print(\"Invalid input. Please enter a valid number.\")\n",
        "\n",
        "    matrix_B.append(row)\n",
        "\n",
        "# Perform matrix multiplication if the dimensions are compatible\n",
        "if cols_A == rows_B:\n",
        "    matrix_mult = [[sum(matrix_A[i][k] * matrix_B[k][j] for k in range(cols_A)) for j in range(cols_B)] for i in range(rows_A)]\n",
        "    print(\"\\nMatrix A * Matrix B:\")\n",
        "    for row in matrix_mult:\n",
        "        print(row)\n",
        "else:\n",
        "    print(\"\\nMatrix multiplication is not possible due to incompatible dimensions.\")"
      ],
      "metadata": {
        "colab": {
          "base_uri": "https://localhost:8080/"
        },
        "id": "jiXUC3wkBuyg",
        "outputId": "9bbc1766-2578-4a9e-a5ce-377d12a77516"
      },
      "execution_count": 15,
      "outputs": [
        {
          "output_type": "stream",
          "name": "stdout",
          "text": [
            "Enter the number of rows for matrix A: 2\n",
            "Enter the number of columns for matrix A: 3\n",
            "Enter the number of rows for matrix B: 3\n",
            "Enter the number of columns for matrix B: 2\n",
            "Enter matrix A:\n",
            "Enter element A[1][1]: 1\n",
            "Enter element A[1][2]: 2\n",
            "Enter element A[1][3]: 3\n",
            "Enter element A[2][1]: 4\n",
            "Enter element A[2][2]: 5\n",
            "Enter element A[2][3]: 6\n",
            "\n",
            "Enter matrix B:\n",
            "Enter element B[1][1]: 9\n",
            "Enter element B[1][2]: 8\n",
            "Enter element B[2][1]: 7\n",
            "Enter element B[2][2]: 6\n",
            "Enter element B[3][1]: 5\n",
            "Enter element B[3][2]: 4\n",
            "\n",
            "Matrix A * Matrix B:\n",
            "[38.0, 32.0]\n",
            "[101.0, 86.0]\n"
          ]
        }
      ]
    },
    {
      "cell_type": "markdown",
      "source": [
        "35. Create a program that simulates a basic text-based tic-tac-toe game against the computer."
      ],
      "metadata": {
        "id": "Q8bbMZ4O2ud2"
      }
    },
    {
      "cell_type": "code",
      "source": [
        "import random\n",
        "\n",
        "# Initialize the tic-tac-toe board\n",
        "board = [[\" \" for _ in range(3)] for _ in range(3)]\n",
        "\n",
        "# Player and computer symbols\n",
        "player_symbol = \"X\"\n",
        "computer_symbol = \"O\"\n",
        "\n",
        "# Function to print the tic-tac-toe board\n",
        "def print_board(board):\n",
        "    for row in board:\n",
        "        print(\" | \".join(row))\n",
        "        print(\"-\" * 9)\n",
        "\n",
        "# Main game loop\n",
        "while True:\n",
        "    # Player's turn\n",
        "    print(\"\\nPlayer's Turn:\")\n",
        "    while True:\n",
        "        try:\n",
        "            row, col = map(int, input(\"Enter the row and column (0, 1, or 2) where you want to place your X (e.g., 1 2): \").split())\n",
        "            if 0 <= row <= 2 and 0 <= col <= 2 and board[row][col] == \" \":\n",
        "                board[row][col] = player_symbol\n",
        "                break\n",
        "            else:\n",
        "                print(\"Invalid move. Try again.\")\n",
        "        except ValueError:\n",
        "            print(\"Invalid input. Enter valid row and column.\")\n",
        "\n",
        "    print_board(board)\n",
        "\n",
        "    # Check if the player wins\n",
        "    if any(all(cell == player_symbol for cell in row) for row in board) \\\n",
        "            or any(all(board[i][j] == player_symbol for i in range(3)) for j in range(3)) \\\n",
        "            or all(board[i][i] == player_symbol for i in range(3)) \\\n",
        "            or all(board[i][2 - i] == player_symbol for i in range(3)):\n",
        "        print(\"Player wins!\")\n",
        "        break\n",
        "\n",
        "    # Check for a tie\n",
        "    if all(cell != \" \" for row in board for cell in row):\n",
        "        print(\"It's a tie!\")\n",
        "        break\n",
        "\n",
        "    # Computer's turn\n",
        "    print(\"\\nComputer's Turn:\")\n",
        "    while True:\n",
        "        computer_row, computer_col = random.randint(0, 2), random.randint(0, 2)\n",
        "        if board[computer_row][computer_col] == \" \":\n",
        "            board[computer_row][computer_col] = computer_symbol\n",
        "            break\n",
        "\n",
        "    print_board(board)\n",
        "\n",
        "    # Check if the computer wins\n",
        "    if any(all(cell == computer_symbol for cell in row) for row in board) \\\n",
        "            or any(all(board[i][j] == computer_symbol for i in range(3)) for j in range(3)) \\\n",
        "            or all(board[i][i] == computer_symbol for i in range(3)) \\\n",
        "            or all(board[i][2 - i] == computer_symbol for i in range(3)):\n",
        "        print(\"Computer wins! You lose!\")\n",
        "        break\n",
        "\n",
        "    # Check for a tie\n",
        "    if all(cell != \" \" for row in board for cell in row):\n",
        "        print(\"It's a tie!\")\n",
        "        break\n"
      ],
      "metadata": {
        "colab": {
          "base_uri": "https://localhost:8080/"
        },
        "id": "veiFyzlIC81k",
        "outputId": "dbb9ac00-a02c-452f-dd58-294901e6f06f"
      },
      "execution_count": 17,
      "outputs": [
        {
          "output_type": "stream",
          "name": "stdout",
          "text": [
            "\n",
            "Player's Turn:\n",
            "Enter the row and column (0, 1, or 2) where you want to place your X (e.g., 1 2): 0 2\n",
            "  |   | X\n",
            "---------\n",
            "  |   |  \n",
            "---------\n",
            "  |   |  \n",
            "---------\n",
            "\n",
            "Computer's Turn:\n",
            "  |   | X\n",
            "---------\n",
            "  |   |  \n",
            "---------\n",
            "O |   |  \n",
            "---------\n",
            "\n",
            "Player's Turn:\n",
            "Enter the row and column (0, 1, or 2) where you want to place your X (e.g., 1 2): 0 0\n",
            "X |   | X\n",
            "---------\n",
            "  |   |  \n",
            "---------\n",
            "O |   |  \n",
            "---------\n",
            "\n",
            "Computer's Turn:\n",
            "X |   | X\n",
            "---------\n",
            "  | O |  \n",
            "---------\n",
            "O |   |  \n",
            "---------\n",
            "\n",
            "Player's Turn:\n",
            "Enter the row and column (0, 1, or 2) where you want to place your X (e.g., 1 2): 0 1\n",
            "X | X | X\n",
            "---------\n",
            "  | O |  \n",
            "---------\n",
            "O |   |  \n",
            "---------\n",
            "Player wins!\n"
          ]
        }
      ]
    },
    {
      "cell_type": "markdown",
      "source": [
        "36. Write a program that generates Fibonacci numbers up to a specified term using iterative methods."
      ],
      "metadata": {
        "id": "6ARf2bm_EVkN"
      }
    },
    {
      "cell_type": "code",
      "source": [
        "n=int(input(\"enter a specified term that generates Fibonacci numbers : \"))\n",
        "if n<=0:\n",
        "    print(\"no fibonacci number\")\n",
        "else:\n",
        "    fib=[0,1]\n",
        "    for i in range(2,n):\n",
        "        fib.append(fib[i-1]+fib[i-2])\n",
        "print(f\"first {n} Fibonacci numbers are : \")\n",
        "print(fib[:n])"
      ],
      "metadata": {
        "colab": {
          "base_uri": "https://localhost:8080/"
        },
        "id": "58WmxEW6EWrp",
        "outputId": "29f33346-c159-44f2-cd4f-e406a4299874"
      },
      "execution_count": 19,
      "outputs": [
        {
          "output_type": "stream",
          "name": "stdout",
          "text": [
            "enter a specified term that generates Fibonacci numbers : 8\n",
            "first 8 Fibonacci numbers are : \n",
            "[0, 1, 1, 2, 3, 5, 8, 13]\n"
          ]
        }
      ]
    },
    {
      "cell_type": "markdown",
      "source": [
        "37. Develop a program that calculates the nth term of the Fibonacci sequence using memolzation."
      ],
      "metadata": {
        "id": "ca_LuJnOF0ZO"
      }
    },
    {
      "cell_type": "code",
      "source": [
        "def fibo(n):\n",
        "  if n<=1:\n",
        "    return n\n",
        "  else:\n",
        "    return fibo(n-1)+fibo(n-2)\n",
        "n=int(input(\"enter the nth term of the Fibonacci sequence : \"))\n",
        "print(f\"the {n}th term of the Fibonacci sequence is {fibo(n)}\")"
      ],
      "metadata": {
        "colab": {
          "base_uri": "https://localhost:8080/"
        },
        "id": "LfpE0rOYF1YW",
        "outputId": "26df865b-8b73-41d0-d262-f04727d92827"
      },
      "execution_count": 21,
      "outputs": [
        {
          "output_type": "stream",
          "name": "stdout",
          "text": [
            "enter the nth term of the Fibonacci sequence : 7\n",
            "the 7th term of the Fibonacci sequence is 13\n"
          ]
        }
      ]
    },
    {
      "cell_type": "markdown",
      "source": [
        "38. Create a program that generates a calendar for a given month and year using conditional statements."
      ],
      "metadata": {
        "id": "wjtIEzhZG1A0"
      }
    },
    {
      "cell_type": "code",
      "source": [
        "import calendar\n",
        "year = int(input(\"Enter year: \"))\n",
        "month = int(input(\"Enter month (1-12): \"))\n",
        "\n",
        "while month < 1 or month > 12:\n",
        "    print(\"Invalid month. month is not between 1 and 12.\")\n",
        "    month = int(input(\"Enter month (1-12): \"))\n",
        "else:\n",
        "    cal = calendar.month(year, month)\n",
        "    print(cal)\n"
      ],
      "metadata": {
        "colab": {
          "base_uri": "https://localhost:8080/"
        },
        "id": "2MKX4rCyG2QF",
        "outputId": "b2033b50-9406-4b2d-c6f3-ccefef294e97"
      },
      "execution_count": 23,
      "outputs": [
        {
          "output_type": "stream",
          "name": "stdout",
          "text": [
            "Enter year: 2023\n",
            "Enter month (1-12): 14\n",
            "Invalid month. month is not between 1 and 12.\n",
            "Enter month (1-12): -4\n",
            "Invalid month. month is not between 1 and 12.\n",
            "Enter month (1-12): 9\n",
            "   September 2023\n",
            "Mo Tu We Th Fr Sa Su\n",
            "             1  2  3\n",
            " 4  5  6  7  8  9 10\n",
            "11 12 13 14 15 16 17\n",
            "18 19 20 21 22 23 24\n",
            "25 26 27 28 29 30\n",
            "\n"
          ]
        }
      ]
    },
    {
      "cell_type": "markdown",
      "source": [
        "39. Build a program that simulates a basic text-based blackjack game against the computer."
      ],
      "metadata": {
        "id": "9cWFZ4fhH89g"
      }
    },
    {
      "cell_type": "code",
      "source": [
        "import random\n",
        "\n",
        "# Initialize the deck of cards\n",
        "suits = ['Hearts', 'Diamonds', 'Clubs', 'Spades']\n",
        "ranks = ['2', '3', '4', '5', '6', '7', '8', '9', '10', 'J', 'Q', 'K', 'A']\n",
        "deck = [rank + ' of ' + suit for suit in suits for rank in ranks]\n",
        "\n",
        "# Shuffle the deck\n",
        "random.shuffle(deck)\n",
        "\n",
        "# Initialize player and computer hands\n",
        "player_hand = []\n",
        "computer_hand = []\n",
        "\n",
        "# Deal the initial cards\n",
        "player_hand.extend([deck.pop(), deck.pop()])\n",
        "computer_hand.extend([deck.pop(), deck.pop()])\n",
        "\n",
        "# Function to calculate the hand value\n",
        "def calculate_hand_value(hand):\n",
        "    value = 0\n",
        "    aces = hand.count('A')\n",
        "\n",
        "    for card in hand:\n",
        "        if card.split()[0] in ['K', 'Q', 'J']:\n",
        "            value += 10\n",
        "        elif card.split()[0] == 'A':\n",
        "            value += 11\n",
        "        else:\n",
        "            value += int(card.split()[0])\n",
        "\n",
        "    while value > 21 and aces > 0:\n",
        "        value -= 10\n",
        "        aces -= 1\n",
        "\n",
        "    return value\n",
        "\n",
        "# Main game loop\n",
        "while True:\n",
        "    # Display player's hand and computer's visible card\n",
        "    print(\"\\nPlayer's Hand:\", player_hand)\n",
        "    print(\"Computer's Hand:\", [computer_hand[0], 'Hidden Card'])\n",
        "\n",
        "    # Check if player has blackjack\n",
        "    if calculate_hand_value(player_hand) == 21:\n",
        "        print(\"Player has Blackjack! Player wins!\")\n",
        "        break\n",
        "\n",
        "    # Player's turn\n",
        "    while calculate_hand_value(player_hand) < 21:\n",
        "        action = input(\"Do you want to 'hit' or 'stand'? \").lower()\n",
        "        if action == 'hit':\n",
        "            player_hand.append(deck.pop())\n",
        "            print(\"\\nPlayer's Hand:\", player_hand)\n",
        "        elif action == 'stand':\n",
        "            break\n",
        "\n",
        "    # Computer's turn\n",
        "    while calculate_hand_value(computer_hand) < 17:\n",
        "        computer_hand.append(deck.pop())\n",
        "\n",
        "    # Display final hands\n",
        "    print(\"\\nPlayer's Hand:\", player_hand, \"Value:\", calculate_hand_value(player_hand))\n",
        "    print(\"Computer's Hand:\", computer_hand, \"Value:\", calculate_hand_value(computer_hand))\n",
        "\n",
        "    # Determine the winner\n",
        "    if calculate_hand_value(player_hand) > 21:\n",
        "        print(\"Player busts! Computer wins!\")\n",
        "    elif calculate_hand_value(computer_hand) > 21:\n",
        "        print(\"Computer busts! Player wins!\")\n",
        "    elif calculate_hand_value(player_hand) > calculate_hand_value(computer_hand):\n",
        "        print(\"Player wins!\")\n",
        "    elif calculate_hand_value(player_hand) < calculate_hand_value(computer_hand):\n",
        "        print(\"Computer wins!\")\n",
        "    else:\n",
        "        print(\"It's a tie!\")\n",
        "\n",
        "    play_again = input(\"Do you want to play again? (yes/no): \").lower()\n",
        "    if play_again != 'yes':\n",
        "        break\n"
      ],
      "metadata": {
        "colab": {
          "base_uri": "https://localhost:8080/"
        },
        "id": "ttB9rzJ6H9__",
        "outputId": "f5c24953-ebe6-44e5-eb91-fbaf71b46341"
      },
      "execution_count": 29,
      "outputs": [
        {
          "name": "stdout",
          "output_type": "stream",
          "text": [
            "\n",
            "Player's Hand: ['3 of Diamonds', '7 of Spades']\n",
            "Computer's Hand: ['5 of Clubs', 'Hidden Card']\n",
            "Do you want to 'hit' or 'stand'? stand\n",
            "\n",
            "Player's Hand: ['3 of Diamonds', '7 of Spades'] Value: 10\n",
            "Computer's Hand: ['5 of Clubs', '10 of Diamonds', '8 of Spades'] Value: 23\n",
            "Computer busts! Player wins!\n",
            "Do you want to play again? (yes/no): no\n"
          ]
        }
      ]
    },
    {
      "cell_type": "markdown",
      "source": [
        "40. Write a program that generates the prime factors of a given number using trial division."
      ],
      "metadata": {
        "id": "EL4QI5l4EI0l"
      }
    },
    {
      "cell_type": "code",
      "source": [
        "num = int(input(\"Enter a positive integer: \"))\n",
        "\n",
        "if num <= 0:\n",
        "    print(\"Please enter a positive integer.\")\n",
        "else:\n",
        "    factors = []\n",
        "    divisor = 2\n",
        "    num_copy=num\n",
        "    while divisor <= num:\n",
        "        if num % divisor == 0:\n",
        "            factors.append(divisor)\n",
        "            num //= divisor\n",
        "        else:\n",
        "            divisor += 1\n",
        "\n",
        "    if len(factors) == 1:\n",
        "        print(f\"{num_copy} is a prime number.\")\n",
        "    else:\n",
        "        print(f\"Prime factors of {num_copy}: {factors}\")\n"
      ],
      "metadata": {
        "colab": {
          "base_uri": "https://localhost:8080/"
        },
        "id": "vHs1qMByJsBO",
        "outputId": "212379f6-2e67-4a9c-cb5f-f38546cecd54"
      },
      "execution_count": 34,
      "outputs": [
        {
          "output_type": "stream",
          "name": "stdout",
          "text": [
            "Enter a positive integer: 28\n",
            "Prime factors of 28: [2, 2, 7]\n"
          ]
        }
      ]
    }
  ]
}