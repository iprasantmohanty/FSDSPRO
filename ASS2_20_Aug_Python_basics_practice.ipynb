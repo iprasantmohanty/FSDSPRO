{
  "cells": [
    {
      "cell_type": "markdown",
      "metadata": {
        "id": "90d383b1"
      },
      "source": [
        "## String Based Assignment Problem"
      ],
      "id": "90d383b1"
    },
    {
      "cell_type": "markdown",
      "metadata": {
        "id": "974c5415"
      },
      "source": [
        "1. Write a program to reverse a string."
      ],
      "id": "974c5415"
    },
    {
      "cell_type": "code",
      "execution_count": null,
      "metadata": {
        "id": "5fd8aaf7",
        "outputId": "4328b386-4d3e-45b7-9a68-9f17e823b7bc"
      },
      "outputs": [
        {
          "name": "stdout",
          "output_type": "stream",
          "text": [
            "enter a string : python\n",
            "reverse of python is nohtyp\n"
          ]
        }
      ],
      "source": [
        "s=input(\"enter a string : \")\n",
        "rev_s=s[::-1]\n",
        "print(f\"reverse of {s} is {rev_s}\")"
      ],
      "id": "5fd8aaf7"
    },
    {
      "cell_type": "markdown",
      "metadata": {
        "id": "be44ccf0"
      },
      "source": [
        "2. Check if a string is a palindrome."
      ],
      "id": "be44ccf0"
    },
    {
      "cell_type": "code",
      "execution_count": null,
      "metadata": {
        "id": "f2760f6f",
        "outputId": "4341d1e8-106d-4afb-f816-4de86a7b0e4e"
      },
      "outputs": [
        {
          "name": "stdout",
          "output_type": "stream",
          "text": [
            "enter a string : madam\n",
            "madam is palindrome\n"
          ]
        }
      ],
      "source": [
        "s=input(\"enter a string : \")\n",
        "rev_s=s[::-1]\n",
        "if s==rev_s:\n",
        "    print(f\"{s} is palindrome\")\n",
        "else:\n",
        "    print(f\"{s} is  not palindrome\")"
      ],
      "id": "f2760f6f"
    },
    {
      "cell_type": "markdown",
      "metadata": {
        "id": "e2b22980"
      },
      "source": [
        "3. Convert a string to uppercase."
      ],
      "id": "e2b22980"
    },
    {
      "cell_type": "code",
      "execution_count": null,
      "metadata": {
        "id": "d3727c30",
        "outputId": "583bfdb0-7333-4f23-8e65-3163328f7812"
      },
      "outputs": [
        {
          "name": "stdout",
          "output_type": "stream",
          "text": [
            "enter a string : python\n",
            "PYTHON\n"
          ]
        }
      ],
      "source": [
        "s=input(\"enter a string : \")\n",
        "upper_s=s.upper()\n",
        "print(upper_s)"
      ],
      "id": "d3727c30"
    },
    {
      "cell_type": "markdown",
      "metadata": {
        "id": "399d3767"
      },
      "source": [
        "4. Convert a string to lowercase."
      ],
      "id": "399d3767"
    },
    {
      "cell_type": "code",
      "execution_count": null,
      "metadata": {
        "id": "049aab7e",
        "outputId": "c6e822d1-8501-45ea-ccc2-c51696ff8357"
      },
      "outputs": [
        {
          "name": "stdout",
          "output_type": "stream",
          "text": [
            "enter a string : Python\n",
            "python\n"
          ]
        }
      ],
      "source": [
        "s=input(\"enter a string : \")\n",
        "lower_s=s.lower()\n",
        "print(lower_s)"
      ],
      "id": "049aab7e"
    },
    {
      "cell_type": "markdown",
      "metadata": {
        "id": "8ee6f540"
      },
      "source": [
        "5. Count the number of vowels in a string."
      ],
      "id": "8ee6f540"
    },
    {
      "cell_type": "code",
      "execution_count": null,
      "metadata": {
        "id": "fab4b312",
        "outputId": "9b0cffd7-e1e8-4476-ff8e-d220165045e4"
      },
      "outputs": [
        {
          "name": "stdout",
          "output_type": "stream",
          "text": [
            "enter a string : Good Morning\n",
            "number of vowels in Good Morning is 4\n"
          ]
        }
      ],
      "source": [
        "s=input(\"enter a string : \")\n",
        "count=0\n",
        "for ch in s:\n",
        "    if ch in 'aeiouAEIOU':\n",
        "        count+=1\n",
        "print(f\"number of vowels in {s} is {count}\")"
      ],
      "id": "fab4b312"
    },
    {
      "cell_type": "markdown",
      "metadata": {
        "id": "e70b78e3"
      },
      "source": [
        "6. Count the number of consonants in a string."
      ],
      "id": "e70b78e3"
    },
    {
      "cell_type": "code",
      "execution_count": null,
      "metadata": {
        "id": "8a9ee69a",
        "outputId": "299f557f-75f7-4337-c8de-45f1749b33fe"
      },
      "outputs": [
        {
          "name": "stdout",
          "output_type": "stream",
          "text": [
            "enter a string : Good Morning\n",
            "number of consonants in Good Morning is 8\n"
          ]
        }
      ],
      "source": [
        "s=input(\"enter a string : \")\n",
        "count=0\n",
        "for ch in s:\n",
        "    if ch not in 'aeiouAEIOU':\n",
        "        count+=1\n",
        "print(f\"number of consonants in {s} is {count}\")"
      ],
      "id": "8a9ee69a"
    },
    {
      "cell_type": "markdown",
      "metadata": {
        "id": "8d2510da"
      },
      "source": [
        "7. Remove all whitespaces from a string."
      ],
      "id": "8d2510da"
    },
    {
      "cell_type": "code",
      "execution_count": null,
      "metadata": {
        "id": "7767e5b4",
        "outputId": "934149a9-70c0-4ea0-9cc2-662f952a8772"
      },
      "outputs": [
        {
          "name": "stdout",
          "output_type": "stream",
          "text": [
            "enter a string : hi Good Morning\n",
            "hiGoodMorning\n"
          ]
        }
      ],
      "source": [
        "s=input(\"enter a string : \")\n",
        "new_s=\"\"\n",
        "for word in s.split():\n",
        "    new_s+=word\n",
        "print(new_s)"
      ],
      "id": "7767e5b4"
    },
    {
      "cell_type": "markdown",
      "metadata": {
        "id": "7f1551b2"
      },
      "source": [
        "8. Find the length of a string without using the `len()` function."
      ],
      "id": "7f1551b2"
    },
    {
      "cell_type": "code",
      "execution_count": null,
      "metadata": {
        "id": "923dc0e5",
        "outputId": "aafffaba-9556-4749-ba60-f0a1512f12bd"
      },
      "outputs": [
        {
          "name": "stdout",
          "output_type": "stream",
          "text": [
            "enter a string : Good Morning\n",
            "length of Good Morning is 12\n"
          ]
        }
      ],
      "source": [
        "s=input(\"enter a string : \")\n",
        "length=0\n",
        "for ch in s:\n",
        "    length+=1\n",
        "print(f\"length of {s} is {length}\")"
      ],
      "id": "923dc0e5"
    },
    {
      "cell_type": "markdown",
      "metadata": {
        "id": "a49737af"
      },
      "source": [
        "9. Check if a string contains a specific word."
      ],
      "id": "a49737af"
    },
    {
      "cell_type": "code",
      "execution_count": null,
      "metadata": {
        "id": "d099ac1f",
        "outputId": "708f7a0b-1132-4966-f521-042e9d2ba781"
      },
      "outputs": [
        {
          "name": "stdout",
          "output_type": "stream",
          "text": [
            "enter a string : I am going to market\n",
            "enter a word : to\n",
            "word 'to'' is in 'I am going to market''\n"
          ]
        }
      ],
      "source": [
        "s=input(\"enter a string : \")\n",
        "word=input(\"enter a word : \")\n",
        "if word in s.split():\n",
        "    print(f\"word '{word}'' is in '{s}''\")\n",
        "else:\n",
        "    print(f\"word '{word}' is not in '{s}'\")"
      ],
      "id": "d099ac1f"
    },
    {
      "cell_type": "markdown",
      "metadata": {
        "id": "1a15034b"
      },
      "source": [
        "10. Replace a word in a string with another word."
      ],
      "id": "1a15034b"
    },
    {
      "cell_type": "code",
      "execution_count": null,
      "metadata": {
        "id": "c9373ddb",
        "outputId": "ce758904-cc26-4167-a7e8-e936be72d6cf"
      },
      "outputs": [
        {
          "name": "stdout",
          "output_type": "stream",
          "text": [
            "enter a string : good night\n",
            "enter an old word  to replace: night\n",
            "enter a new  word  to replace with night: morning\n",
            "the new string is 'good morning'\n"
          ]
        }
      ],
      "source": [
        "s=input(\"enter a string : \")\n",
        "old_word=input(\"enter an old word  to replace: \")\n",
        "if old_word in s.split():\n",
        "    new_word=input(f\"enter a new  word  to replace with {old_word}: \")\n",
        "    new_s=s.replace(old_word,new_word)\n",
        "    print(f\"the new string is '{new_s}'\")\n",
        "else:\n",
        "    print(f\"word '{old_word}' is not found\")\n"
      ],
      "id": "c9373ddb"
    },
    {
      "cell_type": "markdown",
      "metadata": {
        "id": "173bf1d6"
      },
      "source": [
        "11. Count the occurrences of a word in a string."
      ],
      "id": "173bf1d6"
    },
    {
      "cell_type": "code",
      "execution_count": null,
      "metadata": {
        "id": "e3447ebb",
        "outputId": "b2422f7d-c5fb-4854-93dc-28e08f03626f"
      },
      "outputs": [
        {
          "name": "stdout",
          "output_type": "stream",
          "text": [
            "enter a string : I am going to market also to college\n",
            "enter a word : to\n",
            "word 'to' occured 2 times\n"
          ]
        }
      ],
      "source": [
        "s=input(\"enter a string : \")\n",
        "word=input(\"enter a word : \")\n",
        "count = s.lower().count(word.lower())\n",
        "print(f\"word '{word}' occured {count} times\")"
      ],
      "id": "e3447ebb"
    },
    {
      "cell_type": "markdown",
      "metadata": {
        "id": "919a762d"
      },
      "source": [
        "12. Find the first occurrence of a word in a string."
      ],
      "id": "919a762d"
    },
    {
      "cell_type": "code",
      "execution_count": null,
      "metadata": {
        "id": "18b2a25b",
        "outputId": "793ef5e0-6b26-4fe7-b219-cc7e07694b52"
      },
      "outputs": [
        {
          "name": "stdout",
          "output_type": "stream",
          "text": [
            "enter a string : I am going to market also to college\n",
            "enter a word : to\n",
            "word 'to' occured  first time at index 11\n"
          ]
        }
      ],
      "source": [
        "s=input(\"enter a string : \")\n",
        "word=input(\"enter a word : \")\n",
        "first_occr = s.lower().find(word.lower())\n",
        "if first_occr!=-1:\n",
        "    print(f\"word '{word}' occured  first time at index {first_occr}\")\n",
        "else:\n",
        "    print(f\"word '{word}'  is not occured.\")"
      ],
      "id": "18b2a25b"
    },
    {
      "cell_type": "markdown",
      "metadata": {
        "id": "809d0a3e"
      },
      "source": [
        "13. Find the last occurrence of a word in a string."
      ],
      "id": "809d0a3e"
    },
    {
      "cell_type": "code",
      "execution_count": null,
      "metadata": {
        "id": "5c489608",
        "outputId": "1c1e126f-d91a-4585-d7b4-fb6973a1d075"
      },
      "outputs": [
        {
          "name": "stdout",
          "output_type": "stream",
          "text": [
            "enter a string : I am going to market also to college\n",
            "enter a word : to\n",
            "word 'to' occured  last time at index 26\n"
          ]
        }
      ],
      "source": [
        "s=input(\"enter a string : \")\n",
        "word=input(\"enter a word : \")\n",
        "last_occr = s.lower().rfind(word.lower())\n",
        "if last_occr!=-1:\n",
        "    print(f\"word '{word}' occured  last time at index {last_occr}\")\n",
        "else:\n",
        "    print(f\"word '{word}'  is not occured.\")"
      ],
      "id": "5c489608"
    },
    {
      "cell_type": "markdown",
      "metadata": {
        "id": "7a6577eb"
      },
      "source": [
        "14. Split a string into a list of words."
      ],
      "id": "7a6577eb"
    },
    {
      "cell_type": "code",
      "execution_count": null,
      "metadata": {
        "id": "764583bf",
        "outputId": "8b73a1de-7c9c-4bba-cdc3-587c4c612d3e"
      },
      "outputs": [
        {
          "name": "stdout",
          "output_type": "stream",
          "text": [
            "enter a string : Today is sunday\n",
            "list of words : ['Today', 'is', 'sunday']\n"
          ]
        }
      ],
      "source": [
        "s=input(\"enter a string : \")\n",
        "list_of_word=s.split()\n",
        "print(f\"list of words : {list_of_word}\")"
      ],
      "id": "764583bf"
    },
    {
      "cell_type": "markdown",
      "metadata": {
        "id": "e4f51417"
      },
      "source": [
        "15. Join a list of words into a string."
      ],
      "id": "e4f51417"
    },
    {
      "cell_type": "code",
      "execution_count": null,
      "metadata": {
        "id": "fe69574f",
        "outputId": "09ab50a4-036d-4df0-a7cb-b174ea70fabc"
      },
      "outputs": [
        {
          "name": "stdout",
          "output_type": "stream",
          "text": [
            "enter a string : Today is sunday\n",
            "Today is sunday\n"
          ]
        }
      ],
      "source": [
        "s=input(\"enter a string : \")\n",
        "list_of_word=s.split()\n",
        "joined_s=\" \".join(list_of_word)\n",
        "print(joined_s)"
      ],
      "id": "fe69574f"
    },
    {
      "cell_type": "markdown",
      "metadata": {
        "id": "38a7a6de"
      },
      "source": [
        "16. Convert a string where words are separated by spaces to one where words are separated by underscores."
      ],
      "id": "38a7a6de"
    },
    {
      "cell_type": "code",
      "execution_count": null,
      "metadata": {
        "id": "5852923f",
        "outputId": "8fa90e63-8bd3-4256-c982-91f2db4e380c"
      },
      "outputs": [
        {
          "name": "stdout",
          "output_type": "stream",
          "text": [
            "enter a string : today is sunday\n",
            "today_is_sunday\n"
          ]
        }
      ],
      "source": [
        "s=input(\"enter a string : \")\n",
        "list_of_word=s.split()\n",
        "joined_s=\"_\".join(list_of_word)\n",
        "print(joined_s)"
      ],
      "id": "5852923f"
    },
    {
      "cell_type": "markdown",
      "metadata": {
        "id": "930e6907"
      },
      "source": [
        "17. Check if a string starts with a specific word or phrase."
      ],
      "id": "930e6907"
    },
    {
      "cell_type": "code",
      "execution_count": null,
      "metadata": {
        "id": "ea5b3126",
        "outputId": "cd82b69f-6bbf-464b-e58e-a587e0976c05"
      },
      "outputs": [
        {
          "name": "stdout",
          "output_type": "stream",
          "text": [
            "enter a string : today is sunday\n",
            "enter a word : Today\n",
            "the string starts with the word 'Today'\n"
          ]
        }
      ],
      "source": [
        "s=input(\"enter a string : \")\n",
        "word=input(\"enter a word : \")\n",
        "starts_with = s.lower().startswith(word.lower())\n",
        "if starts_with!=-1:\n",
        "    print(f\"the string starts with the word '{word}'\")\n",
        "else:\n",
        "    print(f\"the string not starts with the word '{word}'\")"
      ],
      "id": "ea5b3126"
    },
    {
      "cell_type": "markdown",
      "metadata": {
        "id": "ecb83b93"
      },
      "source": [
        "18. Check if a string ends with a specific word or phrase."
      ],
      "id": "ecb83b93"
    },
    {
      "cell_type": "code",
      "execution_count": null,
      "metadata": {
        "id": "70b1db0e",
        "outputId": "336ee510-e7c1-4af0-946a-3a097f0dd16d"
      },
      "outputs": [
        {
          "name": "stdout",
          "output_type": "stream",
          "text": [
            "enter a string : today is sunday\n",
            "enter a word : Sunday\n",
            "the string ends with the word 'Sunday'\n"
          ]
        }
      ],
      "source": [
        "s=input(\"enter a string : \")\n",
        "word=input(\"enter a word : \")\n",
        "ends_with = s.lower().endswith(word.lower())\n",
        "if ends_with!=-1:\n",
        "    print(f\"the string ends with the word '{word}'\")\n",
        "else:\n",
        "    print(f\"the string not ends with the word '{word}'\")"
      ],
      "id": "70b1db0e"
    },
    {
      "cell_type": "markdown",
      "metadata": {
        "id": "101d1a7c"
      },
      "source": [
        "19. Convert a string to title case (e.g., \"hello world\" to \"Hello World\")."
      ],
      "id": "101d1a7c"
    },
    {
      "cell_type": "code",
      "execution_count": null,
      "metadata": {
        "id": "e4083941",
        "outputId": "66f1c761-8243-4dc1-f210-2b188da06741"
      },
      "outputs": [
        {
          "name": "stdout",
          "output_type": "stream",
          "text": [
            "enter a string : good morning\n",
            "Good Morning\n"
          ]
        }
      ],
      "source": [
        "s=input(\"enter a string : \")\n",
        "s_new=s.title()\n",
        "print(s_new)"
      ],
      "id": "e4083941"
    },
    {
      "cell_type": "markdown",
      "metadata": {
        "id": "64e1568a"
      },
      "source": [
        "20. Find the longest word in a string."
      ],
      "id": "64e1568a"
    },
    {
      "cell_type": "code",
      "execution_count": null,
      "metadata": {
        "id": "611a7b40",
        "outputId": "c06c9b12-f150-42ac-c1ef-57db30801e8f"
      },
      "outputs": [
        {
          "name": "stdout",
          "output_type": "stream",
          "text": [
            "enter a string : good morning\n",
            "longest word is 'morning'\n"
          ]
        }
      ],
      "source": [
        "s=input(\"enter a string : \")\n",
        "longest_word=max(s.split())\n",
        "print(f\"longest word is '{longest_word}'\")"
      ],
      "id": "611a7b40"
    },
    {
      "cell_type": "markdown",
      "metadata": {
        "id": "26a920d5"
      },
      "source": [
        "21. Find the shortest word in a string."
      ],
      "id": "26a920d5"
    },
    {
      "cell_type": "code",
      "execution_count": null,
      "metadata": {
        "id": "2f424045",
        "outputId": "54fdd59d-028d-40ce-eabc-326dd5dcdee9"
      },
      "outputs": [
        {
          "name": "stdout",
          "output_type": "stream",
          "text": [
            "enter a string : good night\n",
            "shortest word is 'good'\n"
          ]
        }
      ],
      "source": [
        "s=input(\"enter a string : \")\n",
        "shortest_word=min(s.split())\n",
        "print(f\"shortest word is '{shortest_word}'\")"
      ],
      "id": "2f424045"
    },
    {
      "cell_type": "markdown",
      "metadata": {
        "id": "6764cf0d"
      },
      "source": [
        "22. Reverse the order of words in a string."
      ],
      "id": "6764cf0d"
    },
    {
      "cell_type": "code",
      "execution_count": null,
      "metadata": {
        "id": "5cbf3a86",
        "outputId": "8c657fbe-af9b-408b-fbe9-5cbce9144d86"
      },
      "outputs": [
        {
          "name": "stdout",
          "output_type": "stream",
          "text": [
            "enter a string : I am going to mall\n",
            "reverse of words : '['mall', 'to', 'going', 'am', 'I']'\n"
          ]
        }
      ],
      "source": [
        "s=input(\"enter a string : \")\n",
        "reverse_of_words=s.split()[::-1]\n",
        "print(f\"reverse of words : '{reverse_of_words}'\")"
      ],
      "id": "5cbf3a86"
    },
    {
      "cell_type": "markdown",
      "metadata": {
        "id": "0efb7927"
      },
      "source": [
        "23. Check if a string is alphanumeric."
      ],
      "id": "0efb7927"
    },
    {
      "cell_type": "code",
      "execution_count": null,
      "metadata": {
        "id": "d7792c0b",
        "outputId": "c27449ec-b071-4c02-baad-d2eae605983d"
      },
      "outputs": [
        {
          "name": "stdout",
          "output_type": "stream",
          "text": [
            "enter a string : data2023\n",
            "data2023 is alphanumeric\n"
          ]
        }
      ],
      "source": [
        "s=input(\"enter a string : \")\n",
        "if s.isalnum():\n",
        "    print(f\"{s} is alphanumeric\")\n",
        "else:\n",
        "    print(f\"{s} is not alphanumeric\")"
      ],
      "id": "d7792c0b"
    },
    {
      "cell_type": "markdown",
      "metadata": {
        "id": "495ff846"
      },
      "source": [
        "24. Extract all digits from a string."
      ],
      "id": "495ff846"
    },
    {
      "cell_type": "code",
      "execution_count": null,
      "metadata": {
        "id": "e8379059",
        "outputId": "3320f543-b1ea-4b4b-e84f-ef24f22fc918"
      },
      "outputs": [
        {
          "name": "stdout",
          "output_type": "stream",
          "text": [
            "enter a string : data2023\n",
            "all digits string : 2023\n"
          ]
        }
      ],
      "source": [
        "s=input(\"enter a string : \")\n",
        "all_digits=''\n",
        "for ch in s:\n",
        "    if ch.isdigit():\n",
        "        all_digits+=ch\n",
        "print(f\"all digits string : {all_digits}\")"
      ],
      "id": "e8379059"
    },
    {
      "cell_type": "markdown",
      "metadata": {
        "id": "50731446"
      },
      "source": [
        "25. Extract all alphabets from a string."
      ],
      "id": "50731446"
    },
    {
      "cell_type": "code",
      "execution_count": null,
      "metadata": {
        "id": "1b4ad7cf",
        "outputId": "f2369405-17a6-4d04-b675-203f184067a7"
      },
      "outputs": [
        {
          "name": "stdout",
          "output_type": "stream",
          "text": [
            "enter a string : data2023\n",
            "all alphabets string : data\n"
          ]
        }
      ],
      "source": [
        "s=input(\"enter a string : \")\n",
        "all_alphas=''\n",
        "for ch in s:\n",
        "    if ch.isalpha():\n",
        "        all_alphas+=ch\n",
        "print(f\"all alphabets string : {all_alphas}\")"
      ],
      "id": "1b4ad7cf"
    },
    {
      "cell_type": "markdown",
      "metadata": {
        "id": "c463ced3"
      },
      "source": [
        "26. Count the number of uppercase letters in a string."
      ],
      "id": "c463ced3"
    },
    {
      "cell_type": "code",
      "execution_count": null,
      "metadata": {
        "id": "39318ad1",
        "outputId": "207256ac-7fdb-4df5-fac1-a35ec8a3eaed"
      },
      "outputs": [
        {
          "name": "stdout",
          "output_type": "stream",
          "text": [
            "enter a string : Good Morning\n",
            "total number uppercase letters : 2\n"
          ]
        }
      ],
      "source": [
        "s=input(\"enter a string : \")\n",
        "count_uc=0\n",
        "for ch in s:\n",
        "    if ch.isupper():\n",
        "        count_uc+=1\n",
        "print(f\"total number uppercase letters : {count_uc}\")"
      ],
      "id": "39318ad1"
    },
    {
      "cell_type": "markdown",
      "metadata": {
        "id": "a2809b5d"
      },
      "source": [
        "27. Count the number of lowercase letters in a string."
      ],
      "id": "a2809b5d"
    },
    {
      "cell_type": "code",
      "execution_count": null,
      "metadata": {
        "id": "92b7959d",
        "outputId": "7f65a9b2-bb4e-4297-81a4-e0a880e288b3"
      },
      "outputs": [
        {
          "name": "stdout",
          "output_type": "stream",
          "text": [
            "enter a string : Good Morning\n",
            "total number lowercase letters : 9\n"
          ]
        }
      ],
      "source": [
        "s=input(\"enter a string : \")\n",
        "count_lc=0\n",
        "for ch in s:\n",
        "    if ch.islower():\n",
        "        count_lc+=1\n",
        "print(f\"total number lowercase letters : {count_lc}\")"
      ],
      "id": "92b7959d"
    },
    {
      "cell_type": "markdown",
      "metadata": {
        "id": "eb8925ce"
      },
      "source": [
        "28. Swap the case of each character in a string."
      ],
      "id": "eb8925ce"
    },
    {
      "cell_type": "code",
      "execution_count": null,
      "metadata": {
        "id": "7d50ee46",
        "outputId": "51ba566f-f805-4378-bb8f-67a984891cc4"
      },
      "outputs": [
        {
          "name": "stdout",
          "output_type": "stream",
          "text": [
            "enter a string : Good Morning\n",
            "gOOD mORNING\n"
          ]
        }
      ],
      "source": [
        "s=input(\"enter a string : \")\n",
        "new_s=\"\"\n",
        "for ch in s:\n",
        "    if ch.islower():\n",
        "        new_s+=ch.upper()\n",
        "    elif ch.isupper():\n",
        "        new_s+=ch.lower()\n",
        "    else:\n",
        "        new_s+=ch\n",
        "print(new_s)"
      ],
      "id": "7d50ee46"
    },
    {
      "cell_type": "markdown",
      "metadata": {
        "id": "3949e200"
      },
      "source": [
        "29. Remove a specific word from a string."
      ],
      "id": "3949e200"
    },
    {
      "cell_type": "code",
      "execution_count": null,
      "metadata": {
        "id": "fbe15eda",
        "outputId": "c0803056-9170-4e67-c70c-e64fc50e1959"
      },
      "outputs": [
        {
          "name": "stdout",
          "output_type": "stream",
          "text": [
            "enter a string : my name is prasant\n",
            "enter a word : my\n",
            "new string is :  name is prasant\n"
          ]
        }
      ],
      "source": [
        "s=input(\"enter a string : \")\n",
        "word=input(\"enter a word : \")\n",
        "new_s=s.replace(word,'')\n",
        "print(f\"new string is : {new_s}\")"
      ],
      "id": "fbe15eda"
    },
    {
      "cell_type": "markdown",
      "metadata": {
        "id": "4c4a9cf0"
      },
      "source": [
        "30. Check if a string is a valid email address."
      ],
      "id": "4c4a9cf0"
    },
    {
      "cell_type": "code",
      "execution_count": null,
      "metadata": {
        "id": "bcf2874b",
        "outputId": "aba65552-9d48-43a8-c4cf-c2c71b5375fa"
      },
      "outputs": [
        {
          "name": "stdout",
          "output_type": "stream",
          "text": [
            "enter an email ID : prasant@live.com\n",
            "prasant@live.com is a valid email ID\n"
          ]
        }
      ],
      "source": [
        "s=input(\"enter an email ID : \")\n",
        "email_parts=s.split(\"@\")\n",
        "if len(email_parts)==2:\n",
        "    username,domain=email_parts\n",
        "    if username.isalnum():\n",
        "        if len(domain.split(\".\"))==2:\n",
        "            if domain.split(\".\")[0].isalnum() and domain.split(\".\")[1].isalpha():\n",
        "                print(f\"{s} is a valid email ID\")\n",
        "else:\n",
        "    print(f\"{s} is not a valid email ID\")\n"
      ],
      "id": "bcf2874b"
    },
    {
      "cell_type": "markdown",
      "metadata": {
        "id": "4q0lM5FMVQEe"
      },
      "source": [
        "31. Extract the username from an email address string."
      ],
      "id": "4q0lM5FMVQEe"
    },
    {
      "cell_type": "code",
      "execution_count": null,
      "metadata": {
        "colab": {
          "base_uri": "https://localhost:8080/"
        },
        "id": "e7d045b1",
        "outputId": "615e0ab1-d6f8-463d-bfd7-b979fe7ad625"
      },
      "outputs": [
        {
          "name": "stdout",
          "output_type": "stream",
          "text": [
            "enter an email ID : prasant23@live.com\n",
            "user name is prasant23\n"
          ]
        }
      ],
      "source": [
        "s=input(\"enter an email ID : \")\n",
        "email_parts=s.split(\"@\")\n",
        "if len(email_parts)==2:\n",
        "    username,domain=email_parts\n",
        "    if username.isalnum():\n",
        "      print(f\"user name is {username}\")\n",
        "else:\n",
        "    print(f\"{s} is not a valid email ID\")"
      ],
      "id": "e7d045b1"
    },
    {
      "cell_type": "markdown",
      "metadata": {
        "id": "un2jvmTUVRjG"
      },
      "source": [
        "32. Extract the domain name from an email address string."
      ],
      "id": "un2jvmTUVRjG"
    },
    {
      "cell_type": "code",
      "execution_count": null,
      "metadata": {
        "colab": {
          "base_uri": "https://localhost:8080/"
        },
        "id": "x2Qc6i03WRvt",
        "outputId": "8ae74169-a9f6-4eda-8d93-6be8e519ffaf"
      },
      "outputs": [
        {
          "name": "stdout",
          "output_type": "stream",
          "text": [
            "enter an email ID : prasant23@live.com\n",
            "domain name is live.com\n"
          ]
        }
      ],
      "source": [
        "s=input(\"enter an email ID : \")\n",
        "email_parts=s.split(\"@\")\n",
        "if len(email_parts)==2:\n",
        "    username,domain=email_parts\n",
        "    print(f\"domain name is {domain}\")\n",
        "else:\n",
        "    print(f\"{s} is not a valid email ID\")"
      ],
      "id": "x2Qc6i03WRvt"
    },
    {
      "cell_type": "markdown",
      "metadata": {
        "id": "xSQQNEpkWpwU"
      },
      "source": [
        "33. Replace multiple spaces in a string with a single space."
      ],
      "id": "xSQQNEpkWpwU"
    },
    {
      "cell_type": "code",
      "execution_count": null,
      "metadata": {
        "colab": {
          "base_uri": "https://localhost:8080/"
        },
        "id": "jrWnSZzhWjIE",
        "outputId": "a4368df3-983b-4191-debf-b9492c787562"
      },
      "outputs": [
        {
          "name": "stdout",
          "output_type": "stream",
          "text": [
            "enter a string : I   am     going      to mall\n",
            "new string is 'I am going to mall'\n"
          ]
        }
      ],
      "source": [
        "s=input(\"enter a string : \")\n",
        "new_s=' '.join(s.split())\n",
        "print(f\"new string is '{new_s}'\")"
      ],
      "id": "jrWnSZzhWjIE"
    },
    {
      "cell_type": "markdown",
      "metadata": {
        "id": "T5kmDP0dXdo8"
      },
      "source": [
        "34. Check if a string is a valid URL."
      ],
      "id": "T5kmDP0dXdo8"
    },
    {
      "cell_type": "code",
      "execution_count": null,
      "metadata": {
        "colab": {
          "base_uri": "https://localhost:8080/"
        },
        "id": "hN0ExvfSXRrE",
        "outputId": "515ac203-f4d7-471d-ab24-34cdf79533d1"
      },
      "outputs": [
        {
          "name": "stdout",
          "output_type": "stream",
          "text": [
            "enter an URL : https://facebook.com\n",
            "https://facebook.com is a valid URL.\n"
          ]
        }
      ],
      "source": [
        "url=input(\"enter an URL : \")\n",
        "schemes = ['http://', 'https://', 'ftp://', 'ftps://']\n",
        "valid_scheme = False\n",
        "for s in schemes:\n",
        "    if url.startswith(s):\n",
        "        valid_scheme = True\n",
        "        break\n",
        "if not valid_scheme:\n",
        "    print(f\"{url} is not a valid URL.\")\n",
        "else:\n",
        "\n",
        "    url_without_scheme = url.split('://')[1]\n",
        "\n",
        "    valid_chars = set('abcdefghijklmnopqrstuvwxyzABCDEFGHIJKLMNOPQRSTUVWXYZ0123456789-._~:/?#[]@!$&\\'()*+,;=%')\n",
        "    if all(char in valid_chars for char in url_without_scheme):\n",
        "        print(f\"{url} is a valid URL.\")\n",
        "    else:\n",
        "        print(f\"{url} is not a valid URL.\")"
      ],
      "id": "hN0ExvfSXRrE"
    },
    {
      "cell_type": "markdown",
      "metadata": {
        "id": "GuoWhQb6awKt"
      },
      "source": [
        "35. Extract the protocol (http or https) from a URL string."
      ],
      "id": "GuoWhQb6awKt"
    },
    {
      "cell_type": "code",
      "execution_count": null,
      "metadata": {
        "colab": {
          "base_uri": "https://localhost:8080/"
        },
        "id": "6UEiQs6xa03F",
        "outputId": "cadb2968-6703-4477-b9fb-997d31f63d67"
      },
      "outputs": [
        {
          "name": "stdout",
          "output_type": "stream",
          "text": [
            "enter an URL : https://facebook.com\n",
            "protocol is https\n"
          ]
        }
      ],
      "source": [
        "url=input(\"enter an URL : \")\n",
        "schemes = ['http://', 'https://', 'ftp://', 'ftps://']\n",
        "valid_scheme = False\n",
        "for s in schemes:\n",
        "    if url.startswith(s):\n",
        "        valid_scheme = True\n",
        "        break\n",
        "if not valid_scheme:\n",
        "    print(f\"{url} is not a valid URL.\")\n",
        "else:\n",
        "\n",
        "    protocol = url.split('://')[0]\n",
        "\n",
        "    print(f\"protocol is {protocol}\")\n"
      ],
      "id": "6UEiQs6xa03F"
    },
    {
      "cell_type": "markdown",
      "metadata": {
        "id": "jXwnT3YfgtI6"
      },
      "source": [
        "36. Find the frequency of each character in a string."
      ],
      "id": "jXwnT3YfgtI6"
    },
    {
      "cell_type": "code",
      "execution_count": null,
      "metadata": {
        "colab": {
          "base_uri": "https://localhost:8080/"
        },
        "id": "EXaGfJPRgt9p",
        "outputId": "96e7ced8-52a5-41f8-c863-7623f17ab877"
      },
      "outputs": [
        {
          "name": "stdout",
          "output_type": "stream",
          "text": [
            "enter a string : Good evening\n",
            "The character 'G' occurs 1 times.\n",
            "The character 'o' occurs 2 times.\n",
            "The character 'd' occurs 1 times.\n",
            "The character ' ' occurs 1 times.\n",
            "The character 'e' occurs 2 times.\n",
            "The character 'v' occurs 1 times.\n",
            "The character 'n' occurs 2 times.\n",
            "The character 'i' occurs 1 times.\n",
            "The character 'g' occurs 1 times.\n"
          ]
        }
      ],
      "source": [
        "s=input(\"enter a string : \")\n",
        "\n",
        "char_freq={}\n",
        "\n",
        "for ch in s:\n",
        "  if ch in char_freq:\n",
        "    char_freq[ch]+=1\n",
        "  else:\n",
        "    char_freq[ch]=1\n",
        "\n",
        "for ch, fq in char_freq.items():\n",
        "    print(f\"The character '{ch}' occurs {fq} times.\")"
      ],
      "id": "EXaGfJPRgt9p"
    },
    {
      "cell_type": "markdown",
      "metadata": {
        "id": "vWZQ4ujBjiI3"
      },
      "source": [
        "37. Remove all punctuation from a string."
      ],
      "id": "vWZQ4ujBjiI3"
    },
    {
      "cell_type": "code",
      "execution_count": null,
      "metadata": {
        "colab": {
          "base_uri": "https://localhost:8080/"
        },
        "id": "zux8ILqkjpEY",
        "outputId": "d686018c-7e26-43c0-f85c-eff7a8f8b823"
      },
      "outputs": [
        {
          "name": "stdout",
          "output_type": "stream",
          "text": [
            "enter a string : Hello, world!!!\n",
            "the new string is Hello world\n"
          ]
        }
      ],
      "source": [
        "s=input(\"enter a string : \")\n",
        "punctuation_chars = r'''!()-[]{};:'\"\\,<>./?@#$%^&*_~'''\n",
        "new_s=\"\"\n",
        "for ch in s:\n",
        "  if ch not in punctuation_chars:\n",
        "    new_s+=ch\n",
        "print(f\"the new string is {new_s}\")"
      ],
      "id": "zux8ILqkjpEY"
    },
    {
      "cell_type": "markdown",
      "metadata": {
        "id": "RrZ36kSDk0M2"
      },
      "source": [
        "38. Check if a string contains only digits."
      ],
      "id": "RrZ36kSDk0M2"
    },
    {
      "cell_type": "code",
      "execution_count": null,
      "metadata": {
        "colab": {
          "base_uri": "https://localhost:8080/"
        },
        "id": "IDU3ifnhkvvP",
        "outputId": "784fc8a7-3a56-42e3-ee48-8ea34c2a22e7"
      },
      "outputs": [
        {
          "name": "stdout",
          "output_type": "stream",
          "text": [
            "enter a string : 2023\n",
            "the string '2023' contains only digits\n"
          ]
        }
      ],
      "source": [
        "s=input(\"enter a string : \")\n",
        "s_isdigit=True\n",
        "for ch in s:\n",
        "  if not ch.isdigit():\n",
        "    s_isdigit=False\n",
        "    break\n",
        "if s_isdigit:\n",
        "  print(f\"the string '{s}' contains only digits\")\n",
        "else:\n",
        "  print(f\"the string '{s}' doest n't contain only digits\")"
      ],
      "id": "IDU3ifnhkvvP"
    },
    {
      "cell_type": "markdown",
      "metadata": {
        "id": "dysSJGmxk3Vn"
      },
      "source": [
        "39. Check if a string contains only alphabets."
      ],
      "id": "dysSJGmxk3Vn"
    },
    {
      "cell_type": "code",
      "execution_count": null,
      "metadata": {
        "colab": {
          "base_uri": "https://localhost:8080/"
        },
        "id": "13tfkJckl_v-",
        "outputId": "62f005b9-40a2-4849-ba80-17952b3aa53b"
      },
      "outputs": [
        {
          "name": "stdout",
          "output_type": "stream",
          "text": [
            "enter a string : python\n",
            "the string 'python' contains only alphabets\n"
          ]
        }
      ],
      "source": [
        "s=input(\"enter a string : \")\n",
        "s_isalpha=True\n",
        "for ch in s:\n",
        "  if not ch.isalpha():\n",
        "    s_isalpha=False\n",
        "    break\n",
        "if s_isalpha:\n",
        "  print(f\"the string '{s}' contains only alphabets\")\n",
        "else:\n",
        "  print(f\"the string '{s}' doest n't contain only alphabets\")"
      ],
      "id": "13tfkJckl_v-"
    },
    {
      "cell_type": "markdown",
      "metadata": {
        "id": "Jesvzp04qnj4"
      },
      "source": [
        "40. Convert a string to a list of characters."
      ],
      "id": "Jesvzp04qnj4"
    },
    {
      "cell_type": "code",
      "execution_count": null,
      "metadata": {
        "colab": {
          "base_uri": "https://localhost:8080/"
        },
        "id": "TdIPjo7xqjnY",
        "outputId": "01b3be56-3299-468f-87cc-d9080069f144"
      },
      "outputs": [
        {
          "name": "stdout",
          "output_type": "stream",
          "text": [
            "enter a string : python\n",
            "['p', 'y', 't', 'h', 'o', 'n']\n"
          ]
        }
      ],
      "source": [
        "s=input(\"enter a string : \")\n",
        "s_list=list(s)\n",
        "print(s_list)"
      ],
      "id": "TdIPjo7xqjnY"
    },
    {
      "cell_type": "markdown",
      "metadata": {
        "id": "_MsY2GR6rBzQ"
      },
      "source": [
        "41. Check if two strings are anagrams"
      ],
      "id": "_MsY2GR6rBzQ"
    },
    {
      "cell_type": "code",
      "execution_count": null,
      "metadata": {
        "colab": {
          "base_uri": "https://localhost:8080/"
        },
        "id": "97pqMRNRrEwA",
        "outputId": "d639fb7a-5ef8-4c81-f981-df39bd186208"
      },
      "outputs": [
        {
          "name": "stdout",
          "output_type": "stream",
          "text": [
            "enter the first string : Murder\n",
            "enter the second string : REDRUM\n",
            "strings are anagrams\n"
          ]
        }
      ],
      "source": [
        "s1=input(\"enter the first string : \")\n",
        "s2=input(\"enter the second string : \")\n",
        "\n",
        "new_s1=s1.replace(\" \",\"\").lower()\n",
        "new_s2=s2.replace(\" \",\"\").lower()\n",
        "\n",
        "if len(new_s1)==len(new_s2):\n",
        "\n",
        "  char_freq_new_s1={}\n",
        "  for ch in new_s1:\n",
        "    if ch in char_freq_new_s1:\n",
        "      char_freq_new_s1[ch]+=1\n",
        "    else:\n",
        "      char_freq_new_s1[ch]=1\n",
        "\n",
        "  char_freq_new_s2={}\n",
        "  for ch in new_s2:\n",
        "    if ch in char_freq_new_s2:\n",
        "      char_freq_new_s2[ch]+=1\n",
        "    else:\n",
        "      char_freq_new_s2[ch]=1\n",
        "  if char_freq_new_s1==char_freq_new_s2:\n",
        "    print(\"strings are anagrams\")\n",
        "else:\n",
        "  print(\"strings are not anagrams\")"
      ],
      "id": "97pqMRNRrEwA"
    },
    {
      "cell_type": "markdown",
      "metadata": {
        "id": "P-1tAkLlttUJ"
      },
      "source": [
        "42. Encode a string using a Caesar cipher."
      ],
      "id": "P-1tAkLlttUJ"
    },
    {
      "cell_type": "code",
      "execution_count": null,
      "metadata": {
        "colab": {
          "base_uri": "https://localhost:8080/"
        },
        "id": "vacWbVAStzuI",
        "outputId": "03f2b4a9-8094-4bb5-9dd0-7107f32cfa7e"
      },
      "outputs": [
        {
          "name": "stdout",
          "output_type": "stream",
          "text": [
            "enter a string : Good Morning\n",
            "enter number of shifts needed : 4\n",
            "Original Text: Good Morning\n",
            "Encrypted Text: Kssh Qsvrmrk\n"
          ]
        }
      ],
      "source": [
        "plaintext=input(\"enter a string : \")\n",
        "shift=int(input(\"enter number of shifts needed : \"))\n",
        "cipher_text = \"\"\n",
        "for char in plaintext:\n",
        "    if char.isalpha():\n",
        "        ascii_offset = ord('a') if char.islower() else ord('A')\n",
        "        shifted_char = chr((ord(char) - ascii_offset + shift) % 26 + ascii_offset)\n",
        "        cipher_text += shifted_char\n",
        "    else:\n",
        "        cipher_text += char\n",
        "print(f\"Original Text: {plaintext}\")\n",
        "print(f\"Encrypted Text: {cipher_text}\")"
      ],
      "id": "vacWbVAStzuI"
    },
    {
      "cell_type": "markdown",
      "metadata": {
        "id": "TQGPSC3-wJfB"
      },
      "source": [
        "43. Decode a Caesar cipher encoded string."
      ],
      "id": "TQGPSC3-wJfB"
    },
    {
      "cell_type": "code",
      "execution_count": null,
      "metadata": {
        "colab": {
          "base_uri": "https://localhost:8080/"
        },
        "id": "GFAfUGjbwJLK",
        "outputId": "781fedcf-64d8-448d-ccb7-8d97fe2f28d1"
      },
      "outputs": [
        {
          "name": "stdout",
          "output_type": "stream",
          "text": [
            "enter a string : Kssh Qsvrmrk\n",
            "enter number of shifts needed : 4\n",
            "Encrypted Text: Kssh Qsvrmrk\n",
            "Original Text: Good Morning\n"
          ]
        }
      ],
      "source": [
        "cipher_text=input(\"enter a string : \")\n",
        "shift=int(input(\"enter number of shifts needed : \"))\n",
        "decoded_text = \"\"\n",
        "for char in cipher_text:\n",
        "    if char.isalpha():\n",
        "        ascii_offset = ord('a') if char.islower() else ord('A')\n",
        "        shifted_char = chr((ord(char) - ascii_offset - shift) % 26 + ascii_offset)\n",
        "        decoded_text += shifted_char\n",
        "    else:\n",
        "        decoded_text += char\n",
        "print(f\"Encrypted Text: {cipher_text}\")\n",
        "print(f\"Original Text: {decoded_text}\")\n"
      ],
      "id": "GFAfUGjbwJLK"
    },
    {
      "cell_type": "markdown",
      "metadata": {
        "id": "84-gmQe2wwKS"
      },
      "source": [
        "44. Find the most frequent word in a string."
      ],
      "id": "84-gmQe2wwKS"
    },
    {
      "cell_type": "code",
      "execution_count": null,
      "metadata": {
        "colab": {
          "base_uri": "https://localhost:8080/"
        },
        "id": "gwE8Z5f4w0VL",
        "outputId": "374eb5c8-17fb-4477-b370-b7a432f5b6f6"
      },
      "outputs": [
        {
          "name": "stdout",
          "output_type": "stream",
          "text": [
            "enter a string : I am going to market to take vegitables\n",
            "the most frequent word is 'to'\n"
          ]
        }
      ],
      "source": [
        "s=input(\"enter a string : \")\n",
        "\n",
        "word_list=s.lower().split()\n",
        "\n",
        "word_frq={}\n",
        "\n",
        "for word in word_list:\n",
        "  if word in word_frq:\n",
        "    word_frq[word]+=1\n",
        "  else:\n",
        "    word_frq[word]=1\n",
        "\n",
        "most_frequent_word = max(word_frq, key=word_frq.get)\n",
        "\n",
        "print(f\"the most frequent word is '{most_frequent_word}'\")"
      ],
      "id": "gwE8Z5f4w0VL"
    },
    {
      "cell_type": "markdown",
      "metadata": {
        "id": "di2jJns1yKnZ"
      },
      "source": [
        "45. Find all unique words in a string."
      ],
      "id": "di2jJns1yKnZ"
    },
    {
      "cell_type": "code",
      "execution_count": null,
      "metadata": {
        "colab": {
          "base_uri": "https://localhost:8080/"
        },
        "id": "_33siqDcyClT",
        "outputId": "f1e33ec7-7b11-42e7-a428-b74999caa163"
      },
      "outputs": [
        {
          "name": "stdout",
          "output_type": "stream",
          "text": [
            "enter a string : I am going to market to take vegitables\n",
            "all unique words are \n",
            "i\n",
            "am\n",
            "going\n",
            "market\n",
            "take\n",
            "vegitables\n"
          ]
        }
      ],
      "source": [
        "s=input(\"enter a string : \")\n",
        "\n",
        "word_list=s.lower().split()\n",
        "\n",
        "word_frq={}\n",
        "\n",
        "for word in word_list:\n",
        "  if word in word_frq:\n",
        "    word_frq[word]+=1\n",
        "  else:\n",
        "    word_frq[word]=1\n",
        "\n",
        "print(\"all unique words are \")\n",
        "for key, value in word_frq.items():\n",
        "    if value == 1:\n",
        "        print(key)"
      ],
      "id": "_33siqDcyClT"
    },
    {
      "cell_type": "markdown",
      "metadata": {
        "id": "YrgDILE8zgOT"
      },
      "source": [
        "46. Count the number of syllables in a string."
      ],
      "id": "YrgDILE8zgOT"
    },
    {
      "cell_type": "code",
      "execution_count": null,
      "metadata": {
        "colab": {
          "base_uri": "https://localhost:8080/"
        },
        "id": "I0qN6zLgzcDz",
        "outputId": "6b2edb33-88e9-4d2a-d3f4-c3d794297bd9"
      },
      "outputs": [
        {
          "name": "stdout",
          "output_type": "stream",
          "text": [
            "enter a string : reading\n",
            "The string 'reading' has 2 syllables.\n"
          ]
        }
      ],
      "source": [
        "s=input(\"enter a string : \")\n",
        "in_syllable = False\n",
        "count=0\n",
        "for ch in s.lower():\n",
        "  if ch in 'aeiou':\n",
        "    if not in_syllable:\n",
        "            count += 1\n",
        "            in_syllable = True\n",
        "    else:\n",
        "        in_syllable = False\n",
        "\n",
        "if s.lower().endswith(\"e\"):\n",
        "    count -= 1\n",
        "if s.lower().endswith(\"le\"):\n",
        "    count += 1\n",
        "\n",
        "count=max(count,1)\n",
        "print(f\"The string '{s}' has {count} syllables.\")"
      ],
      "id": "I0qN6zLgzcDz"
    },
    {
      "cell_type": "markdown",
      "metadata": {
        "id": "j3s-AbbK41yz"
      },
      "source": [
        "47. Check if a string contains any special characters."
      ],
      "id": "j3s-AbbK41yz"
    },
    {
      "cell_type": "code",
      "execution_count": null,
      "metadata": {
        "colab": {
          "base_uri": "https://localhost:8080/"
        },
        "id": "aUF4Ye3G24ib",
        "outputId": "704cb0a8-ba43-4970-832d-df51604a5028"
      },
      "outputs": [
        {
          "name": "stdout",
          "output_type": "stream",
          "text": [
            "enter a string : Hello, World!!\n",
            "the string 'Hello, World!!' contains special characters\n"
          ]
        }
      ],
      "source": [
        "s=input(\"enter a string : \")\n",
        "\n",
        "special_chars = set(\"!@#$%^&*()_+{}[]:;<>,.?~\\\\|\\\"\")\n",
        "special=False\n",
        "for ch in s:\n",
        "  if ch in special_chars:\n",
        "    special=True\n",
        "\n",
        "if special:\n",
        "  print(f\"the string '{s}' contains special characters\")\n",
        "else:\n",
        "  print(f\"the string '{s}' doesn't contain any special characters\")"
      ],
      "id": "aUF4Ye3G24ib"
    },
    {
      "cell_type": "markdown",
      "metadata": {
        "id": "6eIJI0NZ6CSU"
      },
      "source": [
        "48. Remove the nth word from a string."
      ],
      "id": "6eIJI0NZ6CSU"
    },
    {
      "cell_type": "code",
      "execution_count": null,
      "metadata": {
        "colab": {
          "base_uri": "https://localhost:8080/"
        },
        "id": "swFRlRpn6E-C",
        "outputId": "59ec7f0b-6807-4a95-dc5b-72ad57f03bdf"
      },
      "outputs": [
        {
          "name": "stdout",
          "output_type": "stream",
          "text": [
            "enter a string : Remove the nth word from a string\n",
            "enter word number want to remove : 3\n",
            "Remove the nth from a string\n"
          ]
        }
      ],
      "source": [
        "s=input(\"enter a string : \")\n",
        "n=int(input(\"enter word number want to remove : \"))\n",
        "\n",
        "word_list=s.split()\n",
        "\n",
        "word_list.pop(n)\n",
        "\n",
        "new_s=\" \".join(word_list)\n",
        "\n",
        "print(new_s)"
      ],
      "id": "swFRlRpn6E-C"
    },
    {
      "cell_type": "markdown",
      "metadata": {
        "id": "qLIZXwVbD39-"
      },
      "source": [
        "49. Insert a word at the nth position in a string."
      ],
      "id": "qLIZXwVbD39-"
    },
    {
      "cell_type": "code",
      "execution_count": null,
      "metadata": {
        "colab": {
          "base_uri": "https://localhost:8080/"
        },
        "id": "o0mVHN28D-uX",
        "outputId": "b78e9833-bed4-40c3-af10-5ed3d4926703"
      },
      "outputs": [
        {
          "name": "stdout",
          "output_type": "stream",
          "text": [
            "enter a string : Remove the nth from a string\n",
            "enter the word to insert : word\n",
            "enter word position want to insert : 3\n",
            "Remove the nth word from a string\n"
          ]
        }
      ],
      "source": [
        "s=input(\"enter a string : \")\n",
        "word=input(\"enter the word to insert : \")\n",
        "n=int(input(\"enter word position want to insert : \"))\n",
        "\n",
        "word_list=s.split()\n",
        "\n",
        "word_list.insert(n,word)\n",
        "\n",
        "new_s=\" \".join(word_list)\n",
        "\n",
        "print(new_s)"
      ],
      "id": "o0mVHN28D-uX"
    },
    {
      "cell_type": "markdown",
      "metadata": {
        "id": "fLULAps1Etgv"
      },
      "source": [
        "50. Convert a CSV string to a list of lists."
      ],
      "id": "fLULAps1Etgv"
    },
    {
      "cell_type": "code",
      "execution_count": null,
      "metadata": {
        "colab": {
          "base_uri": "https://localhost:8080/"
        },
        "id": "TFPtMI3PEwPt",
        "outputId": "2c216528-b1cd-4920-9c3e-bb9e8161f673"
      },
      "outputs": [
        {
          "name": "stdout",
          "output_type": "stream",
          "text": [
            "enter a string : I,am,going,to,market\n",
            "['I', 'am', 'going', 'to', 'market']\n"
          ]
        }
      ],
      "source": [
        "s=input(\"enter a string : \")\n",
        "word_list=s.split(',')\n",
        "print(word_list)"
      ],
      "id": "TFPtMI3PEwPt"
    },
    {
      "cell_type": "markdown",
      "metadata": {
        "id": "DYQvqIPkCVWT"
      },
      "source": [
        "## List Based Practice Problem :"
      ],
      "id": "DYQvqIPkCVWT"
    },
    {
      "cell_type": "markdown",
      "metadata": {
        "id": "Z4J_d1h1Cd3y"
      },
      "source": [
        "1. Create a list with integers from 1 to 10."
      ],
      "id": "Z4J_d1h1Cd3y"
    },
    {
      "cell_type": "code",
      "execution_count": null,
      "metadata": {
        "colab": {
          "base_uri": "https://localhost:8080/"
        },
        "id": "n42McsuACjMi",
        "outputId": "0fa14383-f18f-406b-b5f7-ba5e9cfdfe4e"
      },
      "outputs": [
        {
          "name": "stdout",
          "output_type": "stream",
          "text": [
            "[1, 2, 3, 4, 5, 6, 7, 8, 9, 10]\n"
          ]
        }
      ],
      "source": [
        "l1=[i for i in range(1,11)]\n",
        "print(l1)"
      ],
      "id": "n42McsuACjMi"
    },
    {
      "cell_type": "markdown",
      "metadata": {
        "id": "ckbDpA5YDOLs"
      },
      "source": [
        "2. Find the length of a list without using the `len()` function."
      ],
      "id": "ckbDpA5YDOLs"
    },
    {
      "cell_type": "code",
      "execution_count": null,
      "metadata": {
        "colab": {
          "base_uri": "https://localhost:8080/"
        },
        "id": "NRcRCAr5Cshp",
        "outputId": "c9785af3-7ecd-4bf8-842f-6640302d9043"
      },
      "outputs": [
        {
          "name": "stdout",
          "output_type": "stream",
          "text": [
            "length of list = 10\n"
          ]
        }
      ],
      "source": [
        "length=0\n",
        "for i in l1:\n",
        "  length+=1\n",
        "print(f\"length of list = {length}\")"
      ],
      "id": "NRcRCAr5Cshp"
    },
    {
      "cell_type": "markdown",
      "metadata": {
        "id": "h7-yC_vrDS2e"
      },
      "source": [
        "3. Append an element to the end of a list."
      ],
      "id": "h7-yC_vrDS2e"
    },
    {
      "cell_type": "code",
      "execution_count": null,
      "metadata": {
        "colab": {
          "base_uri": "https://localhost:8080/"
        },
        "id": "hNVFWKF8Dof3",
        "outputId": "5e09fce2-ba95-497d-d1d6-63e04e1cccf3"
      },
      "outputs": [
        {
          "name": "stdout",
          "output_type": "stream",
          "text": [
            "enter an element : 99\n",
            "[1, 2, 3, 4, 5, 6, 7, 8, 9, 10, 99]\n"
          ]
        }
      ],
      "source": [
        "element=int(input(\"enter an element : \"))\n",
        "l1.append(element)\n",
        "print(l1)"
      ],
      "id": "hNVFWKF8Dof3"
    },
    {
      "cell_type": "markdown",
      "metadata": {
        "id": "s5y7WUxWD7_W"
      },
      "source": [
        "4. Insert an element at a specific index in a list."
      ],
      "id": "s5y7WUxWD7_W"
    },
    {
      "cell_type": "code",
      "execution_count": null,
      "metadata": {
        "colab": {
          "base_uri": "https://localhost:8080/"
        },
        "id": "FeV9Ih8ND-XW",
        "outputId": "9dce2502-2618-436f-d5fb-37f980f6fa73"
      },
      "outputs": [
        {
          "name": "stdout",
          "output_type": "stream",
          "text": [
            "enter an element : 100\n",
            "enter an index to enter 100 : 5\n",
            "[1, 2, 3, 4, 5, 100, 6, 7, 8, 9, 10, 99]\n"
          ]
        }
      ],
      "source": [
        "element=int(input(\"enter an element : \"))\n",
        "id=int(input(f\"enter an index to enter {element} : \"))\n",
        "l1.insert(id,element)\n",
        "print(l1)"
      ],
      "id": "FeV9Ih8ND-XW"
    },
    {
      "cell_type": "markdown",
      "metadata": {
        "id": "V8kh_QEbGn8o"
      },
      "source": [
        "5. Remove an element from a list by its value."
      ],
      "id": "V8kh_QEbGn8o"
    },
    {
      "cell_type": "code",
      "execution_count": null,
      "metadata": {
        "colab": {
          "base_uri": "https://localhost:8080/"
        },
        "id": "GSnJ6YQSGco6",
        "outputId": "17110a04-d35b-4761-d594-a9992aebccbc"
      },
      "outputs": [
        {
          "name": "stdout",
          "output_type": "stream",
          "text": [
            "enter an element to remove : 99\n",
            "99 is removed\n",
            "[1, 2, 3, 4, 5, 100, 6, 7, 8, 9, 10]\n"
          ]
        }
      ],
      "source": [
        "element=int(input(\"enter an element to remove : \"))\n",
        "if element in l1:\n",
        "  l1.remove(element)\n",
        "  print(f\"{element} is removed\")\n",
        "  print(l1)\n",
        "else:\n",
        "  print(f\"{element} is not found in list\")"
      ],
      "id": "GSnJ6YQSGco6"
    },
    {
      "cell_type": "markdown",
      "metadata": {
        "id": "G3SKsaAwGp9n"
      },
      "source": [
        "6. Remove an element from a list by its index."
      ],
      "id": "G3SKsaAwGp9n"
    },
    {
      "cell_type": "code",
      "execution_count": null,
      "metadata": {
        "colab": {
          "base_uri": "https://localhost:8080/"
        },
        "id": "WnZfhirgHrPV",
        "outputId": "5bacac35-deea-4834-9e24-1b83ad0494e0"
      },
      "outputs": [
        {
          "name": "stdout",
          "output_type": "stream",
          "text": [
            "enter an index to remove : 5\n",
            "the list after removing element at index 5\n",
            "[1, 2, 3, 4, 5, 6, 7, 8, 9, 10]\n"
          ]
        }
      ],
      "source": [
        "id=int(input(f\"enter an index to remove : \"))\n",
        "l1.pop(id)\n",
        "print(f\"the list after removing element at index {id}\")\n",
        "print(l1)"
      ],
      "id": "WnZfhirgHrPV"
    },
    {
      "cell_type": "markdown",
      "metadata": {
        "id": "yPBIUopmJZHf"
      },
      "source": [
        "7. Check if an element exists in a list."
      ],
      "id": "yPBIUopmJZHf"
    },
    {
      "cell_type": "code",
      "execution_count": null,
      "metadata": {
        "colab": {
          "base_uri": "https://localhost:8080/"
        },
        "id": "K4sLNlIeJeYb",
        "outputId": "849226bc-08dd-4661-9374-5d13f13b32f6"
      },
      "outputs": [
        {
          "name": "stdout",
          "output_type": "stream",
          "text": [
            "enter an element : 9\n",
            "the element 9 exist in the list\n"
          ]
        }
      ],
      "source": [
        "element=int(input(\"enter an element : \"))\n",
        "if element in l1:\n",
        "  print(f\"the element {element} exist in the list\")\n",
        "else:\n",
        "  print(f\"the element {element} does n't exist in the list\")"
      ],
      "id": "K4sLNlIeJeYb"
    },
    {
      "cell_type": "markdown",
      "metadata": {
        "id": "l0eGKsYAKI3V"
      },
      "source": [
        "8. Find the index of the first occurrence of an element in a list."
      ],
      "id": "l0eGKsYAKI3V"
    },
    {
      "cell_type": "code",
      "execution_count": null,
      "metadata": {
        "colab": {
          "base_uri": "https://localhost:8080/"
        },
        "id": "zDFXiSjnKNZL",
        "outputId": "1c90d0a2-43d2-4cd9-af3a-b8370475635e"
      },
      "outputs": [
        {
          "name": "stdout",
          "output_type": "stream",
          "text": [
            "enter an element : 7\n",
            "7 is present at index 6\n"
          ]
        }
      ],
      "source": [
        "element=int(input(\"enter an element : \"))\n",
        "if element in l1:\n",
        "  id=l1.index(element)\n",
        "  print(f\"{element} is present at index {id}\")\n",
        "else:\n",
        "  print(f\"{element} does n't exist\")"
      ],
      "id": "zDFXiSjnKNZL"
    },
    {
      "cell_type": "markdown",
      "metadata": {
        "id": "t0AGeT9qLYX_"
      },
      "source": [
        "9. Count the occurrences of an element in a list."
      ],
      "id": "t0AGeT9qLYX_"
    },
    {
      "cell_type": "code",
      "execution_count": null,
      "metadata": {
        "colab": {
          "base_uri": "https://localhost:8080/"
        },
        "id": "2x92GV7LKxqq",
        "outputId": "e5be8464-f5f0-4974-9fbb-d11d194854a2"
      },
      "outputs": [
        {
          "name": "stdout",
          "output_type": "stream",
          "text": [
            "enter an element : 8\n",
            "8 occurs 1 times\n"
          ]
        }
      ],
      "source": [
        "element=int(input(\"enter an element : \"))\n",
        "occurrence=l1.count(element)\n",
        "print(f\"{element} occurs {occurrence} times\")"
      ],
      "id": "2x92GV7LKxqq"
    },
    {
      "cell_type": "markdown",
      "metadata": {
        "id": "O_HV9sZ9L7Nt"
      },
      "source": [
        "10. Reverse the order of elements in a list."
      ],
      "id": "O_HV9sZ9L7Nt"
    },
    {
      "cell_type": "code",
      "execution_count": null,
      "metadata": {
        "colab": {
          "base_uri": "https://localhost:8080/"
        },
        "id": "D-Ei8zDeKzTc",
        "outputId": "50dcbbe3-4724-474b-cb98-eb5cef6c2560"
      },
      "outputs": [
        {
          "name": "stdout",
          "output_type": "stream",
          "text": [
            "current list [1, 2, 3, 4, 5, 6, 7, 8, 9, 10]\n",
            "reverses list [10, 9, 8, 7, 6, 5, 4, 3, 2, 1]\n"
          ]
        }
      ],
      "source": [
        "print(f\"current list {l1}\")\n",
        "l1=l1[::-1]\n",
        "print(f\"reverses list {l1}\")"
      ],
      "id": "D-Ei8zDeKzTc"
    },
    {
      "cell_type": "markdown",
      "metadata": {
        "id": "Aghq76XYMdwW"
      },
      "source": [
        "11. Sort a list in ascending order."
      ],
      "id": "Aghq76XYMdwW"
    },
    {
      "cell_type": "code",
      "execution_count": null,
      "metadata": {
        "colab": {
          "base_uri": "https://localhost:8080/"
        },
        "id": "KsChIYnIMbxH",
        "outputId": "b9c8bd44-e799-47c8-f70e-4ec6edfc2ac4"
      },
      "outputs": [
        {
          "name": "stdout",
          "output_type": "stream",
          "text": [
            "current list [10, 9, 8, 7, 6, 5, 4, 3, 2, 1]\n",
            "ascending sorted list [1, 2, 3, 4, 5, 6, 7, 8, 9, 10]\n"
          ]
        }
      ],
      "source": [
        "print(f\"current list {l1}\")\n",
        "l1=sorted(l1)\n",
        "print(f\"ascending sorted list {l1}\")"
      ],
      "id": "KsChIYnIMbxH"
    },
    {
      "cell_type": "markdown",
      "metadata": {
        "id": "fOIGlpVEM4u5"
      },
      "source": [
        "12. Sort a list in descending order."
      ],
      "id": "fOIGlpVEM4u5"
    },
    {
      "cell_type": "code",
      "execution_count": null,
      "metadata": {
        "colab": {
          "base_uri": "https://localhost:8080/"
        },
        "id": "lyHLFK87M5ov",
        "outputId": "f5a9d0fc-7582-4bde-b953-e80cef9381ac"
      },
      "outputs": [
        {
          "name": "stdout",
          "output_type": "stream",
          "text": [
            "current list [1, 2, 3, 4, 5, 6, 7, 8, 9, 10]\n",
            "ascending sorted list [10, 9, 8, 7, 6, 5, 4, 3, 2, 1]\n"
          ]
        }
      ],
      "source": [
        "print(f\"current list {l1}\")\n",
        "l1=sorted(l1,reverse=True)\n",
        "print(f\"ascending sorted list {l1}\")"
      ],
      "id": "lyHLFK87M5ov"
    },
    {
      "cell_type": "markdown",
      "metadata": {
        "id": "jJnVu32nNM1a"
      },
      "source": [
        "13. Create a list of even numbers from 1 to 20."
      ],
      "id": "jJnVu32nNM1a"
    },
    {
      "cell_type": "code",
      "execution_count": null,
      "metadata": {
        "colab": {
          "base_uri": "https://localhost:8080/"
        },
        "id": "SdDwR_nHNS_l",
        "outputId": "eda06546-0b63-4c2a-8c95-5b2407ead8d2"
      },
      "outputs": [
        {
          "name": "stdout",
          "output_type": "stream",
          "text": [
            "[2, 4, 6, 8, 10, 12, 14, 16, 18, 20]\n"
          ]
        }
      ],
      "source": [
        "l2=[i for i in range(1,21) if i%2==0]\n",
        "print(l2)"
      ],
      "id": "SdDwR_nHNS_l"
    },
    {
      "cell_type": "markdown",
      "metadata": {
        "id": "LHolo9xmNhS5"
      },
      "source": [
        "14. Create a list of odd numbers from 1 to 20."
      ],
      "id": "LHolo9xmNhS5"
    },
    {
      "cell_type": "code",
      "execution_count": null,
      "metadata": {
        "colab": {
          "base_uri": "https://localhost:8080/"
        },
        "id": "KmaHoFXjNgrv",
        "outputId": "a3875106-2366-476f-e9e8-46a58dea5bb7"
      },
      "outputs": [
        {
          "name": "stdout",
          "output_type": "stream",
          "text": [
            "[1, 3, 5, 7, 9, 11, 13, 15, 17, 19]\n"
          ]
        }
      ],
      "source": [
        "l3=[i for i in range(1,21) if i%2!=0]\n",
        "print(l3)"
      ],
      "id": "KmaHoFXjNgrv"
    },
    {
      "cell_type": "markdown",
      "metadata": {
        "id": "8ohIr1JHNryF"
      },
      "source": [
        "15. Find the sum of all elements in a list."
      ],
      "id": "8ohIr1JHNryF"
    },
    {
      "cell_type": "code",
      "execution_count": null,
      "metadata": {
        "colab": {
          "base_uri": "https://localhost:8080/"
        },
        "id": "uM4xvGdiN-08",
        "outputId": "e3dfc7e7-b419-478f-f92b-8165559893d4"
      },
      "outputs": [
        {
          "name": "stdout",
          "output_type": "stream",
          "text": [
            "sum of [1, 3, 5, 7, 9, 11, 13, 15, 17, 19] is 100\n"
          ]
        }
      ],
      "source": [
        "list_sum=sum(l3)\n",
        "print(f\"sum of {l3} is {list_sum}\")"
      ],
      "id": "uM4xvGdiN-08"
    },
    {
      "cell_type": "markdown",
      "metadata": {
        "id": "OXbDMTU7NzpN"
      },
      "source": [
        "16. Find the maximum value in a list."
      ],
      "id": "OXbDMTU7NzpN"
    },
    {
      "cell_type": "code",
      "execution_count": null,
      "metadata": {
        "colab": {
          "base_uri": "https://localhost:8080/"
        },
        "id": "BfIbYTHLN91u",
        "outputId": "bc97e3ae-a9bb-4c97-e2f9-3596cb6bb669"
      },
      "outputs": [
        {
          "name": "stdout",
          "output_type": "stream",
          "text": [
            "max of [1, 3, 5, 7, 9, 11, 13, 15, 17, 19] is 19\n"
          ]
        }
      ],
      "source": [
        "list_max=max(l3)\n",
        "print(f\"max of {l3} is {list_max}\")"
      ],
      "id": "BfIbYTHLN91u"
    },
    {
      "cell_type": "markdown",
      "metadata": {
        "id": "Mxvaxel_OQks"
      },
      "source": [
        "17. Find the minimum value in a list."
      ],
      "id": "Mxvaxel_OQks"
    },
    {
      "cell_type": "code",
      "execution_count": null,
      "metadata": {
        "colab": {
          "base_uri": "https://localhost:8080/"
        },
        "id": "whedN_KbOePq",
        "outputId": "a0387956-c99e-4cd8-be4c-ef1adb83b9f1"
      },
      "outputs": [
        {
          "name": "stdout",
          "output_type": "stream",
          "text": [
            "min of [1, 3, 5, 7, 9, 11, 13, 15, 17, 19] is 1\n"
          ]
        }
      ],
      "source": [
        "list_min=min(l3)\n",
        "print(f\"min of {l3} is {list_min}\")"
      ],
      "id": "whedN_KbOePq"
    },
    {
      "cell_type": "markdown",
      "metadata": {
        "id": "PwNVm7wyOtT_"
      },
      "source": [
        "18. Create a list of squares of numbers from 1 to 10."
      ],
      "id": "PwNVm7wyOtT_"
    },
    {
      "cell_type": "code",
      "execution_count": null,
      "metadata": {
        "colab": {
          "base_uri": "https://localhost:8080/"
        },
        "id": "2jyc4fd7Oyc9",
        "outputId": "2980f1e7-6a02-4e19-c527-39f872d98850"
      },
      "outputs": [
        {
          "name": "stdout",
          "output_type": "stream",
          "text": [
            "[1, 4, 9, 16, 25, 36, 49, 64, 81, 100]\n"
          ]
        }
      ],
      "source": [
        "l4=[i**2 for i in range(1,11)]\n",
        "print(l4)"
      ],
      "id": "2jyc4fd7Oyc9"
    },
    {
      "cell_type": "markdown",
      "metadata": {
        "id": "AXWcDpyDZMtq"
      },
      "source": [
        "19. Create a list of random numbers."
      ],
      "id": "AXWcDpyDZMtq"
    },
    {
      "cell_type": "code",
      "execution_count": null,
      "metadata": {
        "colab": {
          "base_uri": "https://localhost:8080/"
        },
        "id": "xS8iVK0iZQxS",
        "outputId": "6e8fe0c3-8068-4b4f-a444-ac70865e39cb"
      },
      "outputs": [
        {
          "name": "stdout",
          "output_type": "stream",
          "text": [
            "[41, 90, 52, 9, 30, 92, 41, 23, 98, 41]\n"
          ]
        }
      ],
      "source": [
        "import random\n",
        "l5=[random.randint(1,100) for _ in range(10)]\n",
        "print(l5)"
      ],
      "id": "xS8iVK0iZQxS"
    },
    {
      "cell_type": "markdown",
      "metadata": {
        "id": "Pl2B4V3faRfZ"
      },
      "source": [
        "20. Remove duplicates from a list."
      ],
      "id": "Pl2B4V3faRfZ"
    },
    {
      "cell_type": "code",
      "execution_count": null,
      "metadata": {
        "colab": {
          "base_uri": "https://localhost:8080/"
        },
        "id": "OiZYb9FqaMPq",
        "outputId": "1124ac7e-a793-453d-ce39-bc21cb967378"
      },
      "outputs": [
        {
          "name": "stdout",
          "output_type": "stream",
          "text": [
            "unique list is [41, 90, 52, 9, 30, 92, 23, 98]\n"
          ]
        }
      ],
      "source": [
        "unique_list=[]\n",
        "for item in l5:\n",
        "  if item not in unique_list:\n",
        "    unique_list.append(item)\n",
        "print(f\"unique list is {unique_list}\")"
      ],
      "id": "OiZYb9FqaMPq"
    },
    {
      "cell_type": "markdown",
      "metadata": {
        "id": "znOUaNRNc-Tb"
      },
      "source": [
        "21. Find the common elements between two lists."
      ],
      "id": "znOUaNRNc-Tb"
    },
    {
      "cell_type": "code",
      "execution_count": null,
      "metadata": {
        "colab": {
          "base_uri": "https://localhost:8080/"
        },
        "id": "dElt-t3Bc_OD",
        "outputId": "6893f478-5662-41e6-fae0-3117a4db5202"
      },
      "outputs": [
        {
          "name": "stdout",
          "output_type": "stream",
          "text": [
            "common elements : [9]\n"
          ]
        }
      ],
      "source": [
        "common_elements = [element for element in l4 if element in l5]\n",
        "print(f\"common elements : {common_elements}\")"
      ],
      "id": "dElt-t3Bc_OD"
    },
    {
      "cell_type": "markdown",
      "metadata": {
        "id": "GKtQVqabfEVd"
      },
      "source": [
        "22. Find the difference between two lists."
      ],
      "id": "GKtQVqabfEVd"
    },
    {
      "cell_type": "code",
      "execution_count": null,
      "metadata": {
        "colab": {
          "base_uri": "https://localhost:8080/"
        },
        "id": "nUffzI5kfIlL",
        "outputId": "de9f77df-8f4d-4642-a66c-9b184436d274"
      },
      "outputs": [
        {
          "name": "stdout",
          "output_type": "stream",
          "text": [
            "difference elements : [1, 4, 16, 25, 36, 49, 64, 81, 100]\n"
          ]
        }
      ],
      "source": [
        "difference_elements = [element for element in l4 if element not in l5]\n",
        "print(f\"difference elements : {difference_elements}\")"
      ],
      "id": "nUffzI5kfIlL"
    },
    {
      "cell_type": "markdown",
      "metadata": {
        "id": "-jlyfxxsgyCz"
      },
      "source": [
        "23. Merge two lists."
      ],
      "id": "-jlyfxxsgyCz"
    },
    {
      "cell_type": "code",
      "execution_count": null,
      "metadata": {
        "colab": {
          "base_uri": "https://localhost:8080/"
        },
        "id": "KTHxXd3tgw_r",
        "outputId": "449d24e5-f39b-434d-e516-787dd657687b"
      },
      "outputs": [
        {
          "name": "stdout",
          "output_type": "stream",
          "text": [
            "merged list is [1, 4, 9, 16, 25, 36, 49, 64, 81, 100, 41, 90, 52, 9, 30, 92, 41, 23, 98, 41]\n"
          ]
        }
      ],
      "source": [
        "l4.extend(l5)\n",
        "print(f\"merged list is {l4}\")"
      ],
      "id": "KTHxXd3tgw_r"
    },
    {
      "cell_type": "markdown",
      "metadata": {
        "id": "ZYMBEb-Tjlr-"
      },
      "source": [
        "24. Multiply all elements in a list by 2."
      ],
      "id": "ZYMBEb-Tjlr-"
    },
    {
      "cell_type": "code",
      "execution_count": null,
      "metadata": {
        "colab": {
          "base_uri": "https://localhost:8080/"
        },
        "id": "tAtyoWG-jqKT",
        "outputId": "6029a8a8-9f8a-49a3-ed06-d3a468317e32"
      },
      "outputs": [
        {
          "name": "stdout",
          "output_type": "stream",
          "text": [
            "befor multiplying list is : [41, 90, 52, 9, 30, 92, 41, 23, 98, 41]\n",
            "befor multiplying by 2 list is : [82, 180, 104, 18, 60, 184, 82, 46, 196, 82]\n"
          ]
        }
      ],
      "source": [
        "print(f\"befor multiplying list is : {l5}\")\n",
        "l6=[i*2 for i in l5]\n",
        "print(f\"befor multiplying by 2 list is : {l6}\")"
      ],
      "id": "tAtyoWG-jqKT"
    },
    {
      "cell_type": "markdown",
      "metadata": {
        "id": "ChQqOifjuR_A"
      },
      "source": [
        "25. Filter out all even numbers from a list"
      ],
      "id": "ChQqOifjuR_A"
    },
    {
      "cell_type": "code",
      "execution_count": null,
      "metadata": {
        "colab": {
          "base_uri": "https://localhost:8080/"
        },
        "id": "de6v4m4juT7X",
        "outputId": "99e084ff-3256-4cc3-f3f0-6923c97277a3"
      },
      "outputs": [
        {
          "name": "stdout",
          "output_type": "stream",
          "text": [
            "the list is [41, 90, 52, 9, 30, 92, 41, 23, 98, 41]\n",
            "even list is [90, 52, 30, 92, 98]\n"
          ]
        }
      ],
      "source": [
        "print(f\"the list is {l5}\")\n",
        "even_list=[i for i in l5 if i%2==0]\n",
        "print(f\"even list is {even_list}\")"
      ],
      "id": "de6v4m4juT7X"
    },
    {
      "cell_type": "markdown",
      "metadata": {
        "id": "RREffqAbu-jI"
      },
      "source": [
        "26. Convert a list of strings to a list of integers."
      ],
      "id": "RREffqAbu-jI"
    },
    {
      "cell_type": "code",
      "execution_count": null,
      "metadata": {
        "colab": {
          "base_uri": "https://localhost:8080/"
        },
        "id": "mY2CUymrvAHW",
        "outputId": "1099e5c2-1cfe-4762-ff75-041f0549791c"
      },
      "outputs": [
        {
          "name": "stdout",
          "output_type": "stream",
          "text": [
            "stringr list is ['1', '2', '3', '4', '5']\n",
            "integer list is [1, 2, 3, 4, 5]\n"
          ]
        }
      ],
      "source": [
        "str_list = [\"1\", \"2\", \"3\", \"4\", \"5\"]\n",
        "print(f\"stringr list is {str_list}\")\n",
        "\n",
        "int_list = [int(item) for item in str_list]\n",
        "print(f\"integer list is {int_list}\")"
      ],
      "id": "mY2CUymrvAHW"
    },
    {
      "cell_type": "markdown",
      "metadata": {
        "id": "ub16DsWTvDH3"
      },
      "source": [
        "27. Convert a list of integers to a list of strings."
      ],
      "id": "ub16DsWTvDH3"
    },
    {
      "cell_type": "code",
      "execution_count": null,
      "metadata": {
        "colab": {
          "base_uri": "https://localhost:8080/"
        },
        "id": "yDQkVShUvnoe",
        "outputId": "3bc9056c-c14a-49d0-c42d-804e741bf0a2"
      },
      "outputs": [
        {
          "name": "stdout",
          "output_type": "stream",
          "text": [
            "integer list is [90, 52, 30, 92, 98]\n",
            "string list is ['90', '52', '30', '92', '98']\n"
          ]
        }
      ],
      "source": [
        "print(f\"integer list is {even_list}\")\n",
        "str_list = [str(item) for item in even_list]\n",
        "\n",
        "print(f\"string list is {str_list}\")"
      ],
      "id": "yDQkVShUvnoe"
    },
    {
      "cell_type": "markdown",
      "metadata": {
        "id": "dyf8OknBwd0k"
      },
      "source": [
        "28. Flatten a nested list."
      ],
      "id": "dyf8OknBwd0k"
    },
    {
      "cell_type": "code",
      "execution_count": null,
      "metadata": {
        "colab": {
          "base_uri": "https://localhost:8080/"
        },
        "id": "rBECIYTxwhiP",
        "outputId": "df493e9e-c673-4137-8f66-65e20167eac6"
      },
      "outputs": [
        {
          "name": "stdout",
          "output_type": "stream",
          "text": [
            "Enter the number of rows: 2\n",
            "Enter the number of columns: 3\n",
            "enter elemets in the 2D list :\n",
            "mat[0][0] = 1\n",
            "mat[0][1] = 2\n",
            "mat[0][2] = 3\n",
            "mat[1][0] = 4\n",
            "mat[1][1] = 5\n",
            "mat[1][2] = 6\n",
            "flatten list is \n",
            "[1, 2, 3, 4, 5, 6]\n"
          ]
        }
      ],
      "source": [
        "rows = int(input(\"Enter the number of rows: \"))\n",
        "cols = int(input(\"Enter the number of columns: \"))\n",
        "\n",
        "matrix=[]\n",
        "\n",
        "print(\"enter elemets in the 2D list :\")\n",
        "for i in range(rows):\n",
        "    row=[]\n",
        "    for j in range(cols):\n",
        "        element=int(input(f\"mat[{i}][{j}] = \"))\n",
        "        row.append(element)\n",
        "    matrix.append(row)\n",
        "flat_list=[item for row in matrix for item in row]\n",
        "print(\"flatten list is \")\n",
        "print(flat_list)"
      ],
      "id": "rBECIYTxwhiP"
    },
    {
      "cell_type": "markdown",
      "metadata": {
        "id": "qRmvumyBxfZe"
      },
      "source": [
        "29. Create a list of the first 10 Fibonacci numbers."
      ],
      "id": "qRmvumyBxfZe"
    },
    {
      "cell_type": "code",
      "execution_count": null,
      "metadata": {
        "colab": {
          "base_uri": "https://localhost:8080/"
        },
        "id": "w2rMbJ5txghG",
        "outputId": "79c63f0d-e745-4d4e-8868-c5d8aeab7bd4"
      },
      "outputs": [
        {
          "name": "stdout",
          "output_type": "stream",
          "text": [
            "first 10 Fibonacci numbers are : \n",
            "[0, 1, 1, 2, 3, 5, 8, 13, 21, 34]\n"
          ]
        }
      ],
      "source": [
        "n=10\n",
        "if n<=0:\n",
        "    print(\"no fibonacci number\")\n",
        "else:\n",
        "    fib=[0,1]\n",
        "    for i in range(2,n):\n",
        "        fib.append(fib[i-1]+fib[i-2])\n",
        "print(f\"first {n} Fibonacci numbers are : \")\n",
        "print(fib[:n])"
      ],
      "id": "w2rMbJ5txghG"
    },
    {
      "cell_type": "markdown",
      "metadata": {
        "id": "vWEHjN3nx_6A"
      },
      "source": [
        "30. Check if a list is sorted."
      ],
      "id": "vWEHjN3nx_6A"
    },
    {
      "cell_type": "code",
      "execution_count": null,
      "metadata": {
        "colab": {
          "base_uri": "https://localhost:8080/"
        },
        "id": "N2iYUCRpx-jO",
        "outputId": "3f346c47-6ede-4a6c-dfd4-e4b33e027911"
      },
      "outputs": [
        {
          "name": "stdout",
          "output_type": "stream",
          "text": [
            "the list is [1, 2, 3, 4, 5, 6]\n",
            "the list [1, 2, 3, 4, 5, 6] is sorted\n"
          ]
        }
      ],
      "source": [
        "print(f\"the list is {flat_list}\")\n",
        "if flat_list==sorted(flat_list):\n",
        "  print(f\"the list {flat_list} is sorted\")\n",
        "else:\n",
        "  print(f\"the list {flat_list} is not sorted\")"
      ],
      "id": "N2iYUCRpx-jO"
    },
    {
      "cell_type": "markdown",
      "metadata": {
        "id": "O0lhEO2nzRXm"
      },
      "source": [
        "31. Rotate a list to the left by `n` positions."
      ],
      "id": "O0lhEO2nzRXm"
    },
    {
      "cell_type": "code",
      "execution_count": null,
      "metadata": {
        "colab": {
          "base_uri": "https://localhost:8080/"
        },
        "id": "XeYEsdY1zSX_",
        "outputId": "d57849ec-f506-4334-950a-802fb308bea9"
      },
      "outputs": [
        {
          "name": "stdout",
          "output_type": "stream",
          "text": [
            "the list is [1, 2, 3, 4, 5, 6]\n",
            "enter a number to rotate the list to that positions : 2\n",
            "list after left rotate by 2 positions is [3, 4, 5, 6, 1, 2]\n"
          ]
        }
      ],
      "source": [
        "print(f\"the list is {flat_list}\")\n",
        "n=int(input(\"enter a number to rotate the list to that positions : \"))\n",
        "if n<=len(flat_list):\n",
        "  new_list=flat_list[n:]+flat_list[:n]\n",
        "  print(f\"list after left rotate by {n} positions is {new_list}\")\n",
        "else:\n",
        "  print(\"invalid rotation position\")"
      ],
      "id": "XeYEsdY1zSX_"
    },
    {
      "cell_type": "markdown",
      "metadata": {
        "id": "obKkt0nT1dSI"
      },
      "source": [
        "32. Rotate a list to the right by `n` positions."
      ],
      "id": "obKkt0nT1dSI"
    },
    {
      "cell_type": "code",
      "execution_count": null,
      "metadata": {
        "colab": {
          "base_uri": "https://localhost:8080/"
        },
        "id": "ySMcLtQV1hwI",
        "outputId": "b90f7bb8-9891-41d6-d394-6d0a10bdb399"
      },
      "outputs": [
        {
          "name": "stdout",
          "output_type": "stream",
          "text": [
            "the list is [1, 2, 3, 4, 5, 6]\n",
            "enter a number to rotate the list to that positions in right : 2\n",
            "list after left rotate by 2 positions is [5, 6, 1, 2, 3, 4]\n"
          ]
        }
      ],
      "source": [
        "print(f\"the list is {flat_list}\")\n",
        "n=int(input(\"enter a number to rotate the list to that positions in right : \"))\n",
        "if n<=len(flat_list):\n",
        "  new_list=flat_list[-n:]+flat_list[:-n]\n",
        "  print(f\"list after right rotate by {n} positions is {new_list}\")\n",
        "else:\n",
        "  print(\"invalid rotation position\")"
      ],
      "id": "ySMcLtQV1hwI"
    },
    {
      "cell_type": "markdown",
      "metadata": {
        "id": "Acobtto-2dsB"
      },
      "source": [
        "33. Create a list of prime numbers up to 50."
      ],
      "id": "Acobtto-2dsB"
    },
    {
      "cell_type": "code",
      "execution_count": null,
      "metadata": {
        "colab": {
          "base_uri": "https://localhost:8080/"
        },
        "id": "TT4HuXei2fCQ",
        "outputId": "326a8836-fe4b-45a6-8632-a3d1f2bdacae"
      },
      "outputs": [
        {
          "output_type": "stream",
          "name": "stdout",
          "text": [
            "prime numbers : [2, 3, 5, 7, 11, 13, 17, 19, 23, 29, 31, 37, 41, 43, 47]\n"
          ]
        }
      ],
      "source": [
        "prime_numbers = [num for num in range(1, 51) if num > 1 and all(num % i != 0 for i in range(2, num//2 + 1)) ]\n",
        "print(f\"prime numbers : {prime_numbers}\")"
      ],
      "id": "TT4HuXei2fCQ"
    },
    {
      "cell_type": "markdown",
      "metadata": {
        "id": "XKoTaXXlx_Vr"
      },
      "source": [
        "34. Split a list into chunks of size `n`."
      ],
      "id": "XKoTaXXlx_Vr"
    },
    {
      "cell_type": "code",
      "execution_count": null,
      "metadata": {
        "colab": {
          "base_uri": "https://localhost:8080/"
        },
        "id": "HaQ9yjU-yBhk",
        "outputId": "027c6b91-8123-4850-a6d7-4cb53bf79015"
      },
      "outputs": [
        {
          "output_type": "stream",
          "name": "stdout",
          "text": [
            "enter chunk size : 4\n",
            "list of chunks : [[2, 3, 5, 7], [11, 13, 17, 19], [23, 29, 31, 37], [41, 43, 47]]\n"
          ]
        }
      ],
      "source": [
        "n=int(input(\"enter chunk size : \"))\n",
        "if n>0 and n<=len(prime_numbers):\n",
        "  list_chunks=[prime_numbers[i:i+n] for i in range(0,len(prime_numbers),n)]\n",
        "  print(f\"list of chunks : {list_chunks}\")\n",
        "else:\n",
        "  print(\"invalid chunk size\")"
      ],
      "id": "HaQ9yjU-yBhk"
    },
    {
      "cell_type": "markdown",
      "metadata": {
        "id": "8z4G6dNuyBLj"
      },
      "source": [
        "35. Find the second largest number in a list."
      ],
      "id": "8z4G6dNuyBLj"
    },
    {
      "cell_type": "code",
      "source": [
        "import random\n",
        "l5=[random.randint(1,100) for _ in range(10)]\n",
        "print(f\"the list is {l5}\")\n",
        "l5=sorted(l5)\n",
        "print(f\"second largest number is {l5[-2]}\")"
      ],
      "metadata": {
        "colab": {
          "base_uri": "https://localhost:8080/"
        },
        "id": "PBcsXFOP6tTW",
        "outputId": "1beacf18-c9a7-4eb6-bcbf-c17ab1431405"
      },
      "id": "PBcsXFOP6tTW",
      "execution_count": null,
      "outputs": [
        {
          "output_type": "stream",
          "name": "stdout",
          "text": [
            "the list is [72, 55, 84, 58, 62, 17, 26, 91, 5, 5]\n",
            "second largest number is 84\n"
          ]
        }
      ]
    },
    {
      "cell_type": "markdown",
      "source": [
        "36. Replace every element in a list with its square"
      ],
      "metadata": {
        "id": "Q-DfFlpa73PO"
      },
      "id": "Q-DfFlpa73PO"
    },
    {
      "cell_type": "code",
      "source": [
        "import random\n",
        "l5=[random.randint(1,20) for _ in range(10)]\n",
        "print(f\"the list is {l5}\")\n",
        "new_list=[i**2 for i in l5]\n",
        "print(f\"the updated list is {new_list}\")"
      ],
      "metadata": {
        "colab": {
          "base_uri": "https://localhost:8080/"
        },
        "id": "YjZrT45I8elJ",
        "outputId": "dbd4edeb-f4c5-44c2-b582-453eeffbee66"
      },
      "id": "YjZrT45I8elJ",
      "execution_count": null,
      "outputs": [
        {
          "output_type": "stream",
          "name": "stdout",
          "text": [
            "the list is [12, 7, 20, 5, 14, 6, 13, 16, 6, 6]\n",
            "the updated list is [144, 49, 400, 25, 196, 36, 169, 256, 36, 36]\n"
          ]
        }
      ]
    },
    {
      "cell_type": "markdown",
      "source": [
        "37. Convert a list to a dictionary where list elements become keys and their indices become values."
      ],
      "metadata": {
        "id": "UJuw9MNr_oRS"
      },
      "id": "UJuw9MNr_oRS"
    },
    {
      "cell_type": "code",
      "source": [
        "dict1={l5[i]:i for i in range(len(l5))}\n",
        "print(\"combined dictionary is : \")\n",
        "print(dict1)"
      ],
      "metadata": {
        "colab": {
          "base_uri": "https://localhost:8080/"
        },
        "id": "Bu1qzOeE_vF_",
        "outputId": "6b287b6b-89ee-4413-9025-ebeabda06e38"
      },
      "id": "Bu1qzOeE_vF_",
      "execution_count": null,
      "outputs": [
        {
          "output_type": "stream",
          "name": "stdout",
          "text": [
            "combined dictionary is : \n",
            "{12: 0, 7: 1, 20: 2, 5: 3, 14: 4, 6: 9, 13: 6, 16: 7}\n"
          ]
        }
      ]
    },
    {
      "cell_type": "markdown",
      "source": [
        "38. Shuffle the elements of a list randomly."
      ],
      "metadata": {
        "id": "21EMnZP9shCV"
      },
      "id": "21EMnZP9shCV"
    },
    {
      "cell_type": "code",
      "source": [
        "import random\n",
        "l6=[random.randint(1,20) for _ in range(10)]\n",
        "print(f\"the list before shuffleing is {l6}\")\n",
        "random.shuffle(l6)\n",
        "print(f\"the list after shuffleing is {l6}\")"
      ],
      "metadata": {
        "colab": {
          "base_uri": "https://localhost:8080/"
        },
        "id": "TwA9ZGQksiHd",
        "outputId": "3151692d-dc13-4de2-f60a-25f90f725389"
      },
      "id": "TwA9ZGQksiHd",
      "execution_count": null,
      "outputs": [
        {
          "output_type": "stream",
          "name": "stdout",
          "text": [
            "the list before shuffleing is [6, 10, 1, 9, 15, 19, 1, 3, 18, 11]\n",
            "the list after shuffleing is [15, 11, 9, 18, 1, 19, 3, 10, 6, 1]\n"
          ]
        }
      ]
    },
    {
      "cell_type": "markdown",
      "source": [
        "39. Create a list of the first 10 factorial numbers"
      ],
      "metadata": {
        "id": "RpLahhnjt2aN"
      },
      "id": "RpLahhnjt2aN"
    },
    {
      "cell_type": "code",
      "source": [
        "factorial_numbers = []\n",
        "for n in range(1, 11):\n",
        "    factorial = 1\n",
        "    for i in range(1, n + 1):\n",
        "        factorial *= i\n",
        "    factorial_numbers.append(factorial)\n",
        "\n",
        "print(\"First 10 Factorial Numbers:\", factorial_numbers)"
      ],
      "metadata": {
        "colab": {
          "base_uri": "https://localhost:8080/"
        },
        "id": "iU12JBeLt3XU",
        "outputId": "5350350c-2288-40d9-8c47-296677466042"
      },
      "id": "iU12JBeLt3XU",
      "execution_count": null,
      "outputs": [
        {
          "output_type": "stream",
          "name": "stdout",
          "text": [
            "First 10 Factorial Numbers: [1, 2, 6, 24, 120, 720, 5040, 40320, 362880, 3628800]\n"
          ]
        }
      ]
    },
    {
      "cell_type": "markdown",
      "source": [
        "40. Check if two lists have at least one element in common."
      ],
      "metadata": {
        "id": "3lPom8FUv4mz"
      },
      "id": "3lPom8FUv4mz"
    },
    {
      "cell_type": "code",
      "source": [
        "import random\n",
        "l1=[random.randint(1,100) for _ in range(10)]\n",
        "print(f\"the first list is {l1}\")\n",
        "\n",
        "l2=[random.randint(1,20) for _ in range(10)]\n",
        "print(f\"the second list is {l2}\")\n",
        "common_elements = [element for element in l1 if element in l2]\n",
        "print(f\"common elements : {common_elements}\")\n",
        "if len(common_elements)>=1:\n",
        "  print(\"two lists have at least one element in common\")\n",
        "else:\n",
        "  print(\"two lists have no element in common\")"
      ],
      "metadata": {
        "colab": {
          "base_uri": "https://localhost:8080/"
        },
        "id": "v_C82XP7v8z8",
        "outputId": "f7200027-ec8a-449c-a177-47af4510067b"
      },
      "id": "v_C82XP7v8z8",
      "execution_count": null,
      "outputs": [
        {
          "output_type": "stream",
          "name": "stdout",
          "text": [
            "the first list is [80, 19, 40, 36, 29, 33, 74, 4, 42, 72]\n",
            "the second list is [10, 2, 11, 17, 8, 9, 14, 6, 1, 19]\n",
            "common elements : [19]\n",
            "two lists have at least one element in common\n"
          ]
        }
      ]
    },
    {
      "cell_type": "markdown",
      "source": [
        "41. Remove all elements from a list."
      ],
      "metadata": {
        "id": "TVuvbLVJxV9c"
      },
      "id": "TVuvbLVJxV9c"
    },
    {
      "cell_type": "code",
      "source": [
        "import random\n",
        "l1=[random.randint(1,100) for _ in range(10)]\n",
        "print(f\"before removing the list is {l1}\")\n",
        "l1.clear()\n",
        "print(f\"after removing the list is {l1}\")"
      ],
      "metadata": {
        "colab": {
          "base_uri": "https://localhost:8080/"
        },
        "id": "PT_ip8R_xg27",
        "outputId": "9933a398-9070-447d-d8c0-2c9cc4522795"
      },
      "id": "PT_ip8R_xg27",
      "execution_count": null,
      "outputs": [
        {
          "output_type": "stream",
          "name": "stdout",
          "text": [
            "before removing the list is [39, 8, 89, 14, 26, 95, 98, 96, 66, 94]\n",
            "after removing the list is []\n"
          ]
        }
      ]
    },
    {
      "cell_type": "markdown",
      "source": [
        "42. Replace negative numbers in a list with 0."
      ],
      "metadata": {
        "id": "f7mkBBsty6SC"
      },
      "id": "f7mkBBsty6SC"
    },
    {
      "cell_type": "code",
      "source": [
        "import random\n",
        "l1=[random.randint(-20,20) for _ in range(10)]\n",
        "print(f\"the list is {l1}\")\n",
        "new_list=[]\n",
        "for i in l1:\n",
        "  if i<0:\n",
        "    new_list.append(0)\n",
        "  else:\n",
        "    new_list.append(i)\n",
        "\n",
        "print(f\"the updated list is {new_list}\")"
      ],
      "metadata": {
        "colab": {
          "base_uri": "https://localhost:8080/"
        },
        "id": "tgW_Tja3y7OL",
        "outputId": "3348f1c6-bb79-499b-e7a5-131b3671b34c"
      },
      "id": "tgW_Tja3y7OL",
      "execution_count": null,
      "outputs": [
        {
          "output_type": "stream",
          "name": "stdout",
          "text": [
            "the list is [13, -2, -7, -19, 14, -15, 13, 13, -2, 15]\n",
            "the updated list is [13, 0, 0, 0, 14, 0, 13, 13, 0, 15]\n"
          ]
        }
      ]
    },
    {
      "cell_type": "markdown",
      "source": [
        "43. Convert a string into a list of words."
      ],
      "metadata": {
        "id": "PzPqogohYNGo"
      },
      "id": "PzPqogohYNGo"
    },
    {
      "cell_type": "code",
      "source": [
        "s=input(\"enter a string : \")\n",
        "word_list=s.split()\n",
        "print(f\"list of words : {word_list}\")"
      ],
      "metadata": {
        "colab": {
          "base_uri": "https://localhost:8080/"
        },
        "id": "WDSSXYTsYOQX",
        "outputId": "cbb395f3-842d-4aa0-c15e-33b553c34124"
      },
      "id": "WDSSXYTsYOQX",
      "execution_count": null,
      "outputs": [
        {
          "output_type": "stream",
          "name": "stdout",
          "text": [
            "enter a string : I am going to market\n",
            "list of words : ['I', 'am', 'going', 'to', 'market']\n"
          ]
        }
      ]
    },
    {
      "cell_type": "markdown",
      "source": [
        "44. Convert a list of words into a string."
      ],
      "metadata": {
        "id": "BM-p2gNGYqP_"
      },
      "id": "BM-p2gNGYqP_"
    },
    {
      "cell_type": "code",
      "source": [
        "print(f\"list of words : {word_list}\")\n",
        "joined_s=\" \".join(word_list)\n",
        "print(f\"string is '{joined_s}'\")"
      ],
      "metadata": {
        "colab": {
          "base_uri": "https://localhost:8080/"
        },
        "id": "cu7rB0eyYrQw",
        "outputId": "996b9346-42d4-4897-a442-1cade45632de"
      },
      "id": "cu7rB0eyYrQw",
      "execution_count": null,
      "outputs": [
        {
          "output_type": "stream",
          "name": "stdout",
          "text": [
            "list of words : ['I', 'am', 'going', 'to', 'market']\n",
            "string is 'I am going to market'\n"
          ]
        }
      ]
    },
    {
      "cell_type": "markdown",
      "source": [
        "45. Create a list of the first `n` powers of 2."
      ],
      "metadata": {
        "id": "5NsyS5FtZs1y"
      },
      "id": "5NsyS5FtZs1y"
    },
    {
      "cell_type": "code",
      "source": [
        "n=int(input(\"enter value of n : \"))\n",
        "new_list=[i**2 for i in range(1,n+1)]\n",
        "print(f\"the list is {new_list}\")"
      ],
      "metadata": {
        "colab": {
          "base_uri": "https://localhost:8080/"
        },
        "id": "B0HE7RdlZrwg",
        "outputId": "c2d992b8-24da-41e3-a541-d1ae78394b9c"
      },
      "id": "B0HE7RdlZrwg",
      "execution_count": null,
      "outputs": [
        {
          "output_type": "stream",
          "name": "stdout",
          "text": [
            "enter value of n : 10\n",
            "the list is [1, 4, 9, 16, 25, 36, 49, 64, 81, 100]\n"
          ]
        }
      ]
    },
    {
      "cell_type": "markdown",
      "source": [
        "46. Find the longest string in a list of strings."
      ],
      "metadata": {
        "id": "I3PapWFMaGJu"
      },
      "id": "I3PapWFMaGJu"
    },
    {
      "cell_type": "code",
      "source": [
        "print(f\"list of words : {word_list}\")\n",
        "longest=max(word_list,key=len)\n",
        "print(f\"longest string is '{longest}'\")"
      ],
      "metadata": {
        "colab": {
          "base_uri": "https://localhost:8080/"
        },
        "id": "8bwJrtdjaPFi",
        "outputId": "8f59c1f9-b0db-48e7-d636-dc456b4e8902"
      },
      "id": "8bwJrtdjaPFi",
      "execution_count": null,
      "outputs": [
        {
          "output_type": "stream",
          "name": "stdout",
          "text": [
            "list of words : ['I', 'am', 'going', 'to', 'market']\n",
            "longest string is 'market'\n"
          ]
        }
      ]
    },
    {
      "cell_type": "markdown",
      "source": [
        "47. Find the shortest string in a list of strings."
      ],
      "metadata": {
        "id": "m5ot9wUyaJs_"
      },
      "id": "m5ot9wUyaJs_"
    },
    {
      "cell_type": "code",
      "source": [
        "print(f\"list of words : {word_list}\")\n",
        "shortest=min(word_list,key=len)\n",
        "print(f\"shortest string is '{shortest}'\")"
      ],
      "metadata": {
        "colab": {
          "base_uri": "https://localhost:8080/"
        },
        "id": "d18fywnNcGYH",
        "outputId": "d072fcf1-c25c-475f-e014-f8fa032e0c4a"
      },
      "id": "d18fywnNcGYH",
      "execution_count": null,
      "outputs": [
        {
          "output_type": "stream",
          "name": "stdout",
          "text": [
            "list of words : ['I', 'am', 'going', 'to', 'market']\n",
            "shortest string is 'I'\n"
          ]
        }
      ]
    },
    {
      "cell_type": "markdown",
      "source": [
        "48. Create a list of the first `n` triangular numbers."
      ],
      "metadata": {
        "id": "EnwiiRJvcWLu"
      },
      "id": "EnwiiRJvcWLu"
    },
    {
      "cell_type": "code",
      "source": [
        "n=int(input(\"enter value of n : \"))\n",
        "triangular_numbers = []\n",
        "total = 0\n",
        "for i in range(1, n + 1):\n",
        "    total += i\n",
        "    triangular_numbers.append(total)\n",
        "print(f\"list of the first {n} triangular numbers : {triangular_numbers}\")"
      ],
      "metadata": {
        "colab": {
          "base_uri": "https://localhost:8080/"
        },
        "id": "iaquLiPafLYl",
        "outputId": "bcd03b7a-e4b0-4f0b-fba5-4e458596cf1d"
      },
      "id": "iaquLiPafLYl",
      "execution_count": null,
      "outputs": [
        {
          "output_type": "stream",
          "name": "stdout",
          "text": [
            "enter value of n : 10\n",
            "list of the first 10 triangular numbers : [1, 3, 6, 10, 15, 21, 28, 36, 45, 55]\n"
          ]
        }
      ]
    },
    {
      "cell_type": "markdown",
      "source": [
        "49. Check if a list contains another list as a subsequence."
      ],
      "metadata": {
        "id": "cfkC8O0mhS1F"
      },
      "id": "cfkC8O0mhS1F"
    },
    {
      "cell_type": "code",
      "source": [
        "sequence = [1, 2, 3, 4, 5, 6, 7]\n",
        "subsequence = [2, 4, 6]\n",
        "sub_len, seq_len = len(subsequence), len(sequence)\n",
        "sub_idx, seq_idx = 0, 0\n",
        "\n",
        "while sub_idx < sub_len and seq_idx < seq_len:\n",
        "    if subsequence[sub_idx] == sequence[seq_idx]:\n",
        "        sub_idx += 1\n",
        "    seq_idx += 1\n",
        "if sub_idx == sub_len:\n",
        "    print(f\"{subsequence} is a subsequence of {sequence}\")\n",
        "else:\n",
        "    print(f\"{subsequence} is not a subsequence of {sequence}\")"
      ],
      "metadata": {
        "colab": {
          "base_uri": "https://localhost:8080/"
        },
        "id": "rP0yapR1hXM8",
        "outputId": "7260eef1-7042-4e66-c0ac-9835b466cb40"
      },
      "id": "rP0yapR1hXM8",
      "execution_count": null,
      "outputs": [
        {
          "output_type": "stream",
          "name": "stdout",
          "text": [
            "[2, 4, 6] is a subsequence of [1, 2, 3, 4, 5, 6, 7]\n"
          ]
        }
      ]
    },
    {
      "cell_type": "markdown",
      "source": [
        "50. Swap two elements in a list by their indices."
      ],
      "metadata": {
        "id": "YtegGOO0i62d"
      },
      "id": "YtegGOO0i62d"
    },
    {
      "cell_type": "code",
      "source": [
        "import random\n",
        "l1=[random.randint(1,100) for _ in range(10)]\n",
        "print(f\"the list before swaping : {l1}\")\n",
        "index1=int(input(\"enter index-1 to swap from : \"))\n",
        "index2=int(input(\"enter index-2 to swap into : \"))\n",
        "if 0 <= index1 < len(l1) and 0 <= index2 < len(l1):\n",
        "    # Swap the elements at the specified indices\n",
        "    l1[index1], l1[index2] = l1[index2], l1[index1]\n",
        "\n",
        "print(\"List after swapping : \", l1)"
      ],
      "metadata": {
        "colab": {
          "base_uri": "https://localhost:8080/"
        },
        "id": "TdMno_7_i_uE",
        "outputId": "751734e9-48de-446d-d574-6343007d0c64"
      },
      "id": "TdMno_7_i_uE",
      "execution_count": null,
      "outputs": [
        {
          "output_type": "stream",
          "name": "stdout",
          "text": [
            "the list before swaping : [16, 28, 65, 99, 67, 46, 99, 25, 70, 7]\n",
            "enter index-1 to swap from : 2\n",
            "enter index-2 to swap into : 5\n",
            "List after swapping :  [16, 28, 46, 99, 67, 65, 99, 25, 70, 7]\n"
          ]
        }
      ]
    },
    {
      "cell_type": "markdown",
      "source": [
        "## Tuple Based Practice Problem:"
      ],
      "metadata": {
        "id": "6RXb5HgFkiSV"
      },
      "id": "6RXb5HgFkiSV"
    },
    {
      "cell_type": "markdown",
      "source": [
        "1. Create a tuple with integers from 1 to 5."
      ],
      "metadata": {
        "id": "nAIfVS9_kp4F"
      },
      "id": "nAIfVS9_kp4F"
    },
    {
      "cell_type": "code",
      "source": [
        "t1=(1,2,3,4,5)\n",
        "print(t1)"
      ],
      "metadata": {
        "id": "NERX6c3lko18",
        "colab": {
          "base_uri": "https://localhost:8080/"
        },
        "outputId": "a3ae4330-99c9-4a94-e2be-f1101e65ff49"
      },
      "id": "NERX6c3lko18",
      "execution_count": null,
      "outputs": [
        {
          "output_type": "stream",
          "name": "stdout",
          "text": [
            "(1, 2, 3, 4, 5)\n"
          ]
        }
      ]
    },
    {
      "cell_type": "markdown",
      "source": [
        "2. Access the third element of a tuple."
      ],
      "metadata": {
        "id": "a-UdRMGGkok1"
      },
      "id": "a-UdRMGGkok1"
    },
    {
      "cell_type": "code",
      "source": [
        "print(t1[2])"
      ],
      "metadata": {
        "colab": {
          "base_uri": "https://localhost:8080/"
        },
        "id": "mHlH0s5NJczh",
        "outputId": "1ef6edd1-7426-41b0-ca79-f118e3458baf"
      },
      "id": "mHlH0s5NJczh",
      "execution_count": null,
      "outputs": [
        {
          "output_type": "stream",
          "name": "stdout",
          "text": [
            "3\n"
          ]
        }
      ]
    },
    {
      "cell_type": "markdown",
      "source": [
        "3. Find the length of a tuple without using the `len()` function."
      ],
      "metadata": {
        "id": "w3blYwOeJjoB"
      },
      "id": "w3blYwOeJjoB"
    },
    {
      "cell_type": "code",
      "source": [
        "length=0\n",
        "for i in t1:\n",
        "  length+=1\n",
        "print(f\"length of {t1} is {length}\")"
      ],
      "metadata": {
        "colab": {
          "base_uri": "https://localhost:8080/"
        },
        "id": "2njywy97Jk3w",
        "outputId": "0cc985a8-948a-45ce-9892-82594bb8facc"
      },
      "id": "2njywy97Jk3w",
      "execution_count": null,
      "outputs": [
        {
          "output_type": "stream",
          "name": "stdout",
          "text": [
            "length of (1, 2, 3, 4, 5) is 5\n"
          ]
        }
      ]
    },
    {
      "cell_type": "markdown",
      "source": [
        "4. Count the occurrences of an element in a tuple."
      ],
      "metadata": {
        "id": "QTqqCYDKJ4q4"
      },
      "id": "QTqqCYDKJ4q4"
    },
    {
      "cell_type": "code",
      "source": [
        "import random\n",
        "t2=tuple(random.randint(1,20) for _ in range(10))\n",
        "print(f\"the tuple is {t2}\")\n",
        "element=int(input(\"enter an element : \"))\n",
        "if element in t2:\n",
        "  count_occr=t2.count(element)\n",
        "  print(f\"the element {element} is occured {count_occr} times\")\n",
        "else:\n",
        "  print(f\"the element {element} is not in the tuple\")"
      ],
      "metadata": {
        "colab": {
          "base_uri": "https://localhost:8080/"
        },
        "id": "Zq9YAujZJ7aA",
        "outputId": "b65508af-fbda-4fcb-eceb-af9141370b9e"
      },
      "id": "Zq9YAujZJ7aA",
      "execution_count": null,
      "outputs": [
        {
          "output_type": "stream",
          "name": "stdout",
          "text": [
            "the tuple is (17, 1, 19, 5, 3, 13, 17, 6, 11, 10)\n",
            "enter an element : 5\n",
            "the element 5 is occured 1 times\n"
          ]
        }
      ]
    },
    {
      "cell_type": "markdown",
      "source": [
        "5. Find the index of the first occurrence of an element in a tuple."
      ],
      "metadata": {
        "id": "aT1sm-rnLTJQ"
      },
      "id": "aT1sm-rnLTJQ"
    },
    {
      "cell_type": "code",
      "source": [
        "import random\n",
        "t2=tuple(random.randint(1,20) for _ in range(10))\n",
        "print(f\"the tuple is {t2}\")\n",
        "element=int(input(\"enter an element : \"))\n",
        "if element in t2:\n",
        "  first_occr_idx=t2.index(element)\n",
        "  print(f\"the element {element} is occured  first at index {first_occr_idx}\")\n",
        "else:\n",
        "  print(f\"the element {element} is not in the tuple\")"
      ],
      "metadata": {
        "colab": {
          "base_uri": "https://localhost:8080/"
        },
        "id": "tXmRHff3LV4Q",
        "outputId": "d918b0e3-c0d8-483d-b4d1-8af4f8fea20c"
      },
      "id": "tXmRHff3LV4Q",
      "execution_count": null,
      "outputs": [
        {
          "output_type": "stream",
          "name": "stdout",
          "text": [
            "the tuple is (15, 5, 16, 9, 10, 4, 8, 2, 6, 9)\n",
            "enter an element : 4\n",
            "the element 4 is occured  first at index 5\n"
          ]
        }
      ]
    },
    {
      "cell_type": "markdown",
      "source": [
        "6. Check if an element exists in a tuple."
      ],
      "metadata": {
        "id": "-y4-xe9YL23W"
      },
      "id": "-y4-xe9YL23W"
    },
    {
      "cell_type": "code",
      "source": [
        "import random\n",
        "t2=tuple(random.randint(1,20) for _ in range(10))\n",
        "print(f\"the tuple is {t2}\")\n",
        "element=int(input(\"enter an element : \"))\n",
        "if element in t2:\n",
        "  print(f\"the element {element} is in the tuple\")\n",
        "else:\n",
        "  print(f\"the element {element} is not in the tuple\")"
      ],
      "metadata": {
        "colab": {
          "base_uri": "https://localhost:8080/"
        },
        "id": "N8EjLEoaNKIX",
        "outputId": "8f8806e3-d8e6-4790-c850-2874cb95e624"
      },
      "id": "N8EjLEoaNKIX",
      "execution_count": null,
      "outputs": [
        {
          "output_type": "stream",
          "name": "stdout",
          "text": [
            "the tuple is (3, 2, 18, 18, 1, 11, 4, 3, 20, 19)\n",
            "enter an element : 24\n",
            "the element 24 is not in the tuple\n"
          ]
        }
      ]
    },
    {
      "cell_type": "markdown",
      "source": [
        "7. Convert a tuple to a list."
      ],
      "metadata": {
        "id": "2NEQDXrlNfwu"
      },
      "id": "2NEQDXrlNfwu"
    },
    {
      "cell_type": "code",
      "source": [
        "import random\n",
        "t2=tuple(random.randint(1,20) for _ in range(10))\n",
        "print(f\"the tuple is {t2}\")\n",
        "l2=list(t2)\n",
        "print(f\"the equivalent list is {l2}\")"
      ],
      "metadata": {
        "colab": {
          "base_uri": "https://localhost:8080/"
        },
        "id": "PQmxwLLhNg7X",
        "outputId": "bbb442b1-1eba-47cf-a658-9cd30632abf0"
      },
      "id": "PQmxwLLhNg7X",
      "execution_count": null,
      "outputs": [
        {
          "output_type": "stream",
          "name": "stdout",
          "text": [
            "the tuple is (15, 15, 19, 17, 6, 4, 9, 7, 13, 15)\n",
            "the equivalent list is [15, 15, 19, 17, 6, 4, 9, 7, 13, 15]\n"
          ]
        }
      ]
    },
    {
      "cell_type": "markdown",
      "source": [
        "8. Convert a list to a tuple."
      ],
      "metadata": {
        "id": "NHJAiEaVOa6w"
      },
      "id": "NHJAiEaVOa6w"
    },
    {
      "cell_type": "code",
      "source": [
        "import random\n",
        "l2=[random.randint(1,20) for _ in range(10)]\n",
        "print(f\"the list is {l2}\")\n",
        "t2=tuple(l2)\n",
        "print(f\"the equivalent tuple is {t2}\")"
      ],
      "metadata": {
        "colab": {
          "base_uri": "https://localhost:8080/"
        },
        "id": "E8FZJXAwOcu_",
        "outputId": "ef6fa8e2-8096-4db8-ba0e-3d8ba15f3b34"
      },
      "id": "E8FZJXAwOcu_",
      "execution_count": null,
      "outputs": [
        {
          "output_type": "stream",
          "name": "stdout",
          "text": [
            "the list is [17, 16, 7, 2, 5, 10, 2, 2, 9, 14]\n",
            "the equivalent tuple is (17, 16, 7, 2, 5, 10, 2, 2, 9, 14)\n"
          ]
        }
      ]
    },
    {
      "cell_type": "markdown",
      "source": [
        "9. Unpack the elements of a tuple into variables."
      ],
      "metadata": {
        "id": "JqmcfyRJO1Ju"
      },
      "id": "JqmcfyRJO1Ju"
    },
    {
      "cell_type": "code",
      "source": [
        "import random\n",
        "t2=tuple(random.randint(1,20) for _ in range(5))\n",
        "print(f\"the tuple is {t2}\")\n",
        "v1,v2,v3,v4,v5=t2\n",
        "print(\"variable-1 = \",v1)\n",
        "print(\"variable-2 = \",v2)\n",
        "print(\"variable-3 = \",v3)\n",
        "print(\"variable-4 = \",v4)\n",
        "print(\"variable-5 = \",v5)"
      ],
      "metadata": {
        "colab": {
          "base_uri": "https://localhost:8080/"
        },
        "id": "s_Igp6t5O2T_",
        "outputId": "de7ec9e0-7e62-421c-ec78-3b560d73e026"
      },
      "id": "s_Igp6t5O2T_",
      "execution_count": null,
      "outputs": [
        {
          "output_type": "stream",
          "name": "stdout",
          "text": [
            "the tuple is (20, 3, 5, 7, 9)\n",
            "variable-1 =  20\n",
            "variable-2 =  3\n",
            "variable-3 =  5\n",
            "variable-4 =  7\n",
            "variable-5 =  9\n"
          ]
        }
      ]
    },
    {
      "cell_type": "markdown",
      "source": [
        "10. Create a tuple of even numbers from 1 to 10.\n"
      ],
      "metadata": {
        "id": "YqoZlfNhPdDP"
      },
      "id": "YqoZlfNhPdDP"
    },
    {
      "cell_type": "code",
      "source": [
        "t3=tuple(i for i in range(1,11) if i%2==0)\n",
        "print(f\"the tuple is {t3}\")"
      ],
      "metadata": {
        "colab": {
          "base_uri": "https://localhost:8080/"
        },
        "id": "7NeNptUxPgVQ",
        "outputId": "7ec9810b-9ed7-480e-8370-c91219bcd46d"
      },
      "id": "7NeNptUxPgVQ",
      "execution_count": null,
      "outputs": [
        {
          "output_type": "stream",
          "name": "stdout",
          "text": [
            "the tuple is (2, 4, 6, 8, 10)\n"
          ]
        }
      ]
    },
    {
      "cell_type": "markdown",
      "source": [
        "11. Create a tuple of odd numbers from 1 to 10."
      ],
      "metadata": {
        "id": "qpNfp8ajPeif"
      },
      "id": "qpNfp8ajPeif"
    },
    {
      "cell_type": "code",
      "source": [
        "t4=tuple(i for i in range(1,11) if i%2!=0)\n",
        "print(f\"the tuple is {t4}\")"
      ],
      "metadata": {
        "colab": {
          "base_uri": "https://localhost:8080/"
        },
        "id": "KsesrAKlPzMw",
        "outputId": "3e02bb56-e195-48ac-9ed3-4b1592f0944d"
      },
      "id": "KsesrAKlPzMw",
      "execution_count": null,
      "outputs": [
        {
          "output_type": "stream",
          "name": "stdout",
          "text": [
            "the tuple is (1, 3, 5, 7, 9)\n"
          ]
        }
      ]
    },
    {
      "cell_type": "markdown",
      "source": [
        "12. Concatenate two tuples."
      ],
      "metadata": {
        "id": "o2cACTrBQHcW"
      },
      "id": "o2cACTrBQHcW"
    },
    {
      "cell_type": "code",
      "source": [
        "t5=t3+t4\n",
        "print(f\"the first tuple is {t3}\")\n",
        "print(f\"the second tuple is {t4}\")\n",
        "print(f\"the concatenated tuple is {t5}\")"
      ],
      "metadata": {
        "colab": {
          "base_uri": "https://localhost:8080/"
        },
        "id": "8HjR02m3QOne",
        "outputId": "f1a6a9de-fd2c-4de3-dbd2-a72ffd2f579c"
      },
      "id": "8HjR02m3QOne",
      "execution_count": null,
      "outputs": [
        {
          "output_type": "stream",
          "name": "stdout",
          "text": [
            "the first tuple is (2, 4, 6, 8, 10)\n",
            "the second tuple is (1, 3, 5, 7, 9)\n",
            "the concatenated tuple is (2, 4, 6, 8, 10, 1, 3, 5, 7, 9)\n"
          ]
        }
      ]
    },
    {
      "cell_type": "markdown",
      "source": [
        "13. Repeat a tuple three times."
      ],
      "metadata": {
        "id": "n59jANjIQhz3"
      },
      "id": "n59jANjIQhz3"
    },
    {
      "cell_type": "code",
      "source": [
        "print(f\"three times of {t3} is {t3*3}\")"
      ],
      "metadata": {
        "colab": {
          "base_uri": "https://localhost:8080/"
        },
        "id": "er2LRtHDQk9m",
        "outputId": "8e8600d6-c7f7-4108-8cd8-93f8eac45e4d"
      },
      "id": "er2LRtHDQk9m",
      "execution_count": null,
      "outputs": [
        {
          "output_type": "stream",
          "name": "stdout",
          "text": [
            "three times of (2, 4, 6, 8, 10) is (2, 4, 6, 8, 10, 2, 4, 6, 8, 10, 2, 4, 6, 8, 10)\n"
          ]
        }
      ]
    },
    {
      "cell_type": "markdown",
      "source": [
        "14. Check if a tuple is empty."
      ],
      "metadata": {
        "id": "5Qt0RsgvQ99G"
      },
      "id": "5Qt0RsgvQ99G"
    },
    {
      "cell_type": "code",
      "source": [
        "if not t5:\n",
        "  print(f\"{t5} is empty\")\n",
        "else:\n",
        "  print(f\"{t5} is not empty\")"
      ],
      "metadata": {
        "colab": {
          "base_uri": "https://localhost:8080/"
        },
        "id": "DWHBYc6yQ7wO",
        "outputId": "3358832a-64bb-413e-d989-3e9144ddbac8"
      },
      "id": "DWHBYc6yQ7wO",
      "execution_count": null,
      "outputs": [
        {
          "output_type": "stream",
          "name": "stdout",
          "text": [
            "(2, 4, 6, 8, 10, 1, 3, 5, 7, 9) is not empty\n"
          ]
        }
      ]
    },
    {
      "cell_type": "markdown",
      "source": [
        "15. Create a nested tuple."
      ],
      "metadata": {
        "id": "Y1gkkr8BRjNu"
      },
      "id": "Y1gkkr8BRjNu"
    },
    {
      "cell_type": "code",
      "source": [
        "t6=((1,2,3),4,5,6)\n",
        "print(f\"the nested tuple is {t6}\")"
      ],
      "metadata": {
        "colab": {
          "base_uri": "https://localhost:8080/"
        },
        "id": "RwO2hbaCRi5c",
        "outputId": "03d2e847-425a-4eda-c818-d7dc41a03b06"
      },
      "id": "RwO2hbaCRi5c",
      "execution_count": null,
      "outputs": [
        {
          "output_type": "stream",
          "name": "stdout",
          "text": [
            "the nested tuple is ((1, 2, 3), 4, 5, 6)\n"
          ]
        }
      ]
    },
    {
      "cell_type": "markdown",
      "source": [
        "16. Access the first element of a nested tuple."
      ],
      "metadata": {
        "id": "oQgLcI_bTGh1"
      },
      "id": "oQgLcI_bTGh1"
    },
    {
      "cell_type": "code",
      "source": [
        "x=t6[0][0]\n",
        "print(f\"the first element of {t6} is {x}\")"
      ],
      "metadata": {
        "colab": {
          "base_uri": "https://localhost:8080/"
        },
        "id": "_Q3qqV2JQ8eW",
        "outputId": "f08c7046-ba93-4bf6-ae6f-bcf9d23fca88"
      },
      "id": "_Q3qqV2JQ8eW",
      "execution_count": null,
      "outputs": [
        {
          "output_type": "stream",
          "name": "stdout",
          "text": [
            "the first element of ((1, 2, 3), 4, 5, 6) is 1\n"
          ]
        }
      ]
    },
    {
      "cell_type": "markdown",
      "source": [
        "17. Create a tuple with a single element."
      ],
      "metadata": {
        "id": "_djowXzBUu0l"
      },
      "id": "_djowXzBUu0l"
    },
    {
      "cell_type": "code",
      "source": [
        "t7=(1,)\n",
        "print(f\"the tuple is {t7}\")"
      ],
      "metadata": {
        "colab": {
          "base_uri": "https://localhost:8080/"
        },
        "id": "8ENPLxpAUvrN",
        "outputId": "80a5da44-9889-40c4-afd5-bcc48437e7b2"
      },
      "id": "8ENPLxpAUvrN",
      "execution_count": null,
      "outputs": [
        {
          "output_type": "stream",
          "name": "stdout",
          "text": [
            "the tuple is (1,)\n"
          ]
        }
      ]
    },
    {
      "cell_type": "markdown",
      "source": [
        "18. Compare two tuples."
      ],
      "metadata": {
        "id": "3lZ1I8G-WAg_"
      },
      "id": "3lZ1I8G-WAg_"
    },
    {
      "cell_type": "code",
      "source": [
        "import random\n",
        "t1=tuple(random.randint(1,20) for _ in range(5))\n",
        "print(f\"the first tuple is {t1}\")\n",
        "t2=tuple(random.randint(1,20) for _ in range(5))\n",
        "print(f\"the second tuple is {t2}\")\n",
        "if t1==t2:\n",
        "  print(f\"the tuples are equal\")\n",
        "else:\n",
        "  print(f\"the tuples are not equal\")"
      ],
      "metadata": {
        "colab": {
          "base_uri": "https://localhost:8080/"
        },
        "id": "8iAXGOLgWBUt",
        "outputId": "07b3bc73-3267-401b-f026-0c9c8fd37d25"
      },
      "id": "8iAXGOLgWBUt",
      "execution_count": null,
      "outputs": [
        {
          "output_type": "stream",
          "name": "stdout",
          "text": [
            "the first tuple is (9, 8, 3, 8, 2)\n",
            "the second tuple is (7, 7, 8, 5, 15)\n",
            "the tuples are not equal\n"
          ]
        }
      ]
    },
    {
      "cell_type": "markdown",
      "source": [
        "19. Delete a tuple."
      ],
      "metadata": {
        "id": "yK82i3LCWryj"
      },
      "id": "yK82i3LCWryj"
    },
    {
      "cell_type": "code",
      "source": [
        "import random\n",
        "t1=tuple(random.randint(1,20) for _ in range(5))\n",
        "print(f\"the tuple is {t1}\")\n",
        "del t1\n"
      ],
      "metadata": {
        "colab": {
          "base_uri": "https://localhost:8080/"
        },
        "id": "s6B6MBtBWs01",
        "outputId": "0afc3e32-9243-4127-c7bc-10817f4cb296"
      },
      "id": "s6B6MBtBWs01",
      "execution_count": null,
      "outputs": [
        {
          "output_type": "stream",
          "name": "stdout",
          "text": [
            "the tuple is (17, 4, 8, 17, 18)\n"
          ]
        }
      ]
    },
    {
      "cell_type": "markdown",
      "source": [
        "20. Slice a tuple."
      ],
      "metadata": {
        "id": "ihNcBSLXXc5L"
      },
      "id": "ihNcBSLXXc5L"
    },
    {
      "cell_type": "code",
      "source": [
        "import random\n",
        "t1=tuple(random.randint(1,20) for _ in range(5))\n",
        "print(f\"the tuple is {t1}\")\n",
        "print(f\"the sliced tuple is {t1[:2]}\")"
      ],
      "metadata": {
        "colab": {
          "base_uri": "https://localhost:8080/"
        },
        "id": "9mInmtRKXdtl",
        "outputId": "7b038dda-a1dc-4241-8620-410e4086340e"
      },
      "id": "9mInmtRKXdtl",
      "execution_count": null,
      "outputs": [
        {
          "output_type": "stream",
          "name": "stdout",
          "text": [
            "the tuple is (14, 1, 13, 14, 20)\n",
            "the sliced tuple is (14, 1)\n"
          ]
        }
      ]
    },
    {
      "cell_type": "markdown",
      "source": [
        "21. Find the maximum value in a tuple.\n"
      ],
      "metadata": {
        "id": "sWiGfqaIXyKl"
      },
      "id": "sWiGfqaIXyKl"
    },
    {
      "cell_type": "code",
      "source": [
        "import random\n",
        "t1=tuple(random.randint(1,20) for _ in range(5))\n",
        "print(f\"the tuple is {t1}\")\n",
        "maximum=max(t1)\n",
        "print(f\"maximum = {maximum}\")"
      ],
      "metadata": {
        "colab": {
          "base_uri": "https://localhost:8080/"
        },
        "id": "szUgERQGX06V",
        "outputId": "c868d2aa-d043-4dae-9120-56035295ce66"
      },
      "id": "szUgERQGX06V",
      "execution_count": null,
      "outputs": [
        {
          "output_type": "stream",
          "name": "stdout",
          "text": [
            "the tuple is (13, 4, 12, 6, 2)\n",
            "maximum = 13\n"
          ]
        }
      ]
    },
    {
      "cell_type": "markdown",
      "source": [
        "22. Find the minimum value in a tuple."
      ],
      "metadata": {
        "id": "c6_7i-szXztD"
      },
      "id": "c6_7i-szXztD"
    },
    {
      "cell_type": "code",
      "source": [
        "import random\n",
        "t1=tuple(random.randint(1,20) for _ in range(5))\n",
        "print(f\"the tuple is {t1}\")\n",
        "mainimum=min(t1)\n",
        "print(f\"minimum = {mainimum}\")"
      ],
      "metadata": {
        "colab": {
          "base_uri": "https://localhost:8080/"
        },
        "id": "Mm8ei7oGYB59",
        "outputId": "b2d3d87f-8973-4034-efe8-2216dc566c8a"
      },
      "id": "Mm8ei7oGYB59",
      "execution_count": null,
      "outputs": [
        {
          "output_type": "stream",
          "name": "stdout",
          "text": [
            "the tuple is (2, 19, 9, 1, 3)\n",
            "minimum = 1\n"
          ]
        }
      ]
    },
    {
      "cell_type": "markdown",
      "source": [
        "23. Convert a string to a tuple of characters.\n"
      ],
      "metadata": {
        "id": "aauylgvYYQ4j"
      },
      "id": "aauylgvYYQ4j"
    },
    {
      "cell_type": "code",
      "source": [
        "s=input(\"enter a string : \")\n",
        "print(f\"the string is '{s}'\")\n",
        "t=tuple(s)\n",
        "print(f\"the tuple is {t}\")"
      ],
      "metadata": {
        "colab": {
          "base_uri": "https://localhost:8080/"
        },
        "id": "2KHqwuJjYTjk",
        "outputId": "31a4e360-decb-4368-8706-04bedc02eab7"
      },
      "id": "2KHqwuJjYTjk",
      "execution_count": null,
      "outputs": [
        {
          "output_type": "stream",
          "name": "stdout",
          "text": [
            "enter a string : hello\n",
            "the string is 'hello'\n",
            "the tuple is ('h', 'e', 'l', 'l', 'o')\n"
          ]
        }
      ]
    },
    {
      "cell_type": "markdown",
      "source": [
        "24. Convert a tuple of characters to a string."
      ],
      "metadata": {
        "id": "L5zZIx-jYSfE"
      },
      "id": "L5zZIx-jYSfE"
    },
    {
      "cell_type": "code",
      "source": [
        "print(f\"the tuple is {t}\")\n",
        "s=''.join(t)\n",
        "print(f\"the string is '{s}'\")"
      ],
      "metadata": {
        "colab": {
          "base_uri": "https://localhost:8080/"
        },
        "id": "JEoDHBZ-aeu0",
        "outputId": "ff817cb0-6ea0-4edc-aeca-686ab4f3b3d2"
      },
      "id": "JEoDHBZ-aeu0",
      "execution_count": null,
      "outputs": [
        {
          "output_type": "stream",
          "name": "stdout",
          "text": [
            "the tuple is ('h', 'e', 'l', 'l', 'o')\n",
            "the string is 'hello'\n"
          ]
        }
      ]
    },
    {
      "cell_type": "markdown",
      "source": [
        "25. Create a tuple from multiple data types."
      ],
      "metadata": {
        "id": "WqEkdaBjbOlb"
      },
      "id": "WqEkdaBjbOlb"
    },
    {
      "cell_type": "code",
      "source": [
        "t=(23,'hello',False,453.21)\n",
        "print(f\"the tuple is {t}\")"
      ],
      "metadata": {
        "colab": {
          "base_uri": "https://localhost:8080/"
        },
        "id": "mZwAfZAVbPeD",
        "outputId": "e6f357ed-ded2-44fb-d849-05576801262e"
      },
      "id": "mZwAfZAVbPeD",
      "execution_count": null,
      "outputs": [
        {
          "output_type": "stream",
          "name": "stdout",
          "text": [
            "the tuple is (23, 'hello', False, 453.21)\n"
          ]
        }
      ]
    },
    {
      "cell_type": "markdown",
      "source": [
        "26. Check if two tuples are identical."
      ],
      "metadata": {
        "id": "oWx71VbMbiFX"
      },
      "id": "oWx71VbMbiFX"
    },
    {
      "cell_type": "code",
      "source": [
        "import random\n",
        "t1=tuple(random.randint(1,20) for _ in range(5))\n",
        "print(f\"the first tuple is {t1}\")\n",
        "t2=tuple(random.randint(1,20) for _ in range(5))\n",
        "print(f\"the second tuple is {t2}\")\n",
        "if t1==t2:\n",
        "  print(f\"the tuples are equal\")\n",
        "else:\n",
        "  print(f\"the tuples are not equal\")"
      ],
      "metadata": {
        "colab": {
          "base_uri": "https://localhost:8080/"
        },
        "id": "ii2Nn7ACbjXJ",
        "outputId": "b72b8b16-5bba-4781-a088-514fd1e431d8"
      },
      "id": "ii2Nn7ACbjXJ",
      "execution_count": null,
      "outputs": [
        {
          "output_type": "stream",
          "name": "stdout",
          "text": [
            "the first tuple is (10, 15, 11, 7, 18)\n",
            "the second tuple is (18, 2, 1, 7, 2)\n",
            "the tuples are not equal\n"
          ]
        }
      ]
    },
    {
      "cell_type": "markdown",
      "source": [
        "27. Sort the elements of a tuple."
      ],
      "metadata": {
        "id": "g9PDV5VAmNNo"
      },
      "id": "g9PDV5VAmNNo"
    },
    {
      "cell_type": "code",
      "source": [
        "import random\n",
        "t1=tuple(random.randint(1,50) for _ in range(5))\n",
        "print(f\"the tuple is {t1}\")\n",
        "l1=list(t1)\n",
        "l1.sort()\n",
        "\n",
        "t1=tuple(l1)\n",
        "print(f\"the sorted tuple is {t1}\")"
      ],
      "metadata": {
        "colab": {
          "base_uri": "https://localhost:8080/"
        },
        "id": "kgbwP44qmOYH",
        "outputId": "37aff6c7-3310-4075-932c-bac1ed1f7031"
      },
      "id": "kgbwP44qmOYH",
      "execution_count": null,
      "outputs": [
        {
          "output_type": "stream",
          "name": "stdout",
          "text": [
            "the tuple is (17, 44, 29, 14, 10)\n",
            "the sorted tuple is (10, 14, 17, 29, 44)\n"
          ]
        }
      ]
    },
    {
      "cell_type": "markdown",
      "source": [
        "28. Convert a tuple of integers to a tuple of strings.\n"
      ],
      "metadata": {
        "id": "W8sAAgT_n6a2"
      },
      "id": "W8sAAgT_n6a2"
    },
    {
      "cell_type": "code",
      "source": [
        "import random\n",
        "t1=tuple(random.randint(1,50) for _ in range(5))\n",
        "print(f\"the integer tuple is {t1}\")\n",
        "t2=tuple(str(i) for i in t1)\n",
        "print(f\"the string tuple is {t2}\")"
      ],
      "metadata": {
        "colab": {
          "base_uri": "https://localhost:8080/"
        },
        "id": "ARhweDmgn9B4",
        "outputId": "7797daff-5140-42df-ec2d-eca3a256a2ee"
      },
      "id": "ARhweDmgn9B4",
      "execution_count": null,
      "outputs": [
        {
          "output_type": "stream",
          "name": "stdout",
          "text": [
            "the integer tuple is (30, 38, 14, 8, 18)\n",
            "the string tuple is ('30', '38', '14', '8', '18')\n"
          ]
        }
      ]
    },
    {
      "cell_type": "markdown",
      "source": [
        "29. Convert a tuple of strings to a tuple of integers."
      ],
      "metadata": {
        "id": "EyhSInpGn9uw"
      },
      "id": "EyhSInpGn9uw"
    },
    {
      "cell_type": "code",
      "source": [
        "print(f\"the string tuple is {t2}\")\n",
        "t1=tuple(int(i) for i in t2)\n",
        "print(f\"the integer tuple is {t1}\")"
      ],
      "metadata": {
        "colab": {
          "base_uri": "https://localhost:8080/"
        },
        "id": "HwAsPEg-qKqf",
        "outputId": "de50551e-db40-4115-ef03-fd80762650d8"
      },
      "id": "HwAsPEg-qKqf",
      "execution_count": null,
      "outputs": [
        {
          "output_type": "stream",
          "name": "stdout",
          "text": [
            "the string tuple is ('30', '38', '14', '8', '18')\n",
            "the integer tuple is (30, 38, 14, 8, 18)\n"
          ]
        }
      ]
    },
    {
      "cell_type": "markdown",
      "source": [
        "30. Merge two tuples."
      ],
      "metadata": {
        "id": "-4hVzBLoqhoM"
      },
      "id": "-4hVzBLoqhoM"
    },
    {
      "cell_type": "code",
      "source": [
        "import random\n",
        "t1=tuple(random.randint(1,50) for _ in range(5))\n",
        "\n",
        "t2=tuple(random.randint(1,50) for _ in range(5))\n",
        "\n",
        "t3=t1+t2\n",
        "print(f\"the first tuple is {t1}\")\n",
        "print(f\"the second tuple is {t2}\")\n",
        "print(f\"the merged tuple is {t3}\")"
      ],
      "metadata": {
        "colab": {
          "base_uri": "https://localhost:8080/"
        },
        "id": "vyiIdGA9qlC3",
        "outputId": "032a43c1-19e3-4281-9e27-0275c5624fc8"
      },
      "id": "vyiIdGA9qlC3",
      "execution_count": null,
      "outputs": [
        {
          "output_type": "stream",
          "name": "stdout",
          "text": [
            "the first tuple is (29, 8, 12, 5, 9)\n",
            "the second tuple is (25, 43, 13, 21, 4)\n",
            "the merged tuple is (29, 8, 12, 5, 9, 25, 43, 13, 21, 4)\n"
          ]
        }
      ]
    },
    {
      "cell_type": "markdown",
      "source": [
        "31. Flatten a nested tuple."
      ],
      "metadata": {
        "id": "0SYdrLODrN36"
      },
      "id": "0SYdrLODrN36"
    },
    {
      "cell_type": "code",
      "source": [
        "nested_tuple = ((1, 2), (3, 4, 5), (6,))\n",
        "flattened_tuple = tuple(item for sublist in nested_tuple for item in (sublist if isinstance(sublist, tuple) else (sublist,)))\n",
        "print(f\"flattened tuple is {flattened_tuple}\")"
      ],
      "metadata": {
        "colab": {
          "base_uri": "https://localhost:8080/"
        },
        "id": "pluSUfSxrPGH",
        "outputId": "f25964bf-da87-4c84-d9b1-c8a38ce741eb"
      },
      "id": "pluSUfSxrPGH",
      "execution_count": null,
      "outputs": [
        {
          "output_type": "stream",
          "name": "stdout",
          "text": [
            "flattened tuple is (1, 2, 3, 4, 5, 6)\n"
          ]
        }
      ]
    },
    {
      "cell_type": "markdown",
      "source": [
        "32. Create a tuple of the first 5 prime numbers."
      ],
      "metadata": {
        "id": "0wMW9S6vtICW"
      },
      "id": "0wMW9S6vtICW"
    },
    {
      "cell_type": "code",
      "source": [
        "count=0\n",
        "num=2\n",
        "prime_list=()\n",
        "while count < 5:\n",
        "    is_prime = True\n",
        "    for i in range(2, num//2 + 1):\n",
        "        if num % i == 0:\n",
        "            is_prime = False\n",
        "            break\n",
        "    if is_prime:\n",
        "        prime_list+=(num,)\n",
        "        count += 1\n",
        "    num += 1\n",
        "\n",
        "print(f\"prime numbers : {prime_list}\")"
      ],
      "metadata": {
        "colab": {
          "base_uri": "https://localhost:8080/"
        },
        "id": "7E3TdZsotKdh",
        "outputId": "29b5c191-42b9-4b81-af4c-49b657213ab6"
      },
      "id": "7E3TdZsotKdh",
      "execution_count": null,
      "outputs": [
        {
          "output_type": "stream",
          "name": "stdout",
          "text": [
            "prime numbers : (2, 3, 5, 7, 11)\n"
          ]
        }
      ]
    },
    {
      "cell_type": "markdown",
      "source": [
        "33. Check if a tuple is a palindrome."
      ],
      "metadata": {
        "id": "bphuae2SwxW8"
      },
      "id": "bphuae2SwxW8"
    },
    {
      "cell_type": "code",
      "source": [
        "my_tuple = (1, 2, 3, 2, 1)\n",
        "\n",
        "if my_tuple == my_tuple[::-1]:\n",
        "    print(\"The tuple is a palindrome\")\n",
        "else:\n",
        "    print(\"The tuple is not a palindrome\")"
      ],
      "metadata": {
        "colab": {
          "base_uri": "https://localhost:8080/"
        },
        "id": "bburlY_owyEP",
        "outputId": "62a4b6f7-1ca4-4d06-d3de-c182e126ec0b"
      },
      "id": "bburlY_owyEP",
      "execution_count": null,
      "outputs": [
        {
          "output_type": "stream",
          "name": "stdout",
          "text": [
            "The tuple is a palindrome\n"
          ]
        }
      ]
    },
    {
      "cell_type": "markdown",
      "source": [
        "34. Create a tuple of squares of numbers from 1 to 5."
      ],
      "metadata": {
        "id": "cSMTzz0YxByk"
      },
      "id": "cSMTzz0YxByk"
    },
    {
      "cell_type": "code",
      "source": [
        "t1=tuple(i**2 for i in range(1,6))\n",
        "print(f\"the tuple is {t1}\")"
      ],
      "metadata": {
        "colab": {
          "base_uri": "https://localhost:8080/"
        },
        "id": "t1iThq-DxCx1",
        "outputId": "34d2dadb-8f40-4b84-ba15-dd56d31efdf4"
      },
      "id": "t1iThq-DxCx1",
      "execution_count": null,
      "outputs": [
        {
          "output_type": "stream",
          "name": "stdout",
          "text": [
            "the tuple is (1, 4, 9, 16, 25)\n"
          ]
        }
      ]
    },
    {
      "cell_type": "markdown",
      "source": [
        "35. Filter out all even numbers from a tuple."
      ],
      "metadata": {
        "id": "-Qzuw93KxQeM"
      },
      "id": "-Qzuw93KxQeM"
    },
    {
      "cell_type": "code",
      "source": [
        "import random\n",
        "t1=tuple(random.randint(1,50) for _ in range(10))\n",
        "print(f\"the tuple is {t1}\")\n",
        "filtered_t1=tuple(i for i in t1 if i%2==0)\n",
        "print(f\"the filtered tuple of even numbers is {filtered_t1}\")"
      ],
      "metadata": {
        "colab": {
          "base_uri": "https://localhost:8080/"
        },
        "id": "RmpKGkUnxRZY",
        "outputId": "d653112e-a716-4208-ab20-309e55f92e75"
      },
      "id": "RmpKGkUnxRZY",
      "execution_count": null,
      "outputs": [
        {
          "output_type": "stream",
          "name": "stdout",
          "text": [
            "the tuple is (14, 9, 18, 1, 38, 42, 14, 37, 12, 20)\n",
            "the filtered tuple of even numbers is (14, 18, 38, 42, 14, 12, 20)\n"
          ]
        }
      ]
    },
    {
      "cell_type": "markdown",
      "source": [
        "36. Multiply all elements in a tuple by 2."
      ],
      "metadata": {
        "id": "PaBtClAqyK5E"
      },
      "id": "PaBtClAqyK5E"
    },
    {
      "cell_type": "code",
      "source": [
        "import random\n",
        "t1=tuple(random.randint(1,50) for _ in range(5))\n",
        "print(f\"the tuple is {t1}\")\n",
        "mul2_t1=tuple(i*2 for i in t1)\n",
        "print(f\"the tuple of elements multiplied by 2 is {mul2_t1}\")"
      ],
      "metadata": {
        "colab": {
          "base_uri": "https://localhost:8080/"
        },
        "id": "Z8_23gGeyNJU",
        "outputId": "94e2e43c-c386-44e9-9b9a-829c544313ce"
      },
      "id": "Z8_23gGeyNJU",
      "execution_count": null,
      "outputs": [
        {
          "output_type": "stream",
          "name": "stdout",
          "text": [
            "the tuple is (6, 12, 15, 40, 29)\n",
            "the tuple of elements multiplied by 2 is (12, 24, 30, 80, 58)\n"
          ]
        }
      ]
    },
    {
      "cell_type": "markdown",
      "source": [
        "37. Create a tuple of random numbers."
      ],
      "metadata": {
        "id": "fAperxh5yjSO"
      },
      "id": "fAperxh5yjSO"
    },
    {
      "cell_type": "code",
      "source": [
        "import random\n",
        "t1=tuple(random.randint(1,50) for _ in range(5))\n",
        "print(f\"the tuple of random numbers is {t1}\")"
      ],
      "metadata": {
        "colab": {
          "base_uri": "https://localhost:8080/"
        },
        "id": "hy55ydbYyle0",
        "outputId": "7ad756a2-fa31-46f1-8d04-31d97606c460"
      },
      "id": "hy55ydbYyle0",
      "execution_count": null,
      "outputs": [
        {
          "output_type": "stream",
          "name": "stdout",
          "text": [
            "the tuple of random numbers is (18, 27, 7, 29, 7)\n"
          ]
        }
      ]
    },
    {
      "cell_type": "markdown",
      "source": [
        "38. Check if a tuple is sorted."
      ],
      "metadata": {
        "id": "n2SAL1nYysWD"
      },
      "id": "n2SAL1nYysWD"
    },
    {
      "cell_type": "code",
      "source": [
        "import random\n",
        "t1=tuple(random.randint(1,50) for _ in range(5))\n",
        "print(f\"the tuple is {t1}\")\n",
        "l1=list(t1)\n",
        "l1.sort()\n",
        "\n",
        "t2=tuple(l1)\n",
        "if t1==t2:\n",
        "  print(f\"the tuple {t1} is sorted\")\n",
        "else:\n",
        "  print(f\"the tuple {t1} is not sorted\")"
      ],
      "metadata": {
        "colab": {
          "base_uri": "https://localhost:8080/"
        },
        "id": "bR5N0hIhytdk",
        "outputId": "127929b1-c415-4d41-e87b-6e04b01bea75"
      },
      "id": "bR5N0hIhytdk",
      "execution_count": null,
      "outputs": [
        {
          "output_type": "stream",
          "name": "stdout",
          "text": [
            "the tuple is (3, 37, 3, 23, 36)\n",
            "the tuple (3, 37, 3, 23, 36) is not sorted\n"
          ]
        }
      ]
    },
    {
      "cell_type": "markdown",
      "source": [
        "39. Rotate a tuple to the left by `n` positions.\n"
      ],
      "metadata": {
        "id": "GIG5YUovzNDz"
      },
      "id": "GIG5YUovzNDz"
    },
    {
      "cell_type": "code",
      "source": [
        "import random\n",
        "t1=tuple(random.randint(1,50) for _ in range(5))\n",
        "print(f\"the tuple is {t1}\")\n",
        "n=int(input(\"enter a number to rotate the tuple to that positions : \"))\n",
        "if n<=len(t1):\n",
        "  new_tuple=t1[n:]+t1[:n]\n",
        "  print(f\"tuple after left rotate by {n} positions is {new_tuple}\")\n",
        "else:\n",
        "  print(\"invalid rotation position\")"
      ],
      "metadata": {
        "colab": {
          "base_uri": "https://localhost:8080/"
        },
        "id": "DM5gDXSfzPGy",
        "outputId": "1f37b4ae-9a60-412e-a10d-666d49d0eea6"
      },
      "id": "DM5gDXSfzPGy",
      "execution_count": null,
      "outputs": [
        {
          "output_type": "stream",
          "name": "stdout",
          "text": [
            "the tuple is (30, 38, 48, 40, 20)\n",
            "enter a number to rotate the tuple to that positions : 2\n",
            "tuple after left rotate by 2 positions is (48, 40, 20, 30, 38)\n"
          ]
        }
      ]
    },
    {
      "cell_type": "markdown",
      "source": [
        "40. Rotate a tuple to the right by `n` positions."
      ],
      "metadata": {
        "id": "jv0_S2m4zPlq"
      },
      "id": "jv0_S2m4zPlq"
    },
    {
      "cell_type": "code",
      "source": [
        "import random\n",
        "t1=tuple(random.randint(1,50) for _ in range(5))\n",
        "print(f\"the tuple is {t1}\")\n",
        "n=int(input(\"enter a number to rotate the tuple to that positions : \"))\n",
        "if n<=len(t1):\n",
        "  new_tuple=t1[-n:]+t1[:-n]\n",
        "  print(f\"tuple after right rotate by {n} positions is {new_tuple}\")\n",
        "else:\n",
        "  print(\"invalid rotation position\")"
      ],
      "metadata": {
        "colab": {
          "base_uri": "https://localhost:8080/"
        },
        "id": "dg5wY1Jz0Rvs",
        "outputId": "200b9ded-ee0d-4a70-a226-c6e5f486e11e"
      },
      "id": "dg5wY1Jz0Rvs",
      "execution_count": null,
      "outputs": [
        {
          "output_type": "stream",
          "name": "stdout",
          "text": [
            "the tuple is (11, 38, 36, 2, 13)\n",
            "enter a number to rotate the tuple to that positions : 2\n",
            "tuple after right rotate by 2 positions is (2, 13, 11, 38, 36)\n"
          ]
        }
      ]
    },
    {
      "cell_type": "markdown",
      "source": [
        "41. Create a tuple of the first 5 Fibonacci numbers."
      ],
      "metadata": {
        "id": "od-SFo-n0p64"
      },
      "id": "od-SFo-n0p64"
    },
    {
      "cell_type": "code",
      "source": [
        "n=5\n",
        "if n<=0:\n",
        "    print(\"no fibonacci number\")\n",
        "else:\n",
        "    fib=(0,1)\n",
        "    while len(fib)<5:\n",
        "      new=fib[-1]+fib[-2]\n",
        "      fib+=(new,)\n",
        "print(f\"first {n} Fibonacci numbers are : {fib}\")\n"
      ],
      "metadata": {
        "colab": {
          "base_uri": "https://localhost:8080/"
        },
        "id": "PZ-A09d45kqO",
        "outputId": "7705e3c8-5358-41e3-9b2f-2055dcff36f5"
      },
      "id": "PZ-A09d45kqO",
      "execution_count": null,
      "outputs": [
        {
          "output_type": "stream",
          "name": "stdout",
          "text": [
            "first 5 Fibonacci numbers are : (0, 1, 1, 2, 3)\n"
          ]
        }
      ]
    },
    {
      "cell_type": "markdown",
      "source": [
        "42. Create a tuple from user input."
      ],
      "metadata": {
        "id": "3rrKDgrb8TGe"
      },
      "id": "3rrKDgrb8TGe"
    },
    {
      "cell_type": "code",
      "source": [
        "n=int(input(\"enter size of tuple : \"))\n",
        "t=()\n",
        "for i in range(n):\n",
        "  element=int(input(f\"enter element-{i+1} : \"))\n",
        "  t+=(element,)\n",
        "print(f\"the tuple is {t}\")\n"
      ],
      "metadata": {
        "colab": {
          "base_uri": "https://localhost:8080/"
        },
        "id": "J6ZjWFM38Vr3",
        "outputId": "9794d8a4-3f0c-43a9-d7f0-bc16f99ea5e4"
      },
      "id": "J6ZjWFM38Vr3",
      "execution_count": null,
      "outputs": [
        {
          "output_type": "stream",
          "name": "stdout",
          "text": [
            "enter size of tuple : 5\n",
            "enter element-1 : 41\n",
            "enter element-2 : 25\n",
            "enter element-3 : 39\n",
            "enter element-4 : 46\n",
            "enter element-5 : 22\n",
            "the tuple is (41, 25, 39, 46, 22)\n"
          ]
        }
      ]
    },
    {
      "cell_type": "markdown",
      "source": [
        "43. Swap two elements in a tuple."
      ],
      "metadata": {
        "id": "7d1JOksC_sVC"
      },
      "id": "7d1JOksC_sVC"
    },
    {
      "cell_type": "code",
      "source": [
        "import random\n",
        "t1=tuple(random.randint(1,100) for _ in range(10))\n",
        "print(f\"the tuple before swaping : {t1}\")\n",
        "index1=int(input(\"enter index-1 to swap from : \"))\n",
        "index2=int(input(\"enter index-2 to swap into : \"))\n",
        "if 0 <= index1 < len(t1) and 0 <= index2 < len(t1):\n",
        "    t1=list(t1)\n",
        "    t1[index1], t1[index2] = t1[index2], t1[index1]\n",
        "    t1=tuple(t1)\n",
        "    print(\"tuple after swapping : \", t1)\n",
        "else:\n",
        "  print(\"entered index out of bound\")"
      ],
      "metadata": {
        "colab": {
          "base_uri": "https://localhost:8080/"
        },
        "id": "A6-jijrl_pgz",
        "outputId": "97433b04-f68c-4fb0-f01a-e5cbe317bef5"
      },
      "id": "A6-jijrl_pgz",
      "execution_count": null,
      "outputs": [
        {
          "output_type": "stream",
          "name": "stdout",
          "text": [
            "the tuple before swaping : (76, 29, 76, 75, 85, 83, 72, 9, 53, 4)\n",
            "enter index-1 to swap from : 3\n",
            "enter index-2 to swap into : 7\n",
            "tuple after swapping :  (76, 29, 76, 9, 85, 83, 72, 75, 53, 4)\n"
          ]
        }
      ]
    },
    {
      "cell_type": "markdown",
      "source": [
        "44. Reverse the elements of a tuple."
      ],
      "metadata": {
        "id": "Cr7pwsrMrdQc"
      },
      "id": "Cr7pwsrMrdQc"
    },
    {
      "cell_type": "code",
      "source": [
        "import random\n",
        "t1=tuple(random.randint(1,100) for _ in range(10))\n",
        "print(f\"the tuple is : {t1}\")\n",
        "t1=t1[::-1]\n",
        "print(f\"the tuple after reversing is : {t1}\")"
      ],
      "metadata": {
        "colab": {
          "base_uri": "https://localhost:8080/"
        },
        "id": "3x1Hr3kgrcJL",
        "outputId": "89539145-c1e1-4ee7-f0b8-0e6d98cfb867"
      },
      "id": "3x1Hr3kgrcJL",
      "execution_count": null,
      "outputs": [
        {
          "output_type": "stream",
          "name": "stdout",
          "text": [
            "the tuple is : (69, 92, 86, 41, 52, 89, 92, 26, 70, 17)\n",
            "the tuple after reversing is : (17, 70, 26, 92, 89, 52, 41, 86, 92, 69)\n"
          ]
        }
      ]
    },
    {
      "cell_type": "markdown",
      "source": [
        "45. Create a tuple of the first `n` powers of 2."
      ],
      "metadata": {
        "id": "FVI7WlsUrynf"
      },
      "id": "FVI7WlsUrynf"
    },
    {
      "cell_type": "code",
      "source": [
        "n=int(input(\"enter value of n : \"))\n",
        "new_tuple=tuple(i**2 for i in range(1,n+1))\n",
        "print(f\"the tuple is {new_tuple}\")"
      ],
      "metadata": {
        "colab": {
          "base_uri": "https://localhost:8080/"
        },
        "id": "izc5NDJerzdc",
        "outputId": "d00cce01-0151-4474-ed8f-d6cdc0dcb272"
      },
      "id": "izc5NDJerzdc",
      "execution_count": 66,
      "outputs": [
        {
          "output_type": "stream",
          "name": "stdout",
          "text": [
            "enter value of n : 5\n",
            "the tuple is (1, 4, 9, 16, 25)\n"
          ]
        }
      ]
    },
    {
      "cell_type": "markdown",
      "source": [
        "46. Find the longest string in a tuple of strings.\n"
      ],
      "metadata": {
        "id": "I2O6B04esrvT"
      },
      "id": "I2O6B04esrvT"
    },
    {
      "cell_type": "code",
      "source": [
        "word_list=(\"apple\", \"banana\", \"cherry\", \"date\", \"elderberry\")\n",
        "longest=\"\"\n",
        "for string in word_list:\n",
        "  if len(string)>len(longest):\n",
        "    longest=string\n",
        "print(f\"longest string is '{longest}'\")"
      ],
      "metadata": {
        "colab": {
          "base_uri": "https://localhost:8080/"
        },
        "id": "BDqO5-mfsvoL",
        "outputId": "f98120de-f0e5-498c-cba7-25fc3c0b885a"
      },
      "id": "BDqO5-mfsvoL",
      "execution_count": null,
      "outputs": [
        {
          "output_type": "stream",
          "name": "stdout",
          "text": [
            "longest string is 'elderberry'\n"
          ]
        }
      ]
    },
    {
      "cell_type": "markdown",
      "source": [
        "47. Find the shortest string in a tuple of strings."
      ],
      "metadata": {
        "id": "VndpUEuSst_k"
      },
      "id": "VndpUEuSst_k"
    },
    {
      "cell_type": "code",
      "source": [
        "word_list=(\"apple\", \"banana\", \"cherry\", \"date\", \"elderberry\")\n",
        "shortest=word_list[0]\n",
        "for string in word_list:\n",
        "  if len(string)<len(shortest):\n",
        "    shortest=string\n",
        "print(f\"longest string is '{shortest}'\")"
      ],
      "metadata": {
        "colab": {
          "base_uri": "https://localhost:8080/"
        },
        "id": "vi1xK2OWuNs6",
        "outputId": "64977302-62e1-4bb9-a816-055aea99ca5d"
      },
      "id": "vi1xK2OWuNs6",
      "execution_count": null,
      "outputs": [
        {
          "output_type": "stream",
          "name": "stdout",
          "text": [
            "longest string is 'date'\n"
          ]
        }
      ]
    },
    {
      "cell_type": "markdown",
      "source": [
        "48. Create a tuple of the first `n` triangular numbers."
      ],
      "metadata": {
        "id": "7O3vH6GXuqex"
      },
      "id": "7O3vH6GXuqex"
    },
    {
      "cell_type": "code",
      "source": [
        "n=int(input(\"enter value of n : \"))\n",
        "triangular_numbers = ()\n",
        "total = 0\n",
        "for i in range(1, n + 1):\n",
        "    total += i\n",
        "    triangular_numbers+=(total,)\n",
        "print(f\"list of the first {n} triangular numbers : {triangular_numbers}\")"
      ],
      "metadata": {
        "colab": {
          "base_uri": "https://localhost:8080/"
        },
        "id": "kbqSUrUvurML",
        "outputId": "84694af3-0dc1-4a76-81f6-7fff70fb9755"
      },
      "id": "kbqSUrUvurML",
      "execution_count": null,
      "outputs": [
        {
          "output_type": "stream",
          "name": "stdout",
          "text": [
            "enter value of n : 8\n",
            "list of the first 8 triangular numbers : (1, 3, 6, 10, 15, 21, 28, 36)\n"
          ]
        }
      ]
    },
    {
      "cell_type": "markdown",
      "source": [
        "49. Check if a tuple contains another tuple as a subsequence."
      ],
      "metadata": {
        "id": "RknVfu3xu8r6"
      },
      "id": "RknVfu3xu8r6"
    },
    {
      "cell_type": "code",
      "source": [
        "sequence = (1, 2, 3, 4, 5, 6, 7)\n",
        "subsequence = (2, 4, 6)\n",
        "sub_len, seq_len = len(subsequence), len(sequence)\n",
        "sub_idx, seq_idx = 0, 0\n",
        "\n",
        "while sub_idx < sub_len and seq_idx < seq_len:\n",
        "    if subsequence[sub_idx] == sequence[seq_idx]:\n",
        "        sub_idx += 1\n",
        "    seq_idx += 1\n",
        "if sub_idx == sub_len:\n",
        "    print(f\"{subsequence} is a subsequence of {sequence}\")\n",
        "else:\n",
        "    print(f\"{subsequence} is not a subsequence of {sequence}\")"
      ],
      "metadata": {
        "colab": {
          "base_uri": "https://localhost:8080/"
        },
        "id": "8K6cNef0u9sE",
        "outputId": "ba63cb87-f2ee-4285-fbca-13a17879d37f"
      },
      "id": "8K6cNef0u9sE",
      "execution_count": null,
      "outputs": [
        {
          "output_type": "stream",
          "name": "stdout",
          "text": [
            "(2, 4, 6) is a subsequence of (1, 2, 3, 4, 5, 6, 7)\n"
          ]
        }
      ]
    },
    {
      "cell_type": "markdown",
      "source": [
        "50. Create a tuple of alternating 1s and 0s of length `n`."
      ],
      "metadata": {
        "id": "28gxVxUkvNsz"
      },
      "id": "28gxVxUkvNsz"
    },
    {
      "cell_type": "code",
      "source": [
        "n=int(input(\"enter value of n : \"))\n",
        "\n",
        "t1=tuple(1 if i%2==0 else 0 for i in range(n))\n",
        "print(f\"the tuple is {t1}\")"
      ],
      "metadata": {
        "id": "RM_DNZ2gvOa8",
        "colab": {
          "base_uri": "https://localhost:8080/"
        },
        "outputId": "b994a46c-8acc-4edc-cac7-3553493ea4c7"
      },
      "id": "RM_DNZ2gvOa8",
      "execution_count": null,
      "outputs": [
        {
          "output_type": "stream",
          "name": "stdout",
          "text": [
            "enter value of n : 10\n",
            "the tuple is (1, 0, 1, 0, 1, 0, 1, 0, 1, 0)\n"
          ]
        }
      ]
    },
    {
      "cell_type": "markdown",
      "source": [
        "## Set Based Practice Problem :"
      ],
      "metadata": {
        "id": "BQojpWBaVW12"
      },
      "id": "BQojpWBaVW12"
    },
    {
      "cell_type": "markdown",
      "source": [
        "1. Create a set with integers from 1 to 5."
      ],
      "metadata": {
        "id": "IPIFBorZVZRa"
      },
      "id": "IPIFBorZVZRa"
    },
    {
      "cell_type": "code",
      "source": [
        "s1={i for i in range(1,6)}\n",
        "print(f\"the set is {s1}\")"
      ],
      "metadata": {
        "colab": {
          "base_uri": "https://localhost:8080/"
        },
        "id": "_dvSN1kJVYRo",
        "outputId": "2351aa1e-d7e7-485a-8374-6b572290319a"
      },
      "id": "_dvSN1kJVYRo",
      "execution_count": null,
      "outputs": [
        {
          "output_type": "stream",
          "name": "stdout",
          "text": [
            "the set is {1, 2, 3, 4, 5}\n"
          ]
        }
      ]
    },
    {
      "cell_type": "markdown",
      "source": [
        "2. Add an element to a set."
      ],
      "metadata": {
        "id": "ZrqIfR-oVw2z"
      },
      "id": "ZrqIfR-oVw2z"
    },
    {
      "cell_type": "code",
      "source": [
        "element=int(input(\"enter an element to insert : \"))\n",
        "s1.add(element)\n",
        "print(f\"the set is : {s1}\")"
      ],
      "metadata": {
        "colab": {
          "base_uri": "https://localhost:8080/"
        },
        "id": "ssCGpWIQVyCj",
        "outputId": "a79d9047-4b50-4215-d753-8606765fad5a"
      },
      "id": "ssCGpWIQVyCj",
      "execution_count": null,
      "outputs": [
        {
          "output_type": "stream",
          "name": "stdout",
          "text": [
            "enter an element to insert : 99\n",
            "the set is : {1, 2, 3, 4, 5, 99}\n"
          ]
        }
      ]
    },
    {
      "cell_type": "markdown",
      "source": [
        "3. Remove an element from a set."
      ],
      "metadata": {
        "id": "B_aU7YlpWRVr"
      },
      "id": "B_aU7YlpWRVr"
    },
    {
      "cell_type": "code",
      "source": [
        "element=int(input(\"enter an element to remove : \"))\n",
        "if element in s1:\n",
        "  s1.remove(element)\n",
        "  print(f\"the set is : {s1}\")\n",
        "else:\n",
        "  print(f\"{element } does't exist in {s1}\")\n"
      ],
      "metadata": {
        "colab": {
          "base_uri": "https://localhost:8080/"
        },
        "id": "Ft20xLcRWUZS",
        "outputId": "c366c5d5-3f4c-4116-b71a-6b111ca1cbb8"
      },
      "id": "Ft20xLcRWUZS",
      "execution_count": null,
      "outputs": [
        {
          "output_type": "stream",
          "name": "stdout",
          "text": [
            "enter an element to remove : 99\n",
            "the set is : {1, 2, 3, 4, 5}\n"
          ]
        }
      ]
    },
    {
      "cell_type": "markdown",
      "source": [
        "\n",
        "\n",
        "4. Check if an element exists in a set."
      ],
      "metadata": {
        "id": "A7fpeRYJVo2d"
      },
      "id": "A7fpeRYJVo2d"
    },
    {
      "cell_type": "code",
      "source": [
        "element=int(input(\"enter an element : \"))\n",
        "if element in s1:\n",
        "  print(f\"{element } exist in {s1}\")\n",
        "else:\n",
        "  print(f\"{element } does't exist in {s1}\")\n"
      ],
      "metadata": {
        "colab": {
          "base_uri": "https://localhost:8080/"
        },
        "id": "mD1mg04WW73O",
        "outputId": "1ffdd466-e9be-4110-ff7b-13f57df1032d"
      },
      "id": "mD1mg04WW73O",
      "execution_count": null,
      "outputs": [
        {
          "output_type": "stream",
          "name": "stdout",
          "text": [
            "enter an element to remove : 9\n",
            "9 does't exist in {1, 2, 3, 4, 5}\n"
          ]
        }
      ]
    },
    {
      "cell_type": "markdown",
      "source": [
        "5. Find the length of a set without using the `len()` function.\n"
      ],
      "metadata": {
        "id": "RHsIJoArXIR3"
      },
      "id": "RHsIJoArXIR3"
    },
    {
      "cell_type": "code",
      "source": [
        "length=0\n",
        "for i in s1:\n",
        "  length+=1\n",
        "print(f\"length of {s1} is {length}\")"
      ],
      "metadata": {
        "colab": {
          "base_uri": "https://localhost:8080/"
        },
        "id": "pRqu1BnCXPa5",
        "outputId": "5332ee65-66ff-403d-dbb5-aeb18c546b83"
      },
      "id": "pRqu1BnCXPa5",
      "execution_count": null,
      "outputs": [
        {
          "output_type": "stream",
          "name": "stdout",
          "text": [
            "length of {1, 2, 3, 4, 5} is 5\n"
          ]
        }
      ]
    },
    {
      "cell_type": "markdown",
      "source": [
        "6. Clear all elements from a set."
      ],
      "metadata": {
        "id": "tDGprytOXONU"
      },
      "id": "tDGprytOXONU"
    },
    {
      "cell_type": "code",
      "source": [
        "print(f\"the set is : {s1}\")\n",
        "s1.clear()\n",
        "print(f\"after clearing the set is : {s1}\")"
      ],
      "metadata": {
        "colab": {
          "base_uri": "https://localhost:8080/"
        },
        "id": "sV5KZfpcYAKn",
        "outputId": "9b304376-5c75-4e25-e1a6-01618b7fd01c"
      },
      "id": "sV5KZfpcYAKn",
      "execution_count": null,
      "outputs": [
        {
          "output_type": "stream",
          "name": "stdout",
          "text": [
            "the set is : {1, 2, 3, 4, 5}\n",
            "after clearing the set is : set()\n"
          ]
        }
      ]
    },
    {
      "cell_type": "markdown",
      "source": [
        "7. Create a set of even numbers from 1 to 10.\n"
      ],
      "metadata": {
        "id": "-0TR8ud1YWUk"
      },
      "id": "-0TR8ud1YWUk"
    },
    {
      "cell_type": "code",
      "source": [
        "even_set={i for i in range(1,11) if i%2==0}\n",
        "print(f\"the even set is {even_set}\")"
      ],
      "metadata": {
        "colab": {
          "base_uri": "https://localhost:8080/"
        },
        "id": "tuvgn6qpYgAA",
        "outputId": "01dd5b07-6762-4d60-b5c3-57128d931f0a"
      },
      "id": "tuvgn6qpYgAA",
      "execution_count": null,
      "outputs": [
        {
          "output_type": "stream",
          "name": "stdout",
          "text": [
            "the even set is {2, 4, 6, 8, 10}\n"
          ]
        }
      ]
    },
    {
      "cell_type": "markdown",
      "source": [
        "8. Create a set of odd numbers from 1 to 10."
      ],
      "metadata": {
        "id": "57MAct0zYbxp"
      },
      "id": "57MAct0zYbxp"
    },
    {
      "cell_type": "code",
      "source": [
        "odd_set={i for i in range(1,11) if i%2!=0}\n",
        "print(f\"the odd set is {odd_set}\")"
      ],
      "metadata": {
        "colab": {
          "base_uri": "https://localhost:8080/"
        },
        "id": "8ue01pRdYxAJ",
        "outputId": "867adf7a-b7d4-45dd-da62-6286eb7b7a47"
      },
      "id": "8ue01pRdYxAJ",
      "execution_count": null,
      "outputs": [
        {
          "output_type": "stream",
          "name": "stdout",
          "text": [
            "the odd set is {1, 3, 5, 7, 9}\n"
          ]
        }
      ]
    },
    {
      "cell_type": "markdown",
      "source": [
        "9. Find the union of two sets."
      ],
      "metadata": {
        "id": "upcjU1snZBk7"
      },
      "id": "upcjU1snZBk7"
    },
    {
      "cell_type": "code",
      "source": [
        "import random\n",
        "s1=set(random.randint(1,20) for _ in range(5))\n",
        "print(f\"the first set is {s1}\")\n",
        "s2=set(random.randint(1,20) for _ in range(5))\n",
        "print(f\"the second set is {s2}\")\n",
        "union_set=s1.union(s2)\n",
        "print(f\"union of {s1} and {s2} is {union_set}\")"
      ],
      "metadata": {
        "colab": {
          "base_uri": "https://localhost:8080/"
        },
        "id": "mTQE7lVqZChJ",
        "outputId": "c33e1d5c-ab63-4de6-b29b-92fc8ed1d5d0"
      },
      "id": "mTQE7lVqZChJ",
      "execution_count": null,
      "outputs": [
        {
          "output_type": "stream",
          "name": "stdout",
          "text": [
            "the first set is {2, 3, 14, 15, 17}\n",
            "the second set is {8, 2, 3, 4}\n",
            "union of {2, 3, 14, 15, 17} and {8, 2, 3, 4} is {2, 3, 4, 8, 14, 15, 17}\n"
          ]
        }
      ]
    },
    {
      "cell_type": "markdown",
      "source": [
        "10. Find the intersection of two sets."
      ],
      "metadata": {
        "id": "K3FeNwB4auWF"
      },
      "id": "K3FeNwB4auWF"
    },
    {
      "cell_type": "code",
      "source": [
        "import random\n",
        "s1=set(random.randint(1,20) for _ in range(5))\n",
        "print(f\"the first set is {s1}\")\n",
        "s2=set(random.randint(1,20) for _ in range(5))\n",
        "print(f\"the second set is {s2}\")\n",
        "inter_set=s1.intersection(s2)\n",
        "print(f\"intersection of {s1} and {s2} is {inter_set}\")"
      ],
      "metadata": {
        "colab": {
          "base_uri": "https://localhost:8080/"
        },
        "id": "d-ZOb0D-aq5-",
        "outputId": "f4ff1b3d-8d7a-4710-adcb-c948ff085c35"
      },
      "id": "d-ZOb0D-aq5-",
      "execution_count": null,
      "outputs": [
        {
          "output_type": "stream",
          "name": "stdout",
          "text": [
            "the first set is {1, 7, 11, 16, 18}\n",
            "the second set is {2, 11, 20, 12}\n",
            "intersection of {1, 7, 11, 16, 18} and {2, 11, 20, 12} is {11}\n"
          ]
        }
      ]
    },
    {
      "cell_type": "markdown",
      "source": [
        "11. Find the difference between two sets."
      ],
      "metadata": {
        "id": "I9og2sJCY_OF"
      },
      "id": "I9og2sJCY_OF"
    },
    {
      "cell_type": "code",
      "source": [
        "import random\n",
        "s1=set(random.randint(1,20) for _ in range(5))\n",
        "print(f\"the first set is {s1}\")\n",
        "s2=set(random.randint(1,20) for _ in range(5))\n",
        "print(f\"the second set is {s2}\")\n",
        "differ_set=s1.difference(s2)\n",
        "print(f\"difference of {s1} and {s2} (s1-s2) is {differ_set}\")"
      ],
      "metadata": {
        "colab": {
          "base_uri": "https://localhost:8080/"
        },
        "id": "EZbxSYIcbDrW",
        "outputId": "e1cb23cb-a85f-44a4-fbfd-1f4884aac6ef"
      },
      "id": "EZbxSYIcbDrW",
      "execution_count": null,
      "outputs": [
        {
          "output_type": "stream",
          "name": "stdout",
          "text": [
            "the first set is {16, 19, 20, 14}\n",
            "the second set is {18, 19, 20, 12}\n",
            "difference of {16, 19, 20, 14} and {18, 19, 20, 12} (s1-s2) is {16, 14}\n"
          ]
        }
      ]
    },
    {
      "cell_type": "markdown",
      "source": [
        "12. Check if a set is a subset of another set."
      ],
      "metadata": {
        "id": "Sggf9grpbr92"
      },
      "id": "Sggf9grpbr92"
    },
    {
      "cell_type": "code",
      "source": [
        "import random\n",
        "s1=set(random.randint(1,20) for _ in range(5))\n",
        "print(f\"the first set is {s1}\")\n",
        "s2=set(random.randint(1,20) for _ in range(5))\n",
        "print(f\"the second set is {s2}\")\n",
        "if s1.issubset(s2):\n",
        "  print(f\"{s1} is a subset of {s2}\")\n",
        "else:\n",
        "  print(f\"{s1} is not a subset of {s2}\")"
      ],
      "metadata": {
        "colab": {
          "base_uri": "https://localhost:8080/"
        },
        "id": "gXXWoXo6btNR",
        "outputId": "32052d57-8e68-4a54-d06c-a8e46f8777d8"
      },
      "id": "gXXWoXo6btNR",
      "execution_count": null,
      "outputs": [
        {
          "output_type": "stream",
          "name": "stdout",
          "text": [
            "the first set is {1, 2, 6, 9, 12}\n",
            "the second set is {1, 3, 6, 9, 16}\n",
            "{1, 2, 6, 9, 12} is not a subset of {1, 3, 6, 9, 16}\n"
          ]
        }
      ]
    },
    {
      "cell_type": "markdown",
      "source": [
        "\n",
        "13. Check if a set is a superset of another set."
      ],
      "metadata": {
        "id": "F826UTbDbk8Z"
      },
      "id": "F826UTbDbk8Z"
    },
    {
      "cell_type": "code",
      "source": [
        "import random\n",
        "s1=set(random.randint(1,20) for _ in range(5))\n",
        "print(f\"the first set is {s1}\")\n",
        "s2=set(random.randint(1,20) for _ in range(5))\n",
        "print(f\"the second set is {s2}\")\n",
        "if s1.issuperset(s2):\n",
        "  print(f\"{s1} is a superset of {s2}\")\n",
        "else:\n",
        "  print(f\"{s1} is not a superset of {s2}\")"
      ],
      "metadata": {
        "colab": {
          "base_uri": "https://localhost:8080/"
        },
        "id": "KlWb79dgcLwn",
        "outputId": "ab94476b-e4bd-4d78-dae3-4d3a57d894cb"
      },
      "id": "KlWb79dgcLwn",
      "execution_count": null,
      "outputs": [
        {
          "output_type": "stream",
          "name": "stdout",
          "text": [
            "the first set is {8, 14, 15}\n",
            "the second set is {8, 1, 2, 3}\n",
            "{8, 14, 15} is not a superset of {8, 1, 2, 3}\n"
          ]
        }
      ]
    },
    {
      "cell_type": "markdown",
      "source": [
        "14. Create a set from a list."
      ],
      "metadata": {
        "id": "RI0Lkn8dctLJ"
      },
      "id": "RI0Lkn8dctLJ"
    },
    {
      "cell_type": "code",
      "source": [
        "import random\n",
        "l1=[random.randint(1,20) for _ in range(10)]\n",
        "print(f\"the list is {l1}\")\n",
        "s1=set(l1)\n",
        "print(f\"the equivalent set is {s1}\")"
      ],
      "metadata": {
        "colab": {
          "base_uri": "https://localhost:8080/"
        },
        "id": "KNLj59p_cxxH",
        "outputId": "74d4e00d-0b9f-4b79-e364-e960d8a98116"
      },
      "id": "KNLj59p_cxxH",
      "execution_count": null,
      "outputs": [
        {
          "output_type": "stream",
          "name": "stdout",
          "text": [
            "the list is [8, 15, 19, 7, 12, 7, 16, 19, 9, 3]\n",
            "the equivalent set is {3, 7, 8, 9, 12, 15, 16, 19}\n"
          ]
        }
      ]
    },
    {
      "cell_type": "markdown",
      "source": [
        "\n",
        "15. Convert a set to a list."
      ],
      "metadata": {
        "id": "5g1NhVBycsxQ"
      },
      "id": "5g1NhVBycsxQ"
    },
    {
      "cell_type": "code",
      "source": [
        "import random\n",
        "s1=set(random.randint(1,20) for _ in range(5))\n",
        "print(f\"the set is {s1}\")\n",
        "l1=list(s1)\n",
        "print(f\"the equivalent list is {l1}\")"
      ],
      "metadata": {
        "colab": {
          "base_uri": "https://localhost:8080/"
        },
        "id": "BBCACXTndQoG",
        "outputId": "f056e99f-1321-49e0-f8b2-d79718554546"
      },
      "id": "BBCACXTndQoG",
      "execution_count": null,
      "outputs": [
        {
          "output_type": "stream",
          "name": "stdout",
          "text": [
            "the set is {1, 3, 5, 18, 20}\n",
            "the equivalent list is [1, 3, 5, 18, 20]\n"
          ]
        }
      ]
    },
    {
      "cell_type": "markdown",
      "source": [
        "16. Remove a random element from a set."
      ],
      "metadata": {
        "id": "2wr0tF6Od1f4"
      },
      "id": "2wr0tF6Od1f4"
    },
    {
      "cell_type": "code",
      "source": [
        "import random\n",
        "s1=set(random.randint(1,20) for _ in range(5))\n",
        "print(f\"the set is {s1}\")\n",
        "random_element=random.randint(1,20)\n",
        "if random_element in s1:\n",
        "  s1.remove(random_element)\n",
        "  print(f\"the set after removing {random_element} is {s1}\")\n",
        "else:\n",
        "  print(f\"{random_element} does n't exist in set\")"
      ],
      "metadata": {
        "colab": {
          "base_uri": "https://localhost:8080/"
        },
        "id": "r84dV0CTd3U_",
        "outputId": "83cb600a-6d1a-4117-f5dc-39a3c3a72fb3"
      },
      "id": "r84dV0CTd3U_",
      "execution_count": null,
      "outputs": [
        {
          "output_type": "stream",
          "name": "stdout",
          "text": [
            "the set is {2, 10, 11, 14, 17}\n",
            "the set after removing 17 is {2, 10, 11, 14}\n"
          ]
        }
      ]
    },
    {
      "cell_type": "markdown",
      "source": [
        "\n",
        "17. Pop an element from a set."
      ],
      "metadata": {
        "id": "10YX5_xQdPRO"
      },
      "id": "10YX5_xQdPRO"
    },
    {
      "cell_type": "code",
      "source": [
        "import random\n",
        "s1=set(random.randint(1,20) for _ in range(5))\n",
        "print(f\"the set is {s1}\")\n",
        "if len(s1)>0:\n",
        "  s1.pop()\n",
        "  print(f\"the set after pop is {s1}\")\n",
        "else:\n",
        "  print(f\"the set {s1} is empty\")\n"
      ],
      "metadata": {
        "colab": {
          "base_uri": "https://localhost:8080/"
        },
        "id": "3i4m_gI-fLcm",
        "outputId": "e7b9e336-1e8a-42c0-bb0b-c8cde6ecf51c"
      },
      "id": "3i4m_gI-fLcm",
      "execution_count": null,
      "outputs": [
        {
          "output_type": "stream",
          "name": "stdout",
          "text": [
            "the set is {7, 10, 12, 18, 19}\n",
            "the set after pop is {10, 12, 18, 19}\n"
          ]
        }
      ]
    },
    {
      "cell_type": "markdown",
      "source": [
        "18. Check if two sets have no elements in common."
      ],
      "metadata": {
        "id": "YtFdF877gawK"
      },
      "id": "YtFdF877gawK"
    },
    {
      "cell_type": "code",
      "source": [
        "import random\n",
        "s1=set(random.randint(1,20) for _ in range(5))\n",
        "print(f\"the first set is {s1}\")\n",
        "s2=set(random.randint(1,20) for _ in range(5))\n",
        "print(f\"the second set is {s2}\")\n",
        "inter_set=s1.intersection(s2)\n",
        "if len(inter_set)>0:\n",
        "  print(f\"the sets {s1} and {s2} have common elements {inter_set}\")\n",
        "else:\n",
        "  print(f\"the sets {s1} and {s2} have  no common elements\")"
      ],
      "metadata": {
        "colab": {
          "base_uri": "https://localhost:8080/"
        },
        "id": "RQRjqFumgcCL",
        "outputId": "bf4b3096-e6fc-4766-d5a9-c9880f82515e"
      },
      "id": "RQRjqFumgcCL",
      "execution_count": null,
      "outputs": [
        {
          "output_type": "stream",
          "name": "stdout",
          "text": [
            "the first set is {19, 15, 14, 6}\n",
            "the second set is {3, 16, 17, 18, 20}\n",
            "the sets {19, 15, 14, 6} and {3, 16, 17, 18, 20} have  no common elements\n"
          ]
        }
      ]
    },
    {
      "cell_type": "markdown",
      "source": [
        "\n",
        "19. Find the symmetric difference between two sets."
      ],
      "metadata": {
        "id": "wPIzJAK3gVU_"
      },
      "id": "wPIzJAK3gVU_"
    },
    {
      "cell_type": "code",
      "source": [
        "import random\n",
        "s1=set(random.randint(1,20) for _ in range(5))\n",
        "print(f\"the first set is {s1}\")\n",
        "s2=set(random.randint(1,20) for _ in range(5))\n",
        "print(f\"the second set is {s2}\")\n",
        "differ_set=s1.symmetric_difference(s2)\n",
        "print(f\"symmertic difference of {s1} and {s2} is {differ_set}\")"
      ],
      "metadata": {
        "colab": {
          "base_uri": "https://localhost:8080/"
        },
        "id": "VwdTCR4IhMgU",
        "outputId": "1b59e06b-06b3-4993-ec8a-f00e572c0ece"
      },
      "id": "VwdTCR4IhMgU",
      "execution_count": null,
      "outputs": [
        {
          "output_type": "stream",
          "name": "stdout",
          "text": [
            "the first set is {16, 17, 18, 12}\n",
            "the second set is {11, 19, 7, 15}\n",
            "symmertic difference of {16, 17, 18, 12} and {11, 19, 7, 15} is {7, 11, 12, 15, 16, 17, 18, 19}\n"
          ]
        }
      ]
    },
    {
      "cell_type": "markdown",
      "source": [
        "20. Update a set with elements from another set."
      ],
      "metadata": {
        "id": "grlyi5OHhyyA"
      },
      "id": "grlyi5OHhyyA"
    },
    {
      "cell_type": "code",
      "source": [
        "import random\n",
        "s1=set(random.randint(1,20) for _ in range(5))\n",
        "print(f\"the first set is {s1}\")\n",
        "s2=set(random.randint(1,20) for _ in range(5))\n",
        "print(f\"the second set is {s2}\")\n",
        "s1.update(s2)\n",
        "print(f\"after update the set is  {s1}\")"
      ],
      "metadata": {
        "colab": {
          "base_uri": "https://localhost:8080/"
        },
        "id": "JB64zHuHhz7-",
        "outputId": "4cb2528e-d3c3-4024-8682-711e0dd480e9"
      },
      "id": "JB64zHuHhz7-",
      "execution_count": null,
      "outputs": [
        {
          "output_type": "stream",
          "name": "stdout",
          "text": [
            "the first set is {8, 2, 3, 20}\n",
            "the second set is {8, 9, 12, 14}\n",
            "after update the set is  {2, 3, 8, 9, 12, 14, 20}\n"
          ]
        }
      ]
    },
    {
      "cell_type": "markdown",
      "source": [
        "21. Create a set of the first 5 prime numbers."
      ],
      "metadata": {
        "id": "y0NDJ_NXit_G"
      },
      "id": "y0NDJ_NXit_G"
    },
    {
      "cell_type": "code",
      "source": [
        "count=0\n",
        "num=2\n",
        "prime_set=set()\n",
        "while count < 5:\n",
        "    is_prime = True\n",
        "    for i in range(2, num//2 + 1):\n",
        "        if num % i == 0:\n",
        "            is_prime = False\n",
        "            break\n",
        "    if is_prime:\n",
        "        prime_set.add(num)\n",
        "        count += 1\n",
        "    num += 1\n",
        "print(f\"prime numbers : {prime_set}\")"
      ],
      "metadata": {
        "colab": {
          "base_uri": "https://localhost:8080/"
        },
        "id": "PmQPfhgviwGj",
        "outputId": "3760b0bd-0d77-4791-fb16-de09f5902595"
      },
      "id": "PmQPfhgviwGj",
      "execution_count": null,
      "outputs": [
        {
          "output_type": "stream",
          "name": "stdout",
          "text": [
            "prime numbers : {2, 3, 5, 7, 11}\n"
          ]
        }
      ]
    },
    {
      "cell_type": "markdown",
      "source": [
        "22. Check if two sets are identical."
      ],
      "metadata": {
        "id": "eOrs-G-Tj13t"
      },
      "id": "eOrs-G-Tj13t"
    },
    {
      "cell_type": "code",
      "source": [
        "import random\n",
        "s1=set(random.randint(1,20) for _ in range(5))\n",
        "print(f\"the first set is {s1}\")\n",
        "s2=set(random.randint(1,20) for _ in range(5))\n",
        "print(f\"the second set is {s2}\")\n",
        "if s1==s2:\n",
        "  print(f\"{s1} and {s2} are identical\")\n",
        "else:\n",
        "  print(f\"{s1} and {s2} are not identical\")"
      ],
      "metadata": {
        "colab": {
          "base_uri": "https://localhost:8080/"
        },
        "id": "Nxw7sfJVj3dw",
        "outputId": "716ae8a8-40a9-4184-ca1d-26e080bf825d"
      },
      "id": "Nxw7sfJVj3dw",
      "execution_count": null,
      "outputs": [
        {
          "output_type": "stream",
          "name": "stdout",
          "text": [
            "the first set is {1, 5, 6, 13, 19}\n",
            "the second set is {3, 4, 6}\n",
            "{1, 5, 6, 13, 19} and {3, 4, 6} are not identical\n"
          ]
        }
      ]
    },
    {
      "cell_type": "markdown",
      "source": [
        "23. Create a frozen set."
      ],
      "metadata": {
        "id": "8tVT-oBZkdzP"
      },
      "id": "8tVT-oBZkdzP"
    },
    {
      "cell_type": "code",
      "source": [
        "import random\n",
        "s1=set(random.randint(1,20) for _ in range(5))\n",
        "print(f\"the set is {s1}\")\n",
        "frozen_s1=frozenset(s1)\n",
        "print(f\"its frozen set is {frozen_s1}\")\n"
      ],
      "metadata": {
        "colab": {
          "base_uri": "https://localhost:8080/"
        },
        "id": "5GH8ew5Tke3J",
        "outputId": "4ca40fab-ae20-473e-fbda-9f764ba1f652"
      },
      "id": "5GH8ew5Tke3J",
      "execution_count": null,
      "outputs": [
        {
          "output_type": "stream",
          "name": "stdout",
          "text": [
            "the set is {3, 9, 10, 13, 14}\n",
            "its frozen set is frozenset({3, 9, 10, 13, 14})\n"
          ]
        }
      ]
    },
    {
      "cell_type": "markdown",
      "source": [
        "24. Check if a set is disjoint with another set."
      ],
      "metadata": {
        "id": "JE2pjqZBka3j"
      },
      "id": "JE2pjqZBka3j"
    },
    {
      "cell_type": "code",
      "source": [
        "import random\n",
        "s1=set(random.randint(1,20) for _ in range(5))\n",
        "print(f\"the first set is {s1}\")\n",
        "s2=set(random.randint(1,40) for _ in range(5))\n",
        "print(f\"the second set is {s2}\")\n",
        "if s1.isdisjoint(s2):\n",
        "  print(f\"{s1} and {s2} are disjoint\")\n",
        "else:\n",
        "  print(f\"{s1} and {s2} are not disjoint\")"
      ],
      "metadata": {
        "colab": {
          "base_uri": "https://localhost:8080/"
        },
        "id": "qZLMmuq5jRxK",
        "outputId": "e7b758c8-211c-4471-8e63-f5e0e41d80b2"
      },
      "id": "qZLMmuq5jRxK",
      "execution_count": 8,
      "outputs": [
        {
          "output_type": "stream",
          "name": "stdout",
          "text": [
            "the first set is {17, 13, 14, 7}\n",
            "the second set is {10, 11, 19, 22, 31}\n",
            "{17, 13, 14, 7} and {10, 11, 19, 22, 31} are disjoint\n"
          ]
        }
      ]
    },
    {
      "cell_type": "markdown",
      "source": [
        "25. Create a set of squares of numbers from 1 to 5."
      ],
      "metadata": {
        "id": "UeS5BacxkGuD"
      },
      "id": "UeS5BacxkGuD"
    },
    {
      "cell_type": "code",
      "source": [
        "s1={i**2 for i in range(1,6)}\n",
        "print(f\"the set is {s1}\")"
      ],
      "metadata": {
        "colab": {
          "base_uri": "https://localhost:8080/"
        },
        "id": "6Q23wYDskLJb",
        "outputId": "5d7560de-ef11-41ff-aa23-bb60b0e7f831"
      },
      "id": "6Q23wYDskLJb",
      "execution_count": 9,
      "outputs": [
        {
          "output_type": "stream",
          "name": "stdout",
          "text": [
            "the set is {1, 4, 9, 16, 25}\n"
          ]
        }
      ]
    },
    {
      "cell_type": "markdown",
      "source": [
        "26. Filter out all even numbers from a set."
      ],
      "metadata": {
        "id": "eaHx2dlSkYzF"
      },
      "id": "eaHx2dlSkYzF"
    },
    {
      "cell_type": "code",
      "source": [
        "import random\n",
        "s1=set(random.randint(1,20) for _ in range(10))\n",
        "print(f\"the set is {s1}\")\n",
        "s1={i for i in s1 if i%2==0}\n",
        "print(f\"the even set is {s1}\")"
      ],
      "metadata": {
        "colab": {
          "base_uri": "https://localhost:8080/"
        },
        "id": "RqAVyiy9ka2d",
        "outputId": "40ba5960-8610-4688-b010-26ca747fc82a"
      },
      "id": "RqAVyiy9ka2d",
      "execution_count": 12,
      "outputs": [
        {
          "output_type": "stream",
          "name": "stdout",
          "text": [
            "the set is {1, 3, 5, 11, 12, 15, 16, 18}\n",
            "the even set is {16, 18, 12}\n"
          ]
        }
      ]
    },
    {
      "cell_type": "markdown",
      "source": [
        "27. Multiply all elements in a set by 2."
      ],
      "metadata": {
        "id": "6Vnl-0otouJG"
      },
      "id": "6Vnl-0otouJG"
    },
    {
      "cell_type": "code",
      "source": [
        "import random\n",
        "s1=set(random.randint(1,20) for _ in range(10))\n",
        "print(f\"the set is {s1}\")\n",
        "s1={i*2 for i in s1}\n",
        "print(f\"the set after multiplying by to is {s1}\")"
      ],
      "metadata": {
        "colab": {
          "base_uri": "https://localhost:8080/"
        },
        "id": "gTHKb_doovVb",
        "outputId": "2fa1e315-2172-4168-edee-1d753f7160de"
      },
      "id": "gTHKb_doovVb",
      "execution_count": 14,
      "outputs": [
        {
          "output_type": "stream",
          "name": "stdout",
          "text": [
            "the set is {1, 2, 6, 9, 12, 14, 15, 16, 17, 18}\n",
            "the set after multiplying by to is {32, 2, 34, 4, 36, 12, 18, 24, 28, 30}\n"
          ]
        }
      ]
    },
    {
      "cell_type": "markdown",
      "source": [
        "28. Create a set of random numbers."
      ],
      "metadata": {
        "id": "jXqsMel9pmba"
      },
      "id": "jXqsMel9pmba"
    },
    {
      "cell_type": "code",
      "source": [
        "import random\n",
        "s1=set(random.randint(1,20) for _ in range(10))\n",
        "print(f\"the set is {s1}\")"
      ],
      "metadata": {
        "colab": {
          "base_uri": "https://localhost:8080/"
        },
        "id": "GPzNE-PSpncD",
        "outputId": "6338139a-1986-411f-915b-c503c04cfd12"
      },
      "id": "GPzNE-PSpncD",
      "execution_count": 16,
      "outputs": [
        {
          "output_type": "stream",
          "name": "stdout",
          "text": [
            "the set is {3, 5, 6, 9, 15, 16, 18, 19}\n"
          ]
        }
      ]
    },
    {
      "cell_type": "markdown",
      "source": [
        "29. Check if a set is empty."
      ],
      "metadata": {
        "id": "5jyOJBA6pxuC"
      },
      "id": "5jyOJBA6pxuC"
    },
    {
      "cell_type": "code",
      "source": [
        "import random\n",
        "s1=set(random.randint(1,20) for _ in range(random.randint(0,5)))\n",
        "print(f\"the set is {s1}\")\n",
        "if len(s1)==0:\n",
        "  print(\"the set is empty\")\n",
        "else:\n",
        "  print(\"the set is not empty\")"
      ],
      "metadata": {
        "colab": {
          "base_uri": "https://localhost:8080/"
        },
        "id": "9vH2aL8EpyqT",
        "outputId": "b6351f10-6180-4d69-9d75-3cee4cc8b09b"
      },
      "id": "9vH2aL8EpyqT",
      "execution_count": 22,
      "outputs": [
        {
          "output_type": "stream",
          "name": "stdout",
          "text": [
            "the set is {4}\n",
            "the set is not empty\n"
          ]
        }
      ]
    },
    {
      "cell_type": "markdown",
      "source": [
        "30. Create a nested set (hint: use frozenset)."
      ],
      "metadata": {
        "id": "mpRzgFm0qe-b"
      },
      "id": "mpRzgFm0qe-b"
    },
    {
      "cell_type": "code",
      "source": [
        "inner_set1 = frozenset({1, 2, 3})\n",
        "inner_set2 = frozenset({4, 5, 6})\n",
        "inner_set3 = frozenset({7, 8, 9})\n",
        "\n",
        "nested_set = frozenset({inner_set1, inner_set2, inner_set3})\n",
        "print(f\"the nested set is {nested_set}\")"
      ],
      "metadata": {
        "colab": {
          "base_uri": "https://localhost:8080/"
        },
        "id": "TIn7XJVVqgeb",
        "outputId": "ab075d7f-38e0-4eb9-a112-a4720217be83"
      },
      "id": "TIn7XJVVqgeb",
      "execution_count": 23,
      "outputs": [
        {
          "output_type": "stream",
          "name": "stdout",
          "text": [
            "the nested set is frozenset({frozenset({1, 2, 3}), frozenset({4, 5, 6}), frozenset({8, 9, 7})})\n"
          ]
        }
      ]
    },
    {
      "cell_type": "markdown",
      "source": [
        "31. Remove an element from a set using the discard method."
      ],
      "metadata": {
        "id": "CiroamTBrDca"
      },
      "id": "CiroamTBrDca"
    },
    {
      "cell_type": "code",
      "source": [
        "import random\n",
        "s1=set(random.randint(1,20) for _ in range(random.randint(0,5)))\n",
        "print(f\"the set is {s1}\")\n",
        "element=int(input(\"enter an element to remove : \"))\n",
        "s1.discard(element)\n",
        "print(f\"after dicarding {element} the set is {s1}\")"
      ],
      "metadata": {
        "colab": {
          "base_uri": "https://localhost:8080/"
        },
        "id": "q_Kl15ZsrES0",
        "outputId": "0d6e96d3-395a-4902-bf23-e2b907540fe9"
      },
      "id": "q_Kl15ZsrES0",
      "execution_count": 25,
      "outputs": [
        {
          "output_type": "stream",
          "name": "stdout",
          "text": [
            "the set is {16, 13, 6}\n",
            "enter an element to remove : 6\n",
            "after dicarding 6 the set is {16, 13}\n"
          ]
        }
      ]
    },
    {
      "cell_type": "markdown",
      "source": [
        "32. Compare two sets."
      ],
      "metadata": {
        "id": "wWtOfuwdrn2D"
      },
      "id": "wWtOfuwdrn2D"
    },
    {
      "cell_type": "code",
      "source": [
        "import random\n",
        "s1=set(random.randint(1,20) for _ in range(5))\n",
        "print(f\"the first set is {s1}\")\n",
        "s2=set(random.randint(1,20) for _ in range(5))\n",
        "print(f\"the second set is {s2}\")\n",
        "if s1==s2:\n",
        "  print(f\"{s1} and {s2} are identical\")\n",
        "else:\n",
        "  print(f\"{s1} and {s2} are not identical\")"
      ],
      "metadata": {
        "colab": {
          "base_uri": "https://localhost:8080/"
        },
        "id": "byiFDOieros7",
        "outputId": "ec552c8e-d8fc-4bd7-8406-f52e998dfa12"
      },
      "id": "byiFDOieros7",
      "execution_count": 26,
      "outputs": [
        {
          "output_type": "stream",
          "name": "stdout",
          "text": [
            "the first set is {1, 9, 12, 16, 18}\n",
            "the second set is {1, 5, 6, 11, 18}\n",
            "{1, 9, 12, 16, 18} and {1, 5, 6, 11, 18} are not identical\n"
          ]
        }
      ]
    },
    {
      "cell_type": "markdown",
      "source": [
        "33. Create a set from a string."
      ],
      "metadata": {
        "id": "IKFa-xd_rzE7"
      },
      "id": "IKFa-xd_rzE7"
    },
    {
      "cell_type": "code",
      "source": [
        "string1=input(\"enter a string : \")\n",
        "s1={i for i in string1}\n",
        "print(f\"the set is {s1}\")"
      ],
      "metadata": {
        "colab": {
          "base_uri": "https://localhost:8080/"
        },
        "id": "zh9shfPVr0Yj",
        "outputId": "5df3b52c-9ef1-403c-aa2b-f31b68260e56"
      },
      "id": "zh9shfPVr0Yj",
      "execution_count": 27,
      "outputs": [
        {
          "output_type": "stream",
          "name": "stdout",
          "text": [
            "enter a string : Good Morning\n",
            "the set is {'d', 'M', ' ', 'G', 'i', 'r', 'g', 'o', 'n'}\n"
          ]
        }
      ]
    },
    {
      "cell_type": "markdown",
      "source": [
        "34. Convert a set of strings to a set of integers."
      ],
      "metadata": {
        "id": "Dqj3bxU1sQEd"
      },
      "id": "Dqj3bxU1sQEd"
    },
    {
      "cell_type": "code",
      "source": [
        "string1=\"12345\"\n",
        "s1={i for i in string1}\n",
        "print(f\"the string set is {s1}\")\n",
        "int_s1={int(i) for i in s1}\n",
        "print(f\"the integer set is {int_s1}\")"
      ],
      "metadata": {
        "colab": {
          "base_uri": "https://localhost:8080/"
        },
        "id": "H_ad2Aw_sR9c",
        "outputId": "3095cc02-1152-4998-867c-e14f03220d6b"
      },
      "id": "H_ad2Aw_sR9c",
      "execution_count": 28,
      "outputs": [
        {
          "output_type": "stream",
          "name": "stdout",
          "text": [
            "the string set is {'3', '4', '1', '2', '5'}\n",
            "the integer set is {1, 2, 3, 4, 5}\n"
          ]
        }
      ]
    },
    {
      "cell_type": "markdown",
      "source": [
        "35. Convert a set of integers to a set of strings."
      ],
      "metadata": {
        "id": "kjNg-O6ks0aR"
      },
      "id": "kjNg-O6ks0aR"
    },
    {
      "cell_type": "code",
      "source": [
        "import random\n",
        "s1=set(random.randint(1,20) for _ in range(5))\n",
        "print(f\"the integer set is {s1}\")\n",
        "str_s1={str(i) for i in s1}\n",
        "print(f\"the string set is {str_s1}\")"
      ],
      "metadata": {
        "colab": {
          "base_uri": "https://localhost:8080/"
        },
        "id": "P2DImeZbs2sK",
        "outputId": "c7d4b196-753b-4917-97d4-cb3b51dc3874"
      },
      "id": "P2DImeZbs2sK",
      "execution_count": 29,
      "outputs": [
        {
          "output_type": "stream",
          "name": "stdout",
          "text": [
            "the integer set is {16, 19, 11, 15}\n",
            "the string set is {'19', '15', '11', '16'}\n"
          ]
        }
      ]
    },
    {
      "cell_type": "markdown",
      "source": [
        "36. Create a set from a tuple."
      ],
      "metadata": {
        "id": "8ORwqbO0tHqy"
      },
      "id": "8ORwqbO0tHqy"
    },
    {
      "cell_type": "code",
      "source": [
        "import random\n",
        "t1=tuple(random.randint(1,20) for _ in range(10))\n",
        "print(f\"the tuple is {t1}\")\n",
        "s1=set(t1)\n",
        "print(f\"the equivalent set is {s1}\")"
      ],
      "metadata": {
        "colab": {
          "base_uri": "https://localhost:8080/"
        },
        "id": "WCpOD2Q0tIla",
        "outputId": "a7eb24d4-8a2d-454d-9790-34d99007c978"
      },
      "id": "WCpOD2Q0tIla",
      "execution_count": 31,
      "outputs": [
        {
          "output_type": "stream",
          "name": "stdout",
          "text": [
            "the tuple is (5, 7, 20, 17, 19, 2, 11, 1, 10, 11)\n",
            "the equivalent set is {1, 2, 5, 7, 10, 11, 17, 19, 20}\n"
          ]
        }
      ]
    },
    {
      "cell_type": "markdown",
      "source": [
        "37. Convert a set to a tuple."
      ],
      "metadata": {
        "id": "xEIqQi-1tMsp"
      },
      "id": "xEIqQi-1tMsp"
    },
    {
      "cell_type": "code",
      "source": [
        "import random\n",
        "s1=set(random.randint(1,20) for _ in range(5))\n",
        "print(f\"the set is {s1}\")\n",
        "t1=tuple(s1)\n",
        "print(f\"the equivalent tuple is {t1}\")"
      ],
      "metadata": {
        "colab": {
          "base_uri": "https://localhost:8080/"
        },
        "id": "JgW-SwYjtjHC",
        "outputId": "e63b6eda-d26f-433d-a292-c05b7c1c2265"
      },
      "id": "JgW-SwYjtjHC",
      "execution_count": 32,
      "outputs": [
        {
          "output_type": "stream",
          "name": "stdout",
          "text": [
            "the set is {7, 5, 6, 15}\n",
            "the equivalent tuple is (7, 5, 6, 15)\n"
          ]
        }
      ]
    },
    {
      "cell_type": "markdown",
      "source": [
        "38. Find the maximum value in a set."
      ],
      "metadata": {
        "id": "QAR1FiITt0ot"
      },
      "id": "QAR1FiITt0ot"
    },
    {
      "cell_type": "code",
      "source": [
        "import random\n",
        "s1=set(random.randint(1,20) for _ in range(5))\n",
        "print(f\"the set is {s1}\")\n",
        "maxi=max(s1)\n",
        "print(f\"maximum = {maxi}\")"
      ],
      "metadata": {
        "colab": {
          "base_uri": "https://localhost:8080/"
        },
        "id": "TPdouOjwt2Or",
        "outputId": "8b4234b8-85a8-4de9-be84-a0db6f8c8191"
      },
      "id": "TPdouOjwt2Or",
      "execution_count": 33,
      "outputs": [
        {
          "output_type": "stream",
          "name": "stdout",
          "text": [
            "the set is {1, 5, 7, 12, 20}\n",
            "maximum = 20\n"
          ]
        }
      ]
    },
    {
      "cell_type": "markdown",
      "source": [
        "39. Find the minimum value in a set."
      ],
      "metadata": {
        "id": "aBs5x6w9uAqr"
      },
      "id": "aBs5x6w9uAqr"
    },
    {
      "cell_type": "code",
      "source": [
        "import random\n",
        "s1=set(random.randint(1,20) for _ in range(5))\n",
        "print(f\"the set is {s1}\")\n",
        "mini=min(s1)\n",
        "print(f\"minimum = {mini}\")"
      ],
      "metadata": {
        "colab": {
          "base_uri": "https://localhost:8080/"
        },
        "id": "g12FrgHiuFEc",
        "outputId": "5b1dd6bc-0682-4894-8c5d-d05cd6b921fc"
      },
      "id": "g12FrgHiuFEc",
      "execution_count": 34,
      "outputs": [
        {
          "output_type": "stream",
          "name": "stdout",
          "text": [
            "the set is {1, 5, 6, 12, 14}\n",
            "minimum = 1\n"
          ]
        }
      ]
    },
    {
      "cell_type": "markdown",
      "source": [
        "40. Create a set from user input."
      ],
      "metadata": {
        "id": "OE_BHjBQ4Ztl"
      },
      "id": "OE_BHjBQ4Ztl"
    },
    {
      "cell_type": "code",
      "source": [
        "n=int(input(\"enter size of tuple : \"))\n",
        "s1=set()\n",
        "for i in range(n):\n",
        "  element=int(input(f\"enter element-{i+1} : \"))\n",
        "  s1.add(element)\n",
        "print(f\"the set2 is {s1}\")"
      ],
      "metadata": {
        "colab": {
          "base_uri": "https://localhost:8080/"
        },
        "id": "LxRJmWj_4a7c",
        "outputId": "d273bc29-bfa5-448d-98d3-0a3e611b1cf3"
      },
      "id": "LxRJmWj_4a7c",
      "execution_count": 37,
      "outputs": [
        {
          "output_type": "stream",
          "name": "stdout",
          "text": [
            "enter size of tuple : 5\n",
            "enter element-1 : 14\n",
            "enter element-2 : 56\n",
            "enter element-3 : 32\n",
            "enter element-4 : 41\n",
            "enter element-5 : 69\n",
            "the set is {32, 69, 41, 14, 56}\n"
          ]
        }
      ]
    },
    {
      "cell_type": "markdown",
      "source": [
        "41. Check if the intersection of two sets is empty."
      ],
      "metadata": {
        "id": "SxbLNiA85K_F"
      },
      "id": "SxbLNiA85K_F"
    },
    {
      "cell_type": "code",
      "source": [
        "import random\n",
        "s1=set(random.randint(1,20) for _ in range(random.randint(0,5)))\n",
        "print(f\"the first set is {s1}\")\n",
        "s2=set(random.randint(1,20) for _ in range(random.randint(0,5)))\n",
        "print(f\"the second set is {s2}\")\n",
        "inter_set=s1.intersection(s2)\n",
        "if len(inter_set)==0:\n",
        "  print(\"the intersection of two sets is empty\")\n",
        "else:\n",
        "  print(\"the intersection of two sets is not empty\")"
      ],
      "metadata": {
        "colab": {
          "base_uri": "https://localhost:8080/"
        },
        "id": "_d0dCmSG5MBG",
        "outputId": "38d9f0f8-185c-456a-90b6-0d9bd712aef8"
      },
      "id": "_d0dCmSG5MBG",
      "execution_count": 49,
      "outputs": [
        {
          "output_type": "stream",
          "name": "stdout",
          "text": [
            "the first set is {11}\n",
            "the second set is {3, 10, 18, 6}\n",
            "the intersection of two sets is empty\n"
          ]
        }
      ]
    },
    {
      "cell_type": "markdown",
      "source": [
        "42. Create a set of the first 5 Fibonacci numbers."
      ],
      "metadata": {
        "id": "JhvXTp1Q51JP"
      },
      "id": "JhvXTp1Q51JP"
    },
    {
      "cell_type": "code",
      "source": [
        "n=5\n",
        "if n<=0:\n",
        "    print(\"no fibonacci number\")\n",
        "else:\n",
        "    fib=(0,1)\n",
        "    while len(fib)<5:\n",
        "      new=fib[-1]+fib[-2]\n",
        "      fib+=(new,)\n",
        "print(f\"first {n} Fibonacci numbers are : {set(fib)}\")\n"
      ],
      "metadata": {
        "colab": {
          "base_uri": "https://localhost:8080/"
        },
        "id": "rEghOsEEFT4k",
        "outputId": "680f364e-0f01-4636-8811-b6da08d0e14e"
      },
      "id": "rEghOsEEFT4k",
      "execution_count": 61,
      "outputs": [
        {
          "output_type": "stream",
          "name": "stdout",
          "text": [
            "first 5 Fibonacci numbers are : {0, 1, 2, 3}\n"
          ]
        }
      ]
    },
    {
      "cell_type": "markdown",
      "source": [
        "43. Remove duplicates from a list using sets."
      ],
      "metadata": {
        "id": "l3XE5HMa8ZNy"
      },
      "id": "l3XE5HMa8ZNy"
    },
    {
      "cell_type": "code",
      "source": [
        "import random\n",
        "l1=[random.randint(1,10) for _ in range(10)]\n",
        "print(f\"the list is {l1}\")\n",
        "s1=set(l1)\n",
        "print(f\"after removing duplicates, the set is {s1}\")"
      ],
      "metadata": {
        "colab": {
          "base_uri": "https://localhost:8080/"
        },
        "id": "v3VoSjPb8Z3e",
        "outputId": "6dc57dec-9784-4f8e-ca0f-a3a30fb72983"
      },
      "id": "v3VoSjPb8Z3e",
      "execution_count": 63,
      "outputs": [
        {
          "output_type": "stream",
          "name": "stdout",
          "text": [
            "the list is [6, 8, 3, 1, 8, 1, 4, 5, 9, 10]\n",
            "after removing duplicates, the set is {1, 3, 4, 5, 6, 8, 9, 10}\n"
          ]
        }
      ]
    },
    {
      "cell_type": "markdown",
      "source": [
        "44. Check if two sets have the same elements, regardless of their count."
      ],
      "metadata": {
        "id": "EfNAKz37F3ur"
      },
      "id": "EfNAKz37F3ur"
    },
    {
      "cell_type": "code",
      "source": [
        "import random\n",
        "s1=set(random.randint(1,20) for _ in range(random.randint(0,5)))\n",
        "print(f\"the first set is {s1}\")\n",
        "s2=set(random.randint(1,20) for _ in range(random.randint(0,5)))\n",
        "print(f\"the second set is {s2}\")\n",
        "inter_set=s1.intersection(s2)\n",
        "if s1==s2:\n",
        "  print(\"the two sets have the same elements\")\n",
        "else:\n",
        "  print(\"the two sets not have the same elements\")"
      ],
      "metadata": {
        "colab": {
          "base_uri": "https://localhost:8080/"
        },
        "id": "DwhkgK_fF62n",
        "outputId": "e764b270-d76e-48e3-8747-775c5ffb9c57"
      },
      "id": "DwhkgK_fF62n",
      "execution_count": 64,
      "outputs": [
        {
          "output_type": "stream",
          "name": "stdout",
          "text": [
            "the first set is {11, 6}\n",
            "the second set is {8, 4, 13, 7}\n",
            "the two sets not have the same elements\n"
          ]
        }
      ]
    },
    {
      "cell_type": "markdown",
      "source": [
        "45. Create a set of the first `n` powers of 2."
      ],
      "metadata": {
        "id": "2z9AnDdNGbJ7"
      },
      "id": "2z9AnDdNGbJ7"
    },
    {
      "cell_type": "code",
      "source": [
        "n=int(input(\"enter value of n : \"))\n",
        "new_set=set(i**2 for i in range(1,n+1))\n",
        "print(f\"the set is {new_set}\")"
      ],
      "metadata": {
        "colab": {
          "base_uri": "https://localhost:8080/"
        },
        "id": "64-TIxt0GcGU",
        "outputId": "eca44a6d-9692-476e-dca8-d88fabf046c6"
      },
      "id": "64-TIxt0GcGU",
      "execution_count": 65,
      "outputs": [
        {
          "output_type": "stream",
          "name": "stdout",
          "text": [
            "enter value of n : 5\n",
            "the set is {1, 4, 9, 16, 25}\n"
          ]
        }
      ]
    },
    {
      "cell_type": "markdown",
      "source": [
        "46. Find the common elements between a set and a list."
      ],
      "metadata": {
        "id": "LQwbFjmZG_TM"
      },
      "id": "LQwbFjmZG_TM"
    },
    {
      "cell_type": "code",
      "source": [
        "import random\n",
        "l1=[random.randint(1,20) for _ in range(10)]\n",
        "print(f\"the list is {l1}\")\n",
        "s1=set(random.randint(1,20) for _ in range(10))\n",
        "print(f\"the first set is {s1}\")\n",
        "common_elements=s1.intersection(l1)\n",
        "print(f\"common elements are {common_elements}\")"
      ],
      "metadata": {
        "colab": {
          "base_uri": "https://localhost:8080/"
        },
        "id": "-Pd01o3aHASc",
        "outputId": "bbc1a24f-a31d-4c86-a7c0-9887277784f6"
      },
      "id": "-Pd01o3aHASc",
      "execution_count": 68,
      "outputs": [
        {
          "output_type": "stream",
          "name": "stdout",
          "text": [
            "the list is [6, 2, 1, 13, 5, 1, 16, 7, 11, 16]\n",
            "the first set is {1, 2, 4, 5, 9, 10, 11, 14, 16}\n",
            "common elements are {1, 2, 5, 11, 16}\n"
          ]
        }
      ]
    },
    {
      "cell_type": "markdown",
      "source": [
        "47. Create a set of the first `n` triangular numbers."
      ],
      "metadata": {
        "id": "SalEPRJ-Hszx"
      },
      "id": "SalEPRJ-Hszx"
    },
    {
      "cell_type": "code",
      "source": [
        "n=int(input(\"enter value of n : \"))\n",
        "triangular_numbers = set()\n",
        "total = 0\n",
        "for i in range(1, n + 1):\n",
        "    total += i\n",
        "    triangular_numbers.add(total)\n",
        "print(f\"list of the first {n} triangular numbers : {triangular_numbers}\")"
      ],
      "metadata": {
        "colab": {
          "base_uri": "https://localhost:8080/"
        },
        "id": "WqHYmJL7Hu80",
        "outputId": "4f00560c-35f7-44d3-9f1f-feabf86fb75f"
      },
      "id": "WqHYmJL7Hu80",
      "execution_count": 69,
      "outputs": [
        {
          "output_type": "stream",
          "name": "stdout",
          "text": [
            "enter value of n : 7\n",
            "list of the first 7 triangular numbers : {1, 3, 6, 10, 15, 21, 28}\n"
          ]
        }
      ]
    },
    {
      "cell_type": "markdown",
      "source": [
        "48. Check if a set contains another set as a subset."
      ],
      "metadata": {
        "id": "dzftRvhjICCd"
      },
      "id": "dzftRvhjICCd"
    },
    {
      "cell_type": "code",
      "source": [
        "import random\n",
        "s1=set(random.randint(1,20) for _ in range(5))\n",
        "print(f\"the first set is {s1}\")\n",
        "s2=set(random.randint(1,20) for _ in range(5))\n",
        "print(f\"the second set is {s2}\")\n",
        "if s1.issubset(s2):\n",
        "  print(f\"{s1} is a subset of {s2}\")\n",
        "else:\n",
        "  print(f\"{s1} is not a subset of {s2}\")"
      ],
      "metadata": {
        "colab": {
          "base_uri": "https://localhost:8080/"
        },
        "id": "8BWigVgTIC5j",
        "outputId": "006ead89-2f66-4f0b-c398-068ac9b646ed"
      },
      "id": "8BWigVgTIC5j",
      "execution_count": 70,
      "outputs": [
        {
          "output_type": "stream",
          "name": "stdout",
          "text": [
            "the first set is {7, 8, 9, 16, 18}\n",
            "the second set is {1, 11, 13, 15, 16}\n",
            "{7, 8, 9, 16, 18} is not a subset of {1, 11, 13, 15, 16}\n"
          ]
        }
      ]
    },
    {
      "cell_type": "markdown",
      "source": [
        "49. Create a set of alternating 1s and 0s of length `n`."
      ],
      "metadata": {
        "id": "7skjO12IIVzs"
      },
      "id": "7skjO12IIVzs"
    },
    {
      "cell_type": "code",
      "source": [
        "n=int(input(\"enter value of n : \"))\n",
        "\n",
        "l1=tuple(1 if i%2==0 else 0 for i in range(n))\n",
        "print(f\"the tuple is {l1}\")"
      ],
      "metadata": {
        "colab": {
          "base_uri": "https://localhost:8080/"
        },
        "id": "es2vGZaPIYhU",
        "outputId": "b8d99749-b678-4f6b-f333-1f0ae5903a68"
      },
      "id": "es2vGZaPIYhU",
      "execution_count": 71,
      "outputs": [
        {
          "output_type": "stream",
          "name": "stdout",
          "text": [
            "enter value of n : 6\n",
            "the tuple is (1, 0, 1, 0, 1, 0)\n"
          ]
        }
      ]
    },
    {
      "cell_type": "markdown",
      "source": [
        "50. Merge multiple sets into one."
      ],
      "metadata": {
        "id": "MCiySc9uIttf"
      },
      "id": "MCiySc9uIttf"
    },
    {
      "cell_type": "code",
      "source": [
        "import random\n",
        "n=int(input(\"enter number of sets : \"))\n",
        "s1=set(random.randint(1,20) for _ in range(5))\n",
        "print(f\"the set-1 is {s1}\")\n",
        "\n",
        "for i in range(2,n+1):\n",
        "  s2=set(random.randint(1,20) for _ in range(5))\n",
        "  print(f\"the set-{i} is {s2}\")\n",
        "  s1=s1.union(s2)\n",
        "print(f\"after meging all sets : {s1}\")"
      ],
      "metadata": {
        "colab": {
          "base_uri": "https://localhost:8080/"
        },
        "id": "e-oEIPxUIum0",
        "outputId": "fc4ff24b-c4bb-4b27-89e6-2e54e8471194"
      },
      "id": "e-oEIPxUIum0",
      "execution_count": 72,
      "outputs": [
        {
          "output_type": "stream",
          "name": "stdout",
          "text": [
            "enter number of sets : 3\n",
            "the set-1 is {3, 11, 13, 14, 20}\n",
            "the set-2 is {5, 7, 8, 12, 20}\n",
            "the set-3 is {6, 7, 9, 12, 18}\n",
            "after meging all sets : {3, 5, 6, 7, 8, 9, 11, 12, 13, 14, 18, 20}\n"
          ]
        }
      ]
    }
  ],
  "metadata": {
    "colab": {
      "provenance": [],
      "collapsed_sections": [
        "90d383b1",
        "DYQvqIPkCVWT"
      ]
    },
    "kernelspec": {
      "display_name": "Python 3 (ipykernel)",
      "language": "python",
      "name": "python3"
    },
    "language_info": {
      "codemirror_mode": {
        "name": "ipython",
        "version": 3
      },
      "file_extension": ".py",
      "mimetype": "text/x-python",
      "name": "python",
      "nbconvert_exporter": "python",
      "pygments_lexer": "ipython3",
      "version": "3.9.12"
    }
  },
  "nbformat": 4,
  "nbformat_minor": 5
}